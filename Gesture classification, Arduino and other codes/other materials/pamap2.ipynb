{
 "cells": [
  {
   "cell_type": "code",
   "execution_count": 2,
   "id": "c6b96329",
   "metadata": {
    "scrolled": false
   },
   "outputs": [
    {
     "ename": "AttributeError",
     "evalue": "module 'keras.utils.generic_utils' has no attribute 'populate_dict_with_module_objects'",
     "output_type": "error",
     "traceback": [
      "\u001b[1;31m---------------------------------------------------------------------------\u001b[0m",
      "\u001b[1;31mAttributeError\u001b[0m                            Traceback (most recent call last)",
      "Cell \u001b[1;32mIn[2], line 11\u001b[0m\n\u001b[0;32m      9\u001b[0m \u001b[38;5;28;01mfrom\u001b[39;00m \u001b[38;5;21;01msklearn\u001b[39;00m\u001b[38;5;21;01m.\u001b[39;00m\u001b[38;5;21;01mtree\u001b[39;00m \u001b[38;5;28;01mimport\u001b[39;00m DecisionTreeClassifier\n\u001b[0;32m     10\u001b[0m \u001b[38;5;28;01mfrom\u001b[39;00m \u001b[38;5;21;01msklearn\u001b[39;00m\u001b[38;5;21;01m.\u001b[39;00m\u001b[38;5;21;01mpreprocessing\u001b[39;00m \u001b[38;5;28;01mimport\u001b[39;00m OneHotEncoder\n\u001b[1;32m---> 11\u001b[0m \u001b[38;5;28;01mfrom\u001b[39;00m \u001b[38;5;21;01mkeras\u001b[39;00m\u001b[38;5;21;01m.\u001b[39;00m\u001b[38;5;21;01mmodels\u001b[39;00m \u001b[38;5;28;01mimport\u001b[39;00m Sequential\n\u001b[0;32m     12\u001b[0m \u001b[38;5;28;01mfrom\u001b[39;00m \u001b[38;5;21;01mkeras\u001b[39;00m\u001b[38;5;21;01m.\u001b[39;00m\u001b[38;5;21;01mmodels\u001b[39;00m \u001b[38;5;28;01mimport\u001b[39;00m Model\n\u001b[0;32m     13\u001b[0m \u001b[38;5;28;01mfrom\u001b[39;00m \u001b[38;5;21;01mkeras\u001b[39;00m\u001b[38;5;21;01m.\u001b[39;00m\u001b[38;5;21;01mlayers\u001b[39;00m \u001b[38;5;28;01mimport\u001b[39;00m Dense, Input, LSTM, Dropout\n",
      "File \u001b[1;32m~\\AppData\\Local\\Programs\\Python\\Python310\\lib\\site-packages\\keras\\__init__.py:3\u001b[0m\n\u001b[0;32m      1\u001b[0m \u001b[38;5;28;01mfrom\u001b[39;00m \u001b[38;5;21;01m__future__\u001b[39;00m \u001b[38;5;28;01mimport\u001b[39;00m absolute_import\n\u001b[1;32m----> 3\u001b[0m \u001b[38;5;28;01mfrom\u001b[39;00m \u001b[38;5;21;01m.\u001b[39;00m \u001b[38;5;28;01mimport\u001b[39;00m utils\n\u001b[0;32m      4\u001b[0m \u001b[38;5;28;01mfrom\u001b[39;00m \u001b[38;5;21;01m.\u001b[39;00m \u001b[38;5;28;01mimport\u001b[39;00m activations\n\u001b[0;32m      5\u001b[0m \u001b[38;5;28;01mfrom\u001b[39;00m \u001b[38;5;21;01m.\u001b[39;00m \u001b[38;5;28;01mimport\u001b[39;00m applications\n",
      "File \u001b[1;32m~\\AppData\\Local\\Programs\\Python\\Python310\\lib\\site-packages\\keras\\utils\\__init__.py:26\u001b[0m\n\u001b[0;32m     24\u001b[0m \u001b[38;5;28;01mfrom\u001b[39;00m \u001b[38;5;21;01m.\u001b[39;00m\u001b[38;5;21;01mlayer_utils\u001b[39;00m \u001b[38;5;28;01mimport\u001b[39;00m get_source_inputs\n\u001b[0;32m     25\u001b[0m \u001b[38;5;28;01mfrom\u001b[39;00m \u001b[38;5;21;01m.\u001b[39;00m\u001b[38;5;21;01mlayer_utils\u001b[39;00m \u001b[38;5;28;01mimport\u001b[39;00m print_summary\n\u001b[1;32m---> 26\u001b[0m \u001b[38;5;28;01mfrom\u001b[39;00m \u001b[38;5;21;01m.\u001b[39;00m\u001b[38;5;21;01mvis_utils\u001b[39;00m \u001b[38;5;28;01mimport\u001b[39;00m model_to_dot\n\u001b[0;32m     27\u001b[0m \u001b[38;5;28;01mfrom\u001b[39;00m \u001b[38;5;21;01m.\u001b[39;00m\u001b[38;5;21;01mvis_utils\u001b[39;00m \u001b[38;5;28;01mimport\u001b[39;00m plot_model\n\u001b[0;32m     28\u001b[0m \u001b[38;5;28;01mfrom\u001b[39;00m \u001b[38;5;21;01m.\u001b[39;00m\u001b[38;5;21;01mnp_utils\u001b[39;00m \u001b[38;5;28;01mimport\u001b[39;00m to_categorical\n",
      "File \u001b[1;32m~\\AppData\\Local\\Programs\\Python\\Python310\\lib\\site-packages\\keras\\utils\\vis_utils.py:7\u001b[0m\n\u001b[0;32m      4\u001b[0m \u001b[38;5;28;01mfrom\u001b[39;00m \u001b[38;5;21;01m__future__\u001b[39;00m \u001b[38;5;28;01mimport\u001b[39;00m print_function\n\u001b[0;32m      6\u001b[0m \u001b[38;5;28;01mimport\u001b[39;00m \u001b[38;5;21;01mos\u001b[39;00m\n\u001b[1;32m----> 7\u001b[0m \u001b[38;5;28;01mfrom\u001b[39;00m \u001b[38;5;21;01m.\u001b[39;00m\u001b[38;5;21;01m.\u001b[39;00m\u001b[38;5;21;01mmodels\u001b[39;00m \u001b[38;5;28;01mimport\u001b[39;00m Model\n\u001b[0;32m      8\u001b[0m \u001b[38;5;28;01mfrom\u001b[39;00m \u001b[38;5;21;01m.\u001b[39;00m\u001b[38;5;21;01m.\u001b[39;00m\u001b[38;5;21;01mlayers\u001b[39;00m\u001b[38;5;21;01m.\u001b[39;00m\u001b[38;5;21;01mwrappers\u001b[39;00m \u001b[38;5;28;01mimport\u001b[39;00m Wrapper\n\u001b[0;32m     10\u001b[0m \u001b[38;5;66;03m# `pydot` is an optional dependency,\u001b[39;00m\n\u001b[0;32m     11\u001b[0m \u001b[38;5;66;03m# see `extras_require` in `setup.py`.\u001b[39;00m\n",
      "File \u001b[1;32m~\\AppData\\Local\\Programs\\Python\\Python310\\lib\\site-packages\\keras\\models\\__init__.py:18\u001b[0m\n\u001b[0;32m      1\u001b[0m \u001b[38;5;66;03m# Copyright 2022 The TensorFlow Authors. All Rights Reserved.\u001b[39;00m\n\u001b[0;32m      2\u001b[0m \u001b[38;5;66;03m#\u001b[39;00m\n\u001b[0;32m      3\u001b[0m \u001b[38;5;66;03m# Licensed under the Apache License, Version 2.0 (the \"License\");\u001b[39;00m\n\u001b[1;32m   (...)\u001b[0m\n\u001b[0;32m     13\u001b[0m \u001b[38;5;66;03m# limitations under the License.\u001b[39;00m\n\u001b[0;32m     14\u001b[0m \u001b[38;5;66;03m# ==============================================================================\u001b[39;00m\n\u001b[0;32m     15\u001b[0m \u001b[38;5;124;03m\"\"\"Keras models API.\"\"\"\u001b[39;00m\n\u001b[1;32m---> 18\u001b[0m \u001b[38;5;28;01mfrom\u001b[39;00m \u001b[38;5;21;01mkeras\u001b[39;00m\u001b[38;5;21;01m.\u001b[39;00m\u001b[38;5;21;01mengine\u001b[39;00m\u001b[38;5;21;01m.\u001b[39;00m\u001b[38;5;21;01mfunctional\u001b[39;00m \u001b[38;5;28;01mimport\u001b[39;00m Functional\n\u001b[0;32m     19\u001b[0m \u001b[38;5;28;01mfrom\u001b[39;00m \u001b[38;5;21;01mkeras\u001b[39;00m\u001b[38;5;21;01m.\u001b[39;00m\u001b[38;5;21;01mengine\u001b[39;00m\u001b[38;5;21;01m.\u001b[39;00m\u001b[38;5;21;01msequential\u001b[39;00m \u001b[38;5;28;01mimport\u001b[39;00m Sequential\n\u001b[0;32m     20\u001b[0m \u001b[38;5;28;01mfrom\u001b[39;00m \u001b[38;5;21;01mkeras\u001b[39;00m\u001b[38;5;21;01m.\u001b[39;00m\u001b[38;5;21;01mengine\u001b[39;00m\u001b[38;5;21;01m.\u001b[39;00m\u001b[38;5;21;01mtraining\u001b[39;00m \u001b[38;5;28;01mimport\u001b[39;00m Model\n",
      "File \u001b[1;32m~\\AppData\\Local\\Programs\\Python\\Python310\\lib\\site-packages\\keras\\engine\\__init__.py:3\u001b[0m\n\u001b[0;32m      1\u001b[0m \u001b[38;5;66;03m# note: `Node` is an internal class,\u001b[39;00m\n\u001b[0;32m      2\u001b[0m \u001b[38;5;66;03m# it isn't meant to be used by Keras users.\u001b[39;00m\n\u001b[1;32m----> 3\u001b[0m \u001b[38;5;28;01mfrom\u001b[39;00m \u001b[38;5;21;01m.\u001b[39;00m\u001b[38;5;21;01minput_layer\u001b[39;00m \u001b[38;5;28;01mimport\u001b[39;00m Input\n\u001b[0;32m      4\u001b[0m \u001b[38;5;28;01mfrom\u001b[39;00m \u001b[38;5;21;01m.\u001b[39;00m\u001b[38;5;21;01minput_layer\u001b[39;00m \u001b[38;5;28;01mimport\u001b[39;00m InputLayer\n\u001b[0;32m      5\u001b[0m \u001b[38;5;28;01mfrom\u001b[39;00m \u001b[38;5;21;01m.\u001b[39;00m\u001b[38;5;21;01mbase_layer\u001b[39;00m \u001b[38;5;28;01mimport\u001b[39;00m InputSpec\n",
      "File \u001b[1;32m~\\AppData\\Local\\Programs\\Python\\Python310\\lib\\site-packages\\keras\\engine\\input_layer.py:7\u001b[0m\n\u001b[0;32m      4\u001b[0m \u001b[38;5;28;01mfrom\u001b[39;00m \u001b[38;5;21;01m__future__\u001b[39;00m \u001b[38;5;28;01mimport\u001b[39;00m absolute_import\n\u001b[0;32m      5\u001b[0m \u001b[38;5;28;01mfrom\u001b[39;00m \u001b[38;5;21;01m__future__\u001b[39;00m \u001b[38;5;28;01mimport\u001b[39;00m division\n\u001b[1;32m----> 7\u001b[0m \u001b[38;5;28;01mfrom\u001b[39;00m \u001b[38;5;21;01m.\u001b[39;00m\u001b[38;5;21;01mbase_layer\u001b[39;00m \u001b[38;5;28;01mimport\u001b[39;00m Layer\n\u001b[0;32m      8\u001b[0m \u001b[38;5;28;01mfrom\u001b[39;00m \u001b[38;5;21;01m.\u001b[39;00m\u001b[38;5;21;01mbase_layer\u001b[39;00m \u001b[38;5;28;01mimport\u001b[39;00m Node\n\u001b[0;32m      9\u001b[0m \u001b[38;5;28;01mfrom\u001b[39;00m \u001b[38;5;21;01m.\u001b[39;00m\u001b[38;5;21;01m.\u001b[39;00m \u001b[38;5;28;01mimport\u001b[39;00m backend \u001b[38;5;28;01mas\u001b[39;00m K\n",
      "File \u001b[1;32m~\\AppData\\Local\\Programs\\Python\\Python310\\lib\\site-packages\\keras\\engine\\base_layer.py:12\u001b[0m\n\u001b[0;32m      9\u001b[0m \u001b[38;5;28;01mimport\u001b[39;00m \u001b[38;5;21;01mthreading\u001b[39;00m\n\u001b[0;32m     11\u001b[0m \u001b[38;5;28;01mfrom\u001b[39;00m \u001b[38;5;21;01m.\u001b[39;00m\u001b[38;5;21;01m.\u001b[39;00m \u001b[38;5;28;01mimport\u001b[39;00m backend \u001b[38;5;28;01mas\u001b[39;00m K\n\u001b[1;32m---> 12\u001b[0m \u001b[38;5;28;01mfrom\u001b[39;00m \u001b[38;5;21;01m.\u001b[39;00m\u001b[38;5;21;01m.\u001b[39;00m \u001b[38;5;28;01mimport\u001b[39;00m initializers\n\u001b[0;32m     13\u001b[0m \u001b[38;5;28;01mfrom\u001b[39;00m \u001b[38;5;21;01m.\u001b[39;00m\u001b[38;5;21;01m.\u001b[39;00m\u001b[38;5;21;01mutils\u001b[39;00m\u001b[38;5;21;01m.\u001b[39;00m\u001b[38;5;21;01mlayer_utils\u001b[39;00m \u001b[38;5;28;01mimport\u001b[39;00m count_params\n\u001b[0;32m     14\u001b[0m \u001b[38;5;28;01mfrom\u001b[39;00m \u001b[38;5;21;01m.\u001b[39;00m\u001b[38;5;21;01m.\u001b[39;00m\u001b[38;5;21;01mutils\u001b[39;00m\u001b[38;5;21;01m.\u001b[39;00m\u001b[38;5;21;01mgeneric_utils\u001b[39;00m \u001b[38;5;28;01mimport\u001b[39;00m has_arg\n",
      "File \u001b[1;32m~\\AppData\\Local\\Programs\\Python\\Python310\\lib\\site-packages\\keras\\initializers\\__init__.py:130\u001b[0m\n\u001b[0;32m    124\u001b[0m     LOCAL\u001b[38;5;241m.\u001b[39mALL_OBJECTS[\u001b[38;5;124m\"\u001b[39m\u001b[38;5;124mzero\u001b[39m\u001b[38;5;124m\"\u001b[39m] \u001b[38;5;241m=\u001b[39m LOCAL\u001b[38;5;241m.\u001b[39mALL_OBJECTS[\u001b[38;5;124m\"\u001b[39m\u001b[38;5;124mzeros\u001b[39m\u001b[38;5;124m\"\u001b[39m]\n\u001b[0;32m    127\u001b[0m \u001b[38;5;66;03m# For backwards compatibility, we populate this file with the objects\u001b[39;00m\n\u001b[0;32m    128\u001b[0m \u001b[38;5;66;03m# from ALL_OBJECTS. We make no guarantees as to whether these objects will\u001b[39;00m\n\u001b[0;32m    129\u001b[0m \u001b[38;5;66;03m# using their correct version.\u001b[39;00m\n\u001b[1;32m--> 130\u001b[0m \u001b[43mpopulate_deserializable_objects\u001b[49m\u001b[43m(\u001b[49m\u001b[43m)\u001b[49m\n\u001b[0;32m    131\u001b[0m \u001b[38;5;28mglobals\u001b[39m()\u001b[38;5;241m.\u001b[39mupdate(LOCAL\u001b[38;5;241m.\u001b[39mALL_OBJECTS)\n\u001b[0;32m    133\u001b[0m \u001b[38;5;66;03m# Utility functions\u001b[39;00m\n",
      "File \u001b[1;32m~\\AppData\\Local\\Programs\\Python\\Python310\\lib\\site-packages\\keras\\initializers\\__init__.py:87\u001b[0m, in \u001b[0;36mpopulate_deserializable_objects\u001b[1;34m()\u001b[0m\n\u001b[0;32m     85\u001b[0m v2_objs \u001b[38;5;241m=\u001b[39m {}\n\u001b[0;32m     86\u001b[0m base_cls \u001b[38;5;241m=\u001b[39m initializers_v2\u001b[38;5;241m.\u001b[39mInitializer\n\u001b[1;32m---> 87\u001b[0m \u001b[43mgeneric_utils\u001b[49m\u001b[38;5;241;43m.\u001b[39;49m\u001b[43mpopulate_dict_with_module_objects\u001b[49m(\n\u001b[0;32m     88\u001b[0m     v2_objs,\n\u001b[0;32m     89\u001b[0m     [initializers_v2],\n\u001b[0;32m     90\u001b[0m     obj_filter\u001b[38;5;241m=\u001b[39m\u001b[38;5;28;01mlambda\u001b[39;00m x: inspect\u001b[38;5;241m.\u001b[39misclass(x) \u001b[38;5;129;01mand\u001b[39;00m \u001b[38;5;28missubclass\u001b[39m(x, base_cls),\n\u001b[0;32m     91\u001b[0m )\n\u001b[0;32m     92\u001b[0m \u001b[38;5;28;01mfor\u001b[39;00m key, value \u001b[38;5;129;01min\u001b[39;00m v2_objs\u001b[38;5;241m.\u001b[39mitems():\n\u001b[0;32m     93\u001b[0m     LOCAL\u001b[38;5;241m.\u001b[39mALL_OBJECTS[key] \u001b[38;5;241m=\u001b[39m value\n",
      "\u001b[1;31mAttributeError\u001b[0m: module 'keras.utils.generic_utils' has no attribute 'populate_dict_with_module_objects'"
     ]
    }
   ],
   "source": [
    "import numpy as np\n",
    "import pandas as pd\n",
    "import seaborn as sns\n",
    "from matplotlib import pyplot as plt\n",
    "from IPython.display import display\n",
    "from sklearn.linear_model import LinearRegression,LogisticRegression\n",
    "from sklearn.metrics import confusion_matrix,accuracy_score,log_loss\n",
    "from sklearn.ensemble import RandomForestClassifier\n",
    "from sklearn.tree import DecisionTreeClassifier\n",
    "from sklearn.preprocessing import OneHotEncoder\n",
    "from keras.models import Sequential\n",
    "from keras.models import Model\n",
    "from keras.layers import Dense, Input, LSTM, Dropout"
   ]
  },
  {
   "cell_type": "code",
   "execution_count": null,
   "id": "b71645f8",
   "metadata": {},
   "outputs": [],
   "source": [
    "def load_activity_map():\n",
    "    map = {}\n",
    "    map[0] = 'transient'\n",
    "    map[1] = 'lying'\n",
    "    map[2] = 'sitting'\n",
    "    map[3] = 'standing'\n",
    "    map[4] = 'walking'\n",
    "    map[5] = 'running'\n",
    "    map[6] = 'cycling'\n",
    "    map[7] = 'Nordic_walking'\n",
    "    map[9] = 'watching_TV'\n",
    "    map[10] = 'computer_work'\n",
    "    map[11] = 'car driving'\n",
    "    map[12] = 'ascending_stairs'\n",
    "    map[13] = 'descending_stairs'\n",
    "    map[16] = 'vacuum_cleaning'\n",
    "    map[17] = 'ironing'\n",
    "    map[18] = 'folding_laundry'\n",
    "    map[19] = 'house_cleaning'\n",
    "    map[20] = 'playing_soccer'\n",
    "    map[24] = 'rope_jumping'\n",
    "    return map"
   ]
  },
  {
   "cell_type": "code",
   "execution_count": null,
   "id": "5592bec0",
   "metadata": {},
   "outputs": [],
   "source": [
    "def generate_three_IMU(name):\n",
    "    x = name +'_x'\n",
    "    y = name +'_y'\n",
    "    z = name +'_z'\n",
    "    return [x,y,z]\n",
    "\n",
    "def generate_four_IMU(name):\n",
    "    x = name +'_x'\n",
    "    y = name +'_y'\n",
    "    z = name +'_z'\n",
    "    w = name +'_w'\n",
    "    return [x,y,z,w]\n",
    "\n",
    "def generate_cols_IMU(name):\n",
    "    # temp\n",
    "    temp = name+'_temperature'\n",
    "    output = [temp]\n",
    "    # acceleration 16\n",
    "    acceleration16 = name+'_3D_acceleration_16'\n",
    "    acceleration16 = generate_three_IMU(acceleration16)\n",
    "    output.extend(acceleration16)\n",
    "    # acceleration 6\n",
    "    acceleration6 = name+'_3D_acceleration_6'\n",
    "    acceleration6 = generate_three_IMU(acceleration6)\n",
    "    output.extend(acceleration6)\n",
    "    # gyroscope\n",
    "    gyroscope = name+'_3D_gyroscope'\n",
    "    gyroscope = generate_three_IMU(gyroscope)\n",
    "    output.extend(gyroscope)\n",
    "    # magnometer\n",
    "    magnometer = name+'_3D_magnetometer'\n",
    "    magnometer = generate_three_IMU(magnometer)\n",
    "    output.extend(magnometer)\n",
    "    # oreintation\n",
    "    oreintation = name+'_4D_orientation'\n",
    "    oreintation = generate_four_IMU(oreintation)\n",
    "    output.extend(oreintation)\n",
    "    return output\n",
    "\n",
    "def load_IMU():\n",
    "    output = ['time_stamp','activity_id', 'heart_rate']\n",
    "    hand = 'hand'\n",
    "    hand = generate_cols_IMU(hand)\n",
    "    output.extend(hand)\n",
    "    chest = 'chest'\n",
    "    chest = generate_cols_IMU(chest)\n",
    "    output.extend(chest)\n",
    "    ankle = 'ankle'\n",
    "    ankle = generate_cols_IMU(ankle)\n",
    "    output.extend(ankle)\n",
    "    return output\n",
    "    \n",
    "def load_subjects(root='C:/Users/dixit/Desktop/PAMAP2_Dataset/Protocol/subject'):\n",
    "    output = pd.DataFrame()\n",
    "    cols = load_IMU()\n",
    "    \n",
    "    for i in range(101,110):\n",
    "        path = root + str(i) +'.dat'\n",
    "        subject = pd.read_table(path, header=None, sep='\\s+')\n",
    "        subject.columns = cols \n",
    "        subject['id'] = i\n",
    "        output = output.append(subject, ignore_index=True)\n",
    "    output.reset_index(drop=True, inplace=True)\n",
    "    return output\n",
    "\n",
    "data = load_subjects()"
   ]
  },
  {
   "cell_type": "code",
   "execution_count": null,
   "id": "de15c697",
   "metadata": {},
   "outputs": [],
   "source": [
    "data"
   ]
  },
  {
   "cell_type": "code",
   "execution_count": null,
   "id": "15c91f0d",
   "metadata": {},
   "outputs": [],
   "source": [
    "def fix_data(data):\n",
    "    data = data.drop(data[data['activity_id']==0].index)\n",
    "    data = data.interpolate()\n",
    "    # fill all the NaN values in a coulmn with the mean values of the column\n",
    "    for colName in data.columns:\n",
    "        data[colName] = data[colName].fillna(data[colName].mean())\n",
    "    activity_mean = data.groupby(['activity_id']).mean().reset_index()\n",
    "    return data\n",
    "\n",
    "data = fix_data(data)"
   ]
  },
  {
   "cell_type": "code",
   "execution_count": null,
   "id": "3c7e9769",
   "metadata": {},
   "outputs": [],
   "source": [
    "data.describe()"
   ]
  },
  {
   "cell_type": "code",
   "execution_count": null,
   "id": "16bc57ce",
   "metadata": {},
   "outputs": [],
   "source": [
    "print('Size of the data: ', data.size)\n",
    "print('Shape of the data: ', data.shape)\n",
    "print('Number of columns in the data: ', len(data.columns))\n",
    "result_id = data.groupby(['id']).mean().reset_index()\n",
    "print('Number of uniqe ids in the data: ', len(result_id))\n",
    "result_act = data.groupby(['activity_id']).mean().reset_index()\n",
    "print('Numbe of uniqe activitys in the data: ',len(result_act))"
   ]
  },
  {
   "cell_type": "code",
   "execution_count": null,
   "id": "ddadacd8",
   "metadata": {},
   "outputs": [],
   "source": [
    "def pd_fast_plot(pd,column_a,column_b,title, figsize=(10,6)):\n",
    "    plt.rcParams.update({'font.size': 16})\n",
    "    size = range(len(pd))\n",
    "    f, ax = plt.subplots(figsize=figsize) \n",
    "    plt.bar(size, pd[column_a], color=plt.cm.Paired(size))\n",
    "    a = ax.set_xticklabels(pd[column_b])\n",
    "    b = ax.legend(fontsize = 20)\n",
    "    c = ax.set_xticks(np.arange(len(pd)))\n",
    "    d = ax.set_title(title)\n",
    "    plt.show()\n",
    "    "
   ]
  },
  {
   "cell_type": "code",
   "execution_count": null,
   "id": "21a15b03",
   "metadata": {},
   "outputs": [],
   "source": [
    "sampels = data.groupby(['id']).count().reset_index()\n",
    "sampels_to_subject = pd.DataFrame()\n",
    "sampels_to_subject['id'] = sampels['id']\n",
    "sampels_to_subject['sampels'] = sampels['time_stamp']\n",
    "sampels_to_subject = sampels_to_subject.sort_values(by=['sampels'])\n",
    "pd_fast_plot(sampels_to_subject,'sampels','id','Number Of Samepls By Users')"
   ]
  },
  {
   "cell_type": "code",
   "execution_count": null,
   "id": "db1a4d14",
   "metadata": {},
   "outputs": [],
   "source": [
    "map_ac = load_activity_map()\n",
    "sampels = data.groupby(['activity_id']).count().reset_index()\n",
    "sampels_to_subject = pd.DataFrame()\n",
    "sampels_to_subject['activity'] = [map_ac[x] for x in sampels['activity_id']]\n",
    "sampels_to_subject['sampels'] = sampels['time_stamp']\n",
    "sampels_to_subject = sampels_to_subject.sort_values(by=['sampels'])\n",
    "pd_fast_plot(sampels_to_subject,'sampels','activity','Number Of Samepls By Activity',figsize=(40,7))"
   ]
  },
  {
   "cell_type": "code",
   "execution_count": null,
   "id": "0a7dd708",
   "metadata": {},
   "outputs": [],
   "source": [
    "sampels_heart_rate = pd.DataFrame()\n",
    "sampels_heart_rate['id'] = result_id['id']\n",
    "sampels_heart_rate['heart_rate'] = result_id['heart_rate']\n",
    "sampels_heart_rate = sampels_heart_rate.sort_values(by=['heart_rate'])\n",
    "pd_fast_plot(sampels_heart_rate,'heart_rate','id','Avg heart Rate by Subject')"
   ]
  },
  {
   "cell_type": "code",
   "execution_count": null,
   "id": "c3d54661",
   "metadata": {},
   "outputs": [],
   "source": [
    "map_ac = load_activity_map()\n",
    "sampels_heart_rate = pd.DataFrame()\n",
    "sampels_heart_rate['activity'] = [map_ac[x] for x in result_act['activity_id']]\n",
    "sampels_heart_rate['heart_rate'] = result_act['heart_rate']\n",
    "sampels_heart_rate = sampels_heart_rate.sort_values(by=['heart_rate'])\n",
    "pd_fast_plot(sampels_heart_rate,'heart_rate','activity','Avg heart Rate by Activity',figsize=(40,10))"
   ]
  },
  {
   "cell_type": "code",
   "execution_count": null,
   "id": "4ac67402",
   "metadata": {},
   "outputs": [],
   "source": [
    "samepls_tempreture = pd.DataFrame()\n",
    "samepls_tempreture['hand'] = result_id['hand_temperature']\n",
    "samepls_tempreture['chest'] = result_id['chest_temperature']\n",
    "samepls_tempreture['ankle'] = result_id['ankle_temperature']\n",
    "\n",
    "ax = samepls_tempreture.plot(kind='line', figsize=(20,6), title='Avg Tempatures by Subjects')\n",
    "a = ax.set_xticklabels(result_id['id'])\n",
    "b = ax.legend(fontsize = 20)\n",
    "c = ax.set_xticks(np.arange(len(samepls_tempreture)))"
   ]
  },
  {
   "cell_type": "code",
   "execution_count": null,
   "id": "4e7ce533",
   "metadata": {},
   "outputs": [],
   "source": [
    "map_ac = load_activity_map()\n",
    "samepls_tempreture = pd.DataFrame()\n",
    "samepls_tempreture['activity'] = [map_ac[x] for x in result_act['activity_id']]\n",
    "samepls_tempreture['hand'] = result_act['hand_temperature']\n",
    "samepls_tempreture['chest'] = result_act['chest_temperature']\n",
    "samepls_tempreture['ankle'] = result_act['ankle_temperature']\n",
    "\n",
    "ax = samepls_tempreture.plot(kind='line', figsize=(40,6), title='Avg Tempatures by Activity')\n",
    "a = ax.set_xticklabels(samepls_tempreture['activity'])\n",
    "b = ax.legend(fontsize = 20)\n",
    "c = ax.set_xticks(np.arange(len(samepls_tempreture)))"
   ]
  },
  {
   "cell_type": "code",
   "execution_count": null,
   "id": "13f7ab7a",
   "metadata": {},
   "outputs": [],
   "source": [
    "samepls = pd.DataFrame()\n",
    "samepls['hand_x'] = result_id['hand_3D_acceleration_16_x']\n",
    "samepls['hand_y'] = result_id['hand_3D_acceleration_16_y']\n",
    "samepls['hand_z'] = result_id['hand_3D_acceleration_16_z']\n",
    "ax = samepls.plot(kind='line', figsize=(20,6), title='Avg Hand Acceleration Value by Subjects')\n",
    "a = ax.set_xticklabels(result_id['id'])\n",
    "b = ax.legend(fontsize = 20)\n",
    "c = ax.set_xticks(np.arange(len(samepls)))"
   ]
  },
  {
   "cell_type": "code",
   "execution_count": null,
   "id": "71777526",
   "metadata": {},
   "outputs": [],
   "source": [
    "from sklearn.preprocessing import MinMaxScaler\n",
    "\n",
    "def split_train_test(data):\n",
    "    # create the test data\n",
    "    subject107 = data[data['id'] == 107]\n",
    "    subject108 = data[data['id'] == 108]\n",
    "    test = subject107.append(subject108)\n",
    "\n",
    "    # create the train data\n",
    "    train = data[data['id'] != 107]\n",
    "    train = data[data['id'] != 108]\n",
    "\n",
    "    # drop the columns id and time\n",
    "    test = test.drop([\"id\"], axis=1)\n",
    "    train = train.drop([\"id\"], axis=1)\n",
    "\n",
    "    # split train and test to X and y\n",
    "    X_train = train.drop(['activity_id','time_stamp'], axis=1).values\n",
    "    X_test = test.drop(['activity_id','time_stamp'], axis=1).values\n",
    "    \n",
    "    # make data scale to min max beetwin 0 to 1\n",
    "    min_max_scaler = MinMaxScaler()\n",
    "    min_max_scaler.fit(X_train)\n",
    "    min_max_scaler.fit(X_test)\n",
    "    X_train = min_max_scaler.transform(X_train)\n",
    "    X_test = min_max_scaler.transform(X_test)\n",
    "    \n",
    "    y_train = train['activity_id'].values\n",
    "    y_test = test['activity_id'].values\n",
    "    return X_train, X_test, y_train, y_test\n",
    "\n",
    "X_train, X_test, y_train, y_test = split_train_test(data)\n",
    "print('Train shape X :',X_train.shape,' y ', y_train.shape)\n",
    "print('Test shape X :',X_test.shape,' y ', y_test.shape)"
   ]
  },
  {
   "cell_type": "code",
   "execution_count": null,
   "id": "d1ad36be",
   "metadata": {},
   "outputs": [],
   "source": [
    "from sklearn.preprocessing import MinMaxScaler\n",
    "\n",
    "def base_line_preprocess(data):\n",
    "    train = data.groupby('activity_id')\n",
    "    X_base = train.mean().reset_index().drop(['activity_id','id','time_stamp'],axis=1).values\n",
    "    min_max_scaler = MinMaxScaler()\n",
    "    min_max_scaler.fit(X_base)\n",
    "    X_base = min_max_scaler.transform(X_base)\n",
    "    y_base = np.array(train['activity_id'].unique().explode().values).astype('float64')\n",
    "    return X_base, y_base\n",
    "\n",
    "X_base, y_base = base_line_preprocess(data)\n",
    "print('X base shape: ', X_base.shape)\n",
    "print('y base shape: ', y_base.shape)"
   ]
  },
  {
   "cell_type": "code",
   "execution_count": null,
   "id": "206a2013",
   "metadata": {},
   "outputs": [],
   "source": [
    "reg = LogisticRegression()\n",
    "reg.fit(X_base, y_base)\n",
    "preds = reg.predict(X_train)\n",
    "print('Logistic regression accuracy on train: ', accuracy_score(y_train,preds)*100)\n",
    "preds = reg.predict(X_test)\n",
    "print('Logistic regression accuracy on test: ', accuracy_score(y_test,preds)*100)"
   ]
  },
  {
   "cell_type": "code",
   "execution_count": null,
   "id": "f668c76e",
   "metadata": {},
   "outputs": [],
   "source": [
    "from sklearn.tree import DecisionTreeRegressor\n",
    "dt = DecisionTreeRegressor()\n",
    "dt.fit(X_train, y_train)"
   ]
  },
  {
   "cell_type": "code",
   "execution_count": null,
   "id": "6ef4d2c5",
   "metadata": {},
   "outputs": [],
   "source": [
    "# predict on the train and the test\n",
    "preds = dt.predict(X_train)\n",
    "print('Decision Tree Regressor accuracy on train: ', accuracy_score(y_train,preds)*100)\n",
    "preds = dt.predict(X_test)\n",
    "print('Decision Tree Regressor accuracy on test: ', accuracy_score(y_test,preds)*100)\n",
    "preds = 0"
   ]
  },
  {
   "cell_type": "code",
   "execution_count": null,
   "id": "bd0f3054",
   "metadata": {},
   "outputs": [],
   "source": [
    "def create_lstm_data(X, y, step_back = 5, step_forword = 1):\n",
    "    out_X = []\n",
    "    out_y = []\n",
    "    size = len(X)\n",
    "    for i, features in enumerate(X):\n",
    "        if i >= step_back and i < size - step_forword:\n",
    "            tmp_X = []\n",
    "            tmp_y = []\n",
    "            for j in range(i-step_back,i):\n",
    "                tmp_X.extend([X[j]])\n",
    "            out_X.append(tmp_X)\n",
    "            for j in range(i,i+step_forword):\n",
    "                tmp_y.extend([y[j]])\n",
    "            out_y.append(tmp_y)\n",
    "    return np.array(out_X), np.array(out_y)\n",
    "\n",
    "X_lstm_train, y_lstm_train = create_lstm_data(X_train, y_train)\n",
    "X_lstm_test, y_lstm_test = create_lstm_data(X_test, y_test)"
   ]
  },
  {
   "cell_type": "code",
   "execution_count": null,
   "id": "2e739a2b",
   "metadata": {},
   "outputs": [],
   "source": [
    "from sklearn.preprocessing import OneHotEncoder\n",
    "hot = OneHotEncoder(handle_unknown='ignore', sparse=False)\n",
    "hot.fit(y_lstm_train)\n",
    "hot.fit(y_lstm_test)\n",
    "\n",
    "y_lstm_train = hot.transform(y_lstm_train)\n",
    "y_lstm_test = hot.transform(y_lstm_test)"
   ]
  },
  {
   "cell_type": "code",
   "execution_count": null,
   "id": "0f0b4c57",
   "metadata": {},
   "outputs": [],
   "source": [
    "print('Train shape X lstm :',X_lstm_train.shape,' y ', y_lstm_train.shape)\n",
    "print('Test shape X lstm :',X_lstm_test.shape,' y ', y_lstm_test.shape)"
   ]
  },
  {
   "cell_type": "code",
   "execution_count": null,
   "id": "40413a20",
   "metadata": {},
   "outputs": [],
   "source": [
    "lstm_model = Sequential()\n",
    "lstm_model.add(LSTM(6,input_shape=(X_lstm_train.shape[1],X_lstm_train.shape[2])))\n",
    "lstm_model.add(Dense(16 ,activation='relu'))\n",
    "lstm_model.add(Dense(y_lstm_train.shape[1], activation='softmax'))\n",
    "\n",
    "lstm_model.summary()\n",
    "lstm_model.compile(loss='categorical_crossentropy',optimizer='adam',metrics=['accuracy'])"
   ]
  },
  {
   "cell_type": "code",
   "execution_count": null,
   "id": "784ac924",
   "metadata": {},
   "outputs": [],
   "source": [
    "from keras.callbacks import EarlyStopping\n",
    "early_stopping_monitor = EarlyStopping(patience=3)\n",
    "history = lstm_model.fit(X_lstm_train, y_lstm_train, validation_split = 0.2 , epochs = 10, callbacks=[early_stopping_monitor])"
   ]
  },
  {
   "cell_type": "code",
   "execution_count": null,
   "id": "228e5c46",
   "metadata": {},
   "outputs": [],
   "source": [
    "# taken from https://keras.io/visualization/\n",
    "def quick_plot_history(history):\n",
    "    # Plot training & validation accuracy values\n",
    "    plt.plot(history.history['accuracy'])\n",
    "    plt.plot(history.history['val_accuracy'])\n",
    "    plt.title('Model accuracy')\n",
    "    plt.ylabel('Accuracy')\n",
    "    plt.xlabel('Epoch')\n",
    "    plt.legend(['Train', 'Validation'], loc='upper left')\n",
    "    plt.show()\n",
    "\n",
    "    # Plot training & validation loss values\n",
    "    plt.plot(history.history['loss'])\n",
    "    plt.plot(history.history['val_loss'])\n",
    "    plt.title('Model loss')\n",
    "    plt.ylabel('Loss')\n",
    "    plt.xlabel('Epoch')\n",
    "    plt.legend(['Train', 'Validation'], loc='upper left')\n",
    "    plt.show()\n",
    "\n",
    "quick_plot_history(history)"
   ]
  },
  {
   "cell_type": "code",
   "execution_count": null,
   "id": "f7b69c00",
   "metadata": {},
   "outputs": [],
   "source": [
    "y = y_test[5:-1]\n",
    "preds = lstm_model.predict(X_lstm_test)\n",
    "preds_cat = np.argmax(preds,axis=1)\n",
    "# building a map of result to activity\n",
    "result = np.unique(preds_cat).tolist() \n",
    "expected = np.unique(y).tolist() \n",
    "combined = list(zip(result,expected))\n",
    "conf_map = dict(combined)\n",
    "# transfoms the prediction to an activity\n",
    "results = [conf_map[x] for x in preds_cat]\n",
    "print('model accuracy on test :',accuracy_score(y,results)*100)"
   ]
  },
  {
   "cell_type": "code",
   "execution_count": null,
   "id": "e88946cc",
   "metadata": {},
   "outputs": [],
   "source": [
    "def quick_plot_con_matrix(y, results,labels):\n",
    "    # now print confusion metrix\n",
    "    con = confusion_matrix(y,results)\n",
    "    a = plt.figure(figsize=(25,15), dpi=50)\n",
    "    a = sns.heatmap(con, cmap='YlGnBu', annot=True, fmt = 'd', xticklabels=labels, yticklabels=labels)\n",
    "    a = plt.rcParams.update({'font.size': 20})\n",
    "    a = plt.title('Confusion Matrix')\n",
    "    a = plt.xlabel('Predictions')\n",
    "    a = plt.ylabel('Accpected')\n",
    "\n",
    "activity_map = load_activity_map()\n",
    "labels = [activity_map[conf_map[x]] for x in result]\n",
    "quick_plot_con_matrix(y,results, labels)"
   ]
  },
  {
   "cell_type": "code",
   "execution_count": null,
   "id": "8808822b",
   "metadata": {},
   "outputs": [],
   "source": [
    "def create_lstm_data(X, y, step_back = 5, step_forword = 1):\n",
    "    out_X = []\n",
    "    out_y = []\n",
    "    size = len(X)\n",
    "    for i, features in enumerate(X):\n",
    "        if i >= step_back and i < size - step_forword:\n",
    "            tmp_X = []\n",
    "            tmp_y = []\n",
    "            for j in range(i-step_back,i):\n",
    "                tmp_X.extend([X[j]])\n",
    "            out_X.append(tmp_X)\n",
    "            for j in range(i,i+step_forword):\n",
    "                tmp_y.extend([y[j]])\n",
    "            out_y.append(tmp_y)\n",
    "    return np.array(out_X), np.array(out_y)"
   ]
  },
  {
   "cell_type": "code",
   "execution_count": null,
   "id": "96b3234c",
   "metadata": {},
   "outputs": [],
   "source": [
    "# Freeze the layers \n",
    "for i,layer in enumerate(lstm_model.layers):\n",
    "    if i < 1:\n",
    "        print(layer)\n",
    "        layer.trainable = False"
   ]
  },
  {
   "cell_type": "code",
   "execution_count": null,
   "id": "440def94",
   "metadata": {},
   "outputs": [],
   "source": [
    "from keras.callbacks import EarlyStopping\n",
    "early_stopping_monitor = EarlyStopping(patience=3)\n",
    "history = lstm_model.fit(X_lstm_train, y_lstm_train, validation_split = 0.2 , epochs = 10, callbacks=[early_stopping_monitor])\n",
    "quick_plot_history(history)"
   ]
  },
  {
   "cell_type": "code",
   "execution_count": null,
   "id": "323b20fc",
   "metadata": {},
   "outputs": [],
   "source": [
    "y = y_test[5:-1]\n",
    "preds = lstm_model.predict(X_lstm_test)\n",
    "preds_cat = np.argmax(preds,axis=1)\n",
    "# building a map of result to activity\n",
    "result = np.unique(preds_cat).tolist() \n",
    "expected = np.unique(y).tolist() \n",
    "combined = list(zip(result,expected))\n",
    "conf_map = dict(combined)\n",
    "# transfoms the prediction to an activity\n",
    "results = [conf_map[x] for x in preds_cat]\n",
    "print('model accuracy on test :',accuracy_score(y,results)*100)"
   ]
  },
  {
   "cell_type": "code",
   "execution_count": null,
   "id": "9b4796ee",
   "metadata": {},
   "outputs": [],
   "source": [
    "new_data = data.copy().reset_index()\n",
    "# new_data = new_data.drop('index',axis=1)\n",
    "# new_data = new_data.reset_index()\n",
    "new_cols = None \n",
    "for subject in range(101,110):\n",
    "    prev_act_1 = new_data[new_data['id'] == subject]\n",
    "    start = prev_act_1.head(2).index[1]\n",
    "    end = prev_act_1.tail(1).index[0]\n",
    "    prev_act_1 = prev_act_1.loc[start:end+1]\n",
    "    new_cols_1 = pd.DataFrame()\n",
    "    new_cols_1['prev_aid'] = prev_act_1['activity_id']\n",
    "    new_cols_1['prev_hr'] = prev_act_1['heart_rate']\n",
    "    new_cols_1['index'] = prev_act_1['index'] + 1\n",
    "    if new_cols is None:\n",
    "        new_cols = new_cols_1\n",
    "    else:\n",
    "        new_cols = new_cols.append(new_cols_1)\n",
    "new_cols = new_data.merge(new_cols, on='index', how='left')\n",
    "new_cols = new_cols.dropna()"
   ]
  },
  {
   "cell_type": "code",
   "execution_count": null,
   "id": "b9b7e628",
   "metadata": {},
   "outputs": [],
   "source": [
    "from sklearn.preprocessing import OneHotEncoder\n",
    "\n",
    "X_train, X_test, y_train, y_test = split_train_test(new_cols)\n",
    "print('Train shape X :',X_train.shape,' y ', y_train.shape)\n",
    "print('Test shape X :',X_test.shape,' y ', y_test.shape)\n",
    "\n",
    "X_lstm_train, y_lstm_train = create_lstm_data(X_train, y_train)\n",
    "X_lstm_test, y_lstm_test = create_lstm_data(X_test, y_test)\n",
    "hot = OneHotEncoder(handle_unknown='ignore', sparse=False)\n",
    "hot.fit(y_lstm_train)\n",
    "hot.fit(y_lstm_test)\n",
    "\n",
    "y_lstm_train = hot.transform(y_lstm_train)\n",
    "y_lstm_test = hot.transform(y_lstm_test)\n",
    "print('Train shape X lstm :',X_lstm_train.shape,' y ', y_lstm_train.shape)\n",
    "print('Test shape X lstm :',X_lstm_test.shape,' y ', y_lstm_test.shape)"
   ]
  },
  {
   "cell_type": "code",
   "execution_count": null,
   "id": "11f97486",
   "metadata": {},
   "outputs": [],
   "source": [
    "from keras.layers import Dropout\n",
    "lstm_model = Sequential()\n",
    "lstm_model.add(LSTM(16,input_shape=(X_lstm_train.shape[1],X_lstm_train.shape[2])))\n",
    "lstm_model.add(Dense(64 ,activation='relu'))\n",
    "lstm_model.add(Dense(64 ,activation='relu'))\n",
    "lstm_model.add(Dropout(0.1))\n",
    "lstm_model.add(Dense(64 ,activation='relu'))\n",
    "lstm_model.add(Dense(64 ,activation='relu'))\n",
    "lstm_model.add(Dense(y_lstm_train.shape[1], activation='softmax'))\n",
    "\n",
    "lstm_model.summary()\n",
    "lstm_model.compile(loss='categorical_crossentropy',optimizer='adam',metrics=['accuracy'])"
   ]
  },
  {
   "cell_type": "code",
   "execution_count": null,
   "id": "31158f9d",
   "metadata": {},
   "outputs": [],
   "source": [
    "from keras.callbacks import EarlyStopping\n",
    "early_stopping_monitor = EarlyStopping(patience=3)\n",
    "history = lstm_model.fit(X_lstm_train, y_lstm_train, validation_split = 0.2 , epochs = 10, callbacks=[early_stopping_monitor])"
   ]
  },
  {
   "cell_type": "code",
   "execution_count": null,
   "id": "b13940a8",
   "metadata": {},
   "outputs": [],
   "source": [
    "# taken from https://keras.io/visualization/\n",
    "def quick_plot_history(history):\n",
    "    # Plot training & validation accuracy values\n",
    "    plt.plot(history.history['accuracy'])\n",
    "    plt.plot(history.history['val_accuracy'])\n",
    "    plt.title('Model accuracy')\n",
    "    plt.ylabel('Accuracy')\n",
    "    plt.xlabel('Epoch')\n",
    "    plt.legend(['Train', 'Validation'], loc='upper left')\n",
    "    plt.show()\n",
    "\n",
    "    # Plot training & validation loss values\n",
    "    plt.plot(history.history['loss'])\n",
    "    plt.plot(history.history['val_loss'])\n",
    "    plt.title('Model loss')\n",
    "    plt.ylabel('Loss')\n",
    "    plt.xlabel('Epoch')\n",
    "    plt.legend(['Train', 'Validation'], loc='upper left')\n",
    "    plt.show()\n",
    "\n",
    "quick_plot_history(history)"
   ]
  },
  {
   "cell_type": "code",
   "execution_count": null,
   "id": "e703b1a3",
   "metadata": {},
   "outputs": [],
   "source": [
    "y = y_test[5:-1]\n",
    "preds = lstm_model.predict(X_lstm_test)\n",
    "preds_cat = np.argmax(preds,axis=1)\n",
    "# building a map of result to activity\n",
    "result = np.unique(preds_cat).tolist() \n",
    "expected = np.unique(y).tolist() \n",
    "combined = list(zip(result,expected))\n",
    "conf_map = dict(combined)\n",
    "# transfoms the prediction to an activity\n",
    "results = [conf_map[x] for x in preds_cat]\n",
    "print('model accuracy on test :',accuracy_score(y,results)*100)"
   ]
  },
  {
   "cell_type": "code",
   "execution_count": null,
   "id": "02eba18f",
   "metadata": {},
   "outputs": [],
   "source": [
    "pip install keras 2.4.0"
   ]
  },
  {
   "cell_type": "code",
   "execution_count": null,
   "id": "fb13dd12",
   "metadata": {},
   "outputs": [],
   "source": [
    "pip install keras --upgrade"
   ]
  },
  {
   "cell_type": "code",
   "execution_count": null,
   "id": "96cfed03",
   "metadata": {},
   "outputs": [],
   "source": []
  }
 ],
 "metadata": {
  "kernelspec": {
   "display_name": "Python 3 (ipykernel)",
   "language": "python",
   "name": "python3"
  },
  "language_info": {
   "codemirror_mode": {
    "name": "ipython",
    "version": 3
   },
   "file_extension": ".py",
   "mimetype": "text/x-python",
   "name": "python",
   "nbconvert_exporter": "python",
   "pygments_lexer": "ipython3",
   "version": "3.10.5"
  }
 },
 "nbformat": 4,
 "nbformat_minor": 5
}
