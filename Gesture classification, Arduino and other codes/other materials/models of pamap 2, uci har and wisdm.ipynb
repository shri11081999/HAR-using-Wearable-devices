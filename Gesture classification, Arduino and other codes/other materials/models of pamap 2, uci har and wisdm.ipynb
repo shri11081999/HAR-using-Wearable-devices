{
 "cells": [
  {
   "cell_type": "code",
   "execution_count": 1,
   "metadata": {
    "colab": {
     "base_uri": "https://localhost:8080/"
    },
    "id": "JNLu4mUJrP-I",
    "outputId": "14658257-d4a3-4b1c-d39f-fa726914679a"
   },
   "outputs": [],
   "source": [
    "import sys\n",
    "import os\n",
    "import re\n",
    "import pandas as pd\n",
    "import tensorflow as tf\n",
    "import numpy as np\n",
    "import seaborn as sns\n",
    "import matplotlib.pyplot as plt\n",
    "from sklearn.model_selection import train_test_split\n",
    "\n",
    "from tensorflow.keras import layers, Sequential, Input\n",
    "import datetime\n"
   ]
  },
  {
   "cell_type": "code",
   "execution_count": 2,
   "metadata": {},
   "outputs": [
    {
     "name": "stdout",
     "output_type": "stream",
     "text": [
      "Requirement already satisfied: ann_visualizer in c:\\users\\dixit\\appdata\\local\\programs\\python\\python310\\lib\\site-packages (2.5)\n",
      "Note: you may need to restart the kernel to use updated packages.\n"
     ]
    },
    {
     "name": "stderr",
     "output_type": "stream",
     "text": [
      "\n",
      "[notice] A new release of pip available: 22.3.1 -> 23.0\n",
      "[notice] To update, run: python.exe -m pip install --upgrade pip\n"
     ]
    }
   ],
   "source": [
    "pip install ann_visualizer"
   ]
  },
  {
   "cell_type": "code",
   "execution_count": 3,
   "metadata": {},
   "outputs": [],
   "source": [
    "load_ext tensorboard"
   ]
  },
  {
   "cell_type": "markdown",
   "metadata": {
    "id": "bwjhuffwNh0L"
   },
   "source": [
    "# Fetching Datasets"
   ]
  },
  {
   "cell_type": "code",
   "execution_count": 4,
   "metadata": {
    "colab": {
     "base_uri": "https://localhost:8080/"
    },
    "id": "9IjfCC2QObpu",
    "outputId": "1fe59aa2-3dfe-41fe-e4b2-5138d338e261"
   },
   "outputs": [],
   "source": [
    "#@title Fetching MHealth\n",
    "# MHEALTH http://archive.ics.uci.edu/ml/machine-learning-databases/00319/MHEALTHDATASET.zip"
   ]
  },
  {
   "cell_type": "code",
   "execution_count": 5,
   "metadata": {},
   "outputs": [
    {
     "ename": "SyntaxError",
     "evalue": "invalid syntax (106886225.py, line 1)",
     "output_type": "error",
     "traceback": [
      "\u001b[1;36m  Cell \u001b[1;32mIn[5], line 1\u001b[1;36m\u001b[0m\n\u001b[1;33m    unzip \"C:/Users/dixit/Desktop/uci-har dataset/UCI HAR Dataset\"\u001b[0m\n\u001b[1;37m          ^\u001b[0m\n\u001b[1;31mSyntaxError\u001b[0m\u001b[1;31m:\u001b[0m invalid syntax\n"
     ]
    }
   ],
   "source": [
    "unzip \"C:/Users/dixit/Desktop/uci-har dataset/UCI HAR Dataset\""
   ]
  },
  {
   "cell_type": "code",
   "execution_count": null,
   "metadata": {
    "colab": {
     "base_uri": "https://localhost:8080/"
    },
    "id": "xeBJb6nfPlmd",
    "outputId": "b71504b5-f0dd-4acf-a41a-e72eccb503ba"
   },
   "outputs": [],
   "source": [
    "  #@title Packages\n",
    "!apt install poppler-utils"
   ]
  },
  {
   "cell_type": "markdown",
   "metadata": {
    "id": "CbredA50WH9Y"
   },
   "source": [
    "## Dataset Description"
   ]
  },
  {
   "cell_type": "code",
   "execution_count": null,
   "metadata": {
    "colab": {
     "base_uri": "https://localhost:8080/"
    },
    "id": "pw01-vDHPVus",
    "outputId": "9b85c9e7-ff85-4e06-c7f0-d26c8cb73b5c"
   },
   "outputs": [],
   "source": [
    "#@title MHealth Dataset Readme\n",
    "! cat MHEALTHDATASET/README.txt"
   ]
  },
  {
   "cell_type": "code",
   "execution_count": null,
   "metadata": {
    "cellView": "form",
    "colab": {
     "base_uri": "https://localhost:8080/"
    },
    "id": "OpnEkbJZPvnk",
    "outputId": "a7f05ebc-4b97-47af-94c5-8f1debc8816a"
   },
   "outputs": [],
   "source": [
    "#@title -\n",
    "\n",
    "!pdftotext PAMAP2_Dataset/readme.pdf  "
   ]
  },
  {
   "cell_type": "markdown",
   "metadata": {
    "id": "ctDRZR98QXAu"
   },
   "source": [
    "## Importing Dataset"
   ]
  },
  {
   "cell_type": "code",
   "execution_count": null,
   "metadata": {
    "colab": {
     "base_uri": "https://localhost:8080/"
    },
    "id": "UVTFtbaGXXy8",
    "outputId": "1ae50b7f-0585-49cd-df9a-23e633390e72"
   },
   "outputs": [],
   "source": [
    "#@title Inspecting MHealth log File\n",
    "!head -n 10 MHEALTHDATASET/mHealth_subject1.log"
   ]
  },
  {
   "cell_type": "code",
   "execution_count": null,
   "metadata": {
    "colab": {
     "base_uri": "https://localhost:8080/"
    },
    "id": "b4pZNUN8ZVbL",
    "outputId": "28a873c4-1c57-4479-96ef-d022e3fa98f1"
   },
   "outputs": [],
   "source": [
    "#@title MHealth Files List\n",
    "for i in os.listdir('MHEALTHDATASET/'):\n",
    "  if not re.search('README', i):\n",
    "    print(i)"
   ]
  },
  {
   "cell_type": "code",
   "execution_count": null,
   "metadata": {
    "colab": {
     "base_uri": "https://localhost:8080/",
     "height": 195
    },
    "id": "CRq8DwrQZWmw",
    "outputId": "14132880-f7de-4330-b122-74b6ce4bf93e"
   },
   "outputs": [],
   "source": [
    "#@title Converting one subject to DataFrame\n",
    "mHealth = pd.read_csv('MHEALTHDATASET/mHealth_subject3.log', header=None, sep='\\t').loc[:, [5,6,7,8,9,10,14,15,16,17,18,19, 23]].rename(columns={5:\"alX\", 6:\"alY\", 7:\"alZ\", 8:\"glX\", 9:\"glY\", 10:\"glZ\", 14:\"arX\",15:\"arY\", 16:\"arZ\", 17:\"grX\", 18:\"grY\", 19:\"grZ\", 23:\"Output\"})\n",
    "mHealth.head(5)"
   ]
  },
  {
   "cell_type": "code",
   "execution_count": null,
   "metadata": {
    "colab": {
     "base_uri": "https://localhost:8080/",
     "height": 1000
    },
    "id": "ifT2HVYDatFJ",
    "outputId": "ce8d622e-c766-44c9-bbdd-d7921d033009"
   },
   "outputs": [],
   "source": [
    "sns.pairplot(mHealth)"
   ]
  },
  {
   "cell_type": "code",
   "execution_count": null,
   "metadata": {
    "id": "CX14kvisfdTa"
   },
   "outputs": [],
   "source": []
  },
  {
   "cell_type": "markdown",
   "metadata": {
    "id": "rFXnBlnAk4OB"
   },
   "source": [
    "# EDA"
   ]
  },
  {
   "cell_type": "code",
   "execution_count": null,
   "metadata": {
    "colab": {
     "base_uri": "https://localhost:8080/",
     "height": 432
    },
    "id": "3_yBMIxZmoZ5",
    "outputId": "13cb7427-fbec-462a-dfcd-865e59f560a1"
   },
   "outputs": [],
   "source": [
    "#@title Describe MHealth Dataset One Subject\n",
    "mHealth.describe().T"
   ]
  },
  {
   "cell_type": "code",
   "execution_count": null,
   "metadata": {
    "colab": {
     "base_uri": "https://localhost:8080/",
     "height": 432
    },
    "id": "9MMMwUhj0qEO",
    "outputId": "12d98edb-2f1e-40ef-f94d-0517873e4da6"
   },
   "outputs": [],
   "source": [
    "#@title Describe MHealth for all\n",
    "all = mHealth[mHealth[\"Output\"] == 14].copy()\n",
    "\n",
    "for i in os.listdir('MHEALTHDATASET/'):\n",
    "  if not re.search('README', i):\n",
    "    all = all.append(pd.read_csv('MHEALTHDATASET/'+i, header=None, sep='\\t').loc[:, [5,6,7,8,9,10,14,15,16,17,18,19, 23]].rename(columns={5:\"alX\", 6:\"alY\", 7:\"alZ\", 8:\"glX\", 9:\"glY\", 10:\"glZ\", 14:\"arX\",15:\"arY\", 16:\"arZ\", 17:\"grX\", 18:\"grY\", 19:\"grZ\", 23:\"Output\"}))\n",
    "\n",
    "\n",
    "description = all.describe()\n",
    "\n",
    "description.T"
   ]
  },
  {
   "cell_type": "markdown",
   "metadata": {
    "id": "312XcyL43gCQ"
   },
   "source": []
  },
  {
   "cell_type": "code",
   "execution_count": null,
   "metadata": {
    "colab": {
     "base_uri": "https://localhost:8080/"
    },
    "id": "7jF88gS-4Mhn",
    "outputId": "badb5db3-6b3b-4c83-ee76-28fda2bc1649"
   },
   "outputs": [],
   "source": [
    "description[\"alX\"][\"max\"]"
   ]
  },
  {
   "cell_type": "markdown",
   "metadata": {
    "id": "DMnK3x79muSX"
   },
   "source": [
    "# MHealth Dataset"
   ]
  },
  {
   "cell_type": "code",
   "execution_count": null,
   "metadata": {
    "colab": {
     "base_uri": "https://localhost:8080/"
    },
    "id": "edtkZBgYrp7i",
    "outputId": "7f7cb99f-01db-403b-9c49-42f885a70f7a"
   },
   "outputs": [],
   "source": [
    "#@title Size of dataset for various subjects\n",
    "for i in os.listdir('MHEALTHDATASET/'):\n",
    "  if not re.search('README', i):\n",
    "    print(pd.read_csv('MHEALTHDATASET/'+i, header=None, sep='\\t').loc[:, [5,6,7,8,9,10,14,15,16,17,18,19, 23]].rename(columns={5:\"alX\", 6:\"alY\", 7:\"alZ\", 8:\"glX\", 9:\"glY\", 10:\"glZ\", 14:\"arX\",15:\"arY\", 16:\"arZ\", 17:\"grX\", 18:\"grY\", 19:\"grZ\", 23:\"Output\"}).shape)\n"
   ]
  },
  {
   "cell_type": "code",
   "execution_count": null,
   "metadata": {
    "colab": {
     "base_uri": "https://localhost:8080/"
    },
    "id": "chGo0AtEsoe3",
    "outputId": "074ebde1-15b2-4a04-bb01-4f415594b691"
   },
   "outputs": [],
   "source": [
    "all.isnull().values.any()"
   ]
  },
  {
   "cell_type": "code",
   "execution_count": null,
   "metadata": {
    "colab": {
     "base_uri": "https://localhost:8080/"
    },
    "id": "TOqyy0Mgs6Bl",
    "outputId": "9496ed44-37e7-42b4-d684-4107c845a09f"
   },
   "outputs": [],
   "source": [
    "#@title Importing and preprocessing dataset\n",
    "SAMPLES_PER_ACTIVITY=50  #@param { \"type\": \"integer\" }\n",
    "\n",
    "Activities = [\n",
    "    \"Nothing\",\n",
    "    \"Standing\",\n",
    "    \"Sitting and Relaxing\",\n",
    "    \"Lying Down\",\n",
    "    \"Walking\",\n",
    "    \"Climbing Stairs\",\n",
    "    \"Waist bends forward\",\n",
    "    \"Frontal Elevation of Arms\",\n",
    "    \"Knees Bending (Crouching)\",\n",
    "    \"Cycling\",\n",
    "    \"Jogging\",\n",
    "    \"Running\",\n",
    "    \"Jump Front & Back\"\n",
    "    ]\n",
    "\n",
    "Activities_subset = [4, 1, 5, 9, 10, 11, 8]\n",
    "NUM_ACTIVITY=len(Activities)\n",
    "X = []\n",
    "Y = []\n",
    "\n",
    "FEATURES=[\"alX\", \"alY\", \"alZ\", \"glX\", \"glY\", \"glZ\", \"arX\", \"arY\", \"arZ\", \"grX\", \"grY\", \"grZ\"]\n",
    "ONE_HOT_ENCODED_ACTIVITY = np.eye(NUM_ACTIVITY-1)\n",
    "for i in os.listdir('MHEALTHDATASET/'):\n",
    "  if not re.search('README', i):\n",
    "    temp = pd.read_csv('MHEALTHDATASET/'+i, header=None, sep='\\t').loc[:, [5,6,7,8,9,10,14,15,16,17,18,19, 23]].rename(columns={5:\"alX\", 6:\"alY\", 7:\"alZ\", 8:\"glX\", 9:\"glY\", 10:\"glZ\", 14:\"arX\",15:\"arY\", 16:\"arZ\", 17:\"grX\", 18:\"grY\", 19:\"grZ\", 23:\"Output\"})\n",
    "    for ji,j in enumerate(Activities_subset):\n",
    "\n",
    "        if j not in Activities_subset: continue\n",
    "        output = ONE_HOT_ENCODED_ACTIVITY[ji]\n",
    "\n",
    "        \n",
    "        df =np.array(temp[temp[\"Output\"] == j].copy())\n",
    "        num_recordings = int(df.shape[0]/SAMPLES_PER_ACTIVITY)\n",
    "        print(f\"\\tThere are {num_recordings} recordings of the {Activities[j]} activity.\")\n",
    "        for k in range(num_recordings):\n",
    "          tensor = []\n",
    "          for l in range(SAMPLES_PER_ACTIVITY):\n",
    "            index = k * SAMPLES_PER_ACTIVITY + l\n",
    "\n",
    "            tensori = []\n",
    "            for m,feature in enumerate(FEATURES):\n",
    "              tensori.append((df[index,m] + description[feature][\"mean\"]) / (description[feature][\"max\"] - description[feature][\"min\"]))\n",
    "            \n",
    "            tensor.append(tensori)\n",
    "          X.append(tensor)\n",
    "          Y.append(output)\n",
    "\n",
    "X = np.array(X)\n",
    "Y = np.array(Y)\n",
    "\n",
    "\n",
    "print(\"Data set parsing and preparation complete.\")\n",
    "\n"
   ]
  },
  {
   "cell_type": "code",
   "execution_count": null,
   "metadata": {
    "colab": {
     "base_uri": "https://localhost:8080/"
    },
    "id": "LE8RLKg_FcTO",
    "outputId": "ed3c60dd-a691-45e8-9a7e-106ecadcdbc4"
   },
   "outputs": [],
   "source": [
    "X.min()"
   ]
  },
  {
   "cell_type": "code",
   "execution_count": null,
   "metadata": {
    "id": "sqItRPCT1qMc"
   },
   "outputs": [],
   "source": [
    "X_train, X_test, Y_train, Y_test = train_test_split(X,Y)"
   ]
  },
  {
   "cell_type": "code",
   "execution_count": null,
   "metadata": {
    "colab": {
     "base_uri": "https://localhost:8080/"
    },
    "id": "NddQLK7n4rEU",
    "outputId": "5e51c475-4c45-47b2-8be3-b1be7d6a7d4b"
   },
   "outputs": [],
   "source": [
    "input_shape=X.shape[1:]\n",
    "\n",
    "X.shape"
   ]
  },
  {
   "cell_type": "code",
   "execution_count": null,
   "metadata": {
    "id": "hH-qrcoteicb"
   },
   "outputs": [],
   "source": [
    "import keras\n",
    "from keras import optimizers\n",
    "from keras.models import Sequential\n",
    "from keras.layers import Dense, Dropout, Flatten, Reshape, TimeDistributed\n",
    "from keras.layers import Conv3D,Conv2D,Conv1D,MaxPooling1D, MaxPooling2D,TimeDistributed,LSTM,ConvLSTM2D, GRU\n",
    "from keras.utils import np_utils\n",
    "\n",
    "from sklearn.metrics import classification_report"
   ]
  },
  {
   "cell_type": "markdown",
   "metadata": {
    "id": "hw9LkguieDBb"
   },
   "source": [
    "# Models"
   ]
  },
  {
   "cell_type": "markdown",
   "metadata": {
    "id": "RwY4bfoieLHs"
   },
   "source": [
    "## Convnet"
   ]
  },
  {
   "cell_type": "code",
   "execution_count": null,
   "metadata": {
    "colab": {
     "base_uri": "https://localhost:8080/"
    },
    "id": "bcnm30ybeUBz",
    "outputId": "d5305779-ba46-4256-ea9c-6e07c2e4fc0a"
   },
   "outputs": [],
   "source": [
    "model = Sequential()\n",
    "model.add(Conv1D(32, 3, activation='relu', input_shape=input_shape))\n",
    "model.add(MaxPooling1D(pool_size=2))\n",
    "model.add(Dropout(0.5))\n",
    "model.add(Flatten())\n",
    "model.add(Dense(1024, activation='relu'))\n",
    "model.add(Dense(512, activation='relu'))\n",
    "model.add(Dense(12, activation='softmax'))\n",
    "model.summary()"
   ]
  },
  {
   "cell_type": "code",
   "execution_count": null,
   "metadata": {
    "id": "jCw7CKwlgILV"
   },
   "outputs": [],
   "source": [
    "\n",
    "model.compile(loss='categorical_crossentropy',\n",
    "                optimizer='adam', metrics=['accuracy'])"
   ]
  },
  {
   "cell_type": "code",
   "execution_count": null,
   "metadata": {
    "id": "8gC8SuvUf3VM"
   },
   "outputs": [],
   "source": [
    "BATCH_SIZE = 64\n",
    "\n",
    "EPOCHS=40"
   ]
  },
  {
   "cell_type": "code",
   "execution_count": null,
   "metadata": {
    "colab": {
     "base_uri": "https://localhost:8080/"
    },
    "id": "YIDMn1y5f91-",
    "outputId": "b4f29b19-4961-43ee-d64b-1c03ae43323a"
   },
   "outputs": [],
   "source": [
    "history = model.fit(X_train,\n",
    "                      Y_train,\n",
    "                      batch_size=BATCH_SIZE,\n",
    "                      epochs=EPOCHS,\n",
    "                      shuffle=True,\n",
    "                      validation_split=0.3,\n",
    "                      verbose=1)"
   ]
  },
  {
   "cell_type": "code",
   "execution_count": null,
   "metadata": {
    "colab": {
     "base_uri": "https://localhost:8080/",
     "height": 295
    },
    "id": "3qe1J-9SgTzt",
    "outputId": "f3ecdc0d-5823-41b1-bd5f-d782c36f3135"
   },
   "outputs": [],
   "source": [
    "plt.figure(figsize=(6, 4))\n",
    "plt.plot(history.history['accuracy'], 'r', label='Accuracy of training data')\n",
    "plt.plot(history.history['val_accuracy'], 'b', label='Accuracy of validation data')\n",
    "plt.plot(history.history['loss'], 'r--', label='Loss of training data')\n",
    "plt.plot(history.history['val_loss'], 'b--', label='Loss of validation data')\n",
    "plt.title('Model Accuracy and Loss')\n",
    "plt.ylabel('Accuracy and Loss')\n",
    "plt.xlabel('Training Epoch')\n",
    "plt.ylim(0)\n",
    "plt.legend()\n",
    "plt.show()\n",
    "\n",
    "# Print confusion matrix for training data\n",
    "\n",
    "\n"
   ]
  },
  {
   "cell_type": "code",
   "execution_count": null,
   "metadata": {
    "colab": {
     "base_uri": "https://localhost:8080/",
     "height": 599
    },
    "id": "2pY41TBul8XD",
    "outputId": "96cf988c-e2e3-4aa6-a81b-6e5142fd487b"
   },
   "outputs": [],
   "source": [
    "predictions = model.predict(X_test)\n",
    "\n",
    "cm = tf.math.confusion_matrix(labels=tf.argmax(Y_test,1), predictions=tf.argmax(predictions,1))\n",
    "axis_labels = [Activities[i] for i in Activities_subset]\n",
    "figure = plt.figure(figsize=(10, 8))\n",
    "sns.heatmap(cm, annot=True,cmap=plt.cm.Blues,xticklabels=axis_labels, yticklabels=axis_labels, fmt='g')\n",
    "plt.ylim(len(cm)-0, 0)\n",
    "plt.tight_layout()\n",
    "plt.ylabel('True label')\n",
    "plt.xlabel('Predicted label')\n",
    "plt.show()"
   ]
  },
  {
   "cell_type": "code",
   "execution_count": null,
   "metadata": {
    "colab": {
     "base_uri": "https://localhost:8080/",
     "height": 343
    },
    "id": "znK2ThngQZFP",
    "outputId": "e627299d-7b34-4598-cbdb-eaaa51332703"
   },
   "outputs": [],
   "source": [
    "pd.DataFrame(classification_report(Y_test.argmax(axis=1), predictions.argmax(axis=1), output_dict=True)).rename(columns=dict(zip([str(i) for i in range(0,7)], list([Activities[Activities_subset[i]] for i in range(0,7)])))).T"
   ]
  },
  {
   "cell_type": "code",
   "execution_count": null,
   "metadata": {
    "colab": {
     "base_uri": "https://localhost:8080/",
     "height": 758
    },
    "id": "es3DZwhW8S6V",
    "outputId": "04b14c51-7f7b-445f-b5e7-6bf8c415b203"
   },
   "outputs": [],
   "source": [
    "from tensorflow.keras.utils import plot_model\n",
    "\n",
    "plot_model(model)"
   ]
  },
  {
   "cell_type": "markdown",
   "metadata": {
    "id": "EMu_y-yXkaoW"
   },
   "source": [
    "## CNN-LSTM"
   ]
  },
  {
   "cell_type": "code",
   "execution_count": null,
   "metadata": {
    "colab": {
     "base_uri": "https://localhost:8080/"
    },
    "id": "imIMeD5agU_E",
    "outputId": "b728a9e1-08c9-475f-b2e9-4469f4a8d545"
   },
   "outputs": [],
   "source": [
    "model = Sequential()\n",
    "model.add(Conv1D(32, 3, activation='relu', input_shape=input_shape))\n",
    "model.add(MaxPooling1D(pool_size=2))\n",
    "model.add(Dropout(0.5))\n",
    "model.add(TimeDistributed(Flatten()))\n",
    "model.add(LSTM(128))\n",
    "model.add(Dense(1024, activation='relu'))\n",
    "model.add(Dense(512, activation='relu'))\n",
    "model.add(Dense(12, activation='softmax'))\n",
    "model.summary()"
   ]
  },
  {
   "cell_type": "code",
   "execution_count": null,
   "metadata": {
    "id": "2nal30kg9b7n"
   },
   "outputs": [],
   "source": [
    "\n",
    "model.compile(loss='categorical_crossentropy',\n",
    "                optimizer='adam', metrics=['accuracy'])"
   ]
  },
  {
   "cell_type": "code",
   "execution_count": null,
   "metadata": {
    "colab": {
     "base_uri": "https://localhost:8080/"
    },
    "id": "VuznkH_Bm9tL",
    "outputId": "3e3ee002-f6ad-4de0-8ffd-eb79623b2d18"
   },
   "outputs": [],
   "source": [
    "history = model.fit(X_train,\n",
    "                      Y_train,\n",
    "                      batch_size=BATCH_SIZE,\n",
    "                      epochs=EPOCHS,shuffle=True,\n",
    "                      validation_split=0.3,\n",
    "                      verbose=1)"
   ]
  },
  {
   "cell_type": "code",
   "execution_count": null,
   "metadata": {
    "colab": {
     "base_uri": "https://localhost:8080/",
     "height": 295
    },
    "id": "0tM93GxjnA_D",
    "outputId": "d9763026-220f-4752-d82c-6b619a478911"
   },
   "outputs": [],
   "source": [
    "plt.figure(figsize=(6, 4))\n",
    "plt.plot(history.history['accuracy'], 'r', label='Accuracy of training data')\n",
    "plt.plot(history.history['val_accuracy'], 'b', label='Accuracy of validation data')\n",
    "plt.plot(history.history['loss'], 'r--', label='Loss of training data')\n",
    "plt.plot(history.history['val_loss'], 'b--', label='Loss of validation data')\n",
    "plt.title('Model Accuracy and Loss')\n",
    "plt.ylabel('Accuracy and Loss')\n",
    "plt.xlabel('Training Epoch')\n",
    "plt.ylim(0)\n",
    "plt.legend()\n",
    "plt.show()\n",
    "\n",
    "# Print confusion matrix for training data\n",
    "\n",
    "\n"
   ]
  },
  {
   "cell_type": "code",
   "execution_count": null,
   "metadata": {
    "colab": {
     "base_uri": "https://localhost:8080/",
     "height": 599
    },
    "id": "bGGn6BRfnFhX",
    "outputId": "7279b8cd-7ae4-4ef1-c7d1-dcd9e2399e17"
   },
   "outputs": [],
   "source": [
    "predictions = model.predict(X_test)\n",
    "\n",
    "cm = tf.math.confusion_matrix(labels=tf.argmax(Y_test,1), predictions=tf.argmax(predictions,1))\n",
    "axis_labels = [Activities[i] for i in Activities_subset]\n",
    "figure = plt.figure(figsize=(10, 8))\n",
    "sns.heatmap(cm, annot=True,cmap=plt.cm.Blues,xticklabels=axis_labels, yticklabels=axis_labels, fmt='g')\n",
    "plt.ylim(len(cm)-0, 0)\n",
    "plt.tight_layout()\n",
    "plt.ylabel('True label')\n",
    "plt.xlabel('Predicted label')\n",
    "plt.show()"
   ]
  },
  {
   "cell_type": "code",
   "execution_count": null,
   "metadata": {
    "colab": {
     "base_uri": "https://localhost:8080/",
     "height": 343
    },
    "id": "M5Yt9jXVS3Jd",
    "outputId": "3541bcf1-ccb7-4af4-8ee6-bbabd96ad3d9"
   },
   "outputs": [],
   "source": [
    "pd.DataFrame(classification_report(Y_test.argmax(axis=1), predictions.argmax(axis=1), output_dict=True)).rename(columns=dict(zip([str(i) for i in range(0,7)], list([Activities[Activities_subset[i]] for i in range(0,7)])))).T"
   ]
  },
  {
   "cell_type": "code",
   "execution_count": null,
   "metadata": {
    "colab": {
     "base_uri": "https://localhost:8080/",
     "height": 856
    },
    "id": "9Q_dA6Al_nlI",
    "outputId": "cb951a8a-4e7e-409a-ba52-70a638de76cf"
   },
   "outputs": [],
   "source": [
    "plot_model(model)"
   ]
  },
  {
   "cell_type": "markdown",
   "metadata": {
    "id": "Jcy8E3HaooDV"
   },
   "source": [
    "## LSTM-CNN"
   ]
  },
  {
   "cell_type": "code",
   "execution_count": null,
   "metadata": {
    "colab": {
     "base_uri": "https://localhost:8080/"
    },
    "id": "opX2YIuzooDX",
    "outputId": "dc7ace97-804e-442c-fd3f-89b6a954ad82"
   },
   "outputs": [],
   "source": [
    "model = Sequential()\n",
    "\n",
    "model.add(LSTM(128, input_shape=input_shape))\n",
    "model.add(Reshape((-1,1)))\n",
    "model.add(Conv1D(32, 3, activation='relu'))\n",
    "model.add(MaxPooling1D(pool_size=2))\n",
    "model.add(Dropout(0.5))\n",
    "model.add(Flatten())\n",
    "\n",
    "model.add(Dense(1024, activation='relu'))\n",
    "model.add(Dense(512, activation='relu'))\n",
    "model.add(Dense(12, activation='softmax'))\n",
    "model.summary()"
   ]
  },
  {
   "cell_type": "code",
   "execution_count": null,
   "metadata": {
    "id": "sV-razAzooDY"
   },
   "outputs": [],
   "source": [
    "\n",
    "model.compile(loss='categorical_crossentropy',\n",
    "                optimizer='adam', metrics=['accuracy'])"
   ]
  },
  {
   "cell_type": "code",
   "execution_count": null,
   "metadata": {
    "colab": {
     "base_uri": "https://localhost:8080/"
    },
    "id": "O7WtXswpooDZ",
    "outputId": "482ef6be-5c1b-4f4f-c8f2-590ad7598b91"
   },
   "outputs": [],
   "source": [
    "history = model.fit(X_train,\n",
    "                      Y_train,\n",
    "                      batch_size=BATCH_SIZE,\n",
    "                      epochs=EPOCHS,shuffle=True,\n",
    "                      validation_split=0.3,\n",
    "                      verbose=1)"
   ]
  },
  {
   "cell_type": "code",
   "execution_count": null,
   "metadata": {
    "colab": {
     "base_uri": "https://localhost:8080/",
     "height": 295
    },
    "id": "pLZtsOFAooDb",
    "outputId": "13546eb1-36d2-4724-b7e2-9c0dd1e1f46d"
   },
   "outputs": [],
   "source": [
    "plt.figure(figsize=(6, 4))\n",
    "plt.plot(history.history['accuracy'], 'r', label='Accuracy of training data')\n",
    "plt.plot(history.history['val_accuracy'], 'b', label='Accuracy of validation data')\n",
    "plt.plot(history.history['loss'], 'r--', label='Loss of training data')\n",
    "plt.plot(history.history['val_loss'], 'b--', label='Loss of validation data')\n",
    "plt.title('Model Accuracy and Loss')\n",
    "plt.ylabel('Accuracy and Loss')\n",
    "plt.xlabel('Training Epoch')\n",
    "plt.ylim(0)\n",
    "plt.legend()\n",
    "plt.show()\n",
    "\n",
    "# Print confusion matrix for training data\n",
    "\n",
    "\n"
   ]
  },
  {
   "cell_type": "code",
   "execution_count": null,
   "metadata": {
    "colab": {
     "base_uri": "https://localhost:8080/",
     "height": 599
    },
    "id": "ESCWPsBXooDc",
    "outputId": "81dabfd9-3ad3-4a85-88f6-dca8eff8ec06"
   },
   "outputs": [],
   "source": [
    "predictions = model.predict(X_test)\n",
    "\n",
    "cm = tf.math.confusion_matrix(labels=tf.argmax(Y_test,1), predictions=tf.argmax(predictions,1))\n",
    "axis_labels = [Activities[i] for i in Activities_subset]\n",
    "figure = plt.figure(figsize=(10, 8))\n",
    "sns.heatmap(cm, annot=True,cmap=plt.cm.Blues,xticklabels=axis_labels, yticklabels=axis_labels, fmt='g')\n",
    "plt.ylim(len(cm)-0, 0)\n",
    "plt.tight_layout()\n",
    "plt.ylabel('True label')\n",
    "plt.xlabel('Predicted label')\n",
    "plt.show()"
   ]
  },
  {
   "cell_type": "code",
   "execution_count": null,
   "metadata": {
    "colab": {
     "base_uri": "https://localhost:8080/",
     "height": 343
    },
    "id": "HaoQOuGjTAMX",
    "outputId": "6b36bcb7-f38a-401b-abfb-26f4cca9daeb"
   },
   "outputs": [],
   "source": [
    "pd.DataFrame(classification_report(Y_test.argmax(axis=1), predictions.argmax(axis=1), output_dict=True)).rename(columns=dict(zip([str(i) for i in range(0,7)], list([Activities[Activities_subset[i]] for i in range(0,7)])))).T"
   ]
  },
  {
   "cell_type": "code",
   "execution_count": null,
   "metadata": {
    "colab": {
     "base_uri": "https://localhost:8080/",
     "height": 953
    },
    "id": "k_TTsn8dAMXj",
    "outputId": "a8694425-006e-45ba-ec27-202ca6b71816"
   },
   "outputs": [],
   "source": [
    "plot_model(model)"
   ]
  },
  {
   "cell_type": "markdown",
   "metadata": {
    "id": "ckUV9ZQGphkN"
   },
   "source": [
    "## LSTM"
   ]
  },
  {
   "cell_type": "code",
   "execution_count": null,
   "metadata": {
    "colab": {
     "base_uri": "https://localhost:8080/"
    },
    "id": "17WaSbX2phlO",
    "outputId": "9d5668e0-5fd9-42ec-f88e-efdaa1d94a5c"
   },
   "outputs": [],
   "source": [
    "model = Sequential()\n",
    "\n",
    "model.add(LSTM(128, input_shape=input_shape))\n",
    "\n",
    "model.add(Dense(12, activation='softmax'))\n",
    "model.summary()"
   ]
  },
  {
   "cell_type": "code",
   "execution_count": null,
   "metadata": {
    "id": "qL1ZEEV_phlS"
   },
   "outputs": [],
   "source": [
    "\n",
    "model.compile(loss='categorical_crossentropy',\n",
    "                optimizer='adam', metrics=['accuracy'])\n"
   ]
  },
  {
   "cell_type": "code",
   "execution_count": null,
   "metadata": {
    "colab": {
     "base_uri": "https://localhost:8080/"
    },
    "id": "wj7QBd2tphlT",
    "outputId": "0d901912-fba3-4699-f6d0-e4336fbbe5bd"
   },
   "outputs": [],
   "source": [
    "history = model.fit(X_train,\n",
    "                      Y_train,\n",
    "                      batch_size=BATCH_SIZE,\n",
    "                      epochs=EPOCHS,shuffle=True,\n",
    "                      validation_split=0.3,\n",
    "                      verbose=1)"
   ]
  },
  {
   "cell_type": "code",
   "execution_count": null,
   "metadata": {
    "colab": {
     "base_uri": "https://localhost:8080/",
     "height": 295
    },
    "id": "juauzj8GphlU",
    "outputId": "93011fca-c737-460f-a924-36dd50872484"
   },
   "outputs": [],
   "source": [
    "plt.figure(figsize=(6, 4))\n",
    "plt.plot(history.history['accuracy'], 'r', label='Accuracy of training data')\n",
    "plt.plot(history.history['val_accuracy'], 'b', label='Accuracy of validation data')\n",
    "plt.plot(history.history['loss'], 'r--', label='Loss of training data')\n",
    "plt.plot(history.history['val_loss'], 'b--', label='Loss of validation data')\n",
    "plt.title('Model Accuracy and Loss')\n",
    "plt.ylabel('Accuracy and Loss')\n",
    "plt.xlabel('Training Epoch')\n",
    "plt.ylim(0)\n",
    "plt.legend()\n",
    "plt.show()\n",
    "\n",
    "# Print confusion matrix for training data\n",
    "\n",
    "\n"
   ]
  },
  {
   "cell_type": "code",
   "execution_count": null,
   "metadata": {
    "colab": {
     "base_uri": "https://localhost:8080/",
     "height": 599
    },
    "id": "V-_ufhHzphlW",
    "outputId": "61a90681-2ea8-43b0-e0e7-6ff3918ffde0"
   },
   "outputs": [],
   "source": [
    "predictions = model.predict(X_test)\n",
    "\n",
    "cm = tf.math.confusion_matrix(labels=tf.argmax(Y_test,1), predictions=tf.argmax(predictions,1))\n",
    "axis_labels = [Activities[i] for i in Activities_subset]\n",
    "figure = plt.figure(figsize=(10, 8))\n",
    "sns.heatmap(cm, annot=True,cmap=plt.cm.Blues,xticklabels=axis_labels, yticklabels=axis_labels, fmt='g')\n",
    "plt.ylim(len(cm)-0, 0)\n",
    "plt.tight_layout()\n",
    "plt.ylabel('True label')\n",
    "plt.xlabel('Predicted label')\n",
    "plt.show()"
   ]
  },
  {
   "cell_type": "code",
   "execution_count": null,
   "metadata": {
    "colab": {
     "base_uri": "https://localhost:8080/",
     "height": 343
    },
    "id": "gUgcDnLgT37w",
    "outputId": "efb44c6f-d446-4f67-96de-39f0cef5164b"
   },
   "outputs": [],
   "source": [
    "pd.DataFrame(classification_report(Y_test.argmax(axis=1), predictions.argmax(axis=1), output_dict=True)).rename(columns=dict(zip([str(i) for i in range(0,7)], list([Activities[Activities_subset[i]] for i in range(0,7)])))).T"
   ]
  },
  {
   "cell_type": "code",
   "execution_count": null,
   "metadata": {
    "colab": {
     "base_uri": "https://localhost:8080/",
     "height": 272
    },
    "id": "FYO6yKaAQOiJ",
    "outputId": "ced2dc95-20f5-4b98-9405-f19624035c35"
   },
   "outputs": [],
   "source": [
    "plot_model(model)"
   ]
  },
  {
   "cell_type": "markdown",
   "metadata": {
    "id": "TPTCTpbhnWFS"
   },
   "source": [
    "## CNN-GRU"
   ]
  },
  {
   "cell_type": "code",
   "execution_count": null,
   "metadata": {
    "colab": {
     "base_uri": "https://localhost:8080/"
    },
    "id": "94mPfE5HnUbk",
    "outputId": "4073f75d-1709-4707-9c07-8499125b788e"
   },
   "outputs": [],
   "source": [
    "model = Sequential()\n",
    "model.add(Conv1D(32, 3, activation='relu', input_shape=input_shape))\n",
    "model.add(MaxPooling1D(pool_size=2))\n",
    "model.add(Dropout(0.5))\n",
    "model.add(TimeDistributed(Flatten()))\n",
    "model.add(GRU(128))\n",
    "model.add(Dense(1024, activation='relu'))\n",
    "model.add(Dense(512, activation='relu'))\n",
    "model.add(Dense(12, activation='softmax'))\n",
    "model.summary()"
   ]
  },
  {
   "cell_type": "code",
   "execution_count": null,
   "metadata": {
    "id": "l1i5tO3qn0F2"
   },
   "outputs": [],
   "source": [
    "\n",
    "model.compile(loss='categorical_crossentropy',\n",
    "                optimizer='adam', metrics=['accuracy'])"
   ]
  },
  {
   "cell_type": "code",
   "execution_count": null,
   "metadata": {
    "colab": {
     "base_uri": "https://localhost:8080/"
    },
    "id": "yAdepZXAn0GF",
    "outputId": "2f7d72d3-841a-4c42-d542-03af78f15c3f"
   },
   "outputs": [],
   "source": [
    "history = model.fit(X_train,\n",
    "                      Y_train,\n",
    "                      batch_size=BATCH_SIZE,\n",
    "                      epochs=EPOCHS,shuffle=True,\n",
    "                      validation_split=0.3,\n",
    "                      verbose=1)"
   ]
  },
  {
   "cell_type": "code",
   "execution_count": null,
   "metadata": {
    "colab": {
     "base_uri": "https://localhost:8080/",
     "height": 295
    },
    "id": "Ln5ePaXRn0GK",
    "outputId": "45bfbd23-b40f-4b94-a575-69f1d1f07a45"
   },
   "outputs": [],
   "source": [
    "plt.figure(figsize=(6, 4))\n",
    "plt.plot(history.history['accuracy'], 'r', label='Accuracy of training data')\n",
    "plt.plot(history.history['val_accuracy'], 'b', label='Accuracy of validation data')\n",
    "plt.plot(history.history['loss'], 'r--', label='Loss of training data')\n",
    "plt.plot(history.history['val_loss'], 'b--', label='Loss of validation data')\n",
    "plt.title('Model Accuracy and Loss')\n",
    "plt.ylabel('Accuracy and Loss')\n",
    "plt.xlabel('Training Epoch')\n",
    "plt.ylim(0)\n",
    "plt.legend()\n",
    "plt.show()\n",
    "\n",
    "# Print confusion matrix for training data\n",
    "\n",
    "\n"
   ]
  },
  {
   "cell_type": "code",
   "execution_count": null,
   "metadata": {
    "colab": {
     "base_uri": "https://localhost:8080/",
     "height": 599
    },
    "id": "5J62-oZln0GM",
    "outputId": "7341f1da-ed33-4d9c-9824-9d2a96664910"
   },
   "outputs": [],
   "source": [
    "predictions = model.predict(X_test)\n",
    "\n",
    "cm = tf.math.confusion_matrix(labels=tf.argmax(Y_test,1), predictions=tf.argmax(predictions,1))\n",
    "axis_labels = [Activities[i] for i in Activities_subset]\n",
    "figure = plt.figure(figsize=(10, 8))\n",
    "sns.heatmap(cm, annot=True,cmap=plt.cm.Blues,xticklabels=axis_labels, yticklabels=axis_labels, fmt='g')\n",
    "plt.ylim(len(cm)-0, 0)\n",
    "plt.tight_layout()\n",
    "plt.ylabel('True label')\n",
    "plt.xlabel('Predicted label')\n",
    "plt.show()"
   ]
  },
  {
   "cell_type": "markdown",
   "metadata": {
    "id": "iln39yqjnH0_"
   },
   "source": []
  },
  {
   "cell_type": "code",
   "execution_count": null,
   "metadata": {
    "colab": {
     "base_uri": "https://localhost:8080/",
     "height": 343
    },
    "id": "0nJXxLZQUdiL",
    "outputId": "7e5df4d5-fe81-48a5-9865-2fc9c7520537"
   },
   "outputs": [],
   "source": [
    "pd.DataFrame(classification_report(Y_test.argmax(axis=1), predictions.argmax(axis=1), output_dict=True)).rename(columns=dict(zip([str(i) for i in range(0,7)], list([Activities[Activities_subset[i]] for i in range(0,7)])))).T"
   ]
  },
  {
   "cell_type": "code",
   "execution_count": null,
   "metadata": {
    "colab": {
     "base_uri": "https://localhost:8080/",
     "height": 856
    },
    "id": "gKX7LM0ylINd",
    "outputId": "3e377d2a-f073-438b-e8b3-913ce26a0972"
   },
   "outputs": [],
   "source": [
    "plot_model(model)"
   ]
  },
  {
   "cell_type": "markdown",
   "metadata": {
    "id": "2Jls83dwokSq"
   },
   "source": [
    "## GRU-CNN"
   ]
  },
  {
   "cell_type": "code",
   "execution_count": null,
   "metadata": {
    "colab": {
     "base_uri": "https://localhost:8080/"
    },
    "id": "jkyQsQn9okTt",
    "outputId": "d9c0a4f1-f639-4d44-8a96-b6d78e483180"
   },
   "outputs": [],
   "source": [
    "model = Sequential()\n",
    "model.add(GRU(128, input_shape=input_shape))\n",
    "\n",
    "model.add(Reshape((-1,1)))\n",
    "model.add(Conv1D(32, 3, activation='relu'))\n",
    "\n",
    "model.add(MaxPooling1D(pool_size=2))\n",
    "model.add(Dropout(0.5))\n",
    "model.add(Flatten())\n",
    "\n",
    "model.add(Dense(1024, activation='relu'))\n",
    "model.add(Dense(512, activation='relu'))\n",
    "model.add(Dense(12, activation='softmax'))\n",
    "model.summary()"
   ]
  },
  {
   "cell_type": "code",
   "execution_count": null,
   "metadata": {
    "id": "Ucw1EufnokTy"
   },
   "outputs": [],
   "source": [
    "\n",
    "model.compile(loss='categorical_crossentropy',\n",
    "                optimizer='adam', metrics=['accuracy'])"
   ]
  },
  {
   "cell_type": "code",
   "execution_count": null,
   "metadata": {
    "colab": {
     "base_uri": "https://localhost:8080/"
    },
    "id": "Tp8k1WavokT0",
    "outputId": "9091b52e-d23b-423b-b4ea-5747ba128acf"
   },
   "outputs": [],
   "source": [
    "history = model.fit(X_train,\n",
    "                      Y_train,\n",
    "                      batch_size=BATCH_SIZE,\n",
    "                      epochs=EPOCHS,shuffle=True,\n",
    "                      validation_split=0.3,\n",
    "                      verbose=1)"
   ]
  },
  {
   "cell_type": "code",
   "execution_count": null,
   "metadata": {
    "colab": {
     "base_uri": "https://localhost:8080/",
     "height": 295
    },
    "id": "QaEBkUS_okT1",
    "outputId": "52bb28e5-9e12-42e3-8931-bf34c8e1921a"
   },
   "outputs": [],
   "source": [
    "plt.figure(figsize=(6, 4))\n",
    "plt.plot(history.history['accuracy'], 'r', label='Accuracy of training data')\n",
    "plt.plot(history.history['val_accuracy'], 'b', label='Accuracy of validation data')\n",
    "plt.plot(history.history['loss'], 'r--', label='Loss of training data')\n",
    "plt.plot(history.history['val_loss'], 'b--', label='Loss of validation data')\n",
    "plt.title('Model Accuracy and Loss')\n",
    "plt.ylabel('Accuracy and Loss')\n",
    "plt.xlabel('Training Epoch')\n",
    "plt.ylim(0)\n",
    "plt.legend()\n",
    "plt.show()\n",
    "\n",
    "# Print confusion matrix for training data\n",
    "\n",
    "\n"
   ]
  },
  {
   "cell_type": "code",
   "execution_count": null,
   "metadata": {
    "colab": {
     "base_uri": "https://localhost:8080/",
     "height": 599
    },
    "id": "N5bCr84WokT3",
    "outputId": "fb35ddeb-7550-4ef5-d54f-40eb7f811672"
   },
   "outputs": [],
   "source": [
    "predictions = model.predict(X_test)\n",
    "\n",
    "cm = tf.math.confusion_matrix(labels=tf.argmax(Y_test,1), predictions=tf.argmax(predictions,1))\n",
    "axis_labels = [Activities[i] for i in Activities_subset]\n",
    "figure = plt.figure(figsize=(10, 8))\n",
    "sns.heatmap(cm, annot=True,cmap=plt.cm.Blues,xticklabels=axis_labels, yticklabels=axis_labels, fmt='g')\n",
    "plt.ylim(len(cm)-0, 0)\n",
    "plt.tight_layout()\n",
    "plt.ylabel('True label')\n",
    "plt.xlabel('Predicted label')\n",
    "plt.show()"
   ]
  },
  {
   "cell_type": "code",
   "execution_count": null,
   "metadata": {
    "colab": {
     "base_uri": "https://localhost:8080/",
     "height": 343
    },
    "id": "kjxBUNEWU7ae",
    "outputId": "3d36c4ce-983b-4815-8fe8-b0f29b2eb786"
   },
   "outputs": [],
   "source": [
    "pd.DataFrame(classification_report(Y_test.argmax(axis=1), predictions.argmax(axis=1), output_dict=True)).rename(columns=dict(zip([str(i) for i in range(0,7)], list([Activities[Activities_subset[i]] for i in range(0,7)])))).T"
   ]
  },
  {
   "cell_type": "code",
   "execution_count": null,
   "metadata": {
    "colab": {
     "base_uri": "https://localhost:8080/",
     "height": 953
    },
    "id": "uLVW-F8NAdkl",
    "outputId": "bd5d1cb0-ca0c-4d64-c8a5-843f34d72976"
   },
   "outputs": [],
   "source": [
    "plot_model(model)"
   ]
  },
  {
   "cell_type": "markdown",
   "metadata": {
    "id": "q7J12EbBokT5"
   },
   "source": []
  },
  {
   "cell_type": "markdown",
   "metadata": {
    "id": "gGW4IEdTs5yM"
   },
   "source": [
    "## GRU"
   ]
  },
  {
   "cell_type": "code",
   "execution_count": null,
   "metadata": {
    "colab": {
     "base_uri": "https://localhost:8080/"
    },
    "id": "9QTTRSPzs5zJ",
    "outputId": "b10b642a-ff0a-4432-bcf6-ecb183daca06"
   },
   "outputs": [],
   "source": [
    "model = Sequential()\n",
    "model.add(GRU(128, input_shape=input_shape))\n",
    "model.add(Dense(12, activation='softmax'))\n",
    "model.summary()"
   ]
  },
  {
   "cell_type": "code",
   "execution_count": null,
   "metadata": {
    "id": "lv3T02Vcs5zO"
   },
   "outputs": [],
   "source": [
    "\n",
    "model.compile(loss='categorical_crossentropy',\n",
    "                optimizer='adam', metrics=['accuracy'])"
   ]
  },
  {
   "cell_type": "code",
   "execution_count": null,
   "metadata": {
    "colab": {
     "base_uri": "https://localhost:8080/"
    },
    "id": "GOgN3oK2s5zP",
    "outputId": "a2d8d709-6eee-4f75-f626-0ad222a5ff44"
   },
   "outputs": [],
   "source": [
    "history = model.fit(X_train,\n",
    "                      Y_train,\n",
    "                      batch_size=BATCH_SIZE,\n",
    "                      epochs=EPOCHS,shuffle=True,\n",
    "                      validation_split=0.3,\n",
    "                      verbose=1)"
   ]
  },
  {
   "cell_type": "code",
   "execution_count": null,
   "metadata": {
    "colab": {
     "base_uri": "https://localhost:8080/",
     "height": 295
    },
    "id": "C9TjrRhqs5zQ",
    "outputId": "def66195-eabd-4f5c-f929-b071baedee04"
   },
   "outputs": [],
   "source": [
    "plt.figure(figsize=(6, 4))\n",
    "plt.plot(history.history['accuracy'], 'r', label='Accuracy of training data')\n",
    "plt.plot(history.history['val_accuracy'], 'b', label='Accuracy of validation data')\n",
    "plt.plot(history.history['loss'], 'r--', label='Loss of training data')\n",
    "plt.plot(history.history['val_loss'], 'b--', label='Loss of validation data')\n",
    "plt.title('Model Accuracy and Loss')\n",
    "plt.ylabel('Accuracy and Loss')\n",
    "plt.xlabel('Training Epoch')\n",
    "plt.ylim(0)\n",
    "plt.legend()\n",
    "plt.show()\n",
    "\n",
    "# Print confusion matrix for training data\n",
    "\n",
    "\n"
   ]
  },
  {
   "cell_type": "code",
   "execution_count": null,
   "metadata": {
    "colab": {
     "base_uri": "https://localhost:8080/",
     "height": 599
    },
    "id": "pJe9aqmas5zS",
    "outputId": "9f6bc26c-dc89-4128-dea1-dda07c592033"
   },
   "outputs": [],
   "source": [
    "predictions = model.predict(X_test)\n",
    "\n",
    "cm = tf.math.confusion_matrix(labels=tf.argmax(Y_test,1), predictions=tf.argmax(predictions,1))\n",
    "axis_labels = [Activities[i] for i in Activities_subset]\n",
    "figure = plt.figure(figsize=(10, 8))\n",
    "sns.heatmap(cm, annot=True,cmap=plt.cm.Blues,xticklabels=axis_labels, yticklabels=axis_labels, fmt='g')\n",
    "plt.ylim(len(cm)-0, 0)\n",
    "plt.tight_layout()\n",
    "plt.ylabel('True label')\n",
    "plt.xlabel('Predicted label')\n",
    "plt.show()"
   ]
  },
  {
   "cell_type": "code",
   "execution_count": null,
   "metadata": {
    "colab": {
     "base_uri": "https://localhost:8080/",
     "height": 343
    },
    "id": "_Onf23YrVIgS",
    "outputId": "4d1755f7-0d14-4865-e7cf-8dee4ff3c929"
   },
   "outputs": [],
   "source": [
    "pd.DataFrame(classification_report(Y_test.argmax(axis=1), predictions.argmax(axis=1), output_dict=True)).rename(columns=dict(zip([str(i) for i in range(0,7)], list([Activities[Activities_subset[i]] for i in range(0,7)])))).T"
   ]
  },
  {
   "cell_type": "code",
   "execution_count": null,
   "metadata": {
    "colab": {
     "base_uri": "https://localhost:8080/",
     "height": 272
    },
    "id": "BrfeZsJKAhk0",
    "outputId": "a77e9817-2ac3-4e45-f3ca-0467a6001c56"
   },
   "outputs": [],
   "source": [
    "plot_model(model) "
   ]
  },
  {
   "cell_type": "code",
   "execution_count": null,
   "metadata": {
    "id": "G_u2DBzH2gDi"
   },
   "outputs": [],
   "source": []
  }
 ],
 "metadata": {
  "colab": {
   "collapsed_sections": [],
   "name": "004_Human_Activity_Recognition.ipynb",
   "provenance": []
  },
  "kernelspec": {
   "display_name": "Python 3 (ipykernel)",
   "language": "python",
   "name": "python3"
  },
  "language_info": {
   "codemirror_mode": {
    "name": "ipython",
    "version": 3
   },
   "file_extension": ".py",
   "mimetype": "text/x-python",
   "name": "python",
   "nbconvert_exporter": "python",
   "pygments_lexer": "ipython3",
   "version": "3.10.5"
  }
 },
 "nbformat": 4,
 "nbformat_minor": 1
}
