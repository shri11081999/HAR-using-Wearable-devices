{
 "cells": [
  {
   "cell_type": "code",
   "execution_count": 1,
   "id": "4b294a42",
   "metadata": {},
   "outputs": [],
   "source": [
    "import numpy as np\n",
    "import pandas as pd\n",
    "import matplotlib.pyplot as plt\n",
    "import seaborn as sns\n",
    "import sklearn"
   ]
  },
  {
   "cell_type": "code",
   "execution_count": 2,
   "id": "e9069cdb",
   "metadata": {},
   "outputs": [
    {
     "name": "stdout",
     "output_type": "stream",
     "text": [
      "No of Features: 561\n"
     ]
    }
   ],
   "source": [
    "# get feature names from the file features.txt\n",
    "features = list()\n",
    "with open('C:/Users/dixit/Desktop/uci-har dataset/UCI HAR Dataset/features.txt') as f:\n",
    "    features = [line.split()[1] for line in f.readlines()]\n",
    "\n",
    "print('No of Features: {}'.format(len(features)))"
   ]
  },
  {
   "cell_type": "code",
   "execution_count": 3,
   "id": "fb0b5c74",
   "metadata": {},
   "outputs": [
    {
     "data": {
      "text/plain": [
       "561"
      ]
     },
     "execution_count": 3,
     "metadata": {},
     "output_type": "execute_result"
    }
   ],
   "source": [
    "seen = set()\n",
    "uniq_features = []\n",
    "for idx, x in enumerate(features):\n",
    "    if x not in seen:\n",
    "        uniq_features.append(x)\n",
    "        seen.add(x)\n",
    "    elif x + 'n' not in seen:\n",
    "        uniq_features.append(x + 'n')\n",
    "        seen.add(x + 'n')\n",
    "    else:\n",
    "        uniq_features.append(x + 'nn')\n",
    "        seen.add(x + 'nn')\n",
    "len(uniq_features)"
   ]
  },
  {
   "cell_type": "code",
   "execution_count": 4,
   "id": "6cd3d76a",
   "metadata": {},
   "outputs": [
    {
     "data": {
      "text/html": [
       "<div>\n",
       "<style scoped>\n",
       "    .dataframe tbody tr th:only-of-type {\n",
       "        vertical-align: middle;\n",
       "    }\n",
       "\n",
       "    .dataframe tbody tr th {\n",
       "        vertical-align: top;\n",
       "    }\n",
       "\n",
       "    .dataframe thead th {\n",
       "        text-align: right;\n",
       "    }\n",
       "</style>\n",
       "<table border=\"1\" class=\"dataframe\">\n",
       "  <thead>\n",
       "    <tr style=\"text-align: right;\">\n",
       "      <th></th>\n",
       "      <th>tBodyAcc-mean()-X</th>\n",
       "      <th>tBodyAcc-mean()-Y</th>\n",
       "      <th>tBodyAcc-mean()-Z</th>\n",
       "      <th>tBodyAcc-std()-X</th>\n",
       "      <th>tBodyAcc-std()-Y</th>\n",
       "      <th>tBodyAcc-std()-Z</th>\n",
       "      <th>tBodyAcc-mad()-X</th>\n",
       "      <th>tBodyAcc-mad()-Y</th>\n",
       "      <th>tBodyAcc-mad()-Z</th>\n",
       "      <th>tBodyAcc-max()-X</th>\n",
       "      <th>...</th>\n",
       "      <th>angle(tBodyAccMean,gravity)</th>\n",
       "      <th>angle(tBodyAccJerkMean),gravityMean)</th>\n",
       "      <th>angle(tBodyGyroMean,gravityMean)</th>\n",
       "      <th>angle(tBodyGyroJerkMean,gravityMean)</th>\n",
       "      <th>angle(X,gravityMean)</th>\n",
       "      <th>angle(Y,gravityMean)</th>\n",
       "      <th>angle(Z,gravityMean)</th>\n",
       "      <th>subject</th>\n",
       "      <th>Activity</th>\n",
       "      <th>ActivityName</th>\n",
       "    </tr>\n",
       "  </thead>\n",
       "  <tbody>\n",
       "    <tr>\n",
       "      <th>1065</th>\n",
       "      <td>0.238014</td>\n",
       "      <td>-0.014977</td>\n",
       "      <td>-0.141273</td>\n",
       "      <td>-0.973841</td>\n",
       "      <td>-0.947967</td>\n",
       "      <td>-0.963597</td>\n",
       "      <td>-0.974949</td>\n",
       "      <td>-0.95275</td>\n",
       "      <td>-0.961935</td>\n",
       "      <td>-0.932341</td>\n",
       "      <td>...</td>\n",
       "      <td>-0.038972</td>\n",
       "      <td>0.281697</td>\n",
       "      <td>0.237834</td>\n",
       "      <td>0.225029</td>\n",
       "      <td>0.590173</td>\n",
       "      <td>-0.995073</td>\n",
       "      <td>0.007597</td>\n",
       "      <td>6</td>\n",
       "      <td>6</td>\n",
       "      <td>LAYING</td>\n",
       "    </tr>\n",
       "  </tbody>\n",
       "</table>\n",
       "<p>1 rows × 564 columns</p>\n",
       "</div>"
      ],
      "text/plain": [
       "      tBodyAcc-mean()-X  tBodyAcc-mean()-Y  tBodyAcc-mean()-Z  \\\n",
       "1065           0.238014          -0.014977          -0.141273   \n",
       "\n",
       "      tBodyAcc-std()-X  tBodyAcc-std()-Y  tBodyAcc-std()-Z  tBodyAcc-mad()-X  \\\n",
       "1065         -0.973841         -0.947967         -0.963597         -0.974949   \n",
       "\n",
       "      tBodyAcc-mad()-Y  tBodyAcc-mad()-Z  tBodyAcc-max()-X  ...  \\\n",
       "1065          -0.95275         -0.961935         -0.932341  ...   \n",
       "\n",
       "      angle(tBodyAccMean,gravity)  angle(tBodyAccJerkMean),gravityMean)  \\\n",
       "1065                    -0.038972                              0.281697   \n",
       "\n",
       "      angle(tBodyGyroMean,gravityMean)  angle(tBodyGyroJerkMean,gravityMean)  \\\n",
       "1065                          0.237834                              0.225029   \n",
       "\n",
       "      angle(X,gravityMean)  angle(Y,gravityMean)  angle(Z,gravityMean)  \\\n",
       "1065              0.590173             -0.995073              0.007597   \n",
       "\n",
       "      subject  Activity  ActivityName  \n",
       "1065        6         6        LAYING  \n",
       "\n",
       "[1 rows x 564 columns]"
      ]
     },
     "execution_count": 4,
     "metadata": {},
     "output_type": "execute_result"
    }
   ],
   "source": [
    "# get the data from txt files to pandas dataffame\n",
    "X_train = pd.read_csv('C:/Users/dixit/Desktop/uci-har dataset/UCI HAR Dataset/train/X_train.txt', delim_whitespace=True, header=None, names=uniq_features)\n",
    "\n",
    "# # add subject column to the dataframe\n",
    "X_train['subject'] = pd.read_csv('C:/Users/dixit/Desktop/uci-har dataset/UCI HAR Dataset/train/subject_train.txt', header=None, squeeze=True)\n",
    "\n",
    "y_train = pd.read_csv('C:/Users/dixit/Desktop/uci-har dataset/UCI HAR Dataset/train/y_train.txt', names=['Activity'], squeeze=True)\n",
    "y_train_labels = y_train.map({1: 'WALKING', 2:'WALKING_UPSTAIRS',3:'WALKING_DOWNSTAIRS',\\\n",
    "                       4:'SITTING', 5:'STANDING',6:'LAYING'})\n",
    "\n",
    "# # put all columns in a single dataframe\n",
    "train = X_train\n",
    "train['Activity'] = y_train\n",
    "train['ActivityName'] = y_train_labels\n",
    "train.sample()"
   ]
  },
  {
   "cell_type": "code",
   "execution_count": 8,
   "id": "c550ed73",
   "metadata": {},
   "outputs": [
    {
     "data": {
      "text/plain": [
       "(7352, 564)"
      ]
     },
     "execution_count": 8,
     "metadata": {},
     "output_type": "execute_result"
    }
   ],
   "source": [
    "train.shape"
   ]
  },
  {
   "cell_type": "code",
   "execution_count": 9,
   "id": "0fb8c744",
   "metadata": {
    "scrolled": true
   },
   "outputs": [
    {
     "data": {
      "text/html": [
       "<div>\n",
       "<style scoped>\n",
       "    .dataframe tbody tr th:only-of-type {\n",
       "        vertical-align: middle;\n",
       "    }\n",
       "\n",
       "    .dataframe tbody tr th {\n",
       "        vertical-align: top;\n",
       "    }\n",
       "\n",
       "    .dataframe thead th {\n",
       "        text-align: right;\n",
       "    }\n",
       "</style>\n",
       "<table border=\"1\" class=\"dataframe\">\n",
       "  <thead>\n",
       "    <tr style=\"text-align: right;\">\n",
       "      <th></th>\n",
       "      <th>tBodyAcc-mean()-X</th>\n",
       "      <th>tBodyAcc-mean()-Y</th>\n",
       "      <th>tBodyAcc-mean()-Z</th>\n",
       "      <th>tBodyAcc-std()-X</th>\n",
       "      <th>tBodyAcc-std()-Y</th>\n",
       "      <th>tBodyAcc-std()-Z</th>\n",
       "      <th>tBodyAcc-mad()-X</th>\n",
       "      <th>tBodyAcc-mad()-Y</th>\n",
       "      <th>tBodyAcc-mad()-Z</th>\n",
       "      <th>tBodyAcc-max()-X</th>\n",
       "      <th>...</th>\n",
       "      <th>angle(tBodyAccMean,gravity)</th>\n",
       "      <th>angle(tBodyAccJerkMean),gravityMean)</th>\n",
       "      <th>angle(tBodyGyroMean,gravityMean)</th>\n",
       "      <th>angle(tBodyGyroJerkMean,gravityMean)</th>\n",
       "      <th>angle(X,gravityMean)</th>\n",
       "      <th>angle(Y,gravityMean)</th>\n",
       "      <th>angle(Z,gravityMean)</th>\n",
       "      <th>subject</th>\n",
       "      <th>Activity</th>\n",
       "      <th>ActivityName</th>\n",
       "    </tr>\n",
       "  </thead>\n",
       "  <tbody>\n",
       "    <tr>\n",
       "      <th>2035</th>\n",
       "      <td>0.217992</td>\n",
       "      <td>0.010592</td>\n",
       "      <td>-0.137842</td>\n",
       "      <td>-0.315713</td>\n",
       "      <td>-0.295836</td>\n",
       "      <td>-0.391197</td>\n",
       "      <td>-0.402918</td>\n",
       "      <td>-0.292246</td>\n",
       "      <td>-0.396037</td>\n",
       "      <td>0.010986</td>\n",
       "      <td>...</td>\n",
       "      <td>0.578022</td>\n",
       "      <td>0.796307</td>\n",
       "      <td>0.95982</td>\n",
       "      <td>-0.750651</td>\n",
       "      <td>-0.698723</td>\n",
       "      <td>0.298415</td>\n",
       "      <td>-0.039768</td>\n",
       "      <td>18</td>\n",
       "      <td>2</td>\n",
       "      <td>WALKING_UPSTAIRS</td>\n",
       "    </tr>\n",
       "  </tbody>\n",
       "</table>\n",
       "<p>1 rows × 564 columns</p>\n",
       "</div>"
      ],
      "text/plain": [
       "      tBodyAcc-mean()-X  tBodyAcc-mean()-Y  tBodyAcc-mean()-Z  \\\n",
       "2035           0.217992           0.010592          -0.137842   \n",
       "\n",
       "      tBodyAcc-std()-X  tBodyAcc-std()-Y  tBodyAcc-std()-Z  tBodyAcc-mad()-X  \\\n",
       "2035         -0.315713         -0.295836         -0.391197         -0.402918   \n",
       "\n",
       "      tBodyAcc-mad()-Y  tBodyAcc-mad()-Z  tBodyAcc-max()-X  ...  \\\n",
       "2035         -0.292246         -0.396037          0.010986  ...   \n",
       "\n",
       "      angle(tBodyAccMean,gravity)  angle(tBodyAccJerkMean),gravityMean)  \\\n",
       "2035                     0.578022                              0.796307   \n",
       "\n",
       "      angle(tBodyGyroMean,gravityMean)  angle(tBodyGyroJerkMean,gravityMean)  \\\n",
       "2035                           0.95982                             -0.750651   \n",
       "\n",
       "      angle(X,gravityMean)  angle(Y,gravityMean)  angle(Z,gravityMean)  \\\n",
       "2035             -0.698723              0.298415             -0.039768   \n",
       "\n",
       "      subject  Activity      ActivityName  \n",
       "2035       18         2  WALKING_UPSTAIRS  \n",
       "\n",
       "[1 rows x 564 columns]"
      ]
     },
     "execution_count": 9,
     "metadata": {},
     "output_type": "execute_result"
    }
   ],
   "source": [
    "# get the data from txt files to pandas dataffame\n",
    "X_test = pd.read_csv('C:/Users/dixit/Desktop/uci-har dataset/UCI HAR Dataset/test/X_test.txt', delim_whitespace=True, header=None, names=uniq_features)\n",
    "\n",
    "# add subject column to the dataframe\n",
    "X_test['subject'] = pd.read_csv('C:/Users/dixit/Desktop/uci-har dataset/UCI HAR Dataset/test/subject_test.txt', header=None, squeeze=True)\n",
    "\n",
    "# get y labels from the txt file\n",
    "y_test = pd.read_csv('C:/Users/dixit/Desktop/uci-har dataset/UCI HAR Dataset/test/y_test.txt', names=['Activity'], squeeze=True)\n",
    "y_test_labels = y_test.map({1: 'WALKING', 2:'WALKING_UPSTAIRS',3:'WALKING_DOWNSTAIRS',\\\n",
    "                       4:'SITTING', 5:'STANDING',6:'LAYING'})\n",
    "\n",
    "\n",
    "# put all columns in a single dataframe\n",
    "test = X_test\n",
    "test['Activity'] = y_test\n",
    "test['ActivityName'] = y_test_labels\n",
    "test.sample()"
   ]
  },
  {
   "cell_type": "code",
   "execution_count": 10,
   "id": "2ccdb33d",
   "metadata": {},
   "outputs": [
    {
     "data": {
      "text/plain": [
       "(2947, 564)"
      ]
     },
     "execution_count": 10,
     "metadata": {},
     "output_type": "execute_result"
    }
   ],
   "source": [
    "test.shape"
   ]
  },
  {
   "cell_type": "code",
   "execution_count": 11,
   "id": "e1ff677b",
   "metadata": {},
   "outputs": [
    {
     "name": "stdout",
     "output_type": "stream",
     "text": [
      "No of duplicates in train: 0\n",
      "No of duplicates in test : 0\n"
     ]
    }
   ],
   "source": [
    "print('No of duplicates in train: {}'.format(sum(train.duplicated())))\n",
    "print('No of duplicates in test : {}'.format(sum(test.duplicated())))"
   ]
  },
  {
   "cell_type": "code",
   "execution_count": 12,
   "id": "f7eb69a1",
   "metadata": {},
   "outputs": [
    {
     "name": "stdout",
     "output_type": "stream",
     "text": [
      "We have 0 NaN/Null values in train\n",
      "We have 0 NaN/Null values in test\n"
     ]
    }
   ],
   "source": [
    "print('We have {} NaN/Null values in train'.format(train.isnull().values.sum()))\n",
    "print('We have {} NaN/Null values in test'.format(test.isnull().values.sum()))"
   ]
  },
  {
   "cell_type": "code",
   "execution_count": 13,
   "id": "8f06a495",
   "metadata": {},
   "outputs": [],
   "source": [
    "sns.set_style('whitegrid')\n",
    "plt.rcParams['font.family'] = 'Dejavu Sans'"
   ]
  },
  {
   "cell_type": "code",
   "execution_count": 14,
   "id": "8720b3a5",
   "metadata": {},
   "outputs": [
    {
     "data": {
      "image/png": "[encoded data removed]",
      "text/plain": [
       "<Figure size 1600x800 with 1 Axes>"
      ]
     },
     "metadata": {},
     "output_type": "display_data"
    }
   ],
   "source": [
    "plt.figure(figsize=(16,8))\n",
    "plt.title('Data provided by each user', fontsize=20)\n",
    "sns.countplot(x='subject',hue='ActivityName', data = train)\n",
    "plt.show()"
   ]
  },
  {
   "cell_type": "code",
   "execution_count": 16,
   "id": "605573d4",
   "metadata": {},
   "outputs": [
    {
     "name": "stderr",
     "output_type": "stream",
     "text": [
      "C:\\Users\\dixit\\AppData\\Local\\Temp\\ipykernel_39220\\71913079.py:4: FutureWarning: The default value of regex will change from True to False in a future version.\n",
      "  columns = columns.str.replace('[()]','')\n",
      "C:\\Users\\dixit\\AppData\\Local\\Temp\\ipykernel_39220\\71913079.py:5: FutureWarning: The default value of regex will change from True to False in a future version.\n",
      "  columns = columns.str.replace('[-]', '')\n",
      "C:\\Users\\dixit\\AppData\\Local\\Temp\\ipykernel_39220\\71913079.py:6: FutureWarning: The default value of regex will change from True to False in a future version.\n",
      "  columns = columns.str.replace('[,]','')\n"
     ]
    },
    {
     "data": {
      "text/plain": [
       "Index(['tBodyAccmeanX', 'tBodyAccmeanY', 'tBodyAccmeanZ', 'tBodyAccstdX',\n",
       "       'tBodyAccstdY', 'tBodyAccstdZ', 'tBodyAccmadX', 'tBodyAccmadY',\n",
       "       'tBodyAccmadZ', 'tBodyAccmaxX',\n",
       "       ...\n",
       "       'angletBodyAccMeangravity', 'angletBodyAccJerkMeangravityMean',\n",
       "       'angletBodyGyroMeangravityMean', 'angletBodyGyroJerkMeangravityMean',\n",
       "       'angleXgravityMean', 'angleYgravityMean', 'angleZgravityMean',\n",
       "       'subject', 'Activity', 'ActivityName'],\n",
       "      dtype='object', length=564)"
      ]
     },
     "execution_count": 16,
     "metadata": {},
     "output_type": "execute_result"
    }
   ],
   "source": [
    "columns = train.columns\n",
    "\n",
    "# Removing '()' from column names\n",
    "columns = columns.str.replace('[()]','')\n",
    "columns = columns.str.replace('[-]', '')\n",
    "columns = columns.str.replace('[,]','')\n",
    "\n",
    "train.columns = columns\n",
    "test.columns = columns\n",
    "\n",
    "test.columns"
   ]
  },
  {
   "cell_type": "code",
   "execution_count": 17,
   "id": "eaac5729",
   "metadata": {},
   "outputs": [],
   "source": [
    "train.to_csv('C:/Users/dixit/Desktop/uci-har dataset/UCI HAR Dataset/data/train.csv', index=False)\n",
    "test.to_csv('C:/Users/dixit/Desktop/uci-har dataset/UCI HAR Dataset/data/test.csv', index=False)"
   ]
  },
  {
   "cell_type": "code",
   "execution_count": 18,
   "id": "a5ec79eb",
   "metadata": {},
   "outputs": [],
   "source": [
    "import os\n",
    "import pickle\n",
    "import numpy as np\n",
    "import pandas as pd\n",
    "import matplotlib.pyplot as plt"
   ]
  },
  {
   "cell_type": "code",
   "execution_count": 19,
   "id": "abff1ca1",
   "metadata": {},
   "outputs": [],
   "source": [
    "import sklearn\n",
    "from sklearn import metrics"
   ]
  },
  {
   "cell_type": "code",
   "execution_count": 20,
   "id": "20b904cb",
   "metadata": {},
   "outputs": [],
   "source": [
    "# Import different classifiers\n",
    "from sklearn import svm\n",
    "from sklearn.neural_network import MLPClassifier\n",
    "from xgboost import XGBClassifier\n",
    "from sklearn.naive_bayes import GaussianNB\n",
    "from sklearn.neighbors import KNeighborsClassifier\n",
    "from sklearn.ensemble import BaggingClassifier, RandomForestClassifier, AdaBoostClassifier"
   ]
  },
  {
   "cell_type": "code",
   "execution_count": 21,
   "id": "9c659019",
   "metadata": {},
   "outputs": [],
   "source": [
    "def read_data(file):\n",
    "    data = pd.read_csv(file)\n",
    "    \n",
    "    # suffle data\n",
    "    data = sklearn.utils.shuffle(data)\n",
    "    \n",
    "    X_data = data.drop(['subject', 'Activity', 'ActivityName'], axis=1)\n",
    "    y_data = data.ActivityName\n",
    "    \n",
    "    return np.array(X_data), np.array(y_data)"
   ]
  },
  {
   "cell_type": "code",
   "execution_count": 22,
   "id": "38181b67",
   "metadata": {},
   "outputs": [],
   "source": [
    "def train_model(train_x, train_y, model_name='NB', validation=None):\n",
    "    \"\"\"\n",
    "    Possible model names: ['NB', 'SVM', 'XGB', 'MLP', 'ADA', 'BAG', 'RF']\n",
    "    default = 'NB'\n",
    "    \n",
    "    validation: (val_x, val_y) tupple for validation accuracy score.\n",
    "    \n",
    "    return: trained model\n",
    "    \"\"\"\n",
    "    model = None\n",
    "    if model_name == 'SVM':\n",
    "        model = svm.SVC(gamma='scale', probability=True)\n",
    "    elif model_name == 'XGB':\n",
    "        model = XGBClassifier(n_estimators=200, max_depth=5, n_jobs=2)\n",
    "#         model = XGBClassifier()\n",
    "    elif model_name == 'MLP':\n",
    "        model = MLPClassifier(hidden_layer_sizes=(100,100,100), max_iter=800, alpha=0.0001,\n",
    "                     solver='sgd', verbose=10, tol=0.000000001)\n",
    "    elif model_name == 'ADA':\n",
    "        model = AdaBoostClassifier(n_estimators=50)\n",
    "    elif model_name == 'BAG':\n",
    "        model = BaggingClassifier(n_jobs=2, n_estimators=50)\n",
    "    elif model_name == 'RF':\n",
    "        model = RandomForestClassifier(n_estimators=200, max_depth=10)\n",
    "    elif model_name == 'KNN':\n",
    "        model = KNeighborsClassifier(n_neighbors=5, weights='distance', algorithm='auto', leaf_size=30, p=2, metric='minkowski', metric_params=None, n_jobs=None)\n",
    "    else:\n",
    "        model = GaussianNB()\n",
    "    \n",
    "    model.fit(train_x, train_y)\n",
    "    \n",
    "    if validation is not None:\n",
    "        y_hat = model.predict(validation[0])\n",
    "        acc = metrics.accuracy_score(validation[1], y_hat)\n",
    "        print(f\"Validation Accuracy in '{model_name}' = {acc}\")\n",
    "        cm = metrics.confusion_matrix(validation[1], y_hat)\n",
    "        print(cm)\n",
    "        recall = cm[0][0] / (cm[0][0] + cm[0][1])\n",
    "        precision = cm[0][0] / (cm[0][0] + cm[1][0])\n",
    "        f1 = 2*(precision*recall)/(precision+recall)\n",
    "        print(f\"Recall in '{model_name}' = {recall}\")\n",
    "        print(f\"Precision in '{model_name}' = {precision}\")\n",
    "        print(f\"F1 Score in '{model_name}' = {f1}\")\n",
    "               \n",
    "    return model"
   ]
  },
  {
   "cell_type": "code",
   "execution_count": 23,
   "id": "93b90729",
   "metadata": {},
   "outputs": [],
   "source": [
    "train_X, train_y = read_data('C:/Users/dixit/Desktop/uci-har dataset/UCI HAR Dataset/data/train.csv')\n",
    "test_X, test_y = read_data('C:/Users/dixit/Desktop/uci-har dataset/UCI HAR Dataset/data/test.csv')"
   ]
  },
  {
   "cell_type": "code",
   "execution_count": 24,
   "id": "381bfe0e",
   "metadata": {},
   "outputs": [
    {
     "name": "stdout",
     "output_type": "stream",
     "text": [
      "Train  :  (7352, 561) (7352,)\n",
      "Test   :  (2947, 561) (2947,)\n"
     ]
    }
   ],
   "source": [
    "print(\"Train  : \", train_X.shape, train_y.shape)\n",
    "print(\"Test   : \", test_X.shape, test_y.shape)"
   ]
  },
  {
   "cell_type": "code",
   "execution_count": 25,
   "id": "5c7155b2",
   "metadata": {},
   "outputs": [
    {
     "data": {
      "text/plain": [
       "array(['WALKING', 'WALKING', 'WALKING_UPSTAIRS', ..., 'STANDING',\n",
       "       'WALKING_UPSTAIRS', 'LAYING'], dtype=object)"
      ]
     },
     "execution_count": 25,
     "metadata": {},
     "output_type": "execute_result"
    }
   ],
   "source": [
    "train_y\n"
   ]
  },
  {
   "cell_type": "code",
   "execution_count": 26,
   "id": "9bd6704a",
   "metadata": {},
   "outputs": [
    {
     "name": "stdout",
     "output_type": "stream",
     "text": [
      "Validation Accuracy in 'RF' = 0.9216152019002375\n",
      "[[537   0   0   0   0   0]\n",
      " [  0 428  63   0   0   0]\n",
      " [  0  42 490   0   0   0]\n",
      " [  0   0   0 481  10   5]\n",
      " [  0   0   0  24 350  46]\n",
      " [  0   0   0  34   7 430]]\n",
      "Recall in 'RF' = 1.0\n",
      "Precision in 'RF' = 1.0\n",
      "F1 Score in 'RF' = 1.0\n"
     ]
    }
   ],
   "source": [
    "model1 = train_model(train_X, train_y, model_name='RF', validation=(test_X, test_y))"
   ]
  },
  {
   "cell_type": "code",
   "execution_count": 27,
   "id": "12de1b47",
   "metadata": {},
   "outputs": [
    {
     "name": "stdout",
     "output_type": "stream",
     "text": [
      "Validation Accuracy in 'BAG' = 0.9015948422124194\n",
      "[[537   0   0   0   0   0]\n",
      " [  0 398  93   0   0   0]\n",
      " [  0  56 476   0   0   0]\n",
      " [  0   0   0 479  13   4]\n",
      " [  0   0   0   8 369  43]\n",
      " [  0   0   0  59  14 398]]\n",
      "Recall in 'BAG' = 1.0\n",
      "Precision in 'BAG' = 1.0\n",
      "F1 Score in 'BAG' = 1.0\n"
     ]
    }
   ],
   "source": [
    "model2 = train_model(train_X, train_y, model_name='BAG', validation=(test_X, test_y))"
   ]
  },
  {
   "cell_type": "code",
   "execution_count": 28,
   "id": "029f096e",
   "metadata": {},
   "outputs": [
    {
     "name": "stdout",
     "output_type": "stream",
     "text": [
      "Validation Accuracy in 'ADA' = 0.5310485239226331\n",
      "[[537   0   0   0   0   0]\n",
      " [  0   0 491   0   0   0]\n",
      " [  0   0 532   0   0   0]\n",
      " [  0   0   0 496   0   0]\n",
      " [  0   0   0 420   0   0]\n",
      " [  0   0   0 471   0   0]]\n",
      "Recall in 'ADA' = 1.0\n",
      "Precision in 'ADA' = 1.0\n",
      "F1 Score in 'ADA' = 1.0\n"
     ]
    }
   ],
   "source": [
    "model3 = train_model(train_X, train_y, model_name='ADA', validation=(test_X, test_y))"
   ]
  },
  {
   "cell_type": "code",
   "execution_count": 29,
   "id": "45d36fc9",
   "metadata": {},
   "outputs": [
    {
     "name": "stdout",
     "output_type": "stream",
     "text": [
      "Validation Accuracy in 'NB' = 0.7702748557855447\n",
      "[[323 211   0   0   0   3]\n",
      " [  5 368 111   0   0   7]\n",
      " [  8  54 455   0   0  15]\n",
      " [  0   0   0 416  42  38]\n",
      " [  0   0   0  80 257  83]\n",
      " [  0   0   0   9  11 451]]\n",
      "Recall in 'NB' = 0.6048689138576779\n",
      "Precision in 'NB' = 0.9847560975609756\n",
      "F1 Score in 'NB' = 0.7494199535962879\n"
     ]
    }
   ],
   "source": [
    "model4 = train_model(train_X, train_y, model_name='NB', validation=(test_X, test_y))"
   ]
  },
  {
   "cell_type": "code",
   "execution_count": 30,
   "id": "7330ef48",
   "metadata": {},
   "outputs": [
    {
     "name": "stdout",
     "output_type": "stream",
     "text": [
      "Validation Accuracy in 'SVM' = 0.9504580929759077\n",
      "[[537   0   0   0   0   0]\n",
      " [  0 438  51   0   0   2]\n",
      " [  0  29 503   0   0   0]\n",
      " [  0   0   0 488   3   5]\n",
      " [  0   0   0  10 384  26]\n",
      " [  0   0   0  20   0 451]]\n",
      "Recall in 'SVM' = 1.0\n",
      "Precision in 'SVM' = 1.0\n",
      "F1 Score in 'SVM' = 1.0\n"
     ]
    }
   ],
   "source": [
    "model5 = train_model(train_X, train_y, model_name='SVM', validation=(test_X, test_y))"
   ]
  },
  {
   "cell_type": "code",
   "execution_count": 31,
   "id": "c5199c12",
   "metadata": {},
   "outputs": [
    {
     "name": "stdout",
     "output_type": "stream",
     "text": [
      "Validation Accuracy in 'KNN' = 0.9002375296912114\n",
      "[[534   2   1   0   0   0]\n",
      " [  0 388 100   0   0   3]\n",
      " [  0  37 495   0   0   0]\n",
      " [  0   0   0 484  10   2]\n",
      " [  0   0   0  44 331  45]\n",
      " [  0   0   0  38  12 421]]\n",
      "Recall in 'KNN' = 0.996268656716418\n",
      "Precision in 'KNN' = 1.0\n",
      "F1 Score in 'KNN' = 0.9981308411214954\n"
     ]
    }
   ],
   "source": [
    "model7 = train_model(train_X, train_y, model_name='KNN', validation=(test_X, test_y))"
   ]
  },
  {
   "cell_type": "code",
   "execution_count": 32,
   "id": "11c549d7",
   "metadata": {},
   "outputs": [
    {
     "name": "stdout",
     "output_type": "stream",
     "text": [
      "Iteration 1, loss = 1.77612089\n",
      "Iteration 2, loss = 1.37286240\n",
      "Iteration 3, loss = 1.05855893\n",
      "Iteration 4, loss = 0.86999591\n",
      "Iteration 5, loss = 0.75067321\n",
      "Iteration 6, loss = 0.66361627\n",
      "Iteration 7, loss = 0.59560006\n",
      "Iteration 8, loss = 0.54050885\n",
      "Iteration 9, loss = 0.49387355\n",
      "Iteration 10, loss = 0.45449662\n",
      "Iteration 11, loss = 0.41875751\n",
      "Iteration 12, loss = 0.38723419\n",
      "Iteration 13, loss = 0.36091121\n",
      "Iteration 14, loss = 0.33743402\n",
      "Iteration 15, loss = 0.31692424\n",
      "Iteration 16, loss = 0.29968327\n",
      "Iteration 17, loss = 0.28353752\n",
      "Iteration 18, loss = 0.26770544\n",
      "Iteration 19, loss = 0.25524386\n",
      "Iteration 20, loss = 0.24349389\n",
      "Iteration 21, loss = 0.23236126\n",
      "Iteration 22, loss = 0.22219105\n",
      "Iteration 23, loss = 0.21326762\n",
      "Iteration 24, loss = 0.20298926\n",
      "Iteration 25, loss = 0.19593689\n",
      "Iteration 26, loss = 0.18786295\n",
      "Iteration 27, loss = 0.18023564\n",
      "Iteration 28, loss = 0.17253610\n",
      "Iteration 29, loss = 0.16700024\n",
      "Iteration 30, loss = 0.16037490\n",
      "Iteration 31, loss = 0.15637464\n",
      "Iteration 32, loss = 0.15048002\n",
      "Iteration 33, loss = 0.14485435\n",
      "Iteration 34, loss = 0.14052359\n",
      "Iteration 35, loss = 0.13557298\n",
      "Iteration 36, loss = 0.13100232\n",
      "Iteration 37, loss = 0.12810569\n",
      "Iteration 38, loss = 0.12387914\n",
      "Iteration 39, loss = 0.12040710\n",
      "Iteration 40, loss = 0.11673445\n",
      "Iteration 41, loss = 0.11375381\n",
      "Iteration 42, loss = 0.11043427\n",
      "Iteration 43, loss = 0.10823645\n",
      "Iteration 44, loss = 0.10587388\n",
      "Iteration 45, loss = 0.10267273\n",
      "Iteration 46, loss = 0.10063412\n",
      "Iteration 47, loss = 0.09857843\n",
      "Iteration 48, loss = 0.09563986\n",
      "Iteration 49, loss = 0.09417635\n",
      "Iteration 50, loss = 0.09257707\n",
      "Iteration 51, loss = 0.08986038\n",
      "Iteration 52, loss = 0.08952580\n",
      "Iteration 53, loss = 0.08683341\n",
      "Iteration 54, loss = 0.08508951\n",
      "Iteration 55, loss = 0.08550514\n",
      "Iteration 56, loss = 0.08220007\n",
      "Iteration 57, loss = 0.08082985\n",
      "Iteration 58, loss = 0.07904509\n",
      "Iteration 59, loss = 0.07886658\n",
      "Iteration 60, loss = 0.07668484\n",
      "Iteration 61, loss = 0.07538126\n",
      "Iteration 62, loss = 0.07504733\n",
      "Iteration 63, loss = 0.07481111\n",
      "Iteration 64, loss = 0.07238812\n",
      "Iteration 65, loss = 0.07249346\n",
      "Iteration 66, loss = 0.07190203\n",
      "Iteration 67, loss = 0.06983977\n",
      "Iteration 68, loss = 0.06949890\n",
      "Iteration 69, loss = 0.06753413\n",
      "Iteration 70, loss = 0.06735730\n",
      "Iteration 71, loss = 0.06590085\n",
      "Iteration 72, loss = 0.06541254\n",
      "Iteration 73, loss = 0.06457339\n",
      "Iteration 74, loss = 0.06402987\n",
      "Iteration 75, loss = 0.06297963\n",
      "Iteration 76, loss = 0.06287991\n",
      "Iteration 77, loss = 0.06132906\n",
      "Iteration 78, loss = 0.06158583\n",
      "Iteration 79, loss = 0.06028109\n",
      "Iteration 80, loss = 0.05999231\n",
      "Iteration 81, loss = 0.05938952\n",
      "Iteration 82, loss = 0.06003233\n",
      "Iteration 83, loss = 0.05814392\n",
      "Iteration 84, loss = 0.05660562\n",
      "Iteration 85, loss = 0.05716961\n",
      "Iteration 86, loss = 0.05618786\n",
      "Iteration 87, loss = 0.05606815\n",
      "Iteration 88, loss = 0.05535046\n",
      "Iteration 89, loss = 0.05605392\n",
      "Iteration 90, loss = 0.05387620\n",
      "Iteration 91, loss = 0.05367733\n",
      "Iteration 92, loss = 0.05317945\n",
      "Iteration 93, loss = 0.05264843\n",
      "Iteration 94, loss = 0.05172693\n",
      "Iteration 95, loss = 0.05239065\n",
      "Iteration 96, loss = 0.05070594\n",
      "Iteration 97, loss = 0.05122763\n",
      "Iteration 98, loss = 0.04989345\n",
      "Iteration 99, loss = 0.04951886\n",
      "Iteration 100, loss = 0.05026296\n",
      "Iteration 101, loss = 0.04984075\n",
      "Iteration 102, loss = 0.04922139\n",
      "Iteration 103, loss = 0.04917429\n",
      "Iteration 104, loss = 0.04921444\n",
      "Iteration 105, loss = 0.04736958\n",
      "Iteration 106, loss = 0.04728061\n",
      "Iteration 107, loss = 0.04874414\n",
      "Iteration 108, loss = 0.04819862\n",
      "Iteration 109, loss = 0.04652293\n",
      "Iteration 110, loss = 0.04683301\n",
      "Iteration 111, loss = 0.04601345\n",
      "Iteration 112, loss = 0.04545135\n",
      "Iteration 113, loss = 0.04658974\n",
      "Iteration 114, loss = 0.04511407\n",
      "Iteration 115, loss = 0.04464752\n",
      "Iteration 116, loss = 0.04496573\n",
      "Iteration 117, loss = 0.04419826\n",
      "Iteration 118, loss = 0.04313974\n",
      "Iteration 119, loss = 0.04409393\n",
      "Iteration 120, loss = 0.04339960\n",
      "Iteration 121, loss = 0.04249219\n",
      "Iteration 122, loss = 0.04390592\n",
      "Iteration 123, loss = 0.04197673\n",
      "Iteration 124, loss = 0.04187710\n",
      "Iteration 125, loss = 0.04240700\n",
      "Iteration 126, loss = 0.04176257\n",
      "Iteration 127, loss = 0.04119586\n",
      "Iteration 128, loss = 0.04186739\n",
      "Iteration 129, loss = 0.04157602\n",
      "Iteration 130, loss = 0.04184010\n",
      "Iteration 131, loss = 0.04073265\n",
      "Iteration 132, loss = 0.03970277\n",
      "Iteration 133, loss = 0.03977849\n",
      "Iteration 134, loss = 0.04066948\n",
      "Iteration 135, loss = 0.04115732\n",
      "Iteration 136, loss = 0.04007214\n",
      "Iteration 137, loss = 0.04067656\n",
      "Iteration 138, loss = 0.03847684\n",
      "Iteration 139, loss = 0.03889702\n",
      "Iteration 140, loss = 0.03942420\n",
      "Iteration 141, loss = 0.03835305\n",
      "Iteration 142, loss = 0.03910250\n",
      "Iteration 143, loss = 0.03802821\n",
      "Iteration 144, loss = 0.03734081\n",
      "Iteration 145, loss = 0.03772418\n",
      "Iteration 146, loss = 0.03943565\n",
      "Iteration 147, loss = 0.03854018\n",
      "Iteration 148, loss = 0.03728035\n",
      "Iteration 149, loss = 0.03847574\n",
      "Iteration 150, loss = 0.03758263\n",
      "Iteration 151, loss = 0.03728017\n",
      "Iteration 152, loss = 0.03670755\n",
      "Iteration 153, loss = 0.03753840\n",
      "Iteration 154, loss = 0.03639859\n",
      "Iteration 155, loss = 0.03646327\n",
      "Iteration 156, loss = 0.03599862\n",
      "Iteration 157, loss = 0.03580248\n",
      "Iteration 158, loss = 0.03680622\n",
      "Iteration 159, loss = 0.03625112\n",
      "Iteration 160, loss = 0.03552022\n",
      "Iteration 161, loss = 0.03605883\n",
      "Iteration 162, loss = 0.03638029\n",
      "Iteration 163, loss = 0.03621419\n",
      "Iteration 164, loss = 0.03602470\n",
      "Iteration 165, loss = 0.03462341\n",
      "Iteration 166, loss = 0.03498765\n",
      "Iteration 167, loss = 0.03433853\n",
      "Iteration 168, loss = 0.03519569\n",
      "Iteration 169, loss = 0.03327376\n",
      "Iteration 170, loss = 0.03487897\n",
      "Iteration 171, loss = 0.03407716\n",
      "Iteration 172, loss = 0.03348487\n",
      "Iteration 173, loss = 0.03351835\n",
      "Iteration 174, loss = 0.03250138\n",
      "Iteration 175, loss = 0.03329906\n",
      "Iteration 176, loss = 0.03241658\n",
      "Iteration 177, loss = 0.03290683\n",
      "Iteration 178, loss = 0.03340384\n",
      "Iteration 179, loss = 0.03293290\n",
      "Iteration 180, loss = 0.03416585\n",
      "Iteration 181, loss = 0.03455119\n",
      "Iteration 182, loss = 0.03170551\n",
      "Iteration 183, loss = 0.03327598\n",
      "Iteration 184, loss = 0.03326224\n",
      "Iteration 185, loss = 0.03220493\n",
      "Iteration 186, loss = 0.03378965\n",
      "Iteration 187, loss = 0.03109296\n",
      "Iteration 188, loss = 0.03157257\n",
      "Iteration 189, loss = 0.03222059\n",
      "Iteration 190, loss = 0.03144764\n",
      "Iteration 191, loss = 0.03117974\n",
      "Iteration 192, loss = 0.03113915\n",
      "Iteration 193, loss = 0.03114281\n",
      "Iteration 194, loss = 0.03174871\n",
      "Iteration 195, loss = 0.03096676\n",
      "Iteration 196, loss = 0.03076840\n",
      "Iteration 197, loss = 0.03068848\n",
      "Iteration 198, loss = 0.03173523\n",
      "Iteration 199, loss = 0.03013191\n",
      "Iteration 200, loss = 0.03066744\n",
      "Iteration 201, loss = 0.03036349\n",
      "Iteration 202, loss = 0.03071731\n",
      "Iteration 203, loss = 0.03156669\n",
      "Iteration 204, loss = 0.03054918\n",
      "Iteration 205, loss = 0.02904918\n",
      "Iteration 206, loss = 0.03143030\n",
      "Iteration 207, loss = 0.03091077\n",
      "Iteration 208, loss = 0.02939731\n",
      "Iteration 209, loss = 0.02993273\n",
      "Iteration 210, loss = 0.02994991\n",
      "Iteration 211, loss = 0.02979425\n",
      "Iteration 212, loss = 0.02851368\n",
      "Iteration 213, loss = 0.03052642\n",
      "Iteration 214, loss = 0.02883686\n",
      "Iteration 215, loss = 0.03004251\n",
      "Iteration 216, loss = 0.02837651\n",
      "Iteration 217, loss = 0.02919605\n",
      "Iteration 218, loss = 0.02997541\n",
      "Iteration 219, loss = 0.02943101\n",
      "Iteration 220, loss = 0.02878084\n",
      "Iteration 221, loss = 0.02809337\n",
      "Iteration 222, loss = 0.02874524\n",
      "Iteration 223, loss = 0.03006332\n",
      "Iteration 224, loss = 0.02933796\n",
      "Iteration 225, loss = 0.02860594\n",
      "Iteration 226, loss = 0.02762285\n",
      "Iteration 227, loss = 0.03032352\n",
      "Iteration 228, loss = 0.02816604\n",
      "Iteration 229, loss = 0.02779197\n",
      "Iteration 230, loss = 0.02802178\n",
      "Iteration 231, loss = 0.02709387\n",
      "Iteration 232, loss = 0.02675932\n",
      "Iteration 233, loss = 0.02710783\n",
      "Iteration 234, loss = 0.02909195\n",
      "Iteration 235, loss = 0.02753730\n",
      "Iteration 236, loss = 0.02757101\n",
      "Iteration 237, loss = 0.02767004\n",
      "Iteration 238, loss = 0.02750283\n",
      "Iteration 239, loss = 0.02770283\n",
      "Iteration 240, loss = 0.02716005\n",
      "Iteration 241, loss = 0.02895542\n",
      "Iteration 242, loss = 0.02916482\n",
      "Iteration 243, loss = 0.02628669\n",
      "Iteration 244, loss = 0.02698619\n",
      "Iteration 245, loss = 0.02607369\n",
      "Iteration 246, loss = 0.02781819\n",
      "Iteration 247, loss = 0.02755318\n",
      "Iteration 248, loss = 0.02627892\n",
      "Iteration 249, loss = 0.02542037\n",
      "Iteration 250, loss = 0.02580443\n",
      "Iteration 251, loss = 0.02864298\n",
      "Iteration 252, loss = 0.02654652\n"
     ]
    },
    {
     "name": "stdout",
     "output_type": "stream",
     "text": [
      "Iteration 253, loss = 0.02592122\n",
      "Iteration 254, loss = 0.02605503\n",
      "Iteration 255, loss = 0.02626291\n",
      "Iteration 256, loss = 0.02611516\n",
      "Iteration 257, loss = 0.02650303\n",
      "Iteration 258, loss = 0.02518241\n",
      "Iteration 259, loss = 0.02599169\n",
      "Iteration 260, loss = 0.02593619\n",
      "Iteration 261, loss = 0.02491044\n",
      "Iteration 262, loss = 0.02445244\n",
      "Iteration 263, loss = 0.02589311\n",
      "Iteration 264, loss = 0.02612450\n",
      "Iteration 265, loss = 0.02454109\n",
      "Iteration 266, loss = 0.02512722\n",
      "Iteration 267, loss = 0.02505823\n",
      "Iteration 268, loss = 0.02669353\n",
      "Iteration 269, loss = 0.02425696\n",
      "Iteration 270, loss = 0.02546966\n",
      "Iteration 271, loss = 0.02403615\n",
      "Iteration 272, loss = 0.02637791\n",
      "Iteration 273, loss = 0.02560939\n",
      "Iteration 274, loss = 0.02589652\n",
      "Iteration 275, loss = 0.02425383\n",
      "Iteration 276, loss = 0.02690311\n",
      "Iteration 277, loss = 0.02465945\n",
      "Iteration 278, loss = 0.02511939\n",
      "Iteration 279, loss = 0.02439370\n",
      "Iteration 280, loss = 0.02390284\n",
      "Iteration 281, loss = 0.02589452\n",
      "Iteration 282, loss = 0.02357509\n",
      "Iteration 283, loss = 0.02326957\n",
      "Iteration 284, loss = 0.02383323\n",
      "Iteration 285, loss = 0.02388487\n",
      "Iteration 286, loss = 0.02464546\n",
      "Iteration 287, loss = 0.02258313\n",
      "Iteration 288, loss = 0.02307888\n",
      "Iteration 289, loss = 0.02509300\n",
      "Iteration 290, loss = 0.02389478\n",
      "Iteration 291, loss = 0.02592224\n",
      "Iteration 292, loss = 0.02390638\n",
      "Iteration 293, loss = 0.02292849\n",
      "Iteration 294, loss = 0.02432555\n",
      "Iteration 295, loss = 0.02475901\n",
      "Iteration 296, loss = 0.02323373\n",
      "Iteration 297, loss = 0.02296250\n",
      "Iteration 298, loss = 0.02421266\n",
      "Training loss did not improve more than tol=0.000000 for 10 consecutive epochs. Stopping.\n",
      "Validation Accuracy in 'MLP' = 0.9589412962334578\n",
      "[[537   0   0   0   0   0]\n",
      " [  0 443  45   0   0   3]\n",
      " [  0  22 510   0   0   0]\n",
      " [  0   0   0 489   4   3]\n",
      " [  0   0   0   5 399  16]\n",
      " [  0   0   0  19   4 448]]\n",
      "Recall in 'MLP' = 1.0\n",
      "Precision in 'MLP' = 1.0\n",
      "F1 Score in 'MLP' = 1.0\n"
     ]
    }
   ],
   "source": [
    "model8 = train_model(train_X, train_y, model_name='MLP', validation=(test_X, test_y))"
   ]
  },
  {
   "cell_type": "code",
   "execution_count": null,
   "id": "6785fc92",
   "metadata": {},
   "outputs": [],
   "source": [
    "pip uninstall keras"
   ]
  },
  {
   "cell_type": "code",
   "execution_count": 3,
   "id": "0087ba7e",
   "metadata": {},
   "outputs": [
    {
     "name": "stdout",
     "output_type": "stream",
     "text": [
      "Requirement already satisfied: keras in c:\\users\\dixit\\appdata\\local\\programs\\python\\python310\\lib\\site-packages (2.11.0)Note: you may need to restart the kernel to use updated packages.\n"
     ]
    },
    {
     "name": "stderr",
     "output_type": "stream",
     "text": [
      "WARNING: Ignoring invalid distribution -rotobuf (c:\\users\\dixit\\appdata\\local\\programs\\python\\python310\\lib\\site-packages)\n",
      "WARNING: Ignoring invalid distribution -rotobuf (c:\\users\\dixit\\appdata\\local\\programs\\python\\python310\\lib\\site-packages)\n",
      "WARNING: Ignoring invalid distribution -rotobuf (c:\\users\\dixit\\appdata\\local\\programs\\python\\python310\\lib\\site-packages)\n",
      "WARNING: Ignoring invalid distribution -rotobuf (c:\\users\\dixit\\appdata\\local\\programs\\python\\python310\\lib\\site-packages)\n"
     ]
    },
    {
     "name": "stdout",
     "output_type": "stream",
     "text": [
      "\n"
     ]
    }
   ],
   "source": [
    "pip install keras"
   ]
  },
  {
   "cell_type": "code",
   "execution_count": 2,
   "id": "ce3b486c",
   "metadata": {},
   "outputs": [
    {
     "name": "stdout",
     "output_type": "stream",
     "text": [
      "Requirement already satisfied: pip in c:\\users\\dixit\\appdata\\local\\programs\\python\\python310\\lib\\site-packages (22.3.1)\n",
      "Collecting pip\n",
      "  Using cached pip-23.0.1-py3-none-any.whl (2.1 MB)\n",
      "Installing collected packages: pip\n",
      "  Attempting uninstall: pip\n",
      "    Found existing installation: pip 22.3.1\n",
      "    Uninstalling pip-22.3.1:\n",
      "      Successfully uninstalled pip-22.3.1\n",
      "Successfully installed pip-23.0.1\n",
      "Note: you may need to restart the kernel to use updated packages.\n"
     ]
    },
    {
     "name": "stderr",
     "output_type": "stream",
     "text": [
      "WARNING: Ignoring invalid distribution -rotobuf (c:\\users\\dixit\\appdata\\local\\programs\\python\\python310\\lib\\site-packages)\n",
      "WARNING: Ignoring invalid distribution -rotobuf (c:\\users\\dixit\\appdata\\local\\programs\\python\\python310\\lib\\site-packages)\n",
      "    WARNING: Ignoring invalid distribution -rotobuf (c:\\users\\dixit\\appdata\\local\\programs\\python\\python310\\lib\\site-packages)\n",
      "WARNING: Ignoring invalid distribution -rotobuf (c:\\users\\dixit\\appdata\\local\\programs\\python\\python310\\lib\\site-packages)\n",
      "WARNING: Ignoring invalid distribution -rotobuf (c:\\users\\dixit\\appdata\\local\\programs\\python\\python310\\lib\\site-packages)\n",
      "WARNING: Ignoring invalid distribution -rotobuf (c:\\users\\dixit\\appdata\\local\\programs\\python\\python310\\lib\\site-packages)\n"
     ]
    }
   ],
   "source": [
    "pip install --upgrade pip"
   ]
  },
  {
   "cell_type": "code",
   "execution_count": 33,
   "id": "10ef4466",
   "metadata": {},
   "outputs": [
    {
     "name": "stderr",
     "output_type": "stream",
     "text": [
      "Using TensorFlow backend.\n"
     ]
    },
    {
     "ename": "AttributeError",
     "evalue": "module 'keras.utils.generic_utils' has no attribute 'populate_dict_with_module_objects'",
     "output_type": "error",
     "traceback": [
      "\u001b[1;31m---------------------------------------------------------------------------\u001b[0m",
      "\u001b[1;31mAttributeError\u001b[0m                            Traceback (most recent call last)",
      "Cell \u001b[1;32mIn[33], line 4\u001b[0m\n\u001b[0;32m      2\u001b[0m \u001b[38;5;28;01mimport\u001b[39;00m \u001b[38;5;21;01mpandas\u001b[39;00m \u001b[38;5;28;01mas\u001b[39;00m \u001b[38;5;21;01mpd\u001b[39;00m\n\u001b[0;32m      3\u001b[0m \u001b[38;5;28;01mfrom\u001b[39;00m \u001b[38;5;21;01msklearn\u001b[39;00m\u001b[38;5;21;01m.\u001b[39;00m\u001b[38;5;21;01mmetrics\u001b[39;00m \u001b[38;5;28;01mimport\u001b[39;00m confusion_matrix\n\u001b[1;32m----> 4\u001b[0m \u001b[38;5;28;01mimport\u001b[39;00m \u001b[38;5;21;01mtensorflow\u001b[39;00m \u001b[38;5;28;01mas\u001b[39;00m \u001b[38;5;21;01mtf\u001b[39;00m\n",
      "File \u001b[1;32m~\\AppData\\Roaming\\Python\\Python310\\site-packages\\tensorflow\\__init__.py:470\u001b[0m\n\u001b[0;32m    468\u001b[0m \u001b[38;5;28;01mif\u001b[39;00m \u001b[38;5;28mhasattr\u001b[39m(_current_module, \u001b[38;5;124m\"\u001b[39m\u001b[38;5;124mkeras\u001b[39m\u001b[38;5;124m\"\u001b[39m):\n\u001b[0;32m    469\u001b[0m   \u001b[38;5;28;01mtry\u001b[39;00m:\n\u001b[1;32m--> 470\u001b[0m     \u001b[43m_keras\u001b[49m\u001b[38;5;241;43m.\u001b[39;49m\u001b[43m_load\u001b[49m\u001b[43m(\u001b[49m\u001b[43m)\u001b[49m\n\u001b[0;32m    471\u001b[0m   \u001b[38;5;28;01mexcept\u001b[39;00m \u001b[38;5;167;01mImportError\u001b[39;00m:\n\u001b[0;32m    472\u001b[0m     \u001b[38;5;28;01mpass\u001b[39;00m\n",
      "File \u001b[1;32m~\\AppData\\Roaming\\Python\\Python310\\site-packages\\tensorflow\\python\\util\\lazy_loader.py:41\u001b[0m, in \u001b[0;36mLazyLoader._load\u001b[1;34m(self)\u001b[0m\n\u001b[0;32m     39\u001b[0m \u001b[38;5;250m\u001b[39m\u001b[38;5;124;03m\"\"\"Load the module and insert it into the parent's globals.\"\"\"\u001b[39;00m\n\u001b[0;32m     40\u001b[0m \u001b[38;5;66;03m# Import the target module and insert it into the parent's namespace\u001b[39;00m\n\u001b[1;32m---> 41\u001b[0m module \u001b[38;5;241m=\u001b[39m \u001b[43mimportlib\u001b[49m\u001b[38;5;241;43m.\u001b[39;49m\u001b[43mimport_module\u001b[49m\u001b[43m(\u001b[49m\u001b[38;5;28;43mself\u001b[39;49m\u001b[38;5;241;43m.\u001b[39;49m\u001b[38;5;18;43m__name__\u001b[39;49m\u001b[43m)\u001b[49m\n\u001b[0;32m     42\u001b[0m \u001b[38;5;28mself\u001b[39m\u001b[38;5;241m.\u001b[39m_parent_module_globals[\u001b[38;5;28mself\u001b[39m\u001b[38;5;241m.\u001b[39m_local_name] \u001b[38;5;241m=\u001b[39m module\n\u001b[0;32m     44\u001b[0m \u001b[38;5;66;03m# Emit a warning if one was specified\u001b[39;00m\n",
      "File \u001b[1;32m~\\AppData\\Local\\Programs\\Python\\Python310\\lib\\importlib\\__init__.py:126\u001b[0m, in \u001b[0;36mimport_module\u001b[1;34m(name, package)\u001b[0m\n\u001b[0;32m    124\u001b[0m             \u001b[38;5;28;01mbreak\u001b[39;00m\n\u001b[0;32m    125\u001b[0m         level \u001b[38;5;241m+\u001b[39m\u001b[38;5;241m=\u001b[39m \u001b[38;5;241m1\u001b[39m\n\u001b[1;32m--> 126\u001b[0m \u001b[38;5;28;01mreturn\u001b[39;00m \u001b[43m_bootstrap\u001b[49m\u001b[38;5;241;43m.\u001b[39;49m\u001b[43m_gcd_import\u001b[49m\u001b[43m(\u001b[49m\u001b[43mname\u001b[49m\u001b[43m[\u001b[49m\u001b[43mlevel\u001b[49m\u001b[43m:\u001b[49m\u001b[43m]\u001b[49m\u001b[43m,\u001b[49m\u001b[43m \u001b[49m\u001b[43mpackage\u001b[49m\u001b[43m,\u001b[49m\u001b[43m \u001b[49m\u001b[43mlevel\u001b[49m\u001b[43m)\u001b[49m\n",
      "File \u001b[1;32m~\\AppData\\Local\\Programs\\Python\\Python310\\lib\\site-packages\\keras\\__init__.py:3\u001b[0m\n\u001b[0;32m      1\u001b[0m \u001b[38;5;28;01mfrom\u001b[39;00m \u001b[38;5;21;01m__future__\u001b[39;00m \u001b[38;5;28;01mimport\u001b[39;00m absolute_import\n\u001b[1;32m----> 3\u001b[0m \u001b[38;5;28;01mfrom\u001b[39;00m \u001b[38;5;21;01m.\u001b[39;00m \u001b[38;5;28;01mimport\u001b[39;00m utils\n\u001b[0;32m      4\u001b[0m \u001b[38;5;28;01mfrom\u001b[39;00m \u001b[38;5;21;01m.\u001b[39;00m \u001b[38;5;28;01mimport\u001b[39;00m activations\n\u001b[0;32m      5\u001b[0m \u001b[38;5;28;01mfrom\u001b[39;00m \u001b[38;5;21;01m.\u001b[39;00m \u001b[38;5;28;01mimport\u001b[39;00m applications\n",
      "File \u001b[1;32m~\\AppData\\Local\\Programs\\Python\\Python310\\lib\\site-packages\\keras\\utils\\__init__.py:26\u001b[0m\n\u001b[0;32m     24\u001b[0m \u001b[38;5;28;01mfrom\u001b[39;00m \u001b[38;5;21;01m.\u001b[39;00m\u001b[38;5;21;01mlayer_utils\u001b[39;00m \u001b[38;5;28;01mimport\u001b[39;00m get_source_inputs\n\u001b[0;32m     25\u001b[0m \u001b[38;5;28;01mfrom\u001b[39;00m \u001b[38;5;21;01m.\u001b[39;00m\u001b[38;5;21;01mlayer_utils\u001b[39;00m \u001b[38;5;28;01mimport\u001b[39;00m print_summary\n\u001b[1;32m---> 26\u001b[0m \u001b[38;5;28;01mfrom\u001b[39;00m \u001b[38;5;21;01m.\u001b[39;00m\u001b[38;5;21;01mvis_utils\u001b[39;00m \u001b[38;5;28;01mimport\u001b[39;00m model_to_dot\n\u001b[0;32m     27\u001b[0m \u001b[38;5;28;01mfrom\u001b[39;00m \u001b[38;5;21;01m.\u001b[39;00m\u001b[38;5;21;01mvis_utils\u001b[39;00m \u001b[38;5;28;01mimport\u001b[39;00m plot_model\n\u001b[0;32m     28\u001b[0m \u001b[38;5;28;01mfrom\u001b[39;00m \u001b[38;5;21;01m.\u001b[39;00m\u001b[38;5;21;01mnp_utils\u001b[39;00m \u001b[38;5;28;01mimport\u001b[39;00m to_categorical\n",
      "File \u001b[1;32m~\\AppData\\Local\\Programs\\Python\\Python310\\lib\\site-packages\\keras\\utils\\vis_utils.py:7\u001b[0m\n\u001b[0;32m      4\u001b[0m \u001b[38;5;28;01mfrom\u001b[39;00m \u001b[38;5;21;01m__future__\u001b[39;00m \u001b[38;5;28;01mimport\u001b[39;00m print_function\n\u001b[0;32m      6\u001b[0m \u001b[38;5;28;01mimport\u001b[39;00m \u001b[38;5;21;01mos\u001b[39;00m\n\u001b[1;32m----> 7\u001b[0m \u001b[38;5;28;01mfrom\u001b[39;00m \u001b[38;5;21;01m.\u001b[39;00m\u001b[38;5;21;01m.\u001b[39;00m\u001b[38;5;21;01mmodels\u001b[39;00m \u001b[38;5;28;01mimport\u001b[39;00m Model\n\u001b[0;32m      8\u001b[0m \u001b[38;5;28;01mfrom\u001b[39;00m \u001b[38;5;21;01m.\u001b[39;00m\u001b[38;5;21;01m.\u001b[39;00m\u001b[38;5;21;01mlayers\u001b[39;00m\u001b[38;5;21;01m.\u001b[39;00m\u001b[38;5;21;01mwrappers\u001b[39;00m \u001b[38;5;28;01mimport\u001b[39;00m Wrapper\n\u001b[0;32m     10\u001b[0m \u001b[38;5;66;03m# `pydot` is an optional dependency,\u001b[39;00m\n\u001b[0;32m     11\u001b[0m \u001b[38;5;66;03m# see `extras_require` in `setup.py`.\u001b[39;00m\n",
      "File \u001b[1;32m~\\AppData\\Local\\Programs\\Python\\Python310\\lib\\site-packages\\keras\\models\\__init__.py:18\u001b[0m\n\u001b[0;32m      1\u001b[0m \u001b[38;5;66;03m# Copyright 2022 The TensorFlow Authors. All Rights Reserved.\u001b[39;00m\n\u001b[0;32m      2\u001b[0m \u001b[38;5;66;03m#\u001b[39;00m\n\u001b[0;32m      3\u001b[0m \u001b[38;5;66;03m# Licensed under the Apache License, Version 2.0 (the \"License\");\u001b[39;00m\n\u001b[1;32m   (...)\u001b[0m\n\u001b[0;32m     13\u001b[0m \u001b[38;5;66;03m# limitations under the License.\u001b[39;00m\n\u001b[0;32m     14\u001b[0m \u001b[38;5;66;03m# ==============================================================================\u001b[39;00m\n\u001b[0;32m     15\u001b[0m \u001b[38;5;124;03m\"\"\"Keras models API.\"\"\"\u001b[39;00m\n\u001b[1;32m---> 18\u001b[0m \u001b[38;5;28;01mfrom\u001b[39;00m \u001b[38;5;21;01mkeras\u001b[39;00m\u001b[38;5;21;01m.\u001b[39;00m\u001b[38;5;21;01mengine\u001b[39;00m\u001b[38;5;21;01m.\u001b[39;00m\u001b[38;5;21;01mfunctional\u001b[39;00m \u001b[38;5;28;01mimport\u001b[39;00m Functional\n\u001b[0;32m     19\u001b[0m \u001b[38;5;28;01mfrom\u001b[39;00m \u001b[38;5;21;01mkeras\u001b[39;00m\u001b[38;5;21;01m.\u001b[39;00m\u001b[38;5;21;01mengine\u001b[39;00m\u001b[38;5;21;01m.\u001b[39;00m\u001b[38;5;21;01msequential\u001b[39;00m \u001b[38;5;28;01mimport\u001b[39;00m Sequential\n\u001b[0;32m     20\u001b[0m \u001b[38;5;28;01mfrom\u001b[39;00m \u001b[38;5;21;01mkeras\u001b[39;00m\u001b[38;5;21;01m.\u001b[39;00m\u001b[38;5;21;01mengine\u001b[39;00m\u001b[38;5;21;01m.\u001b[39;00m\u001b[38;5;21;01mtraining\u001b[39;00m \u001b[38;5;28;01mimport\u001b[39;00m Model\n",
      "File \u001b[1;32m~\\AppData\\Local\\Programs\\Python\\Python310\\lib\\site-packages\\keras\\engine\\__init__.py:3\u001b[0m\n\u001b[0;32m      1\u001b[0m \u001b[38;5;66;03m# note: `Node` is an internal class,\u001b[39;00m\n\u001b[0;32m      2\u001b[0m \u001b[38;5;66;03m# it isn't meant to be used by Keras users.\u001b[39;00m\n\u001b[1;32m----> 3\u001b[0m \u001b[38;5;28;01mfrom\u001b[39;00m \u001b[38;5;21;01m.\u001b[39;00m\u001b[38;5;21;01minput_layer\u001b[39;00m \u001b[38;5;28;01mimport\u001b[39;00m Input\n\u001b[0;32m      4\u001b[0m \u001b[38;5;28;01mfrom\u001b[39;00m \u001b[38;5;21;01m.\u001b[39;00m\u001b[38;5;21;01minput_layer\u001b[39;00m \u001b[38;5;28;01mimport\u001b[39;00m InputLayer\n\u001b[0;32m      5\u001b[0m \u001b[38;5;28;01mfrom\u001b[39;00m \u001b[38;5;21;01m.\u001b[39;00m\u001b[38;5;21;01mbase_layer\u001b[39;00m \u001b[38;5;28;01mimport\u001b[39;00m InputSpec\n",
      "File \u001b[1;32m~\\AppData\\Local\\Programs\\Python\\Python310\\lib\\site-packages\\keras\\engine\\input_layer.py:7\u001b[0m\n\u001b[0;32m      4\u001b[0m \u001b[38;5;28;01mfrom\u001b[39;00m \u001b[38;5;21;01m__future__\u001b[39;00m \u001b[38;5;28;01mimport\u001b[39;00m absolute_import\n\u001b[0;32m      5\u001b[0m \u001b[38;5;28;01mfrom\u001b[39;00m \u001b[38;5;21;01m__future__\u001b[39;00m \u001b[38;5;28;01mimport\u001b[39;00m division\n\u001b[1;32m----> 7\u001b[0m \u001b[38;5;28;01mfrom\u001b[39;00m \u001b[38;5;21;01m.\u001b[39;00m\u001b[38;5;21;01mbase_layer\u001b[39;00m \u001b[38;5;28;01mimport\u001b[39;00m Layer\n\u001b[0;32m      8\u001b[0m \u001b[38;5;28;01mfrom\u001b[39;00m \u001b[38;5;21;01m.\u001b[39;00m\u001b[38;5;21;01mbase_layer\u001b[39;00m \u001b[38;5;28;01mimport\u001b[39;00m Node\n\u001b[0;32m      9\u001b[0m \u001b[38;5;28;01mfrom\u001b[39;00m \u001b[38;5;21;01m.\u001b[39;00m\u001b[38;5;21;01m.\u001b[39;00m \u001b[38;5;28;01mimport\u001b[39;00m backend \u001b[38;5;28;01mas\u001b[39;00m K\n",
      "File \u001b[1;32m~\\AppData\\Local\\Programs\\Python\\Python310\\lib\\site-packages\\keras\\engine\\base_layer.py:12\u001b[0m\n\u001b[0;32m      9\u001b[0m \u001b[38;5;28;01mimport\u001b[39;00m \u001b[38;5;21;01mthreading\u001b[39;00m\n\u001b[0;32m     11\u001b[0m \u001b[38;5;28;01mfrom\u001b[39;00m \u001b[38;5;21;01m.\u001b[39;00m\u001b[38;5;21;01m.\u001b[39;00m \u001b[38;5;28;01mimport\u001b[39;00m backend \u001b[38;5;28;01mas\u001b[39;00m K\n\u001b[1;32m---> 12\u001b[0m \u001b[38;5;28;01mfrom\u001b[39;00m \u001b[38;5;21;01m.\u001b[39;00m\u001b[38;5;21;01m.\u001b[39;00m \u001b[38;5;28;01mimport\u001b[39;00m initializers\n\u001b[0;32m     13\u001b[0m \u001b[38;5;28;01mfrom\u001b[39;00m \u001b[38;5;21;01m.\u001b[39;00m\u001b[38;5;21;01m.\u001b[39;00m\u001b[38;5;21;01mutils\u001b[39;00m\u001b[38;5;21;01m.\u001b[39;00m\u001b[38;5;21;01mlayer_utils\u001b[39;00m \u001b[38;5;28;01mimport\u001b[39;00m count_params\n\u001b[0;32m     14\u001b[0m \u001b[38;5;28;01mfrom\u001b[39;00m \u001b[38;5;21;01m.\u001b[39;00m\u001b[38;5;21;01m.\u001b[39;00m\u001b[38;5;21;01mutils\u001b[39;00m\u001b[38;5;21;01m.\u001b[39;00m\u001b[38;5;21;01mgeneric_utils\u001b[39;00m \u001b[38;5;28;01mimport\u001b[39;00m has_arg\n",
      "File \u001b[1;32m~\\AppData\\Local\\Programs\\Python\\Python310\\lib\\site-packages\\keras\\initializers\\__init__.py:130\u001b[0m\n\u001b[0;32m    124\u001b[0m     LOCAL\u001b[38;5;241m.\u001b[39mALL_OBJECTS[\u001b[38;5;124m\"\u001b[39m\u001b[38;5;124mzero\u001b[39m\u001b[38;5;124m\"\u001b[39m] \u001b[38;5;241m=\u001b[39m LOCAL\u001b[38;5;241m.\u001b[39mALL_OBJECTS[\u001b[38;5;124m\"\u001b[39m\u001b[38;5;124mzeros\u001b[39m\u001b[38;5;124m\"\u001b[39m]\n\u001b[0;32m    127\u001b[0m \u001b[38;5;66;03m# For backwards compatibility, we populate this file with the objects\u001b[39;00m\n\u001b[0;32m    128\u001b[0m \u001b[38;5;66;03m# from ALL_OBJECTS. We make no guarantees as to whether these objects will\u001b[39;00m\n\u001b[0;32m    129\u001b[0m \u001b[38;5;66;03m# using their correct version.\u001b[39;00m\n\u001b[1;32m--> 130\u001b[0m \u001b[43mpopulate_deserializable_objects\u001b[49m\u001b[43m(\u001b[49m\u001b[43m)\u001b[49m\n\u001b[0;32m    131\u001b[0m \u001b[38;5;28mglobals\u001b[39m()\u001b[38;5;241m.\u001b[39mupdate(LOCAL\u001b[38;5;241m.\u001b[39mALL_OBJECTS)\n\u001b[0;32m    133\u001b[0m \u001b[38;5;66;03m# Utility functions\u001b[39;00m\n",
      "File \u001b[1;32m~\\AppData\\Local\\Programs\\Python\\Python310\\lib\\site-packages\\keras\\initializers\\__init__.py:87\u001b[0m, in \u001b[0;36mpopulate_deserializable_objects\u001b[1;34m()\u001b[0m\n\u001b[0;32m     85\u001b[0m v2_objs \u001b[38;5;241m=\u001b[39m {}\n\u001b[0;32m     86\u001b[0m base_cls \u001b[38;5;241m=\u001b[39m initializers_v2\u001b[38;5;241m.\u001b[39mInitializer\n\u001b[1;32m---> 87\u001b[0m \u001b[43mgeneric_utils\u001b[49m\u001b[38;5;241;43m.\u001b[39;49m\u001b[43mpopulate_dict_with_module_objects\u001b[49m(\n\u001b[0;32m     88\u001b[0m     v2_objs,\n\u001b[0;32m     89\u001b[0m     [initializers_v2],\n\u001b[0;32m     90\u001b[0m     obj_filter\u001b[38;5;241m=\u001b[39m\u001b[38;5;28;01mlambda\u001b[39;00m x: inspect\u001b[38;5;241m.\u001b[39misclass(x) \u001b[38;5;129;01mand\u001b[39;00m \u001b[38;5;28missubclass\u001b[39m(x, base_cls),\n\u001b[0;32m     91\u001b[0m )\n\u001b[0;32m     92\u001b[0m \u001b[38;5;28;01mfor\u001b[39;00m key, value \u001b[38;5;129;01min\u001b[39;00m v2_objs\u001b[38;5;241m.\u001b[39mitems():\n\u001b[0;32m     93\u001b[0m     LOCAL\u001b[38;5;241m.\u001b[39mALL_OBJECTS[key] \u001b[38;5;241m=\u001b[39m value\n",
      "\u001b[1;31mAttributeError\u001b[0m: module 'keras.utils.generic_utils' has no attribute 'populate_dict_with_module_objects'"
     ]
    }
   ],
   "source": [
    "import numpy as np\n",
    "import pandas as pd\n",
    "from sklearn.metrics import confusion_matrix\n",
    "import tensorflow as tf"
   ]
  },
  {
   "cell_type": "code",
   "execution_count": null,
   "id": "ebed45bf",
   "metadata": {},
   "outputs": [],
   "source": [
    "np.random.seed(42)\n",
    "tf.random.set_seed(42)"
   ]
  },
  {
   "cell_type": "code",
   "execution_count": null,
   "id": "932f939c",
   "metadata": {},
   "outputs": [],
   "source": [
    "from keras import backend as K\n",
    "from keras.models import Sequential\n",
    "from keras.layers import LSTM, TimeDistributed, Conv1D, MaxPooling1D, Flatten\n",
    "from keras.layers.core import Dense, Dropout"
   ]
  },
  {
   "cell_type": "code",
   "execution_count": null,
   "id": "1042d4df",
   "metadata": {},
   "outputs": [],
   "source": [
    "# Data directory\n",
    "DATADIR = 'C:/Users/dixit/Desktop/uci-har dataset/UCI HAR Dataset'"
   ]
  },
  {
   "cell_type": "code",
   "execution_count": null,
   "id": "034e199d",
   "metadata": {},
   "outputs": [],
   "source": [
    "# Raw data signals\n",
    "# Signals are from Accelerometer and Gyroscope\n",
    "# The signals are in x,y,z directions\n",
    "# Sensor signals are filtered to have only body acceleration\n",
    "# excluding the acceleration due to gravity\n",
    "# Triaxial acceleration from the accelerometer is total acceleration\n",
    "SIGNALS = [\n",
    "    \"body_acc_x\",\n",
    "    \"body_acc_y\",\n",
    "    \"body_acc_z\",\n",
    "    \"body_gyro_x\",\n",
    "    \"body_gyro_y\",\n",
    "    \"body_gyro_z\",\n",
    "    \"total_acc_x\",\n",
    "    \"total_acc_y\",\n",
    "    \"total_acc_z\"\n",
    "]"
   ]
  },
  {
   "cell_type": "code",
   "execution_count": null,
   "id": "59526dca",
   "metadata": {},
   "outputs": [],
   "source": [
    "# Utility function to read the data from csv file\n",
    "def _read_csv(filename):\n",
    "    return pd.read_csv(filename, delim_whitespace=True, header=None)\n",
    "\n",
    "# Utility function to load the load\n",
    "def load_signals(subset):\n",
    "    signals_data = []\n",
    "\n",
    "    for signal in SIGNALS:\n",
    "        filename = f'{DATADIR}/{subset}/Inertial Signals/{signal}_{subset}.txt'\n",
    "        signals_data.append(\n",
    "            _read_csv(filename).to_numpy()\n",
    "        ) \n",
    "\n",
    "    # Transpose is used to change the dimensionality of the output,\n",
    "    # aggregating the signals by combination of sample/timestep.\n",
    "    # Resultant shape is (7352 train/2947 test samples, 128 timesteps, 9 signals)\n",
    "    return np.transpose(signals_data, (1, 2, 0))"
   ]
  },
  {
   "cell_type": "code",
   "execution_count": null,
   "id": "c3d76fdd",
   "metadata": {},
   "outputs": [],
   "source": [
    "def load_y(subset):\n",
    "    \"\"\"\n",
    "    The objective that we are trying to predict is a integer, from 1 to 6,\n",
    "    that represents a human activity. We return a binary representation of \n",
    "    every sample objective as a 6 bits vector using One Hot Encoding\n",
    "    (https://pandas.pydata.org/pandas-docs/stable/generated/pandas.get_dummies.html)\n",
    "    \"\"\"\n",
    "    filename = f'{DATADIR}/{subset}/y_{subset}.txt'\n",
    "    y = _read_csv(filename)[0]\n",
    "\n",
    "    return pd.get_dummies(y).to_numpy()"
   ]
  },
  {
   "cell_type": "code",
   "execution_count": null,
   "id": "6bba78a2",
   "metadata": {},
   "outputs": [],
   "source": [
    "def load_data():\n",
    "    \"\"\"\n",
    "    Obtain the dataset from multiple files.\n",
    "    Returns: X_train, X_test, y_train, y_test\n",
    "    \"\"\"\n",
    "    X_train, X_test = load_signals('train'), load_signals('test')\n",
    "    y_train, y_test = load_y('train'), load_y('test')\n",
    "\n",
    "    return X_train, X_test, y_train, y_test"
   ]
  },
  {
   "cell_type": "code",
   "execution_count": null,
   "id": "6dc0cbff",
   "metadata": {},
   "outputs": [],
   "source": [
    "# Configuring a session\n",
    "session_conf = tf.compat.v1.ConfigProto(\n",
    "    intra_op_parallelism_threads=1,\n",
    "    inter_op_parallelism_threads=1\n",
    ")\n",
    "\n",
    "sess = tf.compat.v1.Session(graph=tf.compat.v1.get_default_graph(), config=session_conf)\n",
    "K.set_session(sess)"
   ]
  },
  {
   "cell_type": "code",
   "execution_count": null,
   "id": "055627cb",
   "metadata": {},
   "outputs": [],
   "source": [
    "# Initializing parameters\n",
    "epochs = 30\n",
    "batch_size = 16\n",
    "n_hidden = 32"
   ]
  },
  {
   "cell_type": "code",
   "execution_count": null,
   "id": "7c96b561",
   "metadata": {},
   "outputs": [],
   "source": [
    "# Utility function to count the number of classes\n",
    "def _count_classes(y):\n",
    "    return len(set([tuple(category) for category in y]))"
   ]
  },
  {
   "cell_type": "code",
   "execution_count": null,
   "id": "925d73a9",
   "metadata": {},
   "outputs": [],
   "source": [
    "# Loading the train and test data\n",
    "X_train, X_test, Y_train, Y_test = load_data()"
   ]
  },
  {
   "cell_type": "code",
   "execution_count": null,
   "id": "9448c6d2",
   "metadata": {},
   "outputs": [],
   "source": [
    "timesteps = len(X_train[0])\n",
    "input_dim = len(X_train[0][0])\n",
    "n_classes = _count_classes(Y_train)\n",
    "\n",
    "print(timesteps)\n",
    "print(input_dim)\n",
    "print(len(X_train))"
   ]
  },
  {
   "cell_type": "code",
   "execution_count": null,
   "id": "45087763",
   "metadata": {},
   "outputs": [],
   "source": [
    "X_train.shape"
   ]
  },
  {
   "cell_type": "code",
   "execution_count": null,
   "id": "d9087d6b",
   "metadata": {},
   "outputs": [],
   "source": [
    "# Initiliazing the sequential model\n",
    "model1 = Sequential()\n",
    "# Configuring the parameters\n",
    "model1.add(LSTM(n_hidden, input_shape=(timesteps, input_dim)))\n",
    "# Adding a dropout layer\n",
    "model1.add(Dropout(0.5))\n",
    "# Adding a dense output layer with sigmoid activation\n",
    "model1.add(Dense(n_classes, activation='sigmoid'))\n",
    "model1.summary()"
   ]
  },
  {
   "cell_type": "code",
   "execution_count": null,
   "id": "b9b8bbdd",
   "metadata": {},
   "outputs": [],
   "source": [
    "# Compiling the model\n",
    "model1.compile(loss='categorical_crossentropy',\n",
    "              optimizer='rmsprop',\n",
    "              metrics=['accuracy'])"
   ]
  },
  {
   "cell_type": "code",
   "execution_count": null,
   "id": "dd04a8e1",
   "metadata": {},
   "outputs": [],
   "source": [
    "# Training the model\n",
    "model1.fit(X_train,\n",
    "          Y_train,\n",
    "          batch_size=batch_size,\n",
    "          validation_data=(X_test, Y_test),\n",
    "          epochs=epochs)"
   ]
  },
  {
   "cell_type": "code",
   "execution_count": null,
   "id": "2f743fe2",
   "metadata": {},
   "outputs": [],
   "source": [
    "# Testing\n",
    "score = model1.evaluate(X_test, Y_test)\n",
    "print(\"Accuracy: \", score[1])\n",
    "print(\"Loss: \", score[0])\n",
    "print(confusion_matrix(np.argmax(Y_test, axis=1), np.argmax(model1.predict(X_test), axis=1)))"
   ]
  },
  {
   "cell_type": "code",
   "execution_count": null,
   "id": "b45f47f3",
   "metadata": {},
   "outputs": [],
   "source": [
    "n_steps, n_length = 4, 32\n",
    "X_train = X_train.reshape((X_train.shape[0], n_steps, n_length, input_dim))\n",
    "X_test = X_test.reshape((X_test.shape[0], n_steps, n_length, input_dim))"
   ]
  },
  {
   "cell_type": "code",
   "execution_count": null,
   "id": "e2030300",
   "metadata": {},
   "outputs": [],
   "source": [
    "# define model\n",
    "# CNN layers for feature extraction on input data combined with LSTMs to support sequence prediction\n",
    "model2 = Sequential()\n",
    "# CNN layers\n",
    "model2.add(TimeDistributed(Conv1D(filters=64, kernel_size=3, activation='relu'), input_shape=(None,n_length,input_dim)))\n",
    "model2.add(TimeDistributed(Conv1D(filters=64, kernel_size=3, activation='relu')))\n",
    "model2.add(TimeDistributed(Dropout(0.5)))\n",
    "model2.add(TimeDistributed(MaxPooling1D(pool_size=2)))\n",
    "model2.add(TimeDistributed(Flatten()))\n",
    "# LSTM layer\n",
    "model2.add(LSTM(n_hidden))\n",
    "model2.add(Dropout(0.5))\n",
    "model2.add(Dense(n_hidden, activation='relu'))\n",
    "model2.add(Dense(n_classes, activation='sigmoid'))\n",
    "model2.summary()"
   ]
  },
  {
   "cell_type": "code",
   "execution_count": null,
   "id": "b587357b",
   "metadata": {},
   "outputs": [],
   "source": [
    "model2.compile(loss='categorical_crossentropy', optimizer='adam', metrics=['accuracy'])"
   ]
  },
  {
   "cell_type": "code",
   "execution_count": null,
   "id": "4d84bebd",
   "metadata": {},
   "outputs": [],
   "source": [
    "# Training the model\n",
    "model2.fit(X_train,\n",
    "          Y_train,\n",
    "          batch_size=batch_size,\n",
    "          validation_data=(X_test, Y_test),\n",
    "          epochs=epochs)"
   ]
  },
  {
   "cell_type": "code",
   "execution_count": null,
   "id": "cd509d70",
   "metadata": {},
   "outputs": [],
   "source": [
    "# Testing\n",
    "score = model2.evaluate(X_test, Y_test)\n",
    "print(\"Accuracy: \", score[1])\n",
    "print(\"Loss: \", score[0])\n",
    "print(confusion_matrix(np.argmax(Y_test, axis=1), np.argmax(model2.predict(X_test), axis=1)"
   ]
  },
  {
   "cell_type": "code",
   "execution_count": null,
   "id": "7cfc39ef",
   "metadata": {},
   "outputs": [],
   "source": []
  },
  {
   "cell_type": "code",
   "execution_count": null,
   "id": "6cbf3ab9",
   "metadata": {},
   "outputs": [],
   "source": []
  },
  {
   "cell_type": "code",
   "execution_count": null,
   "id": "3bdfa321",
   "metadata": {},
   "outputs": [],
   "source": []
  },
  {
   "cell_type": "code",
   "execution_count": null,
   "id": "a9b4e771",
   "metadata": {},
   "outputs": [],
   "source": []
  },
  {
   "cell_type": "code",
   "execution_count": null,
   "id": "0d298776",
   "metadata": {},
   "outputs": [],
   "source": []
  }
 ],
 "metadata": {
  "kernelspec": {
   "display_name": "Python 3 (ipykernel)",
   "language": "python",
   "name": "python3"
  },
  "language_info": {
   "codemirror_mode": {
    "name": "ipython",
    "version": 3
   },
   "file_extension": ".py",
   "mimetype": "text/x-python",
   "name": "python",
   "nbconvert_exporter": "python",
   "pygments_lexer": "ipython3",
   "version": "3.10.5"
  }
 },
 "nbformat": 4,
 "nbformat_minor": 5
}
