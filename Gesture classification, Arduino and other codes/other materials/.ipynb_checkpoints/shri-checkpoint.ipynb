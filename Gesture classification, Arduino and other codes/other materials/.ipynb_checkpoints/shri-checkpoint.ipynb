{
 "cells": [
  {
   "cell_type": "code",
   "execution_count": 1,
   "id": "35e96a9d",
   "metadata": {},
   "outputs": [],
   "source": [
    "from matplotlib import pyplot as plt\n",
    "import pandas as pd\n",
    "import numpy as np\n",
    "import math\n",
    "from scipy import stats\n",
    "import h5py\n",
    "from sklearn.preprocessing import MinMaxScaler, StandardScaler\n",
    "\n",
    "activityIDdict = {0: 'transient',\n",
    "              1: 'lying',# no change in index\n",
    "              2: 'sitting',# no change in index\n",
    "              3: 'standing',# no change in index\n",
    "              4: 'walking',# no change in index\n",
    "              5: 'running',# no change in index\n",
    "              6: 'cycling',# no change in index\n",
    "              7: 'Nordic_walking',# no change in index\n",
    "              9: 'watching_TV', # not in dataset\n",
    "              10: 'computer_work',# not in dataset\n",
    "              11: 'car driving', # not in dataset\n",
    "              12: 'ascending_stairs', # new index:8\n",
    "              13: 'descending_stairs', # new index:9\n",
    "              16: 'vacuum_cleaning', # new index:10\n",
    "              17: 'ironing', # new index:11\n",
    "              18: 'folding_laundry',# not in dataset\n",
    "              19: 'house_cleaning', # not in dataset\n",
    "              20: 'playing_soccer', # not in dataset\n",
    "              24: 'rope_jumping' # new index: 0 \n",
    "              }\n",
    "#{24:0,1:1,2:2,3:3,4:4,5:5,6:6,7:7,12:8,13:9,16:10,17:11}"
   ]
  },
  {
   "cell_type": "code",
   "execution_count": null,
   "id": "5c6dabc4",
   "metadata": {},
   "outputs": [],
   "source": [
    "df= pd.read_table('C:/Users/dixit/Desktop/PAMAP2_Dataset/Protocol/subject101.dat', header=None,sep='\\s+')"
   ]
  },
  {
   "cell_type": "code",
   "execution_count": null,
   "id": "68cafa98",
   "metadata": {},
   "outputs": [],
   "source": [
    "['rope_jumping','lying','sitting','standing','walking','running','cycling','Nordic_walking','ascending_stairs','descending_stairs','vacuum_cleaning','ironing']"
   ]
  },
  {
   "cell_type": "code",
   "execution_count": null,
   "id": "acf77c57",
   "metadata": {},
   "outputs": [],
   "source": [
    "df.head()"
   ]
  },
  {
   "cell_type": "code",
   "execution_count": null,
   "id": "168e1112",
   "metadata": {},
   "outputs": [],
   "source": [
    "def read_files():\n",
    "    list_of_files = ['C:/Users/dixit/Desktop/PAMAP2_Dataset/Protocol/subject101.dat',\n",
    "                     'C:/Users/dixit/Desktop/PAMAP2_Dataset/Protocol/subject102.dat',\n",
    "                     'C:/Users/dixit/Desktop/PAMAP2_Dataset/Protocol/subject103.dat',\n",
    "                     'C:/Users/dixit/Desktop/PAMAP2_Dataset/Protocol/subject104.dat',\n",
    "                     'C:/Users/dixit/Desktop/PAMAP2_Dataset/Protocol/subject105.dat',\n",
    "                     'C:/Users/dixit/Desktop/PAMAP2_Dataset/Protocol/subject106.dat',\n",
    "                     'C:/Users/dixit/Desktop/PAMAP2_Dataset/Protocol/subject107.dat',\n",
    "                     'C:/Users/dixit/Desktop/PAMAP2_Dataset/Protocol/subject108.dat',\n",
    "                     'C:/Users/dixit/Desktop/PAMAP2_Dataset/Protocol/subject109.dat' ]\n",
    "    \n",
    "    subjectID = [1,2,3,4,5,6,7,8,9]\n",
    "    \n",
    "\n",
    "    \n",
    "    colNames = [\"timestamp\", \"activityID\",\"heartrate\"]\n",
    "    \n",
    "    IMUhand = ['handTemperature', \n",
    "               'handAcc16_1', 'handAcc16_2', 'handAcc16_3', \n",
    "               'handAcc6_1', 'handAcc6_2', 'handAcc6_3', \n",
    "               'handGyro1', 'handGyro2', 'handGyro3', \n",
    "               'handMagne1', 'handMagne2', 'handMagne3',\n",
    "               'handOrientation1', 'handOrientation2', 'handOrientation3', 'handOrientation4']\n",
    "    \n",
    "    IMUchest = ['chestTemperature', \n",
    "               'chestAcc16_1', 'chestAcc16_2', 'chestAcc16_3', \n",
    "               'chestAcc6_1', 'chestAcc6_2', 'chestAcc6_3', \n",
    "               'chestGyro1', 'chestGyro2', 'chestGyro3', \n",
    "               'chestMagne1', 'chestMagne2', 'chestMagne3',\n",
    "               'chestOrientation1', 'chestOrientation2', 'chestOrientation3', 'chestOrientation4']\n",
    "    \n",
    "    \n",
    "    IMUankle = ['ankleTemperature', \n",
    "               'ankleAcc16_1', 'ankleAcc16_2', 'ankleAcc16_3', \n",
    "               'ankleAcc6_1', 'ankleAcc6_2', 'ankleAcc6_3', \n",
    "               'ankleGyro1', 'ankleGyro2', 'ankleGyro3', \n",
    "               'ankleMagne1', 'ankleMagne2', 'ankleMagne3',\n",
    "               'ankleOrientation1', 'ankleOrientation2', 'ankleOrientation3', 'ankleOrientation4']\n",
    "    \n",
    "    columns = colNames + IMUhand + IMUchest + IMUankle\n",
    "    \n",
    "    dataCollection = pd.DataFrame()\n",
    "    for file in list_of_files:\n",
    "        print(file,\" is reading...\")\n",
    "        procData = pd.read_table(file, header=None, sep='\\s+')\n",
    "        procData.columns = columns\n",
    "        procData['subject_id'] = int(file[-5])\n",
    "        dataCollection = dataCollection.append(procData, ignore_index=True)\n",
    "        \n",
    "    print(\"all files have been read...\")\n",
    "        \n",
    "    dataCollection.reset_index(drop=True, inplace=True)\n",
    "    \n",
    "    return dataCollection"
   ]
  },
  {
   "cell_type": "code",
   "execution_count": null,
   "id": "176f5aed",
   "metadata": {},
   "outputs": [],
   "source": [
    "data = read_files()"
   ]
  },
  {
   "cell_type": "code",
   "execution_count": null,
   "id": "10627991",
   "metadata": {},
   "outputs": [],
   "source": [
    "data.head()\n",
    "data[data['subject_id']==1]"
   ]
  },
  {
   "cell_type": "code",
   "execution_count": null,
   "id": "143ceb32",
   "metadata": {},
   "outputs": [],
   "source": [
    "data['heartrate'].isnull().sum()/len(data['heartrate']) *100\n",
    "## the feature 'heartrate' has over 90% of NAN values"
   ]
  },
  {
   "cell_type": "code",
   "execution_count": null,
   "id": "ee6876a2",
   "metadata": {},
   "outputs": [],
   "source": [
    "def dataCleaning(dataCollection):\n",
    "    dataCollection = dataCollection.drop(['timestamp', 'handOrientation1', 'handOrientation2', 'handOrientation3', 'handOrientation4',\n",
    "                                         'chestOrientation1', 'chestOrientation2', 'chestOrientation3', 'chestOrientation4',\n",
    "                                         'ankleOrientation1', 'ankleOrientation2', 'ankleOrientation3', 'ankleOrientation4'],\n",
    "                                         axis = 1)  # removal of orientation columns as they are not needed\n",
    "    dataCollection = dataCollection.drop(dataCollection[dataCollection.activityID == 0].index) #removal of any row of activity 0 as it is transient activity which it is not used\n",
    "    dataCollection = dataCollection.apply(pd.to_numeric, errors = 'coerce') #removal of non numeric data in cells\n",
    "    dataCollection = dataCollection.drop('heartrate',axis=1)#as 98% of rows has null value\n",
    "    dataCollection = dataCollection.dropna()\n",
    "    print(\"data cleaned!\")\n",
    "    return dataCollection"
   ]
  },
  {
   "cell_type": "code",
   "execution_count": null,
   "id": "d4c00322",
   "metadata": {},
   "outputs": [],
   "source": [
    "cleaned_data = dataCleaning(data)"
   ]
  },
  {
   "cell_type": "code",
   "execution_count": null,
   "id": "811b00b4",
   "metadata": {},
   "outputs": [],
   "source": [
    "cleaned_data.head()"
   ]
  },
  {
   "cell_type": "code",
   "execution_count": 15,
   "id": "e3e30a44",
   "metadata": {},
   "outputs": [],
   "source": [
    "def reset_label(dataCollection): \n",
    "    # Convert original labels {1, 2, 3, 4, 5, 6, 7, 12, 13, 16, 17, 24} to new labels. \n",
    "    mapping = {24:0,1:1,2:2,3:3,4:4,5:5,6:6,7:7,12:8,13:9,16:10,17:11} # old activity Id to new activity Id \n",
    "    for i in [24,12,13,16,17]:\n",
    "        dataCollection.loc[dataCollection.activityID == i, 'activityID'] = mapping[i]\n",
    "\n",
    "    return dataCollection"
   ]
  },
  {
   "cell_type": "code",
   "execution_count": 16,
   "id": "773c3ed7",
   "metadata": {},
   "outputs": [],
   "source": [
    "data_reset = reset_label(cleaned_data)"
   ]
  },
  {
   "cell_type": "code",
   "execution_count": 17,
   "id": "84ef722f",
   "metadata": {},
   "outputs": [],
   "source": [
    "def class_breakdown(data,col):\n",
    "    # group data by the class value and calculate the number of rows\n",
    "    counts = data.groupby(col).size()\n",
    "    # retrieve raw rows\n",
    "    counts = counts.values\n",
    "    # summarize\n",
    "    for i in range(len(counts)):\n",
    "        percent = counts[i] / len(data) * 100\n",
    "        print('Class=%d, total=%d, percentage=%.3f' % (i+1, counts[i], percent))"
   ]
  },
  {
   "cell_type": "code",
   "execution_count": 18,
   "id": "22a82f55",
   "metadata": {},
   "outputs": [
    {
     "name": "stdout",
     "output_type": "stream",
     "text": [
      "Class=1, total=47579, percentage=2.476\n",
      "Class=2, total=192290, percentage=10.008\n",
      "Class=3, total=184645, percentage=9.610\n",
      "Class=4, total=188984, percentage=9.836\n",
      "Class=5, total=229709, percentage=11.955\n",
      "Class=6, total=95641, percentage=4.978\n",
      "Class=7, total=163302, percentage=8.499\n",
      "Class=8, total=184444, percentage=9.599\n",
      "Class=9, total=117094, percentage=6.094\n",
      "Class=10, total=104865, percentage=5.458\n",
      "Class=11, total=174976, percentage=9.107\n",
      "Class=12, total=237902, percentage=12.382\n"
     ]
    }
   ],
   "source": [
    "class_breakdown(data_reset,'activityID')"
   ]
  },
  {
   "cell_type": "code",
   "execution_count": 19,
   "id": "1a12c723",
   "metadata": {},
   "outputs": [],
   "source": [
    "X=data_reset.drop(['activityID'],axis=1)\n",
    "y=data_reset['activityID']"
   ]
  },
  {
   "cell_type": "code",
   "execution_count": 20,
   "id": "391b81f3",
   "metadata": {},
   "outputs": [],
   "source": [
    "from imblearn.under_sampling import NearMiss\n",
    "from sklearn.preprocessing import LabelEncoder\n",
    "def sampling(X,y):\n",
    "    y_encoded = LabelEncoder().fit_transform(y)\n",
    "    undersample = NearMiss(version=1)\n",
    "    X_sampled,y_sampled=undersample.fit_resample(X,y_encoded)\n",
    "    return X_sampled,y_sampled"
   ]
  },
  {
   "cell_type": "code",
   "execution_count": 21,
   "id": "7a3c0f37",
   "metadata": {},
   "outputs": [],
   "source": [
    "X_sampled,y_sampled=sampling(X,y)"
   ]
  },
  {
   "cell_type": "code",
   "execution_count": 22,
   "id": "f4561637",
   "metadata": {},
   "outputs": [],
   "source": [
    "X_=X_sampled.drop('subject_id',axis=1)\n",
    "X_subID=X_sampled['subject_id']"
   ]
  },
  {
   "cell_type": "code",
   "execution_count": 23,
   "id": "dedc0cc1",
   "metadata": {},
   "outputs": [],
   "source": [
    "def scale(df):#pandas dataframe \n",
    "    features=df.columns[0:39]\n",
    "    scaler = MinMaxScaler(feature_range=(-1,1))\n",
    "    #scaler = StandardScaler()\n",
    "    #df.iloc[:,[1,-1]] = scaler.fit_transform(df.iloc[:,[1,-1]])\n",
    "    df[features]=scaler.fit_transform(df[features])\n",
    "    #df=scaler.fit_transform(df)\n",
    "    return df"
   ]
  },
  {
   "cell_type": "code",
   "execution_count": 24,
   "id": "f142460e",
   "metadata": {},
   "outputs": [],
   "source": [
    "data_scaled =scale(X_)"
   ]
  },
  {
   "cell_type": "code",
   "execution_count": 25,
   "id": "e4c175fc",
   "metadata": {},
   "outputs": [
    {
     "data": {
      "text/plain": [
       "(570948, 39)"
      ]
     },
     "execution_count": 25,
     "metadata": {},
     "output_type": "execute_result"
    }
   ],
   "source": [
    "data_scaled.shape"
   ]
  },
  {
   "cell_type": "code",
   "execution_count": 26,
   "id": "4baac737",
   "metadata": {},
   "outputs": [],
   "source": [
    "X_sampled_scaled=pd.concat([pd.DataFrame(y_sampled,columns = ['activityID']),pd.DataFrame(data_scaled)],axis=1)"
   ]
  },
  {
   "cell_type": "code",
   "execution_count": 27,
   "id": "24efd33c",
   "metadata": {},
   "outputs": [],
   "source": [
    "X_sampled_scaled=pd.concat([pd.DataFrame(X_sampled_scaled),pd.DataFrame(X_subID,columns = ['subject_id'])],axis=1)"
   ]
  },
  {
   "cell_type": "code",
   "execution_count": 28,
   "id": "da195b73",
   "metadata": {},
   "outputs": [
    {
     "data": {
      "text/html": [
       "<div>\n",
       "<style scoped>\n",
       "    .dataframe tbody tr th:only-of-type {\n",
       "        vertical-align: middle;\n",
       "    }\n",
       "\n",
       "    .dataframe tbody tr th {\n",
       "        vertical-align: top;\n",
       "    }\n",
       "\n",
       "    .dataframe thead th {\n",
       "        text-align: right;\n",
       "    }\n",
       "</style>\n",
       "<table border=\"1\" class=\"dataframe\">\n",
       "  <thead>\n",
       "    <tr style=\"text-align: right;\">\n",
       "      <th></th>\n",
       "      <th>activityID</th>\n",
       "      <th>handTemperature</th>\n",
       "      <th>handAcc16_1</th>\n",
       "      <th>handAcc16_2</th>\n",
       "      <th>handAcc16_3</th>\n",
       "      <th>handAcc6_1</th>\n",
       "      <th>handAcc6_2</th>\n",
       "      <th>handAcc6_3</th>\n",
       "      <th>handGyro1</th>\n",
       "      <th>handGyro2</th>\n",
       "      <th>...</th>\n",
       "      <th>ankleAcc6_1</th>\n",
       "      <th>ankleAcc6_2</th>\n",
       "      <th>ankleAcc6_3</th>\n",
       "      <th>ankleGyro1</th>\n",
       "      <th>ankleGyro2</th>\n",
       "      <th>ankleGyro3</th>\n",
       "      <th>ankleMagne1</th>\n",
       "      <th>ankleMagne2</th>\n",
       "      <th>ankleMagne3</th>\n",
       "      <th>subject_id</th>\n",
       "    </tr>\n",
       "  </thead>\n",
       "  <tbody>\n",
       "    <tr>\n",
       "      <th>0</th>\n",
       "      <td>0</td>\n",
       "      <td>0.000000</td>\n",
       "      <td>0.582383</td>\n",
       "      <td>0.212703</td>\n",
       "      <td>-0.561298</td>\n",
       "      <td>0.562925</td>\n",
       "      <td>0.103353</td>\n",
       "      <td>0.043748</td>\n",
       "      <td>0.132603</td>\n",
       "      <td>-0.126435</td>\n",
       "      <td>...</td>\n",
       "      <td>0.146034</td>\n",
       "      <td>-0.026100</td>\n",
       "      <td>0.155555</td>\n",
       "      <td>0.187146</td>\n",
       "      <td>0.140922</td>\n",
       "      <td>-0.170805</td>\n",
       "      <td>-0.189001</td>\n",
       "      <td>0.418305</td>\n",
       "      <td>-0.461998</td>\n",
       "      <td>1</td>\n",
       "    </tr>\n",
       "    <tr>\n",
       "      <th>1</th>\n",
       "      <td>0</td>\n",
       "      <td>0.000000</td>\n",
       "      <td>0.578270</td>\n",
       "      <td>0.214282</td>\n",
       "      <td>-0.558970</td>\n",
       "      <td>0.561514</td>\n",
       "      <td>0.107877</td>\n",
       "      <td>0.044565</td>\n",
       "      <td>0.129600</td>\n",
       "      <td>-0.126985</td>\n",
       "      <td>...</td>\n",
       "      <td>0.145298</td>\n",
       "      <td>-0.025856</td>\n",
       "      <td>0.156153</td>\n",
       "      <td>0.186261</td>\n",
       "      <td>0.142555</td>\n",
       "      <td>-0.170401</td>\n",
       "      <td>-0.206053</td>\n",
       "      <td>0.423275</td>\n",
       "      <td>-0.473034</td>\n",
       "      <td>1</td>\n",
       "    </tr>\n",
       "    <tr>\n",
       "      <th>2</th>\n",
       "      <td>0</td>\n",
       "      <td>0.000000</td>\n",
       "      <td>0.575302</td>\n",
       "      <td>0.210668</td>\n",
       "      <td>-0.563306</td>\n",
       "      <td>0.559691</td>\n",
       "      <td>0.108639</td>\n",
       "      <td>0.045814</td>\n",
       "      <td>0.126588</td>\n",
       "      <td>-0.128092</td>\n",
       "      <td>...</td>\n",
       "      <td>0.144808</td>\n",
       "      <td>-0.025611</td>\n",
       "      <td>0.156452</td>\n",
       "      <td>0.188107</td>\n",
       "      <td>0.143635</td>\n",
       "      <td>-0.166816</td>\n",
       "      <td>-0.200219</td>\n",
       "      <td>0.413122</td>\n",
       "      <td>-0.465169</td>\n",
       "      <td>1</td>\n",
       "    </tr>\n",
       "    <tr>\n",
       "      <th>3</th>\n",
       "      <td>0</td>\n",
       "      <td>0.000000</td>\n",
       "      <td>0.575302</td>\n",
       "      <td>0.195369</td>\n",
       "      <td>-0.560908</td>\n",
       "      <td>0.556952</td>\n",
       "      <td>0.100118</td>\n",
       "      <td>0.038355</td>\n",
       "      <td>0.123791</td>\n",
       "      <td>-0.127763</td>\n",
       "      <td>...</td>\n",
       "      <td>0.144804</td>\n",
       "      <td>-0.025612</td>\n",
       "      <td>0.155264</td>\n",
       "      <td>0.187273</td>\n",
       "      <td>0.140692</td>\n",
       "      <td>-0.167630</td>\n",
       "      <td>-0.200290</td>\n",
       "      <td>0.417363</td>\n",
       "      <td>-0.466728</td>\n",
       "      <td>1</td>\n",
       "    </tr>\n",
       "    <tr>\n",
       "      <th>4</th>\n",
       "      <td>0</td>\n",
       "      <td>0.000000</td>\n",
       "      <td>0.579624</td>\n",
       "      <td>0.203510</td>\n",
       "      <td>-0.562079</td>\n",
       "      <td>0.556112</td>\n",
       "      <td>0.089587</td>\n",
       "      <td>0.042141</td>\n",
       "      <td>0.128218</td>\n",
       "      <td>-0.127336</td>\n",
       "      <td>...</td>\n",
       "      <td>0.144806</td>\n",
       "      <td>-0.025856</td>\n",
       "      <td>0.155859</td>\n",
       "      <td>0.187279</td>\n",
       "      <td>0.139304</td>\n",
       "      <td>-0.168035</td>\n",
       "      <td>-0.194790</td>\n",
       "      <td>0.424258</td>\n",
       "      <td>-0.471513</td>\n",
       "      <td>1</td>\n",
       "    </tr>\n",
       "    <tr>\n",
       "      <th>...</th>\n",
       "      <td>...</td>\n",
       "      <td>...</td>\n",
       "      <td>...</td>\n",
       "      <td>...</td>\n",
       "      <td>...</td>\n",
       "      <td>...</td>\n",
       "      <td>...</td>\n",
       "      <td>...</td>\n",
       "      <td>...</td>\n",
       "      <td>...</td>\n",
       "      <td>...</td>\n",
       "      <td>...</td>\n",
       "      <td>...</td>\n",
       "      <td>...</td>\n",
       "      <td>...</td>\n",
       "      <td>...</td>\n",
       "      <td>...</td>\n",
       "      <td>...</td>\n",
       "      <td>...</td>\n",
       "      <td>...</td>\n",
       "      <td>...</td>\n",
       "    </tr>\n",
       "    <tr>\n",
       "      <th>570823</th>\n",
       "      <td>11</td>\n",
       "      <td>0.588235</td>\n",
       "      <td>0.644669</td>\n",
       "      <td>0.172532</td>\n",
       "      <td>-0.563923</td>\n",
       "      <td>0.634265</td>\n",
       "      <td>0.066371</td>\n",
       "      <td>0.040053</td>\n",
       "      <td>0.162919</td>\n",
       "      <td>-0.125323</td>\n",
       "      <td>...</td>\n",
       "      <td>0.162001</td>\n",
       "      <td>-0.008210</td>\n",
       "      <td>0.222824</td>\n",
       "      <td>0.083844</td>\n",
       "      <td>0.182750</td>\n",
       "      <td>-0.204519</td>\n",
       "      <td>-0.166470</td>\n",
       "      <td>-0.270121</td>\n",
       "      <td>0.310251</td>\n",
       "      <td>1</td>\n",
       "    </tr>\n",
       "    <tr>\n",
       "      <th>570832</th>\n",
       "      <td>11</td>\n",
       "      <td>0.564706</td>\n",
       "      <td>0.612712</td>\n",
       "      <td>0.210675</td>\n",
       "      <td>-0.548116</td>\n",
       "      <td>0.599067</td>\n",
       "      <td>0.110477</td>\n",
       "      <td>0.087806</td>\n",
       "      <td>0.087984</td>\n",
       "      <td>-0.085186</td>\n",
       "      <td>...</td>\n",
       "      <td>0.146593</td>\n",
       "      <td>-0.009239</td>\n",
       "      <td>0.173609</td>\n",
       "      <td>0.184505</td>\n",
       "      <td>0.139583</td>\n",
       "      <td>-0.168210</td>\n",
       "      <td>-0.213074</td>\n",
       "      <td>-0.165675</td>\n",
       "      <td>0.298939</td>\n",
       "      <td>1</td>\n",
       "    </tr>\n",
       "    <tr>\n",
       "      <th>570899</th>\n",
       "      <td>11</td>\n",
       "      <td>0.588235</td>\n",
       "      <td>0.439615</td>\n",
       "      <td>0.195959</td>\n",
       "      <td>-0.564177</td>\n",
       "      <td>0.416797</td>\n",
       "      <td>0.087256</td>\n",
       "      <td>0.034817</td>\n",
       "      <td>0.081955</td>\n",
       "      <td>-0.123723</td>\n",
       "      <td>...</td>\n",
       "      <td>0.134845</td>\n",
       "      <td>0.048618</td>\n",
       "      <td>0.182667</td>\n",
       "      <td>0.172377</td>\n",
       "      <td>0.156948</td>\n",
       "      <td>-0.172809</td>\n",
       "      <td>-0.199872</td>\n",
       "      <td>-0.429908</td>\n",
       "      <td>0.255842</td>\n",
       "      <td>1</td>\n",
       "    </tr>\n",
       "    <tr>\n",
       "      <th>570930</th>\n",
       "      <td>11</td>\n",
       "      <td>0.576471</td>\n",
       "      <td>0.574327</td>\n",
       "      <td>0.194468</td>\n",
       "      <td>-0.551084</td>\n",
       "      <td>0.559568</td>\n",
       "      <td>0.085570</td>\n",
       "      <td>0.067960</td>\n",
       "      <td>0.132166</td>\n",
       "      <td>-0.132640</td>\n",
       "      <td>...</td>\n",
       "      <td>0.146343</td>\n",
       "      <td>-0.010949</td>\n",
       "      <td>0.172726</td>\n",
       "      <td>0.185717</td>\n",
       "      <td>0.144283</td>\n",
       "      <td>-0.169214</td>\n",
       "      <td>-0.210238</td>\n",
       "      <td>-0.164432</td>\n",
       "      <td>0.303742</td>\n",
       "      <td>1</td>\n",
       "    </tr>\n",
       "    <tr>\n",
       "      <th>570942</th>\n",
       "      <td>11</td>\n",
       "      <td>0.588235</td>\n",
       "      <td>0.493856</td>\n",
       "      <td>0.224628</td>\n",
       "      <td>-0.581184</td>\n",
       "      <td>0.472580</td>\n",
       "      <td>0.124593</td>\n",
       "      <td>-0.005763</td>\n",
       "      <td>0.139121</td>\n",
       "      <td>-0.127447</td>\n",
       "      <td>...</td>\n",
       "      <td>0.138746</td>\n",
       "      <td>-0.019802</td>\n",
       "      <td>0.108636</td>\n",
       "      <td>0.183398</td>\n",
       "      <td>0.140448</td>\n",
       "      <td>-0.163692</td>\n",
       "      <td>-0.078707</td>\n",
       "      <td>-0.198375</td>\n",
       "      <td>0.499649</td>\n",
       "      <td>1</td>\n",
       "    </tr>\n",
       "  </tbody>\n",
       "</table>\n",
       "<p>45465 rows × 41 columns</p>\n",
       "</div>"
      ],
      "text/plain": [
       "        activityID  handTemperature  handAcc16_1  handAcc16_2  handAcc16_3  \\\n",
       "0                0         0.000000     0.582383     0.212703    -0.561298   \n",
       "1                0         0.000000     0.578270     0.214282    -0.558970   \n",
       "2                0         0.000000     0.575302     0.210668    -0.563306   \n",
       "3                0         0.000000     0.575302     0.195369    -0.560908   \n",
       "4                0         0.000000     0.579624     0.203510    -0.562079   \n",
       "...            ...              ...          ...          ...          ...   \n",
       "570823          11         0.588235     0.644669     0.172532    -0.563923   \n",
       "570832          11         0.564706     0.612712     0.210675    -0.548116   \n",
       "570899          11         0.588235     0.439615     0.195959    -0.564177   \n",
       "570930          11         0.576471     0.574327     0.194468    -0.551084   \n",
       "570942          11         0.588235     0.493856     0.224628    -0.581184   \n",
       "\n",
       "        handAcc6_1  handAcc6_2  handAcc6_3  handGyro1  handGyro2  ...  \\\n",
       "0         0.562925    0.103353    0.043748   0.132603  -0.126435  ...   \n",
       "1         0.561514    0.107877    0.044565   0.129600  -0.126985  ...   \n",
       "2         0.559691    0.108639    0.045814   0.126588  -0.128092  ...   \n",
       "3         0.556952    0.100118    0.038355   0.123791  -0.127763  ...   \n",
       "4         0.556112    0.089587    0.042141   0.128218  -0.127336  ...   \n",
       "...            ...         ...         ...        ...        ...  ...   \n",
       "570823    0.634265    0.066371    0.040053   0.162919  -0.125323  ...   \n",
       "570832    0.599067    0.110477    0.087806   0.087984  -0.085186  ...   \n",
       "570899    0.416797    0.087256    0.034817   0.081955  -0.123723  ...   \n",
       "570930    0.559568    0.085570    0.067960   0.132166  -0.132640  ...   \n",
       "570942    0.472580    0.124593   -0.005763   0.139121  -0.127447  ...   \n",
       "\n",
       "        ankleAcc6_1  ankleAcc6_2  ankleAcc6_3  ankleGyro1  ankleGyro2  \\\n",
       "0          0.146034    -0.026100     0.155555    0.187146    0.140922   \n",
       "1          0.145298    -0.025856     0.156153    0.186261    0.142555   \n",
       "2          0.144808    -0.025611     0.156452    0.188107    0.143635   \n",
       "3          0.144804    -0.025612     0.155264    0.187273    0.140692   \n",
       "4          0.144806    -0.025856     0.155859    0.187279    0.139304   \n",
       "...             ...          ...          ...         ...         ...   \n",
       "570823     0.162001    -0.008210     0.222824    0.083844    0.182750   \n",
       "570832     0.146593    -0.009239     0.173609    0.184505    0.139583   \n",
       "570899     0.134845     0.048618     0.182667    0.172377    0.156948   \n",
       "570930     0.146343    -0.010949     0.172726    0.185717    0.144283   \n",
       "570942     0.138746    -0.019802     0.108636    0.183398    0.140448   \n",
       "\n",
       "        ankleGyro3  ankleMagne1  ankleMagne2  ankleMagne3  subject_id  \n",
       "0        -0.170805    -0.189001     0.418305    -0.461998           1  \n",
       "1        -0.170401    -0.206053     0.423275    -0.473034           1  \n",
       "2        -0.166816    -0.200219     0.413122    -0.465169           1  \n",
       "3        -0.167630    -0.200290     0.417363    -0.466728           1  \n",
       "4        -0.168035    -0.194790     0.424258    -0.471513           1  \n",
       "...            ...          ...          ...          ...         ...  \n",
       "570823   -0.204519    -0.166470    -0.270121     0.310251           1  \n",
       "570832   -0.168210    -0.213074    -0.165675     0.298939           1  \n",
       "570899   -0.172809    -0.199872    -0.429908     0.255842           1  \n",
       "570930   -0.169214    -0.210238    -0.164432     0.303742           1  \n",
       "570942   -0.163692    -0.078707    -0.198375     0.499649           1  \n",
       "\n",
       "[45465 rows x 41 columns]"
      ]
     },
     "execution_count": 28,
     "metadata": {},
     "output_type": "execute_result"
    }
   ],
   "source": [
    "X_sampled_scaled[X_sampled_scaled['subject_id']==1]"
   ]
  },
  {
   "cell_type": "code",
   "execution_count": 38,
   "id": "f530347e",
   "metadata": {},
   "outputs": [],
   "source": [
    "def segment_signal(data, window_size): # data is numpy array\n",
    "    n = len(data)\n",
    "    X = []\n",
    "    y = []\n",
    "    start = 0\n",
    "    end = 0\n",
    "    while start + window_size - 1 < n:\n",
    "        end = start + window_size-1\n",
    "        # if the frame contains the same activity and from the same object\n",
    "        X.append(data[start:(end+1),1:-1])\n",
    "        y.append(data[start][0])\n",
    "        start += window_size//2 # 50% overlap\n",
    "    print(np.asarray(X).shape, np.asarray(y).shape)\n",
    "    return {'inputs' : np.asarray(X), 'labels': np.asarray(y,dtype=int)}"
   ]
  },
  {
   "cell_type": "code",
   "execution_count": 39,
   "id": "10592a8d",
   "metadata": {},
   "outputs": [
    {
     "name": "stdout",
     "output_type": "stream",
     "text": [
      "(8920, 128, 39) (8920,)\n"
     ]
    }
   ],
   "source": [
    "# data segmented\n",
    "window_size=128\n",
    "\n",
    "data_segmented=segment_signal(X_sampled_scaled.to_numpy(),window_size)"
   ]
  },
  {
   "cell_type": "code",
   "execution_count": 40,
   "id": "3867a75d",
   "metadata": {},
   "outputs": [],
   "source": [
    "def save_data(data,file_name): # save the data in h5 format\n",
    "    f = h5py.File(file_name,'w')\n",
    "    for key in data:\n",
    "        print(key)\n",
    "        f.create_dataset(key,data = data[key])       \n",
    "    f.close()\n",
    "    print('Done.')    "
   ]
  },
  {
   "cell_type": "code",
   "execution_count": 41,
   "id": "df6fe68f",
   "metadata": {},
   "outputs": [],
   "source": [
    "file_name = 'pamap_scaled.h5'"
   ]
  },
  {
   "cell_type": "code",
   "execution_count": null,
   "id": "5477325b",
   "metadata": {},
   "outputs": [],
   "source": []
  },
  {
   "cell_type": "code",
   "execution_count": 1,
   "id": "0422a493",
   "metadata": {},
   "outputs": [],
   "source": [
    "file_name = 'pamap_sampled_scaled_segmented.h5'"
   ]
  },
  {
   "cell_type": "code",
   "execution_count": 48,
   "id": "3c06e1d5",
   "metadata": {},
   "outputs": [
    {
     "name": "stdout",
     "output_type": "stream",
     "text": [
      "inputs\n",
      "labels\n",
      "Done.\n"
     ]
    }
   ],
   "source": [
    "save_data(data_segmented, file_name)"
   ]
  },
  {
   "cell_type": "code",
   "execution_count": 49,
   "id": "564ea636",
   "metadata": {},
   "outputs": [],
   "source": [
    "import sys\n",
    "from keras.models import Model\n",
    "import pandas as pd\n",
    "import numpy as np\n",
    "import matplotlib.pyplot as plt\n",
    "from scipy import stats\n",
    "import tensorflow as tf\n",
    "from sklearn import metrics\n",
    "import h5py\n",
    "import matplotlib.pyplot as plt\n",
    "from sklearn.model_selection import train_test_split\n",
    "from sklearn.metrics import confusion_matrix\n",
    "from tensorflow.keras.utils import to_categorical"
   ]
  },
  {
   "cell_type": "code",
   "execution_count": 54,
   "id": "d5f5687f",
   "metadata": {},
   "outputs": [],
   "source": [
    "path = \"C:/Users/dixit/Desktop/Ensem_HAR/Ensem_HAR-main/Implementation_on_PAMAP2/pamap_sampled_scaled_segmented.h5\""
   ]
  },
  {
   "cell_type": "code",
   "execution_count": 55,
   "id": "980785c4",
   "metadata": {},
   "outputs": [
    {
     "name": "stdout",
     "output_type": "stream",
     "text": [
      "<class 'h5py._hl.dataset.Dataset'>\n",
      "<class 'h5py._hl.dataset.Dataset'>\n"
     ]
    }
   ],
   "source": [
    "f = h5py.File(path, 'r')\n",
    "X = f.get('inputs')\n",
    "y = f.get('labels') \n",
    "print(type(X))\n",
    "print(type(y))\n",
    "X = np.array(X)\n",
    "y = np.array(y)"
   ]
  },
  {
   "cell_type": "code",
   "execution_count": 56,
   "id": "29f25aa6",
   "metadata": {},
   "outputs": [],
   "source": [
    "X_train, X_test, y_train, y_test=train_test_split(X, y, test_size=0.3, random_state = 100)"
   ]
  },
  {
   "cell_type": "code",
   "execution_count": 57,
   "id": "5e89a691",
   "metadata": {},
   "outputs": [],
   "source": [
    "X_train, X_val, y_train, y_val=train_test_split(X_train, y_train, test_size=0.3, random_state = 100)"
   ]
  },
  {
   "cell_type": "code",
   "execution_count": 58,
   "id": "a368bb69",
   "metadata": {},
   "outputs": [],
   "source": [
    "trainy_one_hot = to_categorical(y_train)\n",
    "testy_one_hot = to_categorical(y_test)"
   ]
  },
  {
   "cell_type": "code",
   "execution_count": 59,
   "id": "a04b64c1",
   "metadata": {},
   "outputs": [
    {
     "data": {
      "text/plain": [
       "((4370, 128, 39), (2676, 128, 39))"
      ]
     },
     "execution_count": 59,
     "metadata": {},
     "output_type": "execute_result"
    }
   ],
   "source": [
    "X_train.shape, X_test.shape"
   ]
  },
  {
   "cell_type": "code",
   "execution_count": null,
   "id": "c00e212c",
   "metadata": {},
   "outputs": [],
   "source": []
  }
 ],
 "metadata": {
  "kernelspec": {
   "display_name": "Python 3 (ipykernel)",
   "language": "python",
   "name": "python3"
  },
  "language_info": {
   "codemirror_mode": {
    "name": "ipython",
    "version": 3
   },
   "file_extension": ".py",
   "mimetype": "text/x-python",
   "name": "python",
   "nbconvert_exporter": "python",
   "pygments_lexer": "ipython3",
   "version": "3.10.5"
  }
 },
 "nbformat": 4,
 "nbformat_minor": 5
}
