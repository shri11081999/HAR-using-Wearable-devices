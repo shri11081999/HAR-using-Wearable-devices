{
  "cells": [
    {
      "cell_type": "code",
      "source": [
        "!pip install tensorflow-model-optimization"
      ],
      "metadata": {
        "id": "wzmW1dVfShYq",
        "outputId": "c1e4f088-b17a-4146-8407-ccb2ddc59931",
        "colab": {
          "base_uri": "https://localhost:8080/"
        }
      },
      "execution_count": 73,
      "outputs": [
        {
          "output_type": "stream",
          "name": "stdout",
          "text": [
            "Looking in indexes: https://pypi.org/simple, https://us-python.pkg.dev/colab-wheels/public/simple/\n",
            "Requirement already satisfied: tensorflow-model-optimization in /usr/local/lib/python3.8/dist-packages (0.7.3)\n",
            "Requirement already satisfied: dm-tree~=0.1.1 in /usr/local/lib/python3.8/dist-packages (from tensorflow-model-optimization) (0.1.8)\n",
            "Requirement already satisfied: numpy~=1.14 in /usr/local/lib/python3.8/dist-packages (from tensorflow-model-optimization) (1.22.4)\n",
            "Requirement already satisfied: six~=1.10 in /usr/local/lib/python3.8/dist-packages (from tensorflow-model-optimization) (1.15.0)\n"
          ]
        }
      ]
    },
    {
      "cell_type": "code",
      "execution_count": 74,
      "metadata": {
        "colab": {
          "base_uri": "https://localhost:8080/"
        },
        "id": "RqmtLDdLwCZ3",
        "outputId": "d3cfb1fe-7da7-4c47-b6c3-9741eec92a66"
      },
      "outputs": [
        {
          "output_type": "stream",
          "name": "stdout",
          "text": [
            "Drive already mounted at /content/gdrive; to attempt to forcibly remount, call drive.mount(\"/content/gdrive\", force_remount=True).\n"
          ]
        }
      ],
      "source": [
        "import numpy as np\n",
        "import pandas as pd\n",
        "from sklearn.model_selection import train_test_split\n",
        "import tensorflow as tf\n",
        "from tensorflow import keras\n",
        "from tensorflow.keras import layers\n",
        "from tensorflow_model_optimization.sparsity import keras as sparsity\n",
        "import matplotlib.pyplot as plt\n",
        "from keras.models import Sequential\n",
        "from keras.layers import Dense, Dropout, LSTM, Conv1D, MaxPooling1D, Flatten\n",
        "from keras.layers import Conv3D,Conv2D,Conv1D,MaxPooling1D, MaxPooling2D,TimeDistributed,LSTM,ConvLSTM2D, GRU\n",
        "from keras.optimizers import Adam\n",
        "from sklearn.preprocessing import LabelEncoder\n",
        "from keras.layers import TimeDistributed\n",
        "import seaborn as sns\n",
        "import h5py\n",
        "from numpy import mean\n",
        "from numpy import std\n",
        "from numpy import dstack\n",
        "from pandas import read_csv\n",
        "from matplotlib import pyplot\n",
        "from keras.models import Sequential\n",
        "from keras.layers import Dense\n",
        "from keras.layers import Flatten\n",
        "from keras.layers import Dropout\n",
        "from keras.layers.convolutional import Conv2D\n",
        "from keras.layers.convolutional import MaxPooling2D\n",
        "from keras.layers.convolutional import Conv1D\n",
        "from keras.layers.convolutional import MaxPooling1D\n",
        "from keras.utils import to_categorical\n",
        "import seaborn as sns\n",
        "import numpy as np\n",
        "from keras.callbacks import ModelCheckpoint, LearningRateScheduler, EarlyStopping\n",
        "from sklearn import metrics\n",
        "from sklearn.metrics import classification_report\n",
        "from matplotlib import pyplot as plt\n",
        "\n",
        "from google.colab import files\n",
        "from google.colab import drive\n",
        "drive.mount('/content/gdrive')"
      ]
    },
    {
      "cell_type": "code",
      "execution_count": 75,
      "metadata": {
        "id": "BF76KO27rXGJ"
      },
      "outputs": [],
      "source": [
        "# load a single file as a numpy array\n",
        "def load_file(filepath):\n",
        "    dataframe = read_csv(filepath, header=None, delim_whitespace=True)\n",
        "    return dataframe.values"
      ]
    },
    {
      "cell_type": "code",
      "execution_count": 76,
      "metadata": {
        "id": "ZIzcRO99rXGK"
      },
      "outputs": [],
      "source": [
        "# load a list of files and return as a 3d numpy array\n",
        "def load_group(filenames, prefix=''):\n",
        "    loaded = list()\n",
        "    for name in filenames:\n",
        "        data = load_file(prefix + name)\n",
        "        loaded.append(data)\n",
        "    # stack group so that features are the 3rd dimension\n",
        "    loaded = dstack(loaded)\n",
        "    return loaded"
      ]
    },
    {
      "cell_type": "code",
      "execution_count": 77,
      "metadata": {
        "id": "ynbdZYEprXGK"
      },
      "outputs": [],
      "source": [
        "# load a dataset group, such as train or test\n",
        "def load_dataset_group(group, prefix=''):\n",
        "    filepath = prefix + group + '/Inertial Signals/'\n",
        "    print('File Path : ',filepath)\n",
        "    # load all 9 files as a single array\n",
        "    filenames = list()\n",
        "    # total acceleration\n",
        "    filenames += ['total_acc_x_'+group+'.txt', 'total_acc_y_'+group+'.txt', 'total_acc_z_'+group+'.txt']\n",
        "    # body acceleration\n",
        "    filenames += ['body_acc_x_'+group+'.txt', 'body_acc_y_'+group+'.txt', 'body_acc_z_'+group+'.txt']\n",
        "    # body gyroscope\n",
        "    filenames += ['body_gyro_x_'+group+'.txt', 'body_gyro_y_'+group+'.txt', 'body_gyro_z_'+group+'.txt']\n",
        "    # load input data\n",
        "    X = load_group(filenames, filepath)\n",
        "    # load class output\n",
        "    y = load_file(prefix + group + '/y_'+group+'.txt')\n",
        "    return X, y"
      ]
    },
    {
      "cell_type": "code",
      "source": [
        "# load the dataset, returns train and test X and y elements\n",
        "def load_dataset(prefix=''):\n",
        "    # load all train\n",
        "    trainX, trainy = load_dataset_group('train', prefix + '/content/gdrive/MyDrive/UCI HAR Dataset/')\n",
        "    # load all test\n",
        "    testX, testy = load_dataset_group('test', prefix + '/content/gdrive/MyDrive/UCI HAR Dataset/')\n",
        "    \n",
        "    #zero-offset class values\n",
        "    trainy = trainy - 1\n",
        "    testy = testy - 1\n",
        "    #one hot encode y\n",
        "    trainy_one_hot = to_categorical(trainy)\n",
        "    testy_one_hot = to_categorical(testy)\n",
        "    print(trainX.shape, trainy.shape, trainy_one_hot.shape, testX.shape, testy.shape, testy_one_hot.shape)\n",
        "    return trainX, trainy, trainy_one_hot, testX, testy, testy_one_hot"
      ],
      "metadata": {
        "id": "naEpkOKdp-ke"
      },
      "execution_count": 78,
      "outputs": []
    },
    {
      "cell_type": "code",
      "source": [
        "trainX, trainy, trainy_one_hot, testX, testy, testy_one_hot = load_dataset()"
      ],
      "metadata": {
        "id": "GN4_D_nNqX5g",
        "outputId": "4d3ba484-344e-45e5-dca4-a1757450d7fa",
        "colab": {
          "base_uri": "https://localhost:8080/"
        }
      },
      "execution_count": 79,
      "outputs": [
        {
          "output_type": "stream",
          "name": "stdout",
          "text": [
            "File Path :  /content/gdrive/MyDrive/UCI HAR Dataset/train/Inertial Signals/\n",
            "File Path :  /content/gdrive/MyDrive/UCI HAR Dataset/test/Inertial Signals/\n",
            "(7352, 128, 9) (7352, 1) (7352, 6) (2947, 128, 9) (2947, 1) (2947, 6)\n"
          ]
        }
      ]
    },
    {
      "cell_type": "code",
      "source": [
        "from sklearn.model_selection import train_test_split\n",
        "X_train,X_val,y_train_one_hot,y_val_one_hot,y_train,y_val=train_test_split(trainX, trainy_one_hot, trainy,test_size=0.3,random_state=100)"
      ],
      "metadata": {
        "id": "FBwxbhByqfVF"
      },
      "execution_count": 80,
      "outputs": []
    },
    {
      "cell_type": "code",
      "source": [
        "X_train.shape, X_val.shape, y_train_one_hot.shape, y_val_one_hot.shape, y_train.shape, y_val.shape"
      ],
      "metadata": {
        "id": "tVFIBuL2qiGJ",
        "outputId": "12c2185a-15ef-4050-e963-650a237b4432",
        "colab": {
          "base_uri": "https://localhost:8080/"
        }
      },
      "execution_count": 81,
      "outputs": [
        {
          "output_type": "execute_result",
          "data": {
            "text/plain": [
              "((5146, 128, 9), (2206, 128, 9), (5146, 6), (2206, 6), (5146, 1), (2206, 1))"
            ]
          },
          "metadata": {},
          "execution_count": 81
        }
      ]
    },
    {
      "cell_type": "code",
      "source": [
        "n_timesteps, n_features, n_outputs = X_train.shape[1], X_train.shape[2], y_train_one_hot.shape[1]"
      ],
      "metadata": {
        "id": "Ibzr_TmQqkpQ"
      },
      "execution_count": 82,
      "outputs": []
    },
    {
      "cell_type": "code",
      "source": [
        "n_timesteps, n_features, n_outputs "
      ],
      "metadata": {
        "id": "iCTjlS6tqn3m",
        "outputId": "c04c14e8-bc39-4667-caa1-485a8e83df79",
        "colab": {
          "base_uri": "https://localhost:8080/"
        }
      },
      "execution_count": 83,
      "outputs": [
        {
          "output_type": "execute_result",
          "data": {
            "text/plain": [
              "(128, 9, 6)"
            ]
          },
          "metadata": {},
          "execution_count": 83
        }
      ]
    },
    {
      "cell_type": "markdown",
      "source": [
        "# **CNN-LSTM**"
      ],
      "metadata": {
        "id": "dHiz6h76sOxS"
      }
    },
    {
      "cell_type": "code",
      "source": [
        "model = tf.keras.Sequential([\n",
        "    tf.keras.layers.Conv1D(filters=64, kernel_size=3, activation='relu', input_shape=(n_timesteps, n_features)),\n",
        "    tf.keras.layers.Conv1D(filters=64, kernel_size=3, activation='relu'),\n",
        "    #tf.keras.layers.BatchNormalization(),\n",
        "    tf.keras.layers.MaxPooling1D(pool_size=2),\n",
        "    tf.keras.layers.LSTM(units=64, activation='tanh', dropout=0.5),\n",
        "    tf.keras.layers.Dense(n_outputs, activation='softmax')\n",
        "])\n",
        "model.summary()"
      ],
      "metadata": {
        "id": "JFjJRbR7f1Lr",
        "outputId": "b941839b-bfd1-489a-b0c9-f265e9c2404e",
        "colab": {
          "base_uri": "https://localhost:8080/"
        }
      },
      "execution_count": 12,
      "outputs": [
        {
          "output_type": "stream",
          "name": "stdout",
          "text": [
            "Model: \"sequential\"\n",
            "_________________________________________________________________\n",
            " Layer (type)                Output Shape              Param #   \n",
            "=================================================================\n",
            " conv1d (Conv1D)             (None, 126, 64)           1792      \n",
            "                                                                 \n",
            " conv1d_1 (Conv1D)           (None, 124, 64)           12352     \n",
            "                                                                 \n",
            " max_pooling1d (MaxPooling1D  (None, 62, 64)           0         \n",
            " )                                                               \n",
            "                                                                 \n",
            " lstm (LSTM)                 (None, 64)                33024     \n",
            "                                                                 \n",
            " dense (Dense)               (None, 6)                 390       \n",
            "                                                                 \n",
            "=================================================================\n",
            "Total params: 47,558\n",
            "Trainable params: 47,558\n",
            "Non-trainable params: 0\n",
            "_________________________________________________________________\n"
          ]
        }
      ]
    },
    {
      "cell_type": "code",
      "source": [
        "model.compile(loss='categorical_crossentropy', optimizer='adam', metrics=['accuracy'])"
      ],
      "metadata": {
        "id": "c1WzwXXPXKZY"
      },
      "execution_count": 13,
      "outputs": []
    },
    {
      "cell_type": "code",
      "source": [
        "history = model.fit(X_train, y_train_one_hot, validation_data=(X_val, y_val_one_hot), epochs=10, batch_size=32)"
      ],
      "metadata": {
        "id": "E8MsSHsNXO8t",
        "outputId": "4bc28d00-5fae-4f07-e84a-6ea2e7982a7d",
        "colab": {
          "base_uri": "https://localhost:8080/"
        }
      },
      "execution_count": 14,
      "outputs": [
        {
          "output_type": "stream",
          "name": "stdout",
          "text": [
            "Epoch 1/10\n",
            "161/161 [==============================] - 19s 79ms/step - loss: 0.8632 - accuracy: 0.6049 - val_loss: 0.5788 - val_accuracy: 0.7548\n",
            "Epoch 2/10\n",
            "161/161 [==============================] - 12s 73ms/step - loss: 0.4444 - accuracy: 0.8286 - val_loss: 0.2805 - val_accuracy: 0.9012\n",
            "Epoch 3/10\n",
            "161/161 [==============================] - 11s 65ms/step - loss: 0.2730 - accuracy: 0.9005 - val_loss: 0.1869 - val_accuracy: 0.9343\n",
            "Epoch 4/10\n",
            "161/161 [==============================] - 12s 75ms/step - loss: 0.1869 - accuracy: 0.9306 - val_loss: 0.1858 - val_accuracy: 0.9284\n",
            "Epoch 5/10\n",
            "161/161 [==============================] - 12s 76ms/step - loss: 0.1514 - accuracy: 0.9415 - val_loss: 0.1506 - val_accuracy: 0.9279\n",
            "Epoch 6/10\n",
            "161/161 [==============================] - 14s 88ms/step - loss: 0.1521 - accuracy: 0.9365 - val_loss: 0.1304 - val_accuracy: 0.9519\n",
            "Epoch 7/10\n",
            "161/161 [==============================] - 16s 97ms/step - loss: 0.1236 - accuracy: 0.9483 - val_loss: 0.1377 - val_accuracy: 0.9465\n",
            "Epoch 8/10\n",
            "161/161 [==============================] - 12s 76ms/step - loss: 0.1245 - accuracy: 0.9503 - val_loss: 0.2383 - val_accuracy: 0.9152\n",
            "Epoch 9/10\n",
            "161/161 [==============================] - 12s 76ms/step - loss: 0.1474 - accuracy: 0.9400 - val_loss: 0.1275 - val_accuracy: 0.9461\n",
            "Epoch 10/10\n",
            "161/161 [==============================] - 11s 67ms/step - loss: 0.1322 - accuracy: 0.9452 - val_loss: 0.1411 - val_accuracy: 0.9501\n"
          ]
        }
      ]
    },
    {
      "cell_type": "code",
      "source": [
        "test_loss, test_acc = model.evaluate(X_val, y_val_one_hot)\n",
        "print('Test loss:', test_loss)\n",
        "print('Test accuracy:', test_acc)"
      ],
      "metadata": {
        "id": "pg_t91oTsbUl",
        "outputId": "164a1513-ef31-4f54-9462-e56036ae1684",
        "colab": {
          "base_uri": "https://localhost:8080/"
        }
      },
      "execution_count": 15,
      "outputs": [
        {
          "output_type": "stream",
          "name": "stdout",
          "text": [
            "69/69 [==============================] - 1s 16ms/step - loss: 0.1411 - accuracy: 0.9501\n",
            "Test loss: 0.1410888135433197\n",
            "Test accuracy: 0.9501360058784485\n"
          ]
        }
      ]
    },
    {
      "cell_type": "code",
      "source": [
        "import matplotlib.pyplot as plt"
      ],
      "metadata": {
        "id": "iFWFGtMQsiFt"
      },
      "execution_count": 16,
      "outputs": []
    },
    {
      "cell_type": "code",
      "source": [
        "plt.figure(figsize=(6, 4))\n",
        "plt.plot(history.history['accuracy'], 'r', label='Accuracy of training data')\n",
        "plt.plot(history.history['val_accuracy'], 'b', label='Accuracy of validation data')\n",
        "plt.plot(history.history['loss'], 'r--', label='Loss of training data')\n",
        "plt.plot(history.history['val_loss'], 'b--', label='Loss of validation data')\n",
        "plt.title('Model Accuracy and Loss')\n",
        "plt.ylabel('Accuracy and Loss')\n",
        "plt.xlabel('Training Epoch')\n",
        "plt.ylim(0)\n",
        "plt.legend()\n",
        "plt.show()"
      ],
      "metadata": {
        "id": "sBhiM43Aqoz_",
        "colab": {
          "base_uri": "https://localhost:8080/",
          "height": 295
        },
        "outputId": "ec391c11-206c-45ef-bfa4-1898029674ec"
      },
      "execution_count": 17,
      "outputs": [
        {
          "output_type": "display_data",
          "data": {
            "text/plain": [
              "<Figure size 432x288 with 1 Axes>"
            ],
            "image/png": "[encoded data removed]"
          },
          "metadata": {
            "needs_background": "light"
          }
        }
      ]
    },
    {
      "cell_type": "code",
      "source": [
        "# increase the size of the graphs. The default size is (6,4).\n",
        "plt.rcParams[\"figure.figsize\"] = (6,4)\n",
        "\n",
        "# graph the loss, the model above is configure to use \"mean squared error\" as the loss function\n",
        "loss = history.history['loss']\n",
        "val_loss = history.history['val_loss']\n",
        "epochs = range(1, len(loss) + 1)\n",
        "plt.plot(epochs, loss, 'g.', linestyle='solid', label='Training loss')\n",
        "plt.plot(epochs, val_loss, 'b', linestyle='solid', label='Validation loss')\n",
        "plt.title('Training and validation loss')\n",
        "plt.xlabel('Epochs')\n",
        "plt.ylabel('Loss')\n",
        "plt.legend()\n",
        "plt.show()\n",
        "\n",
        "print(plt.rcParams[\"figure.figsize\"])"
      ],
      "metadata": {
        "colab": {
          "base_uri": "https://localhost:8080/",
          "height": 312
        },
        "id": "fmqh-cn0W-EJ",
        "outputId": "b63b29d4-97dc-4cd1-9211-ebc69b44c360"
      },
      "execution_count": 18,
      "outputs": [
        {
          "output_type": "display_data",
          "data": {
            "text/plain": [
              "<Figure size 432x288 with 1 Axes>"
            ],
            "image/png": "[encoded data removed]"
          },
          "metadata": {
            "needs_background": "light"
          }
        },
        {
          "output_type": "stream",
          "name": "stdout",
          "text": [
            "[6.0, 4.0]\n"
          ]
        }
      ]
    },
    {
      "cell_type": "code",
      "source": [
        "# graph of mean absolute error\n",
        "mae = history.history['accuracy']\n",
        "val_mae = history.history['val_accuracy']\n",
        "plt.plot(epochs, mae, 'g.', linestyle='solid', label='Training Accuracy')\n",
        "plt.plot(epochs, val_mae, 'b.', linestyle='solid', label='Validation Accuracy')\n",
        "plt.title('Training and validation accuracy')\n",
        "plt.xlabel('Epochs')\n",
        "plt.ylabel('MAE')\n",
        "plt.legend()\n",
        "plt.show()"
      ],
      "metadata": {
        "id": "4KxEdiOYsqln",
        "outputId": "c3b1d44f-fe7a-47df-b233-b033c79fdfd7",
        "colab": {
          "base_uri": "https://localhost:8080/",
          "height": 295
        }
      },
      "execution_count": 19,
      "outputs": [
        {
          "output_type": "display_data",
          "data": {
            "text/plain": [
              "<Figure size 432x288 with 1 Axes>"
            ],
            "image/png": "[encoded data removed]"
          },
          "metadata": {
            "needs_background": "light"
          }
        }
      ]
    },
    {
      "cell_type": "markdown",
      "source": [
        "**Confusion matrix**"
      ],
      "metadata": {
        "id": "QZIBbGRZP4wT"
      }
    },
    {
      "cell_type": "code",
      "source": [
        "# use the model to predict the test inputs\n",
        "predictions = model.predict(X_val)"
      ],
      "metadata": {
        "id": "4prp_uNGPw4E",
        "colab": {
          "base_uri": "https://localhost:8080/"
        },
        "outputId": "97f127d7-e933-401a-f9fe-4180ec4c8917"
      },
      "execution_count": 20,
      "outputs": [
        {
          "output_type": "stream",
          "name": "stdout",
          "text": [
            "69/69 [==============================] - 2s 16ms/step\n"
          ]
        }
      ]
    },
    {
      "cell_type": "code",
      "source": [
        "cm = tf.math.confusion_matrix(labels=tf.argmax(y_val_one_hot, 1), predictions=tf.argmax(predictions, 1))\n",
        "axis_labels = ['WALKING', 'WALKING_UPSTAIRS', 'WALKING_DOWNSTAIRS', 'SITTING', 'STANDING', 'LAYING']\n",
        "figure = plt.figure(figsize=(6, 4))\n",
        "sns.heatmap(cm, annot=True,cmap=plt.cm.Blues,xticklabels=axis_labels, yticklabels=axis_labels)\n",
        "plt.ylim(len(cm)-0, 0)\n",
        "plt.tight_layout()\n",
        "plt.ylabel('True label')\n",
        "plt.xlabel('Predicted label')\n",
        "plt.show()"
      ],
      "metadata": {
        "colab": {
          "base_uri": "https://localhost:8080/",
          "height": 311
        },
        "id": "YhZC4wd1P3aU",
        "outputId": "be0b53f8-fca9-48a8-aaf5-301237d3f8ef"
      },
      "execution_count": 21,
      "outputs": [
        {
          "output_type": "display_data",
          "data": {
            "text/plain": [
              "<Figure size 432x288 with 2 Axes>"
            ],
            "image/png": "[encoded data removed]"
          },
          "metadata": {
            "needs_background": "light"
          }
        }
      ]
    },
    {
      "cell_type": "markdown",
      "source": [
        "# CNN"
      ],
      "metadata": {
        "id": "aoNfLseExhM3"
      }
    },
    {
      "cell_type": "code",
      "source": [
        "model = tf.keras.Sequential([\n",
        "    tf.keras.layers.Conv1D(filters=64, kernel_size=3, activation='relu', input_shape=(n_timesteps, n_features)),\n",
        "    tf.keras.layers.Conv1D(filters=64, kernel_size=3, activation='relu'),\n",
        "    #tf.keras.layers.BatchNormalization(),\n",
        "    tf.keras.layers.MaxPooling1D(pool_size=2),\n",
        "    tf.keras.layers.Conv1D(filters=64, kernel_size=3, activation='relu'),\n",
        "    tf.keras.layers.MaxPooling1D(pool_size=2),\n",
        "    tf.keras.layers.Conv1D(filters=64, kernel_size=3, activation='relu'),\n",
        "    tf.keras.layers.MaxPooling1D(pool_size=2),\n",
        "    tf.keras.layers.Flatten(),\n",
        "    tf.keras.layers.Dense(n_outputs, activation='softmax')\n",
        "])\n",
        "model.summary()"
      ],
      "metadata": {
        "colab": {
          "base_uri": "https://localhost:8080/"
        },
        "id": "tF-m0em86-zR",
        "outputId": "f14268c0-23ce-400b-aaef-37dca8b4d601"
      },
      "execution_count": 49,
      "outputs": [
        {
          "output_type": "stream",
          "name": "stdout",
          "text": [
            "Model: \"sequential_1\"\n",
            "_________________________________________________________________\n",
            " Layer (type)                Output Shape              Param #   \n",
            "=================================================================\n",
            " conv1d_2 (Conv1D)           (None, 126, 64)           1792      \n",
            "                                                                 \n",
            " conv1d_3 (Conv1D)           (None, 124, 64)           12352     \n",
            "                                                                 \n",
            " max_pooling1d_1 (MaxPooling  (None, 62, 64)           0         \n",
            " 1D)                                                             \n",
            "                                                                 \n",
            " conv1d_4 (Conv1D)           (None, 60, 64)            12352     \n",
            "                                                                 \n",
            " max_pooling1d_2 (MaxPooling  (None, 30, 64)           0         \n",
            " 1D)                                                             \n",
            "                                                                 \n",
            " conv1d_5 (Conv1D)           (None, 28, 64)            12352     \n",
            "                                                                 \n",
            " max_pooling1d_3 (MaxPooling  (None, 14, 64)           0         \n",
            " 1D)                                                             \n",
            "                                                                 \n",
            " flatten (Flatten)           (None, 896)               0         \n",
            "                                                                 \n",
            " dense_1 (Dense)             (None, 6)                 5382      \n",
            "                                                                 \n",
            "=================================================================\n",
            "Total params: 44,230\n",
            "Trainable params: 44,230\n",
            "Non-trainable params: 0\n",
            "_________________________________________________________________\n"
          ]
        }
      ]
    },
    {
      "cell_type": "code",
      "source": [
        "model.compile(loss='categorical_crossentropy', optimizer='adam', metrics=['accuracy'])"
      ],
      "metadata": {
        "id": "MozdslgDllRL"
      },
      "execution_count": 50,
      "outputs": []
    },
    {
      "cell_type": "code",
      "source": [
        "history = model.fit(X_train, y_train_one_hot, validation_data=(X_val, y_val_one_hot), epochs=10, batch_size=32)"
      ],
      "metadata": {
        "id": "iF8KaIfxvj15",
        "outputId": "c4c0d49f-282e-493a-e1a0-e1a32ad67b63",
        "colab": {
          "base_uri": "https://localhost:8080/"
        }
      },
      "execution_count": 51,
      "outputs": [
        {
          "output_type": "stream",
          "name": "stdout",
          "text": [
            "Epoch 1/10\n",
            "161/161 [==============================] - 17s 77ms/step - loss: 0.5728 - accuracy: 0.7567 - val_loss: 0.2520 - val_accuracy: 0.9021\n",
            "Epoch 2/10\n",
            "161/161 [==============================] - 12s 74ms/step - loss: 0.1853 - accuracy: 0.9335 - val_loss: 0.1607 - val_accuracy: 0.9438\n",
            "Epoch 3/10\n",
            "161/161 [==============================] - 11s 71ms/step - loss: 0.1337 - accuracy: 0.9448 - val_loss: 0.1302 - val_accuracy: 0.9510\n",
            "Epoch 4/10\n",
            "161/161 [==============================] - 13s 79ms/step - loss: 0.1201 - accuracy: 0.9504 - val_loss: 0.1184 - val_accuracy: 0.9519\n",
            "Epoch 5/10\n",
            "161/161 [==============================] - 6s 37ms/step - loss: 0.1056 - accuracy: 0.9526 - val_loss: 0.1125 - val_accuracy: 0.9519\n",
            "Epoch 6/10\n",
            "161/161 [==============================] - 6s 36ms/step - loss: 0.1058 - accuracy: 0.9528 - val_loss: 0.1333 - val_accuracy: 0.9442\n",
            "Epoch 7/10\n",
            "161/161 [==============================] - 6s 38ms/step - loss: 0.1113 - accuracy: 0.9522 - val_loss: 0.1408 - val_accuracy: 0.9379\n",
            "Epoch 8/10\n",
            "161/161 [==============================] - 6s 39ms/step - loss: 0.0961 - accuracy: 0.9584 - val_loss: 0.0988 - val_accuracy: 0.9556\n",
            "Epoch 9/10\n",
            "161/161 [==============================] - 8s 48ms/step - loss: 0.1170 - accuracy: 0.9526 - val_loss: 0.1103 - val_accuracy: 0.9533\n",
            "Epoch 10/10\n",
            "161/161 [==============================] - 5s 30ms/step - loss: 0.1245 - accuracy: 0.9528 - val_loss: 0.1034 - val_accuracy: 0.9542\n"
          ]
        }
      ]
    },
    {
      "cell_type": "code",
      "source": [
        "test_loss, test_acc = model.evaluate(X_val, y_val_one_hot)\n",
        "print('Test loss:', test_loss)\n",
        "print('Test accuracy:', test_acc)"
      ],
      "metadata": {
        "id": "sIzVfqKIvpYg",
        "outputId": "6a54b92c-41bd-4e70-e28e-2c4d134de6ed",
        "colab": {
          "base_uri": "https://localhost:8080/"
        }
      },
      "execution_count": 52,
      "outputs": [
        {
          "output_type": "stream",
          "name": "stdout",
          "text": [
            "69/69 [==============================] - 1s 8ms/step - loss: 0.1034 - accuracy: 0.9542\n",
            "Test loss: 0.10337499529123306\n",
            "Test accuracy: 0.9542157649993896\n"
          ]
        }
      ]
    },
    {
      "cell_type": "code",
      "source": [
        "plt.figure(figsize=(6, 4))\n",
        "plt.plot(history.history['accuracy'], 'r', label='Accuracy of training data')\n",
        "plt.plot(history.history['val_accuracy'], 'b', label='Accuracy of validation data')\n",
        "plt.plot(history.history['loss'], 'r--', label='Loss of training data')\n",
        "plt.plot(history.history['val_loss'], 'b--', label='Loss of validation data')\n",
        "plt.title('Model Accuracy and Loss')\n",
        "plt.ylabel('Accuracy and Loss')\n",
        "plt.xlabel('Training Epoch')\n",
        "plt.ylim(0)\n",
        "plt.legend()\n",
        "plt.show()"
      ],
      "metadata": {
        "colab": {
          "base_uri": "https://localhost:8080/",
          "height": 295
        },
        "id": "FXL8jxw9Qbix",
        "outputId": "9e495a7c-3260-4f6b-a3d3-8366d657c0de"
      },
      "execution_count": 57,
      "outputs": [
        {
          "output_type": "display_data",
          "data": {
            "text/plain": [
              "<Figure size 432x288 with 1 Axes>"
            ],
            "image/png": "[encoded data removed]"
          },
          "metadata": {
            "needs_background": "light"
          }
        }
      ]
    },
    {
      "cell_type": "code",
      "source": [
        "# increase the size of the graphs. The default size is (6,4).\n",
        "plt.rcParams[\"figure.figsize\"] = (6,4)\n",
        "\n",
        "# graph the loss, the model above is configure to use \"mean squared error\" as the loss function\n",
        "loss = history.history['loss']\n",
        "val_loss = history.history['val_loss']\n",
        "epochs = range(1, len(loss) + 1)\n",
        "plt.plot(epochs, loss, 'g.', linestyle='solid', label='Training loss')\n",
        "plt.plot(epochs, val_loss, 'b', linestyle='solid', label='Validation loss')\n",
        "plt.title('Training and validation loss')\n",
        "plt.xlabel('Epochs')\n",
        "plt.ylabel('Loss')\n",
        "plt.legend()\n",
        "plt.show()\n",
        "\n",
        "print(plt.rcParams[\"figure.figsize\"])"
      ],
      "metadata": {
        "id": "wEtPD2y6v0WG",
        "outputId": "8ec0e5b6-8406-4407-dc75-d7cd941def50",
        "colab": {
          "base_uri": "https://localhost:8080/",
          "height": 312
        }
      },
      "execution_count": 53,
      "outputs": [
        {
          "output_type": "display_data",
          "data": {
            "text/plain": [
              "<Figure size 432x288 with 1 Axes>"
            ],
            "image/png": "[encoded data removed]"
          },
          "metadata": {
            "needs_background": "light"
          }
        },
        {
          "output_type": "stream",
          "name": "stdout",
          "text": [
            "[6.0, 4.0]\n"
          ]
        }
      ]
    },
    {
      "cell_type": "code",
      "source": [
        "# graph of mean absolute error\n",
        "mae = history.history['accuracy']\n",
        "val_mae = history.history['val_accuracy']\n",
        "plt.plot(epochs, mae, 'g.', linestyle='solid', label='Training Accuracy')\n",
        "plt.plot(epochs, val_mae, 'b.', linestyle='solid', label='Validation Accuracy')\n",
        "plt.title('Training and validation accuracy')\n",
        "plt.xlabel('Epochs')\n",
        "plt.ylabel('MAE')\n",
        "plt.legend()\n",
        "plt.show()"
      ],
      "metadata": {
        "id": "9IkzubNlv33m",
        "outputId": "32ada6cf-01bb-44de-f84c-3e26495799a2",
        "colab": {
          "base_uri": "https://localhost:8080/",
          "height": 295
        }
      },
      "execution_count": 54,
      "outputs": [
        {
          "output_type": "display_data",
          "data": {
            "text/plain": [
              "<Figure size 432x288 with 1 Axes>"
            ],
            "image/png": "[encoded data removed]"
          },
          "metadata": {
            "needs_background": "light"
          }
        }
      ]
    },
    {
      "cell_type": "markdown",
      "source": [
        "**Confusion Matrix**"
      ],
      "metadata": {
        "id": "qcGlOcRKPQjs"
      }
    },
    {
      "cell_type": "code",
      "source": [
        "# use the model to predict the test inputs\n",
        "predictions = model.predict(X_val)"
      ],
      "metadata": {
        "colab": {
          "base_uri": "https://localhost:8080/"
        },
        "id": "HWfJYjl3Najt",
        "outputId": "63719c7d-74ac-4417-8123-e2d83c097356"
      },
      "execution_count": 55,
      "outputs": [
        {
          "output_type": "stream",
          "name": "stdout",
          "text": [
            "69/69 [==============================] - 1s 8ms/step\n"
          ]
        }
      ]
    },
    {
      "cell_type": "code",
      "source": [
        "cm = tf.math.confusion_matrix(labels=tf.argmax(y_val_one_hot, 1), predictions=tf.argmax(predictions, 1))\n",
        "axis_labels = ['WALKING', 'WALKING_UPSTAIRS', 'WALKING_DOWNSTAIRS', 'SITTING', 'STANDING', 'LAYING']\n",
        "figure = plt.figure(figsize=(6, 4))\n",
        "sns.heatmap(cm, annot=True,cmap=plt.cm.Blues,xticklabels=axis_labels, yticklabels=axis_labels)\n",
        "plt.ylim(len(cm)-0, 0)\n",
        "plt.tight_layout()\n",
        "plt.ylabel('True label')\n",
        "plt.xlabel('Predicted label')\n",
        "plt.show()"
      ],
      "metadata": {
        "colab": {
          "base_uri": "https://localhost:8080/",
          "height": 311
        },
        "id": "9RtSXuGtNaWC",
        "outputId": "1d3dfe7e-a6a8-4de8-db40-5d23c93b217d"
      },
      "execution_count": 56,
      "outputs": [
        {
          "output_type": "display_data",
          "data": {
            "text/plain": [
              "<Figure size 432x288 with 2 Axes>"
            ],
            "image/png": "[encoded data removed]"
          },
          "metadata": {
            "needs_background": "light"
          }
        }
      ]
    },
    {
      "cell_type": "markdown",
      "source": [
        "# **CNN-GRU**"
      ],
      "metadata": {
        "id": "Hth0qDJ8vPGb"
      }
    },
    {
      "cell_type": "code",
      "source": [
        "model = tf.keras.Sequential([\n",
        "    tf.keras.layers.Conv1D(filters=64, kernel_size=3, activation='relu', input_shape=(n_timesteps, n_features)),\n",
        "    #tf.keras.layers.BatchNormalization(),\n",
        "    tf.keras.layers.MaxPooling1D(pool_size=2),\n",
        "    tf.keras.layers.GRU(units=64, activation='tanh'),\n",
        "    tf.keras.layers.Dropout(0.5),\n",
        "    tf.keras.layers.Dense(n_outputs, activation='softmax')\n",
        "])\n",
        "model.summary()"
      ],
      "metadata": {
        "id": "uuzaUhvEXFFm",
        "outputId": "e67c25c9-12ef-4b51-be03-0de68fa45d33",
        "colab": {
          "base_uri": "https://localhost:8080/"
        }
      },
      "execution_count": 84,
      "outputs": [
        {
          "output_type": "stream",
          "name": "stdout",
          "text": [
            "Model: \"sequential_2\"\n",
            "_________________________________________________________________\n",
            " Layer (type)                Output Shape              Param #   \n",
            "=================================================================\n",
            " conv1d_6 (Conv1D)           (None, 126, 64)           1792      \n",
            "                                                                 \n",
            " max_pooling1d_4 (MaxPooling  (None, 63, 64)           0         \n",
            " 1D)                                                             \n",
            "                                                                 \n",
            " gru (GRU)                   (None, 64)                24960     \n",
            "                                                                 \n",
            " dropout (Dropout)           (None, 64)                0         \n",
            "                                                                 \n",
            " dense_2 (Dense)             (None, 6)                 390       \n",
            "                                                                 \n",
            "=================================================================\n",
            "Total params: 27,142\n",
            "Trainable params: 27,142\n",
            "Non-trainable params: 0\n",
            "_________________________________________________________________\n"
          ]
        }
      ]
    },
    {
      "cell_type": "code",
      "source": [
        "model.compile(loss='categorical_crossentropy', optimizer='adam', metrics=['accuracy'])"
      ],
      "metadata": {
        "id": "ugIos9dStYj7"
      },
      "execution_count": 85,
      "outputs": []
    },
    {
      "cell_type": "code",
      "source": [
        "history = model.fit(X_train, y_train_one_hot, validation_data=(X_val, y_val_one_hot), epochs=10, batch_size=32)"
      ],
      "metadata": {
        "id": "CRgdml-QtYQ9",
        "outputId": "41cacf01-d921-4df8-9065-a38882a2ffc6",
        "colab": {
          "base_uri": "https://localhost:8080/"
        }
      },
      "execution_count": 86,
      "outputs": [
        {
          "output_type": "stream",
          "name": "stdout",
          "text": [
            "Epoch 1/10\n",
            "161/161 [==============================] - 28s 129ms/step - loss: 1.0212 - accuracy: 0.5579 - val_loss: 0.6362 - val_accuracy: 0.7335\n",
            "Epoch 2/10\n",
            "161/161 [==============================] - 19s 117ms/step - loss: 0.4847 - accuracy: 0.7979 - val_loss: 0.3353 - val_accuracy: 0.8622\n",
            "Epoch 3/10\n",
            "161/161 [==============================] - 21s 129ms/step - loss: 0.2797 - accuracy: 0.9077 - val_loss: 0.2242 - val_accuracy: 0.9252\n",
            "Epoch 4/10\n",
            "161/161 [==============================] - 21s 126ms/step - loss: 0.1863 - accuracy: 0.9332 - val_loss: 0.1638 - val_accuracy: 0.9383\n",
            "Epoch 5/10\n",
            "161/161 [==============================] - 14s 88ms/step - loss: 0.1618 - accuracy: 0.9433 - val_loss: 0.1433 - val_accuracy: 0.9519\n",
            "Epoch 6/10\n",
            "161/161 [==============================] - 9s 55ms/step - loss: 0.1500 - accuracy: 0.9440 - val_loss: 0.1364 - val_accuracy: 0.9524\n",
            "Epoch 7/10\n",
            "161/161 [==============================] - 10s 60ms/step - loss: 0.1492 - accuracy: 0.9421 - val_loss: 0.1337 - val_accuracy: 0.9492\n",
            "Epoch 8/10\n",
            "161/161 [==============================] - 12s 72ms/step - loss: 0.1324 - accuracy: 0.9471 - val_loss: 0.1564 - val_accuracy: 0.9429\n",
            "Epoch 9/10\n",
            "161/161 [==============================] - 12s 76ms/step - loss: 0.1266 - accuracy: 0.9497 - val_loss: 0.1281 - val_accuracy: 0.9470\n",
            "Epoch 10/10\n",
            "161/161 [==============================] - 9s 55ms/step - loss: 0.1507 - accuracy: 0.9401 - val_loss: 0.1259 - val_accuracy: 0.9474\n"
          ]
        }
      ]
    },
    {
      "cell_type": "code",
      "source": [
        "test_loss, test_acc = model.evaluate(X_val, y_val_one_hot)\n",
        "print('Test loss:', test_loss)\n",
        "print('Test accuracy:', test_acc)"
      ],
      "metadata": {
        "id": "Ik1U3yfXtYKI",
        "outputId": "e0ab0947-ede7-4a3b-9a5d-618701d17fc1",
        "colab": {
          "base_uri": "https://localhost:8080/"
        }
      },
      "execution_count": 87,
      "outputs": [
        {
          "output_type": "stream",
          "name": "stdout",
          "text": [
            "69/69 [==============================] - 1s 13ms/step - loss: 0.1259 - accuracy: 0.9474\n",
            "Test loss: 0.12588942050933838\n",
            "Test accuracy: 0.9474161267280579\n"
          ]
        }
      ]
    },
    {
      "cell_type": "code",
      "source": [
        "import matplotlib.pyplot as plt"
      ],
      "metadata": {
        "id": "qTKl7zKZtX4N"
      },
      "execution_count": 88,
      "outputs": []
    },
    {
      "cell_type": "code",
      "source": [
        "plt.figure(figsize=(6, 4))\n",
        "plt.plot(history.history['accuracy'], 'r', label='Accuracy of training data')\n",
        "plt.plot(history.history['val_accuracy'], 'b', label='Accuracy of validation data')\n",
        "plt.plot(history.history['loss'], 'r--', label='Loss of training data')\n",
        "plt.plot(history.history['val_loss'], 'b--', label='Loss of validation data')\n",
        "plt.title('Model Accuracy and Loss')\n",
        "plt.ylabel('Accuracy and Loss')\n",
        "plt.xlabel('Training Epoch')\n",
        "plt.ylim(0)\n",
        "plt.legend()\n",
        "plt.show()"
      ],
      "metadata": {
        "colab": {
          "base_uri": "https://localhost:8080/",
          "height": 295
        },
        "id": "mIr9_Me5SBU0",
        "outputId": "03e85289-47a6-4cef-9fd5-64db07524b16"
      },
      "execution_count": 109,
      "outputs": [
        {
          "output_type": "display_data",
          "data": {
            "text/plain": [
              "<Figure size 432x288 with 1 Axes>"
            ],
            "image/png": "[encoded data removed]"
          },
          "metadata": {
            "needs_background": "light"
          }
        }
      ]
    },
    {
      "cell_type": "code",
      "source": [
        "# increase the size of the graphs. The default size is (6,4).\n",
        "plt.rcParams[\"figure.figsize\"] = (6,4)\n",
        "\n",
        "# graph the loss, the model above is configure to use \"mean squared error\" as the loss function\n",
        "loss = history.history['loss']\n",
        "val_loss = history.history['val_loss']\n",
        "epochs = range(1, len(loss) + 1)\n",
        "plt.plot(epochs, loss, 'g.', linestyle='solid', label='Training loss')\n",
        "plt.plot(epochs, val_loss, 'b', linestyle='solid', label='Validation loss')\n",
        "plt.title('Training and validation loss')\n",
        "plt.xlabel('Epochs')\n",
        "plt.ylabel('Loss')\n",
        "plt.legend()\n",
        "plt.show()\n",
        "\n",
        "print(plt.rcParams[\"figure.figsize\"])"
      ],
      "metadata": {
        "id": "4lLdivf3tXy9",
        "outputId": "2a43a575-b3d7-456d-a170-165573799df6",
        "colab": {
          "base_uri": "https://localhost:8080/",
          "height": 312
        }
      },
      "execution_count": 89,
      "outputs": [
        {
          "output_type": "display_data",
          "data": {
            "text/plain": [
              "<Figure size 432x288 with 1 Axes>"
            ],
            "image/png": "[encoded data removed]"
          },
          "metadata": {
            "needs_background": "light"
          }
        },
        {
          "output_type": "stream",
          "name": "stdout",
          "text": [
            "[6.0, 4.0]\n"
          ]
        }
      ]
    },
    {
      "cell_type": "code",
      "source": [
        "# graph of mean absolute error\n",
        "mae = history.history['accuracy']\n",
        "val_mae = history.history['val_accuracy']\n",
        "plt.plot(epochs, mae, 'g.', linestyle='solid', label='Training Accuracy')\n",
        "plt.plot(epochs, val_mae, 'b.', linestyle='solid', label='Validation Accuracy')\n",
        "plt.title('Training and validation accuracy')\n",
        "plt.xlabel('Epochs')\n",
        "plt.ylabel('MAE')\n",
        "plt.legend()\n",
        "plt.show()"
      ],
      "metadata": {
        "id": "HeL8_kfBuK3E",
        "outputId": "fe37b6e3-e444-4962-c914-e947458aa67c",
        "colab": {
          "base_uri": "https://localhost:8080/",
          "height": 295
        }
      },
      "execution_count": 90,
      "outputs": [
        {
          "output_type": "display_data",
          "data": {
            "text/plain": [
              "<Figure size 432x288 with 1 Axes>"
            ],
            "image/png": "[encoded data removed]"
          },
          "metadata": {
            "needs_background": "light"
          }
        }
      ]
    },
    {
      "cell_type": "markdown",
      "source": [
        "**Confusion Matrix**"
      ],
      "metadata": {
        "id": "Pyb6NeZmFquj"
      }
    },
    {
      "cell_type": "code",
      "source": [
        "# use the model to predict the test inputs\n",
        "predictions = model.predict(X_val)"
      ],
      "metadata": {
        "colab": {
          "base_uri": "https://localhost:8080/"
        },
        "id": "lGbNneWxFGB0",
        "outputId": "7266c441-a9f6-499e-fcc7-4e3c27040bc5"
      },
      "execution_count": 91,
      "outputs": [
        {
          "output_type": "stream",
          "name": "stdout",
          "text": [
            "69/69 [==============================] - 1s 13ms/step\n"
          ]
        }
      ]
    },
    {
      "cell_type": "code",
      "source": [
        "cm = tf.math.confusion_matrix(labels=tf.argmax(y_val_one_hot, 1), predictions=tf.argmax(predictions, 1))\n",
        "axis_labels = ['WALKING', 'WALKING_UPSTAIRS', 'WALKING_DOWNSTAIRS', 'SITTING', 'STANDING', 'LAYING']\n",
        "figure = plt.figure(figsize=(6, 4))\n",
        "sns.heatmap(cm, annot=True,cmap=plt.cm.Blues,xticklabels=axis_labels, yticklabels=axis_labels)\n",
        "plt.ylim(len(cm)-0, 0)\n",
        "plt.tight_layout()\n",
        "plt.ylabel('True label')\n",
        "plt.xlabel('Predicted label')\n",
        "plt.show()"
      ],
      "metadata": {
        "colab": {
          "base_uri": "https://localhost:8080/",
          "height": 311
        },
        "id": "Agjie4O7FJ8T",
        "outputId": "ad48a958-96da-42c1-e9c0-605bfeabfc23"
      },
      "execution_count": 92,
      "outputs": [
        {
          "output_type": "display_data",
          "data": {
            "text/plain": [
              "<Figure size 432x288 with 2 Axes>"
            ],
            "image/png": "[encoded data removed]"
          },
          "metadata": {
            "needs_background": "light"
          }
        }
      ]
    },
    {
      "cell_type": "markdown",
      "source": [
        "# Save model"
      ],
      "metadata": {
        "id": "zlgo6LSoTJlU"
      }
    },
    {
      "cell_type": "code",
      "source": [
        "model.save('model.h5')"
      ],
      "metadata": {
        "id": "Zbk68z8ptIvy"
      },
      "execution_count": 93,
      "outputs": []
    },
    {
      "cell_type": "markdown",
      "source": [
        "# Conversion of model to tensorflow lite model"
      ],
      "metadata": {
        "id": "fiOg1G_r24as"
      }
    },
    {
      "cell_type": "code",
      "source": [
        "# Convert the model to the TensorFlow Lite format without quantization\n",
        "converter = tf.lite.TFLiteConverter.from_keras_model(model)\n",
        "converter._experimental_lower_tensor_list_ops = False\n",
        "converter.target_spec.supported_ops = [tf.lite.OpsSet.TFLITE_BUILTINS, tf.lite.OpsSet.SELECT_TF_OPS]\n",
        "tflite_model = converter.convert()\n",
        "\n",
        "# Save the model to disk\n",
        "open(\"model.tflite\", \"wb\").write(tflite_model)\n",
        "\n",
        "import os\n",
        "basic_model_size = os.path.getsize(\"model.tflite\")\n",
        "print(\"Model is %d bytes\" % basic_model_size)\n"
      ],
      "metadata": {
        "id": "i_oXcgm7tIyy",
        "outputId": "82d8eb8f-1492-464c-85ee-9d779aefae31",
        "colab": {
          "base_uri": "https://localhost:8080/"
        }
      },
      "execution_count": 94,
      "outputs": [
        {
          "output_type": "stream",
          "name": "stderr",
          "text": [
            "WARNING:absl:Found untraced functions such as _jit_compiled_convolution_op, _update_step_xla, gru_cell_layer_call_fn, gru_cell_layer_call_and_return_conditional_losses while saving (showing 4 of 4). These functions will not be directly callable after loading.\n"
          ]
        },
        {
          "output_type": "stream",
          "name": "stdout",
          "text": [
            "Model is 121796 bytes\n"
          ]
        }
      ]
    },
    {
      "cell_type": "markdown",
      "source": [
        "# Creating Model Header File"
      ],
      "metadata": {
        "id": "zWdy9ugA28Ka"
      }
    },
    {
      "cell_type": "code",
      "source": [
        "# Compile the TensorFlow Lite model into a C source file\n",
        "!xxd -i model.tflite > model.cc\n",
        "\n",
        "# Create a header file from the C source file\n",
        "!sed 's/unsigned/const unsigned/g' model.cc > model.h\n",
        "\n",
        "import os\n",
        "model_h_size = os.path.getsize(\"model.h\")\n",
        "print(f\"Header file, model.h, is {model_h_size:,} bytes.\")"
      ],
      "metadata": {
        "id": "byo-UZLRtI11",
        "outputId": "3978f830-d1f9-457f-9818-fc22ba47dacd",
        "colab": {
          "base_uri": "https://localhost:8080/"
        }
      },
      "execution_count": 95,
      "outputs": [
        {
          "output_type": "stream",
          "name": "stdout",
          "text": [
            "Header file, model.h, is 751,163 bytes.\n"
          ]
        }
      ]
    },
    {
      "cell_type": "markdown",
      "source": [
        "# Pruning the model and Fit the pruning model"
      ],
      "metadata": {
        "id": "CiRJgx6N2-Bh"
      }
    },
    {
      "cell_type": "code",
      "source": [
        "import tensorflow_model_optimization as tfmot\n",
        "\n",
        "pruning_schedule = tfmot.sparsity.keras.PolynomialDecay(\n",
        "    initial_sparsity=0.0,\n",
        "    final_sparsity=0.5,\n",
        "    begin_step=0,\n",
        "    end_step=1000\n",
        ")\n",
        "\n",
        "pruned_model = tfmot.sparsity.keras.prune_low_magnitude(model, pruning_schedule=pruning_schedule)\n",
        "pruned_model.summary()\n",
        "\n",
        "import tempfile\n",
        "\n",
        "logdir = tempfile.mkdtemp()\n",
        "\n",
        "callbacks = [\n",
        "    sparsity.UpdatePruningStep(),\n",
        "    sparsity.PruningSummaries(log_dir=logdir, profile_batch=0),\n",
        "    tf.keras.callbacks.ReduceLROnPlateau(monitor='val_loss',min_lr=0.0001)\n",
        "\n",
        "]\n",
        "pruned_model.compile(optimizer='adam', loss='categorical_crossentropy', metrics=['accuracy'])\n",
        "#history = model.fit(X_train, y_train_one_hot, validation_data=(X_val, y_val_one_hot), epochs=10, batch_size=32)\n",
        "his = pruned_model.fit(X_train, y_train_one_hot, epochs = 10, batch_size=32, callbacks=callbacks, validation_data= (X_val, y_val_one_hot), verbose=1)\n",
        "\n",
        "\n",
        "score = pruned_model.evaluate(X_val, y_val_one_hot, verbose=0)\n",
        "print('Test loss:', score[0])\n",
        "print('Test accuracy:', score[1])"
      ],
      "metadata": {
        "colab": {
          "base_uri": "https://localhost:8080/"
        },
        "id": "N3g9qtjIhibY",
        "outputId": "b0347713-328b-4cd8-ffa0-69d93ce16867"
      },
      "execution_count": 96,
      "outputs": [
        {
          "output_type": "stream",
          "name": "stdout",
          "text": [
            "Model: \"sequential_2\"\n",
            "_________________________________________________________________\n",
            " Layer (type)                Output Shape              Param #   \n",
            "=================================================================\n",
            " prune_low_magnitude_conv1d_  (None, 126, 64)          3522      \n",
            " 6 (PruneLowMagnitude)                                           \n",
            "                                                                 \n",
            " prune_low_magnitude_max_poo  (None, 63, 64)           1         \n",
            " ling1d_4 (PruneLowMagnitude                                     \n",
            " )                                                               \n",
            "                                                                 \n",
            " prune_low_magnitude_gru (Pr  (None, 64)               49539     \n",
            " uneLowMagnitude)                                                \n",
            "                                                                 \n",
            " prune_low_magnitude_dropout  (None, 64)               1         \n",
            "  (PruneLowMagnitude)                                            \n",
            "                                                                 \n",
            " prune_low_magnitude_dense_2  (None, 6)                776       \n",
            "  (PruneLowMagnitude)                                            \n",
            "                                                                 \n",
            "=================================================================\n",
            "Total params: 53,839\n",
            "Trainable params: 27,142\n",
            "Non-trainable params: 26,697\n",
            "_________________________________________________________________\n",
            "Epoch 1/10\n",
            "161/161 [==============================] - 16s 76ms/step - loss: 0.1256 - accuracy: 0.9466 - val_loss: 0.1253 - val_accuracy: 0.9483 - lr: 0.0010\n",
            "Epoch 2/10\n",
            "161/161 [==============================] - 11s 68ms/step - loss: 0.1161 - accuracy: 0.9510 - val_loss: 0.1122 - val_accuracy: 0.9569 - lr: 0.0010\n",
            "Epoch 3/10\n",
            "161/161 [==============================] - 10s 61ms/step - loss: 0.1208 - accuracy: 0.9473 - val_loss: 0.1205 - val_accuracy: 0.9447 - lr: 0.0010\n",
            "Epoch 4/10\n",
            "161/161 [==============================] - 10s 62ms/step - loss: 0.1269 - accuracy: 0.9462 - val_loss: 0.1132 - val_accuracy: 0.9542 - lr: 0.0010\n",
            "Epoch 5/10\n",
            "161/161 [==============================] - 11s 68ms/step - loss: 0.1150 - accuracy: 0.9528 - val_loss: 0.1270 - val_accuracy: 0.9433 - lr: 0.0010\n",
            "Epoch 6/10\n",
            "161/161 [==============================] - 9s 54ms/step - loss: 0.1181 - accuracy: 0.9497 - val_loss: 0.1372 - val_accuracy: 0.9451 - lr: 0.0010\n",
            "Epoch 7/10\n",
            "161/161 [==============================] - 10s 63ms/step - loss: 0.1119 - accuracy: 0.9524 - val_loss: 0.1136 - val_accuracy: 0.9488 - lr: 0.0010\n",
            "Epoch 8/10\n",
            "161/161 [==============================] - 10s 64ms/step - loss: 0.1112 - accuracy: 0.9506 - val_loss: 0.1078 - val_accuracy: 0.9556 - lr: 0.0010\n",
            "Epoch 9/10\n",
            "161/161 [==============================] - 9s 54ms/step - loss: 0.1179 - accuracy: 0.9501 - val_loss: 0.1347 - val_accuracy: 0.9429 - lr: 0.0010\n",
            "Epoch 10/10\n",
            "161/161 [==============================] - 10s 61ms/step - loss: 0.1099 - accuracy: 0.9530 - val_loss: 0.1119 - val_accuracy: 0.9542 - lr: 0.0010\n",
            "Test loss: 0.1118810772895813\n",
            "Test accuracy: 0.9542157649993896\n"
          ]
        }
      ]
    },
    {
      "cell_type": "markdown",
      "source": [
        "**Strip the pruning model**"
      ],
      "metadata": {
        "id": "HIQpn6TB3EjA"
      }
    },
    {
      "cell_type": "code",
      "source": [
        "pruned_model = sparsity.strip_pruning(pruned_model)\n",
        "pruned_model.summary()"
      ],
      "metadata": {
        "id": "tXtjdgmFnonb",
        "colab": {
          "base_uri": "https://localhost:8080/"
        },
        "outputId": "51d6ea86-0d49-4770-a810-b68ae0acfde0"
      },
      "execution_count": 97,
      "outputs": [
        {
          "output_type": "stream",
          "name": "stdout",
          "text": [
            "Model: \"sequential_2\"\n",
            "_________________________________________________________________\n",
            " Layer (type)                Output Shape              Param #   \n",
            "=================================================================\n",
            " conv1d_6 (Conv1D)           (None, 126, 64)           1792      \n",
            "                                                                 \n",
            " max_pooling1d_4 (MaxPooling  (None, 63, 64)           0         \n",
            " 1D)                                                             \n",
            "                                                                 \n",
            " gru (GRU)                   (None, 64)                24960     \n",
            "                                                                 \n",
            " dropout (Dropout)           (None, 64)                0         \n",
            "                                                                 \n",
            " dense_2 (Dense)             (None, 6)                 390       \n",
            "                                                                 \n",
            "=================================================================\n",
            "Total params: 27,142\n",
            "Trainable params: 27,142\n",
            "Non-trainable params: 0\n",
            "_________________________________________________________________\n"
          ]
        }
      ]
    },
    {
      "cell_type": "code",
      "source": [
        "pruned_model.compile(\n",
        "    loss=[\"mse\"],\n",
        "    optimizer=\"adam\",\n",
        "    metrics=['accuracy']\n",
        ")\n"
      ],
      "metadata": {
        "id": "SV6FpGEonoqO"
      },
      "execution_count": 98,
      "outputs": []
    },
    {
      "cell_type": "markdown",
      "source": [
        "**Confusion matrix of pruned model**"
      ],
      "metadata": {
        "id": "gyo9CHQw3IkY"
      }
    },
    {
      "cell_type": "code",
      "source": [
        "predictions_p = pruned_model.predict(X_val)\n",
        "cm = tf.math.confusion_matrix(labels=tf.argmax(y_val_one_hot, 1), predictions=tf.argmax(predictions_p, 1))\n",
        "axis_labels = ['WALKING', 'WALKING_UPSTAIRS', 'WALKING_DOWNSTAIRS', 'SITTING', 'STANDING', 'LAYING']\n",
        "figure = plt.figure(figsize=(6, 4))\n",
        "sns.heatmap(cm, annot=True,cmap=plt.cm.Blues,xticklabels=axis_labels, yticklabels=axis_labels)\n",
        "plt.tight_layout()\n",
        "plt.ylim(len(cm)-0, 0)\n",
        "plt.ylabel('True label')\n",
        "plt.xlabel('Predicted label')\n",
        "plt.show()"
      ],
      "metadata": {
        "id": "L6kfiL4Mnrxi",
        "colab": {
          "base_uri": "https://localhost:8080/",
          "height": 0
        },
        "outputId": "288e9a89-b03b-4ab9-eb6b-0b3acbc74431"
      },
      "execution_count": 99,
      "outputs": [
        {
          "output_type": "stream",
          "name": "stdout",
          "text": [
            "69/69 [==============================] - 1s 15ms/step\n"
          ]
        },
        {
          "output_type": "display_data",
          "data": {
            "text/plain": [
              "<Figure size 432x288 with 2 Axes>"
            ],
            "image/png": "[encoded data removed]"
          },
          "metadata": {
            "needs_background": "light"
          }
        }
      ]
    },
    {
      "cell_type": "markdown",
      "source": [
        "**Weights of pruned model**"
      ],
      "metadata": {
        "id": "qLTdwubY3MtS"
      }
    },
    {
      "cell_type": "code",
      "source": [
        "from tensorflow.keras.models import load_model\n",
        "import numpy as np\n",
        "\n",
        "for i, w in enumerate(pruned_model.get_weights()):\n",
        "    print(\n",
        "        \"{} -- Total:{}, Zeros: {:.2f}%\".format(\n",
        "            pruned_model.weights[i].name, w.size, np.sum(w == 0) / w.size * 100\n",
        "        )\n",
        "    )"
      ],
      "metadata": {
        "id": "2OtgQ--Jnr0p",
        "colab": {
          "base_uri": "https://localhost:8080/"
        },
        "outputId": "f06be723-cb34-4942-f96f-8f4fe37967a2"
      },
      "execution_count": 100,
      "outputs": [
        {
          "output_type": "stream",
          "name": "stdout",
          "text": [
            "conv1d_6/kernel:0 -- Total:1728, Zeros: 50.00%\n",
            "conv1d_6/bias:0 -- Total:64, Zeros: 0.00%\n",
            "gru/gru_cell/kernel:0 -- Total:12288, Zeros: 50.00%\n",
            "gru/gru_cell/recurrent_kernel:0 -- Total:12288, Zeros: 50.00%\n",
            "gru/gru_cell/bias:0 -- Total:384, Zeros: 0.00%\n",
            "dense_2/kernel:0 -- Total:384, Zeros: 50.00%\n",
            "dense_2/bias:0 -- Total:6, Zeros: 0.00%\n"
          ]
        }
      ]
    },
    {
      "cell_type": "markdown",
      "source": [
        "# Converting pruned model to tflite model"
      ],
      "metadata": {
        "id": "8Rmr8U6T3RM9"
      }
    },
    {
      "cell_type": "code",
      "source": [
        "# Convert pruned model to TFLite model\n",
        "converter = tf.lite.TFLiteConverter.from_keras_model(pruned_model)\n",
        "converter.optimizations = [tf.lite.Optimize.DEFAULT]\n",
        "converter.target_spec.supported_ops = [tf.lite.OpsSet.TFLITE_BUILTINS, tf.lite.OpsSet.SELECT_TF_OPS]\n",
        "converter.experimental_lower_tensor_list_ops = False\n",
        "tflite_pruned_model = converter.convert()\n",
        "\n",
        "# Save the TFLite model to disk\n",
        "with open('pruned_model.tflite', 'wb') as f:\n",
        "    f.write(tflite_pruned_model)\n",
        "\n",
        "# Print size of TFLite model\n",
        "pruned_model_size = os.path.getsize(\"pruned_model.tflite\")\n",
        "print(\"Pruned model size: %d bytes\" % pruned_model_size)"
      ],
      "metadata": {
        "id": "sDVjQnEvnr3h",
        "colab": {
          "base_uri": "https://localhost:8080/"
        },
        "outputId": "8f87f8dd-2393-4311-eb1d-8d02bf5db514"
      },
      "execution_count": 101,
      "outputs": [
        {
          "output_type": "stream",
          "name": "stderr",
          "text": [
            "WARNING:absl:Found untraced functions such as _jit_compiled_convolution_op, _update_step_xla, gru_cell_layer_call_fn, gru_cell_layer_call_and_return_conditional_losses while saving (showing 4 of 4). These functions will not be directly callable after loading.\n"
          ]
        },
        {
          "output_type": "stream",
          "name": "stdout",
          "text": [
            "Pruned model size: 43800 bytes\n"
          ]
        }
      ]
    },
    {
      "cell_type": "markdown",
      "source": [
        "# Creating Pruned Model Header File"
      ],
      "metadata": {
        "id": "YSLgeyD_3VC4"
      }
    },
    {
      "cell_type": "code",
      "source": [
        "# Compile the TensorFlow Lite model into a C source file\n",
        "!xxd -i pruned_model.tflite > Pmodel.cc\n",
        "\n",
        "# Create a header file from the C source file\n",
        "!sed 's/unsigned/const unsigned/g' Pmodel.cc > Pmodel.h\n",
        "\n",
        "import os\n",
        "model_h_size = os.path.getsize(\"Pmodel.h\")\n",
        "print(f\"Header file, Pmodel.h, is {model_h_size:,} bytes.\")\n"
      ],
      "metadata": {
        "id": "E57n07PYnr6Q",
        "colab": {
          "base_uri": "https://localhost:8080/"
        },
        "outputId": "6b2483f3-866a-4e9c-8057-3e8559a74a4f"
      },
      "execution_count": 102,
      "outputs": [
        {
          "output_type": "stream",
          "name": "stdout",
          "text": [
            "Header file, Pmodel.h, is 270,200 bytes.\n"
          ]
        }
      ]
    },
    {
      "cell_type": "code",
      "source": [
        "pruned_model.save('pruned_model.h5')"
      ],
      "metadata": {
        "id": "X4-S0PeXnxTg"
      },
      "execution_count": 103,
      "outputs": []
    },
    {
      "cell_type": "markdown",
      "source": [
        "# Quantization of pruned model"
      ],
      "metadata": {
        "id": "LWGPq-4h3ZIS"
      }
    },
    {
      "cell_type": "code",
      "source": [
        "# Define a function to generate representative data for quantization\n",
        "def representative_data_gen():\n",
        "  for input_value in np.array(X_train, dtype=np.float32):\n",
        "    yield [np.expand_dims(input_value, axis=0)]\n",
        "\n",
        "\n",
        "\n",
        "# Convert the Keras model to a TensorFlow Lite model with quantization\n",
        "pruned_model = tf.keras.models.load_model('pruned_model.h5')\n",
        "\n",
        "converter = tf.lite.TFLiteConverter.from_keras_model(pruned_model)\n",
        "converter.optimizations = [tf.lite.Optimize.DEFAULT]\n",
        "converter.representative_dataset = representative_data_gen\n",
        "converter.target_spec.supported_ops = [tf.lite.OpsSet.TFLITE_BUILTINS, tf.lite.OpsSet.SELECT_TF_OPS]\n",
        "converter._experimental_lower_tensor_list_ops = False\n",
        "pruned_quantized_tflite_model = converter.convert()\n",
        "\n",
        "# Save the quantized model to disk\n",
        "with open(\"pruned_quantized_model.tflite\", \"wb\") as f:\n",
        "    f.write(pruned_quantized_tflite_model)\n",
        "\n",
        "# Check the size of the quantized model\n",
        "quantized_model_size = os.path.getsize(\"pruned_quantized_model.tflite\")\n",
        "print(\"pruned_quantized_model is %d bytes\" % quantized_model_size)"
      ],
      "metadata": {
        "colab": {
          "base_uri": "https://localhost:8080/"
        },
        "id": "k7HTQbhPhypM",
        "outputId": "9cf1975a-e0fb-4bf7-8f57-58878fde1afb"
      },
      "execution_count": 104,
      "outputs": [
        {
          "output_type": "stream",
          "name": "stderr",
          "text": [
            "WARNING:absl:Found untraced functions such as _jit_compiled_convolution_op, _update_step_xla, gru_cell_1_layer_call_fn, gru_cell_1_layer_call_and_return_conditional_losses while saving (showing 4 of 4). These functions will not be directly callable after loading.\n",
            "/usr/local/lib/python3.8/dist-packages/tensorflow/lite/python/convert.py:765: UserWarning: Statistics for quantized inputs were expected, but not specified; continuing anyway.\n",
            "  warnings.warn(\"Statistics for quantized inputs were expected, but not \"\n"
          ]
        },
        {
          "output_type": "stream",
          "name": "stdout",
          "text": [
            "pruned_quantized_model is 44504 bytes\n"
          ]
        }
      ]
    },
    {
      "cell_type": "markdown",
      "source": [
        "# Creating Quantized Model Header File"
      ],
      "metadata": {
        "id": "nifgNyQ03cmc"
      }
    },
    {
      "cell_type": "code",
      "source": [
        "# Compile the TensorFlow Lite model into a C source file\n",
        "!xxd -i pruned_quantized_model.tflite > Pqmodel.cc\n",
        "\n",
        "# Create a header file from the C source file\n",
        "!sed 's/unsigned/const unsigned/g' Pqmodel.cc > Pqmodel.h\n",
        "\n",
        "import os\n",
        "Pqmodel_h_size = os.path.getsize(\"Pqmodel.h\")\n",
        "print(f\"Header file, Pqmodel.h, is {Pqmodel_h_size:,} bytes.\")"
      ],
      "metadata": {
        "id": "Ym2jXTFcnos_",
        "colab": {
          "base_uri": "https://localhost:8080/"
        },
        "outputId": "ce5612ed-6cb8-42d1-ff99-61bd0b7c908b"
      },
      "execution_count": 105,
      "outputs": [
        {
          "output_type": "stream",
          "name": "stdout",
          "text": [
            "Header file, Pqmodel.h, is 274,562 bytes.\n"
          ]
        }
      ]
    },
    {
      "cell_type": "markdown",
      "source": [
        "# Evaluating the Quantized Model"
      ],
      "metadata": {
        "id": "W628a1UC3in4"
      }
    },
    {
      "cell_type": "code",
      "source": [
        "import numpy as np\n",
        "\n",
        "def evaluate_model(interpreter):\n",
        "  input_index = interpreter.get_input_details()[0][\"index\"]\n",
        "  output_index = interpreter.get_output_details()[0][\"index\"]\n",
        "  arr = []\n",
        "  # Run predictions on ever y image in the \"test\" dataset.\n",
        "  prediction_digits = []\n",
        "  for i, test_image in enumerate(X_val):\n",
        "    # Pre-processing: add batch dimension and convert to float32 to match with\n",
        "    # the model's input data format.\n",
        "    test_image = np.expand_dims(test_image, axis=0).astype(np.float32)\n",
        "    # print(test_image)\n",
        "    interpreter.set_tensor(input_index, test_image)\n",
        "\n",
        "    # Run inference.\n",
        "    interpreter.invoke()\n",
        "\n",
        "    # Post-processing: remove batch dimension and find the digit with highest\n",
        "    # probability.\n",
        "    output = interpreter.tensor(output_index)\n",
        "    digit = np.argmax(output()[0])\n",
        "    prediction_digits.append(digit)\n",
        "\n",
        "  # Compare prediction results with ground truth labels to calculate accuracy.\n",
        "  prediction_digits = np.array(prediction_digits)\n",
        "\n",
        "  for i in range(0,len(y_val_one_hot)):\n",
        "    arr.append(np.argmax(y_val_one_hot[i]))\n",
        "  accuracy = (prediction_digits == np.array(arr)).mean()\n",
        "  return accuracy"
      ],
      "metadata": {
        "id": "vLEd4Zrd2mOm"
      },
      "execution_count": 106,
      "outputs": []
    },
    {
      "cell_type": "code",
      "source": [
        "# Pruned and Quantized model accuracy\n",
        "interpreter = tf.lite.Interpreter(model_content=pruned_quantized_tflite_model)\n",
        "interpreter.allocate_tensors()\n",
        "\n",
        "test_accuracy = evaluate_model(interpreter)\n",
        "\n",
        "print('Pruned and quantized TFLite test_accuracy:', test_accuracy)"
      ],
      "metadata": {
        "colab": {
          "base_uri": "https://localhost:8080/"
        },
        "id": "7aTJeptS4qAC",
        "outputId": "51f91836-7253-44e6-a04c-9f36e275197c"
      },
      "execution_count": 107,
      "outputs": [
        {
          "output_type": "stream",
          "name": "stdout",
          "text": [
            "Pruned and quantized TFLite test_accuracy: 0.9528558476881233\n"
          ]
        }
      ]
    },
    {
      "cell_type": "code",
      "source": [
        "# Pruned model accuracy\n",
        "interpreter1 = tf.lite.Interpreter(model_content=tflite_pruned_model)\n",
        "interpreter1.allocate_tensors()\n",
        "\n",
        "test_accuracy_ = evaluate_model(interpreter1)\n",
        "print('Pruned TF test accuracy:', test_accuracy_)"
      ],
      "metadata": {
        "colab": {
          "base_uri": "https://localhost:8080/"
        },
        "id": "noWvo49o3vYx",
        "outputId": "e4089270-16fd-46d3-e2fc-7739ba2ad12f"
      },
      "execution_count": 108,
      "outputs": [
        {
          "output_type": "stream",
          "name": "stdout",
          "text": [
            "Pruned TF test accuracy: 0.9542157751586582\n"
          ]
        }
      ]
    }
  ],
  "metadata": {
    "kernelspec": {
      "display_name": "Python 3",
      "language": "python",
      "name": "python3"
    },
    "language_info": {
      "codemirror_mode": {
        "name": "ipython",
        "version": 3
      },
      "file_extension": ".py",
      "mimetype": "text/x-python",
      "name": "python",
      "nbconvert_exporter": "python",
      "pygments_lexer": "ipython3",
      "version": "3.6.7"
    },
    "colab": {
      "provenance": []
    },
    "accelerator": "GPU",
    "gpuClass": "standard"
  },
  "nbformat": 4,
  "nbformat_minor": 0
}