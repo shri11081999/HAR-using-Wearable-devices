{
 "cells": [
  {
   "cell_type": "markdown",
   "metadata": {},
   "source": [
    "# UCI - Human Action Recognition - Deep-Learning"
   ]
  },
  {
   "cell_type": "markdown",
   "metadata": {},
   "source": [
    "### import"
   ]
  },
  {
   "cell_type": "code",
   "execution_count": 34,
   "metadata": {},
   "outputs": [],
   "source": [
    "import numpy as np\n",
    "import pandas as pd\n",
    "from sklearn.metrics import confusion_matrix\n",
    "import tensorflow as tf"
   ]
  },
  {
   "cell_type": "code",
   "execution_count": 6,
   "metadata": {},
   "outputs": [],
   "source": [
    "np.random.seed(42)\n",
    "tf.set_random_seed(42)"
   ]
  },
  {
   "cell_type": "code",
   "execution_count": 39,
   "metadata": {},
   "outputs": [],
   "source": [
    "# Importing libraries\n",
    "from keras import backend as K\n",
    "from keras.models import Sequential\n",
    "from keras.layers import LSTM, TimeDistributed, Conv1D, MaxPooling1D, Flatten\n",
    "from keras.layers.core import Dense, Dropout"
   ]
  },
  {
   "cell_type": "markdown",
   "metadata": {},
   "source": [
    "### Load Data"
   ]
  },
  {
   "cell_type": "code",
   "execution_count": 10,
   "metadata": {},
   "outputs": [],
   "source": [
    "# Data directory\n",
    "DATADIR = 'UCI HAR Dataset'"
   ]
  },
  {
   "cell_type": "code",
   "execution_count": 11,
   "metadata": {},
   "outputs": [],
   "source": [
    "# Raw data signals\n",
    "# Signals are from Accelerometer and Gyroscope\n",
    "# The signals are in x,y,z directions\n",
    "# Sensor signals are filtered to have only body acceleration\n",
    "# excluding the acceleration due to gravity\n",
    "# Triaxial acceleration from the accelerometer is total acceleration\n",
    "SIGNALS = [\n",
    "    \"body_acc_x\",\n",
    "    \"body_acc_y\",\n",
    "    \"body_acc_z\",\n",
    "    \"body_gyro_x\",\n",
    "    \"body_gyro_y\",\n",
    "    \"body_gyro_z\",\n",
    "    \"total_acc_x\",\n",
    "    \"total_acc_y\",\n",
    "    \"total_acc_z\"\n",
    "]"
   ]
  },
  {
   "cell_type": "code",
   "execution_count": 20,
   "metadata": {},
   "outputs": [],
   "source": [
    "# Utility function to read the data from csv file\n",
    "def _read_csv(filename):\n",
    "    return pd.read_csv(filename, delim_whitespace=True, header=None)\n",
    "\n",
    "# Utility function to load the load\n",
    "def load_signals(subset):\n",
    "    signals_data = []\n",
    "\n",
    "    for signal in SIGNALS:\n",
    "        filename = f'{DATADIR}/{subset}/Inertial Signals/{signal}_{subset}.txt'\n",
    "        signals_data.append(\n",
    "            _read_csv(filename).to_numpy()\n",
    "        ) \n",
    "\n",
    "    # Transpose is used to change the dimensionality of the output,\n",
    "    # aggregating the signals by combination of sample/timestep.\n",
    "    # Resultant shape is (7352 train/2947 test samples, 128 timesteps, 9 signals)\n",
    "    return np.transpose(signals_data, (1, 2, 0))"
   ]
  },
  {
   "cell_type": "code",
   "execution_count": 21,
   "metadata": {},
   "outputs": [],
   "source": [
    "def load_y(subset):\n",
    "    \"\"\"\n",
    "    The objective that we are trying to predict is a integer, from 1 to 6,\n",
    "    that represents a human activity. We return a binary representation of \n",
    "    every sample objective as a 6 bits vector using One Hot Encoding\n",
    "    (https://pandas.pydata.org/pandas-docs/stable/generated/pandas.get_dummies.html)\n",
    "    \"\"\"\n",
    "    filename = f'{DATADIR}/{subset}/y_{subset}.txt'\n",
    "    y = _read_csv(filename)[0]\n",
    "\n",
    "    return pd.get_dummies(y).to_numpy()"
   ]
  },
  {
   "cell_type": "code",
   "execution_count": 14,
   "metadata": {},
   "outputs": [],
   "source": [
    "def load_data():\n",
    "    \"\"\"\n",
    "    Obtain the dataset from multiple files.\n",
    "    Returns: X_train, X_test, y_train, y_test\n",
    "    \"\"\"\n",
    "    X_train, X_test = load_signals('train'), load_signals('test')\n",
    "    y_train, y_test = load_y('train'), load_y('test')\n",
    "\n",
    "    return X_train, X_test, y_train, y_test"
   ]
  },
  {
   "cell_type": "code",
   "execution_count": null,
   "metadata": {},
   "outputs": [],
   "source": []
  },
  {
   "cell_type": "code",
   "execution_count": 15,
   "metadata": {},
   "outputs": [],
   "source": [
    "# Configuring a session\n",
    "session_conf = tf.ConfigProto(\n",
    "    intra_op_parallelism_threads=1,\n",
    "    inter_op_parallelism_threads=1\n",
    ")\n",
    "\n",
    "sess = tf.Session(graph=tf.get_default_graph(), config=session_conf)\n",
    "K.set_session(sess)"
   ]
  },
  {
   "cell_type": "code",
   "execution_count": 17,
   "metadata": {},
   "outputs": [],
   "source": [
    "# Initializing parameters\n",
    "epochs = 30\n",
    "batch_size = 16\n",
    "n_hidden = 32"
   ]
  },
  {
   "cell_type": "code",
   "execution_count": 18,
   "metadata": {},
   "outputs": [],
   "source": [
    "# Utility function to count the number of classes\n",
    "def _count_classes(y):\n",
    "    return len(set([tuple(category) for category in y]))"
   ]
  },
  {
   "cell_type": "code",
   "execution_count": 22,
   "metadata": {},
   "outputs": [],
   "source": [
    "# Loading the train and test data\n",
    "X_train, X_test, Y_train, Y_test = load_data()"
   ]
  },
  {
   "cell_type": "code",
   "execution_count": 23,
   "metadata": {},
   "outputs": [
    {
     "name": "stdout",
     "output_type": "stream",
     "text": [
      "128\n",
      "9\n",
      "7352\n"
     ]
    }
   ],
   "source": [
    "timesteps = len(X_train[0])\n",
    "input_dim = len(X_train[0][0])\n",
    "n_classes = _count_classes(Y_train)\n",
    "\n",
    "print(timesteps)\n",
    "print(input_dim)\n",
    "print(len(X_train))"
   ]
  },
  {
   "cell_type": "code",
   "execution_count": 41,
   "metadata": {},
   "outputs": [
    {
     "data": {
      "text/plain": [
       "(7352, 128, 9)"
      ]
     },
     "execution_count": 41,
     "metadata": {},
     "output_type": "execute_result"
    }
   ],
   "source": [
    "X_train.shape"
   ]
  },
  {
   "cell_type": "markdown",
   "metadata": {},
   "source": [
    "## Defining LSTM Network model:"
   ]
  },
  {
   "cell_type": "code",
   "execution_count": 25,
   "metadata": {},
   "outputs": [
    {
     "name": "stdout",
     "output_type": "stream",
     "text": [
      "Model: \"sequential_1\"\n",
      "_________________________________________________________________\n",
      "Layer (type)                 Output Shape              Param #   \n",
      "=================================================================\n",
      "lstm_1 (LSTM)                (None, 32)                5376      \n",
      "_________________________________________________________________\n",
      "dropout_1 (Dropout)          (None, 32)                0         \n",
      "_________________________________________________________________\n",
      "dense_1 (Dense)              (None, 6)                 198       \n",
      "=================================================================\n",
      "Total params: 5,574\n",
      "Trainable params: 5,574\n",
      "Non-trainable params: 0\n",
      "_________________________________________________________________\n"
     ]
    }
   ],
   "source": [
    "# Initiliazing the sequential model\n",
    "model1 = Sequential()\n",
    "# Configuring the parameters\n",
    "model1.add(LSTM(n_hidden, input_shape=(timesteps, input_dim)))\n",
    "# Adding a dropout layer\n",
    "model1.add(Dropout(0.5))\n",
    "# Adding a dense output layer with sigmoid activation\n",
    "model1.add(Dense(n_classes, activation='sigmoid'))\n",
    "model1.summary()"
   ]
  },
  {
   "cell_type": "code",
   "execution_count": 26,
   "metadata": {},
   "outputs": [],
   "source": [
    "# Compiling the model\n",
    "model1.compile(loss='categorical_crossentropy',\n",
    "              optimizer='rmsprop',\n",
    "              metrics=['accuracy'])"
   ]
  },
  {
   "cell_type": "code",
   "execution_count": 27,
   "metadata": {},
   "outputs": [
    {
     "name": "stdout",
     "output_type": "stream",
     "text": [
      "WARNING:tensorflow:From /home/arijitiiest/Desktop/Workspace/Project/UCI_Human-Action-Recognition/env/lib/python3.6/site-packages/tensorflow/python/ops/math_grad.py:1250: add_dispatch_support.<locals>.wrapper (from tensorflow.python.ops.array_ops) is deprecated and will be removed in a future version.\n",
      "Instructions for updating:\n",
      "Use tf.where in 2.0, which has the same broadcast rule as np.where\n",
      "WARNING:tensorflow:From /home/arijitiiest/Desktop/Workspace/Project/UCI_Human-Action-Recognition/env/lib/python3.6/site-packages/keras/backend/tensorflow_backend.py:422: The name tf.global_variables is deprecated. Please use tf.compat.v1.global_variables instead.\n",
      "\n",
      "Train on 7352 samples, validate on 2947 samples\n",
      "Epoch 1/30\n",
      "7352/7352 [==============================] - 15s 2ms/step - loss: 1.3008 - accuracy: 0.4645 - val_loss: 1.0891 - val_accuracy: 0.5565\n",
      "Epoch 2/30\n",
      "7352/7352 [==============================] - 14s 2ms/step - loss: 0.9056 - accuracy: 0.6171 - val_loss: 0.8277 - val_accuracy: 0.5942\n",
      "Epoch 3/30\n",
      "7352/7352 [==============================] - 15s 2ms/step - loss: 0.7434 - accuracy: 0.6549 - val_loss: 0.7569 - val_accuracy: 0.6230\n",
      "Epoch 4/30\n",
      "7352/7352 [==============================] - 14s 2ms/step - loss: 0.6725 - accuracy: 0.6800 - val_loss: 0.6941 - val_accuracy: 0.6651\n",
      "Epoch 5/30\n",
      "7352/7352 [==============================] - 14s 2ms/step - loss: 0.6236 - accuracy: 0.7116 - val_loss: 0.6568 - val_accuracy: 0.7326\n",
      "Epoch 6/30\n",
      "7352/7352 [==============================] - 15s 2ms/step - loss: 0.5866 - accuracy: 0.7333 - val_loss: 0.7696 - val_accuracy: 0.6763\n",
      "Epoch 7/30\n",
      "7352/7352 [==============================] - 15s 2ms/step - loss: 0.5055 - accuracy: 0.7748 - val_loss: 0.6162 - val_accuracy: 0.7272\n",
      "Epoch 8/30\n",
      "7352/7352 [==============================] - 15s 2ms/step - loss: 0.4769 - accuracy: 0.7791 - val_loss: 0.5323 - val_accuracy: 0.7465\n",
      "Epoch 9/30\n",
      "7352/7352 [==============================] - 15s 2ms/step - loss: 0.4243 - accuracy: 0.7979 - val_loss: 0.6893 - val_accuracy: 0.7167\n",
      "Epoch 10/30\n",
      "7352/7352 [==============================] - 14s 2ms/step - loss: 0.4033 - accuracy: 0.8096 - val_loss: 0.5631 - val_accuracy: 0.7326\n",
      "Epoch 11/30\n",
      "7352/7352 [==============================] - 14s 2ms/step - loss: 0.3785 - accuracy: 0.8391 - val_loss: 0.5226 - val_accuracy: 0.7937\n",
      "Epoch 12/30\n",
      "7352/7352 [==============================] - 15s 2ms/step - loss: 0.3327 - accuracy: 0.8791 - val_loss: 0.5721 - val_accuracy: 0.8694\n",
      "Epoch 13/30\n",
      "7352/7352 [==============================] - 16s 2ms/step - loss: 0.2857 - accuracy: 0.9132 - val_loss: 0.4536 - val_accuracy: 0.8812\n",
      "Epoch 14/30\n",
      "7352/7352 [==============================] - 15s 2ms/step - loss: 0.2537 - accuracy: 0.9207 - val_loss: 0.5414 - val_accuracy: 0.8748\n",
      "Epoch 15/30\n",
      "7352/7352 [==============================] - 15s 2ms/step - loss: 0.2421 - accuracy: 0.9293 - val_loss: 0.4205 - val_accuracy: 0.8968\n",
      "Epoch 16/30\n",
      "7352/7352 [==============================] - 15s 2ms/step - loss: 0.2077 - accuracy: 0.9331 - val_loss: 0.4868 - val_accuracy: 0.8785\n",
      "Epoch 17/30\n",
      "7352/7352 [==============================] - 15s 2ms/step - loss: 0.1950 - accuracy: 0.9384 - val_loss: 0.5625 - val_accuracy: 0.8833\n",
      "Epoch 18/30\n",
      "7352/7352 [==============================] - 14s 2ms/step - loss: 0.1844 - accuracy: 0.9419 - val_loss: 0.6079 - val_accuracy: 0.8738\n",
      "Epoch 19/30\n",
      "7352/7352 [==============================] - 14s 2ms/step - loss: 0.1846 - accuracy: 0.9414 - val_loss: 0.4497 - val_accuracy: 0.8999\n",
      "Epoch 20/30\n",
      "7352/7352 [==============================] - 14s 2ms/step - loss: 0.1701 - accuracy: 0.9459 - val_loss: 0.5215 - val_accuracy: 0.8795\n",
      "Epoch 21/30\n",
      "7352/7352 [==============================] - 15s 2ms/step - loss: 0.1723 - accuracy: 0.9450 - val_loss: 0.4698 - val_accuracy: 0.8887\n",
      "Epoch 22/30\n",
      "7352/7352 [==============================] - 15s 2ms/step - loss: 0.1813 - accuracy: 0.9448 - val_loss: 0.4783 - val_accuracy: 0.8795\n",
      "Epoch 23/30\n",
      "7352/7352 [==============================] - 15s 2ms/step - loss: 0.1579 - accuracy: 0.9465 - val_loss: 0.4126 - val_accuracy: 0.8968\n",
      "Epoch 24/30\n",
      "7352/7352 [==============================] - 15s 2ms/step - loss: 0.1754 - accuracy: 0.9448 - val_loss: 0.3679 - val_accuracy: 0.9111\n",
      "Epoch 25/30\n",
      "7352/7352 [==============================] - 14s 2ms/step - loss: 0.1827 - accuracy: 0.9425 - val_loss: 0.9810 - val_accuracy: 0.8426\n",
      "Epoch 26/30\n",
      "7352/7352 [==============================] - 14s 2ms/step - loss: 0.1565 - accuracy: 0.9489 - val_loss: 0.3639 - val_accuracy: 0.9043\n",
      "Epoch 27/30\n",
      "7352/7352 [==============================] - 14s 2ms/step - loss: 0.1508 - accuracy: 0.9484 - val_loss: 0.3858 - val_accuracy: 0.8996\n",
      "Epoch 28/30\n",
      "7352/7352 [==============================] - 16s 2ms/step - loss: 0.1461 - accuracy: 0.9470 - val_loss: 0.4374 - val_accuracy: 0.9013\n",
      "Epoch 29/30\n",
      "7352/7352 [==============================] - 15s 2ms/step - loss: 0.1558 - accuracy: 0.9449 - val_loss: 0.3596 - val_accuracy: 0.9043\n",
      "Epoch 30/30\n",
      "7352/7352 [==============================] - 14s 2ms/step - loss: 0.1712 - accuracy: 0.9433 - val_loss: 0.4166 - val_accuracy: 0.8955\n"
     ]
    },
    {
     "data": {
      "text/plain": [
       "<keras.callbacks.callbacks.History at 0x7f3a58327710>"
      ]
     },
     "execution_count": 27,
     "metadata": {},
     "output_type": "execute_result"
    }
   ],
   "source": [
    "# Training the model\n",
    "model1.fit(X_train,\n",
    "          Y_train,\n",
    "          batch_size=batch_size,\n",
    "          validation_data=(X_test, Y_test),\n",
    "          epochs=epochs)"
   ]
  },
  {
   "cell_type": "code",
   "execution_count": 38,
   "metadata": {},
   "outputs": [
    {
     "name": "stdout",
     "output_type": "stream",
     "text": [
      "2947/2947 [==============================] - 1s 258us/step\n",
      "Accuracy:  0.8954869508743286\n",
      "Loss:  0.41655886096877154\n",
      "[[454  27  15   0   0   0]\n",
      " [  4 429  31   7   0   0]\n",
      " [  0   1 419   0   0   0]\n",
      " [  1   1   1 381 105   2]\n",
      " [  0   0   0  86 446   0]\n",
      " [  0   0   0   0  27 510]]\n"
     ]
    }
   ],
   "source": [
    "# Testing\n",
    "score = model1.evaluate(X_test, Y_test)\n",
    "print(\"Accuracy: \", score[1])\n",
    "print(\"Loss: \", score[0])\n",
    "print(confusion_matrix(np.argmax(Y_test, axis=1), np.argmax(model1.predict(X_test), axis=1)))"
   ]
  },
  {
   "cell_type": "code",
   "execution_count": null,
   "metadata": {},
   "outputs": [],
   "source": []
  },
  {
   "cell_type": "markdown",
   "metadata": {},
   "source": [
    "## Defining CNN-LSTM Network model:"
   ]
  },
  {
   "cell_type": "code",
   "execution_count": 42,
   "metadata": {},
   "outputs": [],
   "source": [
    "n_steps, n_length = 4, 32\n",
    "X_train = X_train.reshape((X_train.shape[0], n_steps, n_length, input_dim))\n",
    "X_test = X_test.reshape((X_test.shape[0], n_steps, n_length, input_dim))"
   ]
  },
  {
   "cell_type": "code",
   "execution_count": 43,
   "metadata": {},
   "outputs": [
    {
     "name": "stdout",
     "output_type": "stream",
     "text": [
      "WARNING:tensorflow:From /home/arijitiiest/Desktop/Workspace/Project/UCI_Human-Action-Recognition/env/lib/python3.6/site-packages/keras/backend/tensorflow_backend.py:4070: The name tf.nn.max_pool is deprecated. Please use tf.nn.max_pool2d instead.\n",
      "\n",
      "Model: \"sequential_3\"\n",
      "_________________________________________________________________\n",
      "Layer (type)                 Output Shape              Param #   \n",
      "=================================================================\n",
      "time_distributed_1 (TimeDist (None, None, 30, 64)      1792      \n",
      "_________________________________________________________________\n",
      "time_distributed_2 (TimeDist (None, None, 28, 64)      12352     \n",
      "_________________________________________________________________\n",
      "time_distributed_3 (TimeDist (None, None, 28, 64)      0         \n",
      "_________________________________________________________________\n",
      "time_distributed_4 (TimeDist (None, None, 14, 64)      0         \n",
      "_________________________________________________________________\n",
      "time_distributed_5 (TimeDist (None, None, 896)         0         \n",
      "_________________________________________________________________\n",
      "lstm_2 (LSTM)                (None, 32)                118912    \n",
      "_________________________________________________________________\n",
      "dropout_3 (Dropout)          (None, 32)                0         \n",
      "_________________________________________________________________\n",
      "dense_2 (Dense)              (None, 32)                1056      \n",
      "_________________________________________________________________\n",
      "dense_3 (Dense)              (None, 6)                 198       \n",
      "=================================================================\n",
      "Total params: 134,310\n",
      "Trainable params: 134,310\n",
      "Non-trainable params: 0\n",
      "_________________________________________________________________\n"
     ]
    }
   ],
   "source": [
    "# define model\n",
    "# CNN layers for feature extraction on input data combined with LSTMs to support sequence prediction\n",
    "model2 = Sequential()\n",
    "# CNN layers\n",
    "model2.add(TimeDistributed(Conv1D(filters=64, kernel_size=3, activation='relu'), input_shape=(None,n_length,input_dim)))\n",
    "model2.add(TimeDistributed(Conv1D(filters=64, kernel_size=3, activation='relu')))\n",
    "model2.add(TimeDistributed(Dropout(0.5)))\n",
    "model2.add(TimeDistributed(MaxPooling1D(pool_size=2)))\n",
    "model2.add(TimeDistributed(Flatten()))\n",
    "# LSTM layer\n",
    "model2.add(LSTM(n_hidden))\n",
    "model2.add(Dropout(0.5))\n",
    "model2.add(Dense(n_hidden, activation='relu'))\n",
    "model2.add(Dense(n_classes, activation='sigmoid'))\n",
    "model2.summary()"
   ]
  },
  {
   "cell_type": "code",
   "execution_count": 45,
   "metadata": {},
   "outputs": [],
   "source": [
    "model2.compile(loss='categorical_crossentropy', optimizer='adam', metrics=['accuracy'])"
   ]
  },
  {
   "cell_type": "code",
   "execution_count": 47,
   "metadata": {},
   "outputs": [
    {
     "name": "stdout",
     "output_type": "stream",
     "text": [
      "Train on 7352 samples, validate on 2947 samples\n",
      "Epoch 1/30\n",
      "7352/7352 [==============================] - 7s 960us/step - loss: 0.7108 - accuracy: 0.7225 - val_loss: 0.5752 - val_accuracy: 0.7784\n",
      "Epoch 2/30\n",
      "7352/7352 [==============================] - 7s 944us/step - loss: 0.2978 - accuracy: 0.8980 - val_loss: 0.3713 - val_accuracy: 0.8724\n",
      "Epoch 3/30\n",
      "7352/7352 [==============================] - 7s 993us/step - loss: 0.1675 - accuracy: 0.9400 - val_loss: 0.3436 - val_accuracy: 0.8951\n",
      "Epoch 4/30\n",
      "7352/7352 [==============================] - 7s 908us/step - loss: 0.1412 - accuracy: 0.9479 - val_loss: 0.3644 - val_accuracy: 0.8880\n",
      "Epoch 5/30\n",
      "7352/7352 [==============================] - 7s 895us/step - loss: 0.1392 - accuracy: 0.9453 - val_loss: 0.3671 - val_accuracy: 0.8904\n",
      "Epoch 6/30\n",
      "7352/7352 [==============================] - 7s 895us/step - loss: 0.1290 - accuracy: 0.9486 - val_loss: 0.2950 - val_accuracy: 0.9152\n",
      "Epoch 7/30\n",
      "7352/7352 [==============================] - 7s 898us/step - loss: 0.1155 - accuracy: 0.9520 - val_loss: 0.3767 - val_accuracy: 0.8968\n",
      "Epoch 8/30\n",
      "7352/7352 [==============================] - 7s 898us/step - loss: 0.1099 - accuracy: 0.9538 - val_loss: 0.3890 - val_accuracy: 0.8975\n",
      "Epoch 9/30\n",
      "7352/7352 [==============================] - 7s 905us/step - loss: 0.1098 - accuracy: 0.9544 - val_loss: 0.3817 - val_accuracy: 0.9057\n",
      "Epoch 10/30\n",
      "7352/7352 [==============================] - 7s 904us/step - loss: 0.1058 - accuracy: 0.9544 - val_loss: 0.3588 - val_accuracy: 0.9131\n",
      "Epoch 11/30\n",
      "7352/7352 [==============================] - 7s 920us/step - loss: 0.1016 - accuracy: 0.9558 - val_loss: 0.3950 - val_accuracy: 0.9074\n",
      "Epoch 12/30\n",
      "7352/7352 [==============================] - 7s 902us/step - loss: 0.0987 - accuracy: 0.9573 - val_loss: 0.4076 - val_accuracy: 0.8948\n",
      "Epoch 13/30\n",
      "7352/7352 [==============================] - 7s 907us/step - loss: 0.1002 - accuracy: 0.9553 - val_loss: 0.4077 - val_accuracy: 0.9009\n",
      "Epoch 14/30\n",
      "7352/7352 [==============================] - 7s 903us/step - loss: 0.1058 - accuracy: 0.9535 - val_loss: 0.3573 - val_accuracy: 0.9050\n",
      "Epoch 15/30\n",
      "7352/7352 [==============================] - 7s 912us/step - loss: 0.0928 - accuracy: 0.9565 - val_loss: 0.5066 - val_accuracy: 0.9091\n",
      "Epoch 16/30\n",
      "7352/7352 [==============================] - 7s 915us/step - loss: 0.0955 - accuracy: 0.9570 - val_loss: 0.5427 - val_accuracy: 0.9006\n",
      "Epoch 17/30\n",
      "7352/7352 [==============================] - 7s 916us/step - loss: 0.0880 - accuracy: 0.9591 - val_loss: 0.4252 - val_accuracy: 0.9108\n",
      "Epoch 18/30\n",
      "7352/7352 [==============================] - 7s 922us/step - loss: 0.1063 - accuracy: 0.9589 - val_loss: 0.6522 - val_accuracy: 0.8792\n",
      "Epoch 19/30\n",
      "7352/7352 [==============================] - 7s 908us/step - loss: 0.0832 - accuracy: 0.9619 - val_loss: 0.5365 - val_accuracy: 0.9104\n",
      "Epoch 20/30\n",
      "7352/7352 [==============================] - 7s 915us/step - loss: 0.0843 - accuracy: 0.9623 - val_loss: 0.4815 - val_accuracy: 0.9121\n",
      "Epoch 21/30\n",
      "7352/7352 [==============================] - 7s 913us/step - loss: 0.0772 - accuracy: 0.9642 - val_loss: 0.5275 - val_accuracy: 0.8985\n",
      "Epoch 22/30\n",
      "7352/7352 [==============================] - 7s 915us/step - loss: 0.0842 - accuracy: 0.9641 - val_loss: 0.5326 - val_accuracy: 0.8941\n",
      "Epoch 23/30\n",
      "7352/7352 [==============================] - 7s 923us/step - loss: 0.0799 - accuracy: 0.9635 - val_loss: 0.4936 - val_accuracy: 0.9104\n",
      "Epoch 24/30\n",
      "7352/7352 [==============================] - 7s 917us/step - loss: 0.0709 - accuracy: 0.9668 - val_loss: 0.6518 - val_accuracy: 0.9030\n",
      "Epoch 25/30\n",
      "7352/7352 [==============================] - 7s 927us/step - loss: 0.0736 - accuracy: 0.9650 - val_loss: 0.5763 - val_accuracy: 0.9043\n",
      "Epoch 26/30\n",
      "7352/7352 [==============================] - 7s 909us/step - loss: 0.0683 - accuracy: 0.9676 - val_loss: 0.6442 - val_accuracy: 0.9057\n",
      "Epoch 27/30\n",
      "7352/7352 [==============================] - 7s 911us/step - loss: 0.0766 - accuracy: 0.9644 - val_loss: 0.6044 - val_accuracy: 0.9074\n",
      "Epoch 28/30\n",
      "7352/7352 [==============================] - 7s 927us/step - loss: 0.0731 - accuracy: 0.9679 - val_loss: 0.6271 - val_accuracy: 0.9077\n",
      "Epoch 29/30\n",
      "7352/7352 [==============================] - 7s 905us/step - loss: 0.0675 - accuracy: 0.9680 - val_loss: 0.5633 - val_accuracy: 0.9128\n",
      "Epoch 30/30\n",
      "7352/7352 [==============================] - 7s 906us/step - loss: 0.0656 - accuracy: 0.9669 - val_loss: 0.6556 - val_accuracy: 0.8989\n"
     ]
    },
    {
     "data": {
      "text/plain": [
       "<keras.callbacks.callbacks.History at 0x7f3a4be518d0>"
      ]
     },
     "execution_count": 47,
     "metadata": {},
     "output_type": "execute_result"
    }
   ],
   "source": [
    "# Training the model\n",
    "model2.fit(X_train,\n",
    "          Y_train,\n",
    "          batch_size=batch_size,\n",
    "          validation_data=(X_test, Y_test),\n",
    "          epochs=epochs)"
   ]
  },
  {
   "cell_type": "code",
   "execution_count": 50,
   "metadata": {},
   "outputs": [
    {
     "name": "stdout",
     "output_type": "stream",
     "text": [
      "2947/2947 [==============================] - 0s 158us/step\n",
      "Accuracy:  0.8988802433013916\n",
      "Loss:  0.6556248250248767\n",
      "[[465   0  31   0   0   0]\n",
      " [ 10 428  33   0   0   0]\n",
      " [  2   0 418   0   0   0]\n",
      " [  0   3   0 428  60   0]\n",
      " [  1   0   0 132 399   0]\n",
      " [  0  26   0   0   0 511]]\n"
     ]
    }
   ],
   "source": [
    "# Testing\n",
    "score = model2.evaluate(X_test, Y_test)\n",
    "print(\"Accuracy: \", score[1])\n",
    "print(\"Loss: \", score[0])\n",
    "print(confusion_matrix(np.argmax(Y_test, axis=1), np.argmax(model2.predict(X_test), axis=1)))"
   ]
  },
  {
   "cell_type": "code",
   "execution_count": null,
   "metadata": {},
   "outputs": [],
   "source": []
  }
 ],
 "metadata": {
  "kernelspec": {
   "display_name": "Python 3 (ipykernel)",
   "language": "python",
   "name": "python3"
  },
  "language_info": {
   "codemirror_mode": {
    "name": "ipython",
    "version": 3
   },
   "file_extension": ".py",
   "mimetype": "text/x-python",
   "name": "python",
   "nbconvert_exporter": "python",
   "pygments_lexer": "ipython3",
   "version": "3.10.5"
  }
 },
 "nbformat": 4,
 "nbformat_minor": 4
}
