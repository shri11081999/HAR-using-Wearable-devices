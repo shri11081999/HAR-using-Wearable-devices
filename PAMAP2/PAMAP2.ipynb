{
 "cells": [
  {
   "cell_type": "code",
   "execution_count": 1,
   "metadata": {
    "colab": {
     "base_uri": "https://localhost:8080/"
    },
    "id": "MlkiKZnQwAOa",
    "outputId": "5c1eed9c-cc6f-4efe-f055-58200c5757bc"
   },
   "outputs": [
    {
     "name": "stdout",
     "output_type": "stream",
     "text": [
      "Looking in indexes: https://pypi.org/simple, https://us-python.pkg.dev/colab-wheels/public/simple/\n",
      "Collecting tensorflow-model-optimization\n",
      "  Downloading tensorflow_model_optimization-0.7.3-py2.py3-none-any.whl (238 kB)\n",
      "\u001b[2K     \u001b[90m━━━━━━━━━━━━━━━━━━━━━━━━━━━━━━━━━━━━━━\u001b[0m \u001b[32m238.9/238.9 KB\u001b[0m \u001b[31m12.4 MB/s\u001b[0m eta \u001b[36m0:00:00\u001b[0m\n",
      "\u001b[?25hRequirement already satisfied: dm-tree~=0.1.1 in /usr/local/lib/python3.8/dist-packages (from tensorflow-model-optimization) (0.1.8)\n",
      "Requirement already satisfied: six~=1.10 in /usr/local/lib/python3.8/dist-packages (from tensorflow-model-optimization) (1.15.0)\n",
      "Requirement already satisfied: numpy~=1.14 in /usr/local/lib/python3.8/dist-packages (from tensorflow-model-optimization) (1.22.4)\n",
      "Installing collected packages: tensorflow-model-optimization\n",
      "Successfully installed tensorflow-model-optimization-0.7.3\n"
     ]
    }
   ],
   "source": [
    "!pip install tensorflow-model-optimization"
   ]
  },
  {
   "cell_type": "code",
   "execution_count": 2,
   "metadata": {
    "colab": {
     "base_uri": "https://localhost:8080/"
    },
    "id": "457fZDx7wA55",
    "outputId": "7b0084eb-73ee-4ab9-b107-7605420ed0b8"
   },
   "outputs": [
    {
     "name": "stdout",
     "output_type": "stream",
     "text": [
      "Mounted at /content/gdrive\n"
     ]
    }
   ],
   "source": [
    "import numpy as np\n",
    "import pandas as pd\n",
    "from sklearn.model_selection import train_test_split\n",
    "import tensorflow as tf\n",
    "from tensorflow import keras\n",
    "from tensorflow.keras import layers\n",
    "from tensorflow_model_optimization.sparsity import keras as sparsity\n",
    "import matplotlib.pyplot as plt\n",
    "from keras.models import Sequential\n",
    "from keras.layers import Dense, Dropout, LSTM, Conv1D, MaxPooling1D, Flatten\n",
    "from keras.layers import Conv3D,Conv2D,Conv1D,MaxPooling1D, MaxPooling2D,TimeDistributed,LSTM,ConvLSTM2D, GRU\n",
    "from keras.optimizers import Adam\n",
    "from sklearn.preprocessing import LabelEncoder\n",
    "from keras.layers import TimeDistributed\n",
    "import seaborn as sns\n",
    "import h5py\n",
    "from matplotlib import pyplot as plt\n",
    "import pandas as pd\n",
    "import numpy as np\n",
    "import math\n",
    "from scipy import stats\n",
    "from sklearn.preprocessing import MinMaxScaler, StandardScaler\n",
    "\n",
    "from google.colab import files\n",
    "from google.colab import drive\n",
    "drive.mount('/content/gdrive')"
   ]
  },
  {
   "cell_type": "code",
   "execution_count": 3,
   "metadata": {
    "id": "CiYHfAhP7BZO"
   },
   "outputs": [],
   "source": [
    "activityIDdict = {0: 'transient',\n",
    "              1: 'lying',# no change in index\n",
    "              2: 'sitting',# no change in index\n",
    "              3: 'standing',# no change in index\n",
    "              4: 'walking',# no change in index\n",
    "              5: 'running',# no change in index\n",
    "              6: 'cycling',# no change in index\n",
    "              7: 'Nordic_walking',# no change in index\n",
    "              9: 'watching_TV', # not in dataset\n",
    "              10: 'computer_work',# not in dataset\n",
    "              11: 'car driving', # not in dataset\n",
    "              12: 'ascending_stairs', # new index:8\n",
    "              13: 'descending_stairs', # new index:9\n",
    "              16: 'vacuum_cleaning', # new index:10\n",
    "              17: 'ironing', # new index:11\n",
    "              18: 'folding_laundry',# not in dataset\n",
    "              19: 'house_cleaning', # not in dataset\n",
    "              20: 'playing_soccer', # not in dataset\n",
    "              24: 'rope_jumping' # new index: 0 \n",
    "              }\n",
    "#{24:0,1:1,2:2,3:3,4:4,5:5,6:6,7:7,12:8,13:9,16:10,17:11}"
   ]
  },
  {
   "cell_type": "code",
   "execution_count": 4,
   "metadata": {
    "id": "xmK5ybzT7BZS"
   },
   "outputs": [],
   "source": [
    "df= pd.read_table('/content/gdrive/MyDrive/PAMAP2_Dataset/Protocol/subject101.dat', header=None, sep='\\s+')"
   ]
  },
  {
   "cell_type": "code",
   "execution_count": 5,
   "metadata": {
    "colab": {
     "base_uri": "https://localhost:8080/"
    },
    "id": "ta4GfGWv7BZT",
    "outputId": "0b263ced-f552-4b05-a57c-500f319e4ac9"
   },
   "outputs": [
    {
     "data": {
      "text/plain": [
       "['rope_jumping',\n",
       " 'lying',\n",
       " 'sitting',\n",
       " 'standing',\n",
       " 'walking',\n",
       " 'running',\n",
       " 'cycling',\n",
       " 'Nordic_walking',\n",
       " 'ascending_stairs',\n",
       " 'descending_stairs',\n",
       " 'vacuum_cleaning',\n",
       " 'ironing']"
      ]
     },
     "execution_count": 5,
     "metadata": {},
     "output_type": "execute_result"
    }
   ],
   "source": [
    "['rope_jumping','lying','sitting','standing','walking','running','cycling','Nordic_walking','ascending_stairs','descending_stairs','vacuum_cleaning','ironing']"
   ]
  },
  {
   "cell_type": "code",
   "execution_count": 6,
   "metadata": {
    "colab": {
     "base_uri": "https://localhost:8080/",
     "height": 235
    },
    "id": "qxLGy3ao7BZU",
    "outputId": "dbde6a43-d033-4137-dd37-775627aa4dd7"
   },
   "outputs": [
    {
     "data": {
      "text/html": [
       "\n",
       "  <div id=\"df-2c4bddee-f0bf-4ddc-89c4-f3fbb1d5c83e\">\n",
       "    <div class=\"colab-df-container\">\n",
       "      <div>\n",
       "<style scoped>\n",
       "    .dataframe tbody tr th:only-of-type {\n",
       "        vertical-align: middle;\n",
       "    }\n",
       "\n",
       "    .dataframe tbody tr th {\n",
       "        vertical-align: top;\n",
       "    }\n",
       "\n",
       "    .dataframe thead th {\n",
       "        text-align: right;\n",
       "    }\n",
       "</style>\n",
       "<table border=\"1\" class=\"dataframe\">\n",
       "  <thead>\n",
       "    <tr style=\"text-align: right;\">\n",
       "      <th></th>\n",
       "      <th>0</th>\n",
       "      <th>1</th>\n",
       "      <th>2</th>\n",
       "      <th>3</th>\n",
       "      <th>4</th>\n",
       "      <th>5</th>\n",
       "      <th>6</th>\n",
       "      <th>7</th>\n",
       "      <th>8</th>\n",
       "      <th>9</th>\n",
       "      <th>...</th>\n",
       "      <th>44</th>\n",
       "      <th>45</th>\n",
       "      <th>46</th>\n",
       "      <th>47</th>\n",
       "      <th>48</th>\n",
       "      <th>49</th>\n",
       "      <th>50</th>\n",
       "      <th>51</th>\n",
       "      <th>52</th>\n",
       "      <th>53</th>\n",
       "    </tr>\n",
       "  </thead>\n",
       "  <tbody>\n",
       "    <tr>\n",
       "      <th>0</th>\n",
       "      <td>8.38</td>\n",
       "      <td>0</td>\n",
       "      <td>104.0</td>\n",
       "      <td>30.0</td>\n",
       "      <td>2.37223</td>\n",
       "      <td>8.60074</td>\n",
       "      <td>3.51048</td>\n",
       "      <td>2.43954</td>\n",
       "      <td>8.76165</td>\n",
       "      <td>3.35465</td>\n",
       "      <td>...</td>\n",
       "      <td>0.008300</td>\n",
       "      <td>0.009250</td>\n",
       "      <td>-0.017580</td>\n",
       "      <td>-61.1888</td>\n",
       "      <td>-38.9599</td>\n",
       "      <td>-58.1438</td>\n",
       "      <td>1.0</td>\n",
       "      <td>0.0</td>\n",
       "      <td>0.0</td>\n",
       "      <td>0.0</td>\n",
       "    </tr>\n",
       "    <tr>\n",
       "      <th>1</th>\n",
       "      <td>8.39</td>\n",
       "      <td>0</td>\n",
       "      <td>NaN</td>\n",
       "      <td>30.0</td>\n",
       "      <td>2.18837</td>\n",
       "      <td>8.56560</td>\n",
       "      <td>3.66179</td>\n",
       "      <td>2.39494</td>\n",
       "      <td>8.55081</td>\n",
       "      <td>3.64207</td>\n",
       "      <td>...</td>\n",
       "      <td>-0.006577</td>\n",
       "      <td>-0.004638</td>\n",
       "      <td>0.000368</td>\n",
       "      <td>-59.8479</td>\n",
       "      <td>-38.8919</td>\n",
       "      <td>-58.5253</td>\n",
       "      <td>1.0</td>\n",
       "      <td>0.0</td>\n",
       "      <td>0.0</td>\n",
       "      <td>0.0</td>\n",
       "    </tr>\n",
       "    <tr>\n",
       "      <th>2</th>\n",
       "      <td>8.40</td>\n",
       "      <td>0</td>\n",
       "      <td>NaN</td>\n",
       "      <td>30.0</td>\n",
       "      <td>2.37357</td>\n",
       "      <td>8.60107</td>\n",
       "      <td>3.54898</td>\n",
       "      <td>2.30514</td>\n",
       "      <td>8.53644</td>\n",
       "      <td>3.73280</td>\n",
       "      <td>...</td>\n",
       "      <td>0.003014</td>\n",
       "      <td>0.000148</td>\n",
       "      <td>0.022495</td>\n",
       "      <td>-60.7361</td>\n",
       "      <td>-39.4138</td>\n",
       "      <td>-58.3999</td>\n",
       "      <td>1.0</td>\n",
       "      <td>0.0</td>\n",
       "      <td>0.0</td>\n",
       "      <td>0.0</td>\n",
       "    </tr>\n",
       "    <tr>\n",
       "      <th>3</th>\n",
       "      <td>8.41</td>\n",
       "      <td>0</td>\n",
       "      <td>NaN</td>\n",
       "      <td>30.0</td>\n",
       "      <td>2.07473</td>\n",
       "      <td>8.52853</td>\n",
       "      <td>3.66021</td>\n",
       "      <td>2.33528</td>\n",
       "      <td>8.53622</td>\n",
       "      <td>3.73277</td>\n",
       "      <td>...</td>\n",
       "      <td>0.003175</td>\n",
       "      <td>-0.020301</td>\n",
       "      <td>0.011275</td>\n",
       "      <td>-60.4091</td>\n",
       "      <td>-38.7635</td>\n",
       "      <td>-58.3956</td>\n",
       "      <td>1.0</td>\n",
       "      <td>0.0</td>\n",
       "      <td>0.0</td>\n",
       "      <td>0.0</td>\n",
       "    </tr>\n",
       "    <tr>\n",
       "      <th>4</th>\n",
       "      <td>8.42</td>\n",
       "      <td>0</td>\n",
       "      <td>NaN</td>\n",
       "      <td>30.0</td>\n",
       "      <td>2.22936</td>\n",
       "      <td>8.83122</td>\n",
       "      <td>3.70000</td>\n",
       "      <td>2.23055</td>\n",
       "      <td>8.59741</td>\n",
       "      <td>3.76295</td>\n",
       "      <td>...</td>\n",
       "      <td>0.012698</td>\n",
       "      <td>-0.014303</td>\n",
       "      <td>-0.002823</td>\n",
       "      <td>-61.5199</td>\n",
       "      <td>-39.3879</td>\n",
       "      <td>-58.2694</td>\n",
       "      <td>1.0</td>\n",
       "      <td>0.0</td>\n",
       "      <td>0.0</td>\n",
       "      <td>0.0</td>\n",
       "    </tr>\n",
       "  </tbody>\n",
       "</table>\n",
       "<p>5 rows × 54 columns</p>\n",
       "</div>\n",
       "      <button class=\"colab-df-convert\" onclick=\"convertToInteractive('df-2c4bddee-f0bf-4ddc-89c4-f3fbb1d5c83e')\"\n",
       "              title=\"Convert this dataframe to an interactive table.\"\n",
       "              style=\"display:none;\">\n",
       "        \n",
       "  <svg xmlns=\"http://www.w3.org/2000/svg\" height=\"24px\"viewBox=\"0 0 24 24\"\n",
       "       width=\"24px\">\n",
       "    <path d=\"M0 0h24v24H0V0z\" fill=\"none\"/>\n",
       "    <path d=\"M18.56 5.44l.94 2.06.94-2.06 2.06-.94-2.06-.94-.94-2.06-.94 2.06-2.06.94zm-11 1L8.5 8.5l.94-2.06 2.06-.94-2.06-.94L8.5 2.5l-.94 2.06-2.06.94zm10 10l.94 2.06.94-2.06 2.06-.94-2.06-.94-.94-2.06-.94 2.06-2.06.94z\"/><path d=\"M17.41 7.96l-1.37-1.37c-.4-.4-.92-.59-1.43-.59-.52 0-1.04.2-1.43.59L10.3 9.45l-7.72 7.72c-.78.78-.78 2.05 0 2.83L4 21.41c.39.39.9.59 1.41.59.51 0 1.02-.2 1.41-.59l7.78-7.78 2.81-2.81c.8-.78.8-2.07 0-2.86zM5.41 20L4 18.59l7.72-7.72 1.47 1.35L5.41 20z\"/>\n",
       "  </svg>\n",
       "      </button>\n",
       "      \n",
       "  <style>\n",
       "    .colab-df-container {\n",
       "      display:flex;\n",
       "      flex-wrap:wrap;\n",
       "      gap: 12px;\n",
       "    }\n",
       "\n",
       "    .colab-df-convert {\n",
       "      background-color: #E8F0FE;\n",
       "      border: none;\n",
       "      border-radius: 50%;\n",
       "      cursor: pointer;\n",
       "      display: none;\n",
       "      fill: #1967D2;\n",
       "      height: 32px;\n",
       "      padding: 0 0 0 0;\n",
       "      width: 32px;\n",
       "    }\n",
       "\n",
       "    .colab-df-convert:hover {\n",
       "      background-color: #E2EBFA;\n",
       "      box-shadow: 0px 1px 2px rgba(60, 64, 67, 0.3), 0px 1px 3px 1px rgba(60, 64, 67, 0.15);\n",
       "      fill: #174EA6;\n",
       "    }\n",
       "\n",
       "    [theme=dark] .colab-df-convert {\n",
       "      background-color: #3B4455;\n",
       "      fill: #D2E3FC;\n",
       "    }\n",
       "\n",
       "    [theme=dark] .colab-df-convert:hover {\n",
       "      background-color: #434B5C;\n",
       "      box-shadow: 0px 1px 3px 1px rgba(0, 0, 0, 0.15);\n",
       "      filter: drop-shadow(0px 1px 2px rgba(0, 0, 0, 0.3));\n",
       "      fill: #FFFFFF;\n",
       "    }\n",
       "  </style>\n",
       "\n",
       "      <script>\n",
       "        const buttonEl =\n",
       "          document.querySelector('#df-2c4bddee-f0bf-4ddc-89c4-f3fbb1d5c83e button.colab-df-convert');\n",
       "        buttonEl.style.display =\n",
       "          google.colab.kernel.accessAllowed ? 'block' : 'none';\n",
       "\n",
       "        async function convertToInteractive(key) {\n",
       "          const element = document.querySelector('#df-2c4bddee-f0bf-4ddc-89c4-f3fbb1d5c83e');\n",
       "          const dataTable =\n",
       "            await google.colab.kernel.invokeFunction('convertToInteractive',\n",
       "                                                     [key], {});\n",
       "          if (!dataTable) return;\n",
       "\n",
       "          const docLinkHtml = 'Like what you see? Visit the ' +\n",
       "            '<a target=\"_blank\" href=https://colab.research.google.com/notebooks/data_table.ipynb>data table notebook</a>'\n",
       "            + ' to learn more about interactive tables.';\n",
       "          element.innerHTML = '';\n",
       "          dataTable['output_type'] = 'display_data';\n",
       "          await google.colab.output.renderOutput(dataTable, element);\n",
       "          const docLink = document.createElement('div');\n",
       "          docLink.innerHTML = docLinkHtml;\n",
       "          element.appendChild(docLink);\n",
       "        }\n",
       "      </script>\n",
       "    </div>\n",
       "  </div>\n",
       "  "
      ],
      "text/plain": [
       "     0   1      2     3        4        5        6        7        8   \\\n",
       "0  8.38   0  104.0  30.0  2.37223  8.60074  3.51048  2.43954  8.76165   \n",
       "1  8.39   0    NaN  30.0  2.18837  8.56560  3.66179  2.39494  8.55081   \n",
       "2  8.40   0    NaN  30.0  2.37357  8.60107  3.54898  2.30514  8.53644   \n",
       "3  8.41   0    NaN  30.0  2.07473  8.52853  3.66021  2.33528  8.53622   \n",
       "4  8.42   0    NaN  30.0  2.22936  8.83122  3.70000  2.23055  8.59741   \n",
       "\n",
       "        9   ...        44        45        46       47       48       49   50  \\\n",
       "0  3.35465  ...  0.008300  0.009250 -0.017580 -61.1888 -38.9599 -58.1438  1.0   \n",
       "1  3.64207  ... -0.006577 -0.004638  0.000368 -59.8479 -38.8919 -58.5253  1.0   \n",
       "2  3.73280  ...  0.003014  0.000148  0.022495 -60.7361 -39.4138 -58.3999  1.0   \n",
       "3  3.73277  ...  0.003175 -0.020301  0.011275 -60.4091 -38.7635 -58.3956  1.0   \n",
       "4  3.76295  ...  0.012698 -0.014303 -0.002823 -61.5199 -39.3879 -58.2694  1.0   \n",
       "\n",
       "    51   52   53  \n",
       "0  0.0  0.0  0.0  \n",
       "1  0.0  0.0  0.0  \n",
       "2  0.0  0.0  0.0  \n",
       "3  0.0  0.0  0.0  \n",
       "4  0.0  0.0  0.0  \n",
       "\n",
       "[5 rows x 54 columns]"
      ]
     },
     "execution_count": 6,
     "metadata": {},
     "output_type": "execute_result"
    }
   ],
   "source": [
    "df.head()"
   ]
  },
  {
   "cell_type": "code",
   "execution_count": 7,
   "metadata": {
    "id": "hmOFiqjn7BZV"
   },
   "outputs": [],
   "source": [
    "def read_files():\n",
    "    list_of_files = ['/content/gdrive/MyDrive/PAMAP2_Dataset/Protocol/subject101.dat',\n",
    "                     '/content/gdrive/MyDrive/PAMAP2_Dataset/Protocol/subject102.dat',\n",
    "                     '/content/gdrive/MyDrive/PAMAP2_Dataset/Protocol/subject103.dat',\n",
    "                     '/content/gdrive/MyDrive/PAMAP2_Dataset/Protocol/subject104.dat',\n",
    "                     '/content/gdrive/MyDrive/PAMAP2_Dataset/Protocol/subject105.dat',\n",
    "                     '/content/gdrive/MyDrive/PAMAP2_Dataset/Protocol/subject106.dat',\n",
    "                     '/content/gdrive/MyDrive/PAMAP2_Dataset/Protocol/subject107.dat',\n",
    "                     '/content/gdrive/MyDrive/PAMAP2_Dataset/Protocol/subject108.dat',\n",
    "                     '/content/gdrive/MyDrive/PAMAP2_Dataset/Protocol/subject109.dat' ]\n",
    "    \n",
    "    subjectID = [1,2,3,4,5,6,7,8,9]\n",
    "    \n",
    "\n",
    "    \n",
    "    colNames = [\"timestamp\", \"activityID\",\"heartrate\"]\n",
    "    \n",
    "    IMUhand = ['handTemperature', \n",
    "               'handAcc16_1', 'handAcc16_2', 'handAcc16_3', \n",
    "               'handAcc6_1', 'handAcc6_2', 'handAcc6_3', \n",
    "               'handGyro1', 'handGyro2', 'handGyro3', \n",
    "               'handMagne1', 'handMagne2', 'handMagne3',\n",
    "               'handOrientation1', 'handOrientation2', 'handOrientation3', 'handOrientation4']\n",
    "    \n",
    "    IMUchest = ['chestTemperature', \n",
    "               'chestAcc16_1', 'chestAcc16_2', 'chestAcc16_3', \n",
    "               'chestAcc6_1', 'chestAcc6_2', 'chestAcc6_3', \n",
    "               'chestGyro1', 'chestGyro2', 'chestGyro3', \n",
    "               'chestMagne1', 'chestMagne2', 'chestMagne3',\n",
    "               'chestOrientation1', 'chestOrientation2', 'chestOrientation3', 'chestOrientation4']\n",
    "    \n",
    "    \n",
    "    IMUankle = ['ankleTemperature', \n",
    "               'ankleAcc16_1', 'ankleAcc16_2', 'ankleAcc16_3', \n",
    "               'ankleAcc6_1', 'ankleAcc6_2', 'ankleAcc6_3', \n",
    "               'ankleGyro1', 'ankleGyro2', 'ankleGyro3', \n",
    "               'ankleMagne1', 'ankleMagne2', 'ankleMagne3',\n",
    "               'ankleOrientation1', 'ankleOrientation2', 'ankleOrientation3', 'ankleOrientation4']\n",
    "    \n",
    "    columns = colNames + IMUhand + IMUchest + IMUankle\n",
    "    \n",
    "    dataCollection = pd.DataFrame()\n",
    "    for file in list_of_files:\n",
    "        print(file,\" is reading...\")\n",
    "        procData = pd.read_table(file, header=None, sep='\\s+')\n",
    "        procData.columns = columns\n",
    "        procData['subject_id'] = int(file[-5])\n",
    "        dataCollection = dataCollection.append(procData, ignore_index=True)\n",
    "        \n",
    "    print(\"all files have been read...\")\n",
    "        \n",
    "    dataCollection.reset_index(drop=True, inplace=True)\n",
    "    \n",
    "    return dataCollection"
   ]
  },
  {
   "cell_type": "code",
   "execution_count": 8,
   "metadata": {
    "colab": {
     "base_uri": "https://localhost:8080/"
    },
    "id": "IuFrGUWv7BZW",
    "outputId": "69121aac-ff56-42a2-b61c-aaf3ae152ba3"
   },
   "outputs": [
    {
     "name": "stdout",
     "output_type": "stream",
     "text": [
      "/content/gdrive/MyDrive/PAMAP2_Dataset/Protocol/subject101.dat  is reading...\n",
      "/content/gdrive/MyDrive/PAMAP2_Dataset/Protocol/subject102.dat  is reading...\n",
      "/content/gdrive/MyDrive/PAMAP2_Dataset/Protocol/subject103.dat  is reading...\n",
      "/content/gdrive/MyDrive/PAMAP2_Dataset/Protocol/subject104.dat  is reading...\n",
      "/content/gdrive/MyDrive/PAMAP2_Dataset/Protocol/subject105.dat  is reading...\n",
      "/content/gdrive/MyDrive/PAMAP2_Dataset/Protocol/subject106.dat  is reading...\n",
      "/content/gdrive/MyDrive/PAMAP2_Dataset/Protocol/subject107.dat  is reading...\n",
      "/content/gdrive/MyDrive/PAMAP2_Dataset/Protocol/subject108.dat  is reading...\n",
      "/content/gdrive/MyDrive/PAMAP2_Dataset/Protocol/subject109.dat  is reading...\n",
      "all files have been read...\n"
     ]
    }
   ],
   "source": [
    "data = read_files()"
   ]
  },
  {
   "cell_type": "code",
   "execution_count": 9,
   "metadata": {
    "colab": {
     "base_uri": "https://localhost:8080/",
     "height": 487
    },
    "id": "PQYR7pP37BZW",
    "outputId": "db6197eb-e325-46a7-801b-e31f069b4303"
   },
   "outputs": [
    {
     "data": {
      "text/html": [
       "\n",
       "  <div id=\"df-7cec1fc9-d749-4e53-909e-f859648ee78a\">\n",
       "    <div class=\"colab-df-container\">\n",
       "      <div>\n",
       "<style scoped>\n",
       "    .dataframe tbody tr th:only-of-type {\n",
       "        vertical-align: middle;\n",
       "    }\n",
       "\n",
       "    .dataframe tbody tr th {\n",
       "        vertical-align: top;\n",
       "    }\n",
       "\n",
       "    .dataframe thead th {\n",
       "        text-align: right;\n",
       "    }\n",
       "</style>\n",
       "<table border=\"1\" class=\"dataframe\">\n",
       "  <thead>\n",
       "    <tr style=\"text-align: right;\">\n",
       "      <th></th>\n",
       "      <th>timestamp</th>\n",
       "      <th>activityID</th>\n",
       "      <th>heartrate</th>\n",
       "      <th>handTemperature</th>\n",
       "      <th>handAcc16_1</th>\n",
       "      <th>handAcc16_2</th>\n",
       "      <th>handAcc16_3</th>\n",
       "      <th>handAcc6_1</th>\n",
       "      <th>handAcc6_2</th>\n",
       "      <th>handAcc6_3</th>\n",
       "      <th>...</th>\n",
       "      <th>ankleGyro2</th>\n",
       "      <th>ankleGyro3</th>\n",
       "      <th>ankleMagne1</th>\n",
       "      <th>ankleMagne2</th>\n",
       "      <th>ankleMagne3</th>\n",
       "      <th>ankleOrientation1</th>\n",
       "      <th>ankleOrientation2</th>\n",
       "      <th>ankleOrientation3</th>\n",
       "      <th>ankleOrientation4</th>\n",
       "      <th>subject_id</th>\n",
       "    </tr>\n",
       "  </thead>\n",
       "  <tbody>\n",
       "    <tr>\n",
       "      <th>0</th>\n",
       "      <td>8.38</td>\n",
       "      <td>0</td>\n",
       "      <td>104.0</td>\n",
       "      <td>30.0</td>\n",
       "      <td>2.37223</td>\n",
       "      <td>8.60074</td>\n",
       "      <td>3.51048</td>\n",
       "      <td>2.43954</td>\n",
       "      <td>8.76165</td>\n",
       "      <td>3.35465</td>\n",
       "      <td>...</td>\n",
       "      <td>0.009250</td>\n",
       "      <td>-0.017580</td>\n",
       "      <td>-61.1888</td>\n",
       "      <td>-38.9599</td>\n",
       "      <td>-58.1438</td>\n",
       "      <td>1.0</td>\n",
       "      <td>0.0</td>\n",
       "      <td>0.0</td>\n",
       "      <td>0.0</td>\n",
       "      <td>1</td>\n",
       "    </tr>\n",
       "    <tr>\n",
       "      <th>1</th>\n",
       "      <td>8.39</td>\n",
       "      <td>0</td>\n",
       "      <td>NaN</td>\n",
       "      <td>30.0</td>\n",
       "      <td>2.18837</td>\n",
       "      <td>8.56560</td>\n",
       "      <td>3.66179</td>\n",
       "      <td>2.39494</td>\n",
       "      <td>8.55081</td>\n",
       "      <td>3.64207</td>\n",
       "      <td>...</td>\n",
       "      <td>-0.004638</td>\n",
       "      <td>0.000368</td>\n",
       "      <td>-59.8479</td>\n",
       "      <td>-38.8919</td>\n",
       "      <td>-58.5253</td>\n",
       "      <td>1.0</td>\n",
       "      <td>0.0</td>\n",
       "      <td>0.0</td>\n",
       "      <td>0.0</td>\n",
       "      <td>1</td>\n",
       "    </tr>\n",
       "    <tr>\n",
       "      <th>2</th>\n",
       "      <td>8.40</td>\n",
       "      <td>0</td>\n",
       "      <td>NaN</td>\n",
       "      <td>30.0</td>\n",
       "      <td>2.37357</td>\n",
       "      <td>8.60107</td>\n",
       "      <td>3.54898</td>\n",
       "      <td>2.30514</td>\n",
       "      <td>8.53644</td>\n",
       "      <td>3.73280</td>\n",
       "      <td>...</td>\n",
       "      <td>0.000148</td>\n",
       "      <td>0.022495</td>\n",
       "      <td>-60.7361</td>\n",
       "      <td>-39.4138</td>\n",
       "      <td>-58.3999</td>\n",
       "      <td>1.0</td>\n",
       "      <td>0.0</td>\n",
       "      <td>0.0</td>\n",
       "      <td>0.0</td>\n",
       "      <td>1</td>\n",
       "    </tr>\n",
       "    <tr>\n",
       "      <th>3</th>\n",
       "      <td>8.41</td>\n",
       "      <td>0</td>\n",
       "      <td>NaN</td>\n",
       "      <td>30.0</td>\n",
       "      <td>2.07473</td>\n",
       "      <td>8.52853</td>\n",
       "      <td>3.66021</td>\n",
       "      <td>2.33528</td>\n",
       "      <td>8.53622</td>\n",
       "      <td>3.73277</td>\n",
       "      <td>...</td>\n",
       "      <td>-0.020301</td>\n",
       "      <td>0.011275</td>\n",
       "      <td>-60.4091</td>\n",
       "      <td>-38.7635</td>\n",
       "      <td>-58.3956</td>\n",
       "      <td>1.0</td>\n",
       "      <td>0.0</td>\n",
       "      <td>0.0</td>\n",
       "      <td>0.0</td>\n",
       "      <td>1</td>\n",
       "    </tr>\n",
       "    <tr>\n",
       "      <th>4</th>\n",
       "      <td>8.42</td>\n",
       "      <td>0</td>\n",
       "      <td>NaN</td>\n",
       "      <td>30.0</td>\n",
       "      <td>2.22936</td>\n",
       "      <td>8.83122</td>\n",
       "      <td>3.70000</td>\n",
       "      <td>2.23055</td>\n",
       "      <td>8.59741</td>\n",
       "      <td>3.76295</td>\n",
       "      <td>...</td>\n",
       "      <td>-0.014303</td>\n",
       "      <td>-0.002823</td>\n",
       "      <td>-61.5199</td>\n",
       "      <td>-39.3879</td>\n",
       "      <td>-58.2694</td>\n",
       "      <td>1.0</td>\n",
       "      <td>0.0</td>\n",
       "      <td>0.0</td>\n",
       "      <td>0.0</td>\n",
       "      <td>1</td>\n",
       "    </tr>\n",
       "    <tr>\n",
       "      <th>...</th>\n",
       "      <td>...</td>\n",
       "      <td>...</td>\n",
       "      <td>...</td>\n",
       "      <td>...</td>\n",
       "      <td>...</td>\n",
       "      <td>...</td>\n",
       "      <td>...</td>\n",
       "      <td>...</td>\n",
       "      <td>...</td>\n",
       "      <td>...</td>\n",
       "      <td>...</td>\n",
       "      <td>...</td>\n",
       "      <td>...</td>\n",
       "      <td>...</td>\n",
       "      <td>...</td>\n",
       "      <td>...</td>\n",
       "      <td>...</td>\n",
       "      <td>...</td>\n",
       "      <td>...</td>\n",
       "      <td>...</td>\n",
       "      <td>...</td>\n",
       "    </tr>\n",
       "    <tr>\n",
       "      <th>376412</th>\n",
       "      <td>3772.50</td>\n",
       "      <td>0</td>\n",
       "      <td>NaN</td>\n",
       "      <td>30.5</td>\n",
       "      <td>2.02477</td>\n",
       "      <td>7.29553</td>\n",
       "      <td>5.74194</td>\n",
       "      <td>2.06573</td>\n",
       "      <td>6.57692</td>\n",
       "      <td>5.92695</td>\n",
       "      <td>...</td>\n",
       "      <td>-0.008034</td>\n",
       "      <td>0.018600</td>\n",
       "      <td>-58.8381</td>\n",
       "      <td>-36.2397</td>\n",
       "      <td>-11.0980</td>\n",
       "      <td>1.0</td>\n",
       "      <td>0.0</td>\n",
       "      <td>0.0</td>\n",
       "      <td>0.0</td>\n",
       "      <td>1</td>\n",
       "    </tr>\n",
       "    <tr>\n",
       "      <th>376413</th>\n",
       "      <td>3772.51</td>\n",
       "      <td>0</td>\n",
       "      <td>NaN</td>\n",
       "      <td>30.5</td>\n",
       "      <td>2.10836</td>\n",
       "      <td>7.86504</td>\n",
       "      <td>5.85674</td>\n",
       "      <td>2.08754</td>\n",
       "      <td>7.42244</td>\n",
       "      <td>5.87977</td>\n",
       "      <td>...</td>\n",
       "      <td>0.024647</td>\n",
       "      <td>0.013375</td>\n",
       "      <td>-58.9537</td>\n",
       "      <td>-36.3379</td>\n",
       "      <td>-11.7170</td>\n",
       "      <td>1.0</td>\n",
       "      <td>0.0</td>\n",
       "      <td>0.0</td>\n",
       "      <td>0.0</td>\n",
       "      <td>1</td>\n",
       "    </tr>\n",
       "    <tr>\n",
       "      <th>376414</th>\n",
       "      <td>3772.52</td>\n",
       "      <td>0</td>\n",
       "      <td>NaN</td>\n",
       "      <td>30.5</td>\n",
       "      <td>2.07163</td>\n",
       "      <td>8.39581</td>\n",
       "      <td>5.77742</td>\n",
       "      <td>2.13833</td>\n",
       "      <td>8.05640</td>\n",
       "      <td>5.90853</td>\n",
       "      <td>...</td>\n",
       "      <td>0.026009</td>\n",
       "      <td>0.025054</td>\n",
       "      <td>-59.1781</td>\n",
       "      <td>-35.8985</td>\n",
       "      <td>-10.9678</td>\n",
       "      <td>1.0</td>\n",
       "      <td>0.0</td>\n",
       "      <td>0.0</td>\n",
       "      <td>0.0</td>\n",
       "      <td>1</td>\n",
       "    </tr>\n",
       "    <tr>\n",
       "      <th>376415</th>\n",
       "      <td>3772.53</td>\n",
       "      <td>0</td>\n",
       "      <td>NaN</td>\n",
       "      <td>30.5</td>\n",
       "      <td>2.19569</td>\n",
       "      <td>8.77634</td>\n",
       "      <td>6.00892</td>\n",
       "      <td>2.11251</td>\n",
       "      <td>8.53989</td>\n",
       "      <td>5.93770</td>\n",
       "      <td>...</td>\n",
       "      <td>-0.035531</td>\n",
       "      <td>0.024640</td>\n",
       "      <td>-58.8299</td>\n",
       "      <td>-36.6845</td>\n",
       "      <td>-10.8553</td>\n",
       "      <td>1.0</td>\n",
       "      <td>0.0</td>\n",
       "      <td>0.0</td>\n",
       "      <td>0.0</td>\n",
       "      <td>1</td>\n",
       "    </tr>\n",
       "    <tr>\n",
       "      <th>376416</th>\n",
       "      <td>3772.54</td>\n",
       "      <td>0</td>\n",
       "      <td>NaN</td>\n",
       "      <td>30.5</td>\n",
       "      <td>2.14774</td>\n",
       "      <td>8.66047</td>\n",
       "      <td>5.73918</td>\n",
       "      <td>2.15810</td>\n",
       "      <td>8.59995</td>\n",
       "      <td>5.92242</td>\n",
       "      <td>...</td>\n",
       "      <td>0.017541</td>\n",
       "      <td>-0.037893</td>\n",
       "      <td>-59.1707</td>\n",
       "      <td>-36.7731</td>\n",
       "      <td>-11.5961</td>\n",
       "      <td>1.0</td>\n",
       "      <td>0.0</td>\n",
       "      <td>0.0</td>\n",
       "      <td>0.0</td>\n",
       "      <td>1</td>\n",
       "    </tr>\n",
       "  </tbody>\n",
       "</table>\n",
       "<p>376417 rows × 55 columns</p>\n",
       "</div>\n",
       "      <button class=\"colab-df-convert\" onclick=\"convertToInteractive('df-7cec1fc9-d749-4e53-909e-f859648ee78a')\"\n",
       "              title=\"Convert this dataframe to an interactive table.\"\n",
       "              style=\"display:none;\">\n",
       "        \n",
       "  <svg xmlns=\"http://www.w3.org/2000/svg\" height=\"24px\"viewBox=\"0 0 24 24\"\n",
       "       width=\"24px\">\n",
       "    <path d=\"M0 0h24v24H0V0z\" fill=\"none\"/>\n",
       "    <path d=\"M18.56 5.44l.94 2.06.94-2.06 2.06-.94-2.06-.94-.94-2.06-.94 2.06-2.06.94zm-11 1L8.5 8.5l.94-2.06 2.06-.94-2.06-.94L8.5 2.5l-.94 2.06-2.06.94zm10 10l.94 2.06.94-2.06 2.06-.94-2.06-.94-.94-2.06-.94 2.06-2.06.94z\"/><path d=\"M17.41 7.96l-1.37-1.37c-.4-.4-.92-.59-1.43-.59-.52 0-1.04.2-1.43.59L10.3 9.45l-7.72 7.72c-.78.78-.78 2.05 0 2.83L4 21.41c.39.39.9.59 1.41.59.51 0 1.02-.2 1.41-.59l7.78-7.78 2.81-2.81c.8-.78.8-2.07 0-2.86zM5.41 20L4 18.59l7.72-7.72 1.47 1.35L5.41 20z\"/>\n",
       "  </svg>\n",
       "      </button>\n",
       "      \n",
       "  <style>\n",
       "    .colab-df-container {\n",
       "      display:flex;\n",
       "      flex-wrap:wrap;\n",
       "      gap: 12px;\n",
       "    }\n",
       "\n",
       "    .colab-df-convert {\n",
       "      background-color: #E8F0FE;\n",
       "      border: none;\n",
       "      border-radius: 50%;\n",
       "      cursor: pointer;\n",
       "      display: none;\n",
       "      fill: #1967D2;\n",
       "      height: 32px;\n",
       "      padding: 0 0 0 0;\n",
       "      width: 32px;\n",
       "    }\n",
       "\n",
       "    .colab-df-convert:hover {\n",
       "      background-color: #E2EBFA;\n",
       "      box-shadow: 0px 1px 2px rgba(60, 64, 67, 0.3), 0px 1px 3px 1px rgba(60, 64, 67, 0.15);\n",
       "      fill: #174EA6;\n",
       "    }\n",
       "\n",
       "    [theme=dark] .colab-df-convert {\n",
       "      background-color: #3B4455;\n",
       "      fill: #D2E3FC;\n",
       "    }\n",
       "\n",
       "    [theme=dark] .colab-df-convert:hover {\n",
       "      background-color: #434B5C;\n",
       "      box-shadow: 0px 1px 3px 1px rgba(0, 0, 0, 0.15);\n",
       "      filter: drop-shadow(0px 1px 2px rgba(0, 0, 0, 0.3));\n",
       "      fill: #FFFFFF;\n",
       "    }\n",
       "  </style>\n",
       "\n",
       "      <script>\n",
       "        const buttonEl =\n",
       "          document.querySelector('#df-7cec1fc9-d749-4e53-909e-f859648ee78a button.colab-df-convert');\n",
       "        buttonEl.style.display =\n",
       "          google.colab.kernel.accessAllowed ? 'block' : 'none';\n",
       "\n",
       "        async function convertToInteractive(key) {\n",
       "          const element = document.querySelector('#df-7cec1fc9-d749-4e53-909e-f859648ee78a');\n",
       "          const dataTable =\n",
       "            await google.colab.kernel.invokeFunction('convertToInteractive',\n",
       "                                                     [key], {});\n",
       "          if (!dataTable) return;\n",
       "\n",
       "          const docLinkHtml = 'Like what you see? Visit the ' +\n",
       "            '<a target=\"_blank\" href=https://colab.research.google.com/notebooks/data_table.ipynb>data table notebook</a>'\n",
       "            + ' to learn more about interactive tables.';\n",
       "          element.innerHTML = '';\n",
       "          dataTable['output_type'] = 'display_data';\n",
       "          await google.colab.output.renderOutput(dataTable, element);\n",
       "          const docLink = document.createElement('div');\n",
       "          docLink.innerHTML = docLinkHtml;\n",
       "          element.appendChild(docLink);\n",
       "        }\n",
       "      </script>\n",
       "    </div>\n",
       "  </div>\n",
       "  "
      ],
      "text/plain": [
       "        timestamp  activityID  heartrate  handTemperature  handAcc16_1  \\\n",
       "0            8.38           0      104.0             30.0      2.37223   \n",
       "1            8.39           0        NaN             30.0      2.18837   \n",
       "2            8.40           0        NaN             30.0      2.37357   \n",
       "3            8.41           0        NaN             30.0      2.07473   \n",
       "4            8.42           0        NaN             30.0      2.22936   \n",
       "...           ...         ...        ...              ...          ...   \n",
       "376412    3772.50           0        NaN             30.5      2.02477   \n",
       "376413    3772.51           0        NaN             30.5      2.10836   \n",
       "376414    3772.52           0        NaN             30.5      2.07163   \n",
       "376415    3772.53           0        NaN             30.5      2.19569   \n",
       "376416    3772.54           0        NaN             30.5      2.14774   \n",
       "\n",
       "        handAcc16_2  handAcc16_3  handAcc6_1  handAcc6_2  handAcc6_3  ...  \\\n",
       "0           8.60074      3.51048     2.43954     8.76165     3.35465  ...   \n",
       "1           8.56560      3.66179     2.39494     8.55081     3.64207  ...   \n",
       "2           8.60107      3.54898     2.30514     8.53644     3.73280  ...   \n",
       "3           8.52853      3.66021     2.33528     8.53622     3.73277  ...   \n",
       "4           8.83122      3.70000     2.23055     8.59741     3.76295  ...   \n",
       "...             ...          ...         ...         ...         ...  ...   \n",
       "376412      7.29553      5.74194     2.06573     6.57692     5.92695  ...   \n",
       "376413      7.86504      5.85674     2.08754     7.42244     5.87977  ...   \n",
       "376414      8.39581      5.77742     2.13833     8.05640     5.90853  ...   \n",
       "376415      8.77634      6.00892     2.11251     8.53989     5.93770  ...   \n",
       "376416      8.66047      5.73918     2.15810     8.59995     5.92242  ...   \n",
       "\n",
       "        ankleGyro2  ankleGyro3  ankleMagne1  ankleMagne2  ankleMagne3  \\\n",
       "0         0.009250   -0.017580     -61.1888     -38.9599     -58.1438   \n",
       "1        -0.004638    0.000368     -59.8479     -38.8919     -58.5253   \n",
       "2         0.000148    0.022495     -60.7361     -39.4138     -58.3999   \n",
       "3        -0.020301    0.011275     -60.4091     -38.7635     -58.3956   \n",
       "4        -0.014303   -0.002823     -61.5199     -39.3879     -58.2694   \n",
       "...            ...         ...          ...          ...          ...   \n",
       "376412   -0.008034    0.018600     -58.8381     -36.2397     -11.0980   \n",
       "376413    0.024647    0.013375     -58.9537     -36.3379     -11.7170   \n",
       "376414    0.026009    0.025054     -59.1781     -35.8985     -10.9678   \n",
       "376415   -0.035531    0.024640     -58.8299     -36.6845     -10.8553   \n",
       "376416    0.017541   -0.037893     -59.1707     -36.7731     -11.5961   \n",
       "\n",
       "        ankleOrientation1  ankleOrientation2  ankleOrientation3  \\\n",
       "0                     1.0                0.0                0.0   \n",
       "1                     1.0                0.0                0.0   \n",
       "2                     1.0                0.0                0.0   \n",
       "3                     1.0                0.0                0.0   \n",
       "4                     1.0                0.0                0.0   \n",
       "...                   ...                ...                ...   \n",
       "376412                1.0                0.0                0.0   \n",
       "376413                1.0                0.0                0.0   \n",
       "376414                1.0                0.0                0.0   \n",
       "376415                1.0                0.0                0.0   \n",
       "376416                1.0                0.0                0.0   \n",
       "\n",
       "        ankleOrientation4  subject_id  \n",
       "0                     0.0           1  \n",
       "1                     0.0           1  \n",
       "2                     0.0           1  \n",
       "3                     0.0           1  \n",
       "4                     0.0           1  \n",
       "...                   ...         ...  \n",
       "376412                0.0           1  \n",
       "376413                0.0           1  \n",
       "376414                0.0           1  \n",
       "376415                0.0           1  \n",
       "376416                0.0           1  \n",
       "\n",
       "[376417 rows x 55 columns]"
      ]
     },
     "execution_count": 9,
     "metadata": {},
     "output_type": "execute_result"
    }
   ],
   "source": [
    "data.head()\n",
    "data[data['subject_id']==1]"
   ]
  },
  {
   "cell_type": "markdown",
   "metadata": {
    "id": "vQJJty-n7BZX"
   },
   "source": [
    "### 2. Data Cleaning\n"
   ]
  },
  {
   "cell_type": "code",
   "execution_count": 10,
   "metadata": {
    "colab": {
     "base_uri": "https://localhost:8080/"
    },
    "id": "6mo4byiF7BZY",
    "outputId": "c9d91ab6-8a0d-476d-8884-13da232d726f"
   },
   "outputs": [
    {
     "data": {
      "text/plain": [
       "90.86980027731623"
      ]
     },
     "execution_count": 10,
     "metadata": {},
     "output_type": "execute_result"
    }
   ],
   "source": [
    "data['heartrate'].isnull().sum()/len(data['heartrate']) *100\n",
    "## the feature 'heartrate' has over 90% of NAN values"
   ]
  },
  {
   "cell_type": "code",
   "execution_count": 11,
   "metadata": {
    "id": "dzBmmrBw7BZZ"
   },
   "outputs": [],
   "source": [
    "def dataCleaning(dataCollection):\n",
    "    dataCollection = dataCollection.drop(['timestamp', 'handOrientation1', 'handOrientation2', 'handOrientation3', 'handOrientation4',\n",
    "                                         'chestOrientation1', 'chestOrientation2', 'chestOrientation3', 'chestOrientation4',\n",
    "                                         'ankleOrientation1', 'ankleOrientation2', 'ankleOrientation3', 'ankleOrientation4'],\n",
    "                                         axis = 1)  # removal of orientation columns as they are not needed\n",
    "    dataCollection = dataCollection.drop(dataCollection[dataCollection.activityID == 0].index) #removal of any row of activity 0 as it is transient activity which it is not used\n",
    "    dataCollection = dataCollection.apply(pd.to_numeric, errors = 'coerce') #removal of non numeric data in cells\n",
    "    dataCollection = dataCollection.drop('heartrate',axis=1)#as 98% of rows has null value\n",
    "    dataCollection = dataCollection.dropna()\n",
    "    print(\"data cleaned!\")\n",
    "    return dataCollection"
   ]
  },
  {
   "cell_type": "code",
   "execution_count": 12,
   "metadata": {
    "colab": {
     "base_uri": "https://localhost:8080/"
    },
    "id": "aFhuPHVd7BZZ",
    "outputId": "f81db54c-1283-4231-b5fa-d299352eeda6"
   },
   "outputs": [
    {
     "name": "stdout",
     "output_type": "stream",
     "text": [
      "data cleaned!\n"
     ]
    }
   ],
   "source": [
    "cleaned_data = dataCleaning(data)"
   ]
  },
  {
   "cell_type": "code",
   "execution_count": 13,
   "metadata": {
    "colab": {
     "base_uri": "https://localhost:8080/",
     "height": 299
    },
    "id": "oBfz2U_U7BZa",
    "outputId": "9791cf24-aef5-4700-d114-ccaabd8257ef"
   },
   "outputs": [
    {
     "data": {
      "text/html": [
       "\n",
       "  <div id=\"df-d6c34520-3cc2-4a10-b0e4-0f23fd24909f\">\n",
       "    <div class=\"colab-df-container\">\n",
       "      <div>\n",
       "<style scoped>\n",
       "    .dataframe tbody tr th:only-of-type {\n",
       "        vertical-align: middle;\n",
       "    }\n",
       "\n",
       "    .dataframe tbody tr th {\n",
       "        vertical-align: top;\n",
       "    }\n",
       "\n",
       "    .dataframe thead th {\n",
       "        text-align: right;\n",
       "    }\n",
       "</style>\n",
       "<table border=\"1\" class=\"dataframe\">\n",
       "  <thead>\n",
       "    <tr style=\"text-align: right;\">\n",
       "      <th></th>\n",
       "      <th>activityID</th>\n",
       "      <th>handTemperature</th>\n",
       "      <th>handAcc16_1</th>\n",
       "      <th>handAcc16_2</th>\n",
       "      <th>handAcc16_3</th>\n",
       "      <th>handAcc6_1</th>\n",
       "      <th>handAcc6_2</th>\n",
       "      <th>handAcc6_3</th>\n",
       "      <th>handGyro1</th>\n",
       "      <th>handGyro2</th>\n",
       "      <th>...</th>\n",
       "      <th>ankleAcc6_1</th>\n",
       "      <th>ankleAcc6_2</th>\n",
       "      <th>ankleAcc6_3</th>\n",
       "      <th>ankleGyro1</th>\n",
       "      <th>ankleGyro2</th>\n",
       "      <th>ankleGyro3</th>\n",
       "      <th>ankleMagne1</th>\n",
       "      <th>ankleMagne2</th>\n",
       "      <th>ankleMagne3</th>\n",
       "      <th>subject_id</th>\n",
       "    </tr>\n",
       "  </thead>\n",
       "  <tbody>\n",
       "    <tr>\n",
       "      <th>2928</th>\n",
       "      <td>1</td>\n",
       "      <td>30.375</td>\n",
       "      <td>2.21530</td>\n",
       "      <td>8.27915</td>\n",
       "      <td>5.58753</td>\n",
       "      <td>2.24689</td>\n",
       "      <td>8.55387</td>\n",
       "      <td>5.77143</td>\n",
       "      <td>-0.004750</td>\n",
       "      <td>0.037579</td>\n",
       "      <td>...</td>\n",
       "      <td>9.63162</td>\n",
       "      <td>-1.76757</td>\n",
       "      <td>0.265761</td>\n",
       "      <td>0.002908</td>\n",
       "      <td>-0.027714</td>\n",
       "      <td>0.001752</td>\n",
       "      <td>-61.1081</td>\n",
       "      <td>-36.8636</td>\n",
       "      <td>-58.3696</td>\n",
       "      <td>1</td>\n",
       "    </tr>\n",
       "    <tr>\n",
       "      <th>2929</th>\n",
       "      <td>1</td>\n",
       "      <td>30.375</td>\n",
       "      <td>2.29196</td>\n",
       "      <td>7.67288</td>\n",
       "      <td>5.74467</td>\n",
       "      <td>2.27373</td>\n",
       "      <td>8.14592</td>\n",
       "      <td>5.78739</td>\n",
       "      <td>-0.171710</td>\n",
       "      <td>0.025479</td>\n",
       "      <td>...</td>\n",
       "      <td>9.58649</td>\n",
       "      <td>-1.75247</td>\n",
       "      <td>0.250816</td>\n",
       "      <td>0.020882</td>\n",
       "      <td>0.000945</td>\n",
       "      <td>0.006007</td>\n",
       "      <td>-60.8916</td>\n",
       "      <td>-36.3197</td>\n",
       "      <td>-58.3656</td>\n",
       "      <td>1</td>\n",
       "    </tr>\n",
       "    <tr>\n",
       "      <th>2930</th>\n",
       "      <td>1</td>\n",
       "      <td>30.375</td>\n",
       "      <td>2.29090</td>\n",
       "      <td>7.14240</td>\n",
       "      <td>5.82342</td>\n",
       "      <td>2.26966</td>\n",
       "      <td>7.66268</td>\n",
       "      <td>5.78846</td>\n",
       "      <td>-0.238241</td>\n",
       "      <td>0.011214</td>\n",
       "      <td>...</td>\n",
       "      <td>9.60196</td>\n",
       "      <td>-1.73721</td>\n",
       "      <td>0.356632</td>\n",
       "      <td>-0.035392</td>\n",
       "      <td>-0.052422</td>\n",
       "      <td>-0.004882</td>\n",
       "      <td>-60.3407</td>\n",
       "      <td>-35.7842</td>\n",
       "      <td>-58.6119</td>\n",
       "      <td>1</td>\n",
       "    </tr>\n",
       "    <tr>\n",
       "      <th>2931</th>\n",
       "      <td>1</td>\n",
       "      <td>30.375</td>\n",
       "      <td>2.21800</td>\n",
       "      <td>7.14365</td>\n",
       "      <td>5.89930</td>\n",
       "      <td>2.22177</td>\n",
       "      <td>7.25535</td>\n",
       "      <td>5.88000</td>\n",
       "      <td>-0.192912</td>\n",
       "      <td>0.019053</td>\n",
       "      <td>...</td>\n",
       "      <td>9.58674</td>\n",
       "      <td>-1.78264</td>\n",
       "      <td>0.311453</td>\n",
       "      <td>-0.032514</td>\n",
       "      <td>-0.018844</td>\n",
       "      <td>0.026950</td>\n",
       "      <td>-60.7646</td>\n",
       "      <td>-37.1028</td>\n",
       "      <td>-57.8799</td>\n",
       "      <td>1</td>\n",
       "    </tr>\n",
       "    <tr>\n",
       "      <th>2932</th>\n",
       "      <td>1</td>\n",
       "      <td>30.375</td>\n",
       "      <td>2.30106</td>\n",
       "      <td>7.25857</td>\n",
       "      <td>6.09259</td>\n",
       "      <td>2.20720</td>\n",
       "      <td>7.24042</td>\n",
       "      <td>5.95555</td>\n",
       "      <td>-0.069961</td>\n",
       "      <td>-0.018328</td>\n",
       "      <td>...</td>\n",
       "      <td>9.64677</td>\n",
       "      <td>-1.75240</td>\n",
       "      <td>0.295902</td>\n",
       "      <td>0.001351</td>\n",
       "      <td>-0.048878</td>\n",
       "      <td>-0.006328</td>\n",
       "      <td>-60.2040</td>\n",
       "      <td>-37.1225</td>\n",
       "      <td>-57.8847</td>\n",
       "      <td>1</td>\n",
       "    </tr>\n",
       "  </tbody>\n",
       "</table>\n",
       "<p>5 rows × 41 columns</p>\n",
       "</div>\n",
       "      <button class=\"colab-df-convert\" onclick=\"convertToInteractive('df-d6c34520-3cc2-4a10-b0e4-0f23fd24909f')\"\n",
       "              title=\"Convert this dataframe to an interactive table.\"\n",
       "              style=\"display:none;\">\n",
       "        \n",
       "  <svg xmlns=\"http://www.w3.org/2000/svg\" height=\"24px\"viewBox=\"0 0 24 24\"\n",
       "       width=\"24px\">\n",
       "    <path d=\"M0 0h24v24H0V0z\" fill=\"none\"/>\n",
       "    <path d=\"M18.56 5.44l.94 2.06.94-2.06 2.06-.94-2.06-.94-.94-2.06-.94 2.06-2.06.94zm-11 1L8.5 8.5l.94-2.06 2.06-.94-2.06-.94L8.5 2.5l-.94 2.06-2.06.94zm10 10l.94 2.06.94-2.06 2.06-.94-2.06-.94-.94-2.06-.94 2.06-2.06.94z\"/><path d=\"M17.41 7.96l-1.37-1.37c-.4-.4-.92-.59-1.43-.59-.52 0-1.04.2-1.43.59L10.3 9.45l-7.72 7.72c-.78.78-.78 2.05 0 2.83L4 21.41c.39.39.9.59 1.41.59.51 0 1.02-.2 1.41-.59l7.78-7.78 2.81-2.81c.8-.78.8-2.07 0-2.86zM5.41 20L4 18.59l7.72-7.72 1.47 1.35L5.41 20z\"/>\n",
       "  </svg>\n",
       "      </button>\n",
       "      \n",
       "  <style>\n",
       "    .colab-df-container {\n",
       "      display:flex;\n",
       "      flex-wrap:wrap;\n",
       "      gap: 12px;\n",
       "    }\n",
       "\n",
       "    .colab-df-convert {\n",
       "      background-color: #E8F0FE;\n",
       "      border: none;\n",
       "      border-radius: 50%;\n",
       "      cursor: pointer;\n",
       "      display: none;\n",
       "      fill: #1967D2;\n",
       "      height: 32px;\n",
       "      padding: 0 0 0 0;\n",
       "      width: 32px;\n",
       "    }\n",
       "\n",
       "    .colab-df-convert:hover {\n",
       "      background-color: #E2EBFA;\n",
       "      box-shadow: 0px 1px 2px rgba(60, 64, 67, 0.3), 0px 1px 3px 1px rgba(60, 64, 67, 0.15);\n",
       "      fill: #174EA6;\n",
       "    }\n",
       "\n",
       "    [theme=dark] .colab-df-convert {\n",
       "      background-color: #3B4455;\n",
       "      fill: #D2E3FC;\n",
       "    }\n",
       "\n",
       "    [theme=dark] .colab-df-convert:hover {\n",
       "      background-color: #434B5C;\n",
       "      box-shadow: 0px 1px 3px 1px rgba(0, 0, 0, 0.15);\n",
       "      filter: drop-shadow(0px 1px 2px rgba(0, 0, 0, 0.3));\n",
       "      fill: #FFFFFF;\n",
       "    }\n",
       "  </style>\n",
       "\n",
       "      <script>\n",
       "        const buttonEl =\n",
       "          document.querySelector('#df-d6c34520-3cc2-4a10-b0e4-0f23fd24909f button.colab-df-convert');\n",
       "        buttonEl.style.display =\n",
       "          google.colab.kernel.accessAllowed ? 'block' : 'none';\n",
       "\n",
       "        async function convertToInteractive(key) {\n",
       "          const element = document.querySelector('#df-d6c34520-3cc2-4a10-b0e4-0f23fd24909f');\n",
       "          const dataTable =\n",
       "            await google.colab.kernel.invokeFunction('convertToInteractive',\n",
       "                                                     [key], {});\n",
       "          if (!dataTable) return;\n",
       "\n",
       "          const docLinkHtml = 'Like what you see? Visit the ' +\n",
       "            '<a target=\"_blank\" href=https://colab.research.google.com/notebooks/data_table.ipynb>data table notebook</a>'\n",
       "            + ' to learn more about interactive tables.';\n",
       "          element.innerHTML = '';\n",
       "          dataTable['output_type'] = 'display_data';\n",
       "          await google.colab.output.renderOutput(dataTable, element);\n",
       "          const docLink = document.createElement('div');\n",
       "          docLink.innerHTML = docLinkHtml;\n",
       "          element.appendChild(docLink);\n",
       "        }\n",
       "      </script>\n",
       "    </div>\n",
       "  </div>\n",
       "  "
      ],
      "text/plain": [
       "      activityID  handTemperature  handAcc16_1  handAcc16_2  handAcc16_3  \\\n",
       "2928           1           30.375      2.21530      8.27915      5.58753   \n",
       "2929           1           30.375      2.29196      7.67288      5.74467   \n",
       "2930           1           30.375      2.29090      7.14240      5.82342   \n",
       "2931           1           30.375      2.21800      7.14365      5.89930   \n",
       "2932           1           30.375      2.30106      7.25857      6.09259   \n",
       "\n",
       "      handAcc6_1  handAcc6_2  handAcc6_3  handGyro1  handGyro2  ...  \\\n",
       "2928     2.24689     8.55387     5.77143  -0.004750   0.037579  ...   \n",
       "2929     2.27373     8.14592     5.78739  -0.171710   0.025479  ...   \n",
       "2930     2.26966     7.66268     5.78846  -0.238241   0.011214  ...   \n",
       "2931     2.22177     7.25535     5.88000  -0.192912   0.019053  ...   \n",
       "2932     2.20720     7.24042     5.95555  -0.069961  -0.018328  ...   \n",
       "\n",
       "      ankleAcc6_1  ankleAcc6_2  ankleAcc6_3  ankleGyro1  ankleGyro2  \\\n",
       "2928      9.63162     -1.76757     0.265761    0.002908   -0.027714   \n",
       "2929      9.58649     -1.75247     0.250816    0.020882    0.000945   \n",
       "2930      9.60196     -1.73721     0.356632   -0.035392   -0.052422   \n",
       "2931      9.58674     -1.78264     0.311453   -0.032514   -0.018844   \n",
       "2932      9.64677     -1.75240     0.295902    0.001351   -0.048878   \n",
       "\n",
       "      ankleGyro3  ankleMagne1  ankleMagne2  ankleMagne3  subject_id  \n",
       "2928    0.001752     -61.1081     -36.8636     -58.3696           1  \n",
       "2929    0.006007     -60.8916     -36.3197     -58.3656           1  \n",
       "2930   -0.004882     -60.3407     -35.7842     -58.6119           1  \n",
       "2931    0.026950     -60.7646     -37.1028     -57.8799           1  \n",
       "2932   -0.006328     -60.2040     -37.1225     -57.8847           1  \n",
       "\n",
       "[5 rows x 41 columns]"
      ]
     },
     "execution_count": 13,
     "metadata": {},
     "output_type": "execute_result"
    }
   ],
   "source": [
    "cleaned_data.head()"
   ]
  },
  {
   "cell_type": "code",
   "execution_count": 14,
   "metadata": {
    "id": "nZ9K5gJ57BZa"
   },
   "outputs": [],
   "source": [
    "def reset_label(dataCollection): \n",
    "    # Convert original labels {1, 2, 3, 4, 5, 6, 7, 12, 13, 16, 17, 24} to new labels. \n",
    "    mapping = {24:0,1:1,2:2,3:3,4:4,5:5,6:6,7:7,12:8,13:9,16:10,17:11} # old activity Id to new activity Id \n",
    "    for i in [24,12,13,16,17]:\n",
    "        dataCollection.loc[dataCollection.activityID == i, 'activityID'] = mapping[i]\n",
    "\n",
    "    return dataCollection\n"
   ]
  },
  {
   "cell_type": "code",
   "execution_count": 15,
   "metadata": {
    "id": "TfpEH8EY7BZb"
   },
   "outputs": [],
   "source": [
    "data_reset = reset_label(cleaned_data)  "
   ]
  },
  {
   "cell_type": "code",
   "execution_count": 16,
   "metadata": {
    "id": "nuELxAPZ7BZb"
   },
   "outputs": [],
   "source": [
    "def class_breakdown(data,col):\n",
    "    # group data by the class value and calculate the number of rows\n",
    "    counts = data.groupby(col).size()\n",
    "    # retrieve raw rows\n",
    "    counts = counts.values\n",
    "    # summarize\n",
    "    for i in range(len(counts)):\n",
    "        percent = counts[i] / len(data) * 100\n",
    "        print('Class=%d, total=%d, percentage=%.3f' % (i+1, counts[i], percent))"
   ]
  },
  {
   "cell_type": "code",
   "execution_count": 17,
   "metadata": {
    "colab": {
     "base_uri": "https://localhost:8080/"
    },
    "id": "-J1KZ2YG7BZb",
    "outputId": "9fbc266d-6b62-4b36-c5de-558c5f703843"
   },
   "outputs": [
    {
     "name": "stdout",
     "output_type": "stream",
     "text": [
      "Class=1, total=47579, percentage=2.476\n",
      "Class=2, total=192290, percentage=10.008\n",
      "Class=3, total=184645, percentage=9.610\n",
      "Class=4, total=188984, percentage=9.836\n",
      "Class=5, total=229709, percentage=11.955\n",
      "Class=6, total=95641, percentage=4.978\n",
      "Class=7, total=163302, percentage=8.499\n",
      "Class=8, total=184444, percentage=9.599\n",
      "Class=9, total=117094, percentage=6.094\n",
      "Class=10, total=104865, percentage=5.458\n",
      "Class=11, total=174976, percentage=9.107\n",
      "Class=12, total=237902, percentage=12.382\n"
     ]
    }
   ],
   "source": [
    "class_breakdown(data_reset,'activityID')"
   ]
  },
  {
   "cell_type": "code",
   "execution_count": 18,
   "metadata": {
    "id": "Rf_ojT7X7BZb"
   },
   "outputs": [],
   "source": [
    "X=data_reset.drop(['activityID'],axis=1)\n",
    "y=data_reset['activityID']"
   ]
  },
  {
   "cell_type": "markdown",
   "metadata": {
    "id": "fobXavZ17BZc"
   },
   "source": [
    "we found that class imbalance is present there in the dataset\n"
   ]
  },
  {
   "cell_type": "markdown",
   "metadata": {
    "id": "bQY9ZX4C7BZc"
   },
   "source": [
    "### 3. Under Sample using NearMiss (version=1)\n",
    "we are using under sampling to sample the data as there millions of records in the dataset"
   ]
  },
  {
   "cell_type": "code",
   "execution_count": 19,
   "metadata": {
    "id": "zzIteUKJ7BZc"
   },
   "outputs": [],
   "source": [
    "from imblearn.under_sampling import NearMiss\n",
    "from sklearn.preprocessing import LabelEncoder\n",
    "def sampling(X,y):\n",
    "    y_encoded = LabelEncoder().fit_transform(y)\n",
    "    undersample = NearMiss(version=1)\n",
    "    X_sampled,y_sampled=undersample.fit_resample(X,y_encoded)\n",
    "    return X_sampled,y_sampled"
   ]
  },
  {
   "cell_type": "code",
   "execution_count": 20,
   "metadata": {
    "id": "53_hI2387BZd"
   },
   "outputs": [],
   "source": [
    "X_sampled,y_sampled=sampling(X,y)"
   ]
  },
  {
   "cell_type": "code",
   "execution_count": 21,
   "metadata": {
    "id": "d8lsi0l87BZd"
   },
   "outputs": [],
   "source": [
    "X_=X_sampled.drop('subject_id',axis=1)\n",
    "X_subID=X_sampled['subject_id']"
   ]
  },
  {
   "cell_type": "markdown",
   "metadata": {
    "id": "bVqWWA247BZd"
   },
   "source": [
    "### 4. Scaling using MIN_MAX scaler"
   ]
  },
  {
   "cell_type": "code",
   "execution_count": 22,
   "metadata": {
    "id": "rTImwHHZ7BZd"
   },
   "outputs": [],
   "source": [
    "def scale(df):#pandas dataframe \n",
    "    features=df.columns[0:39]\n",
    "    scaler = MinMaxScaler(feature_range=(-1,1))\n",
    "    #scaler = StandardScaler()\n",
    "    #df.iloc[:,[1,-1]] = scaler.fit_transform(df.iloc[:,[1,-1]])\n",
    "    df[features]=scaler.fit_transform(df[features])\n",
    "    #df=scaler.fit_transform(df)\n",
    "    return df"
   ]
  },
  {
   "cell_type": "code",
   "execution_count": 23,
   "metadata": {
    "id": "ghbUuLs_7BZe"
   },
   "outputs": [],
   "source": [
    "data_scaled =scale(X_)"
   ]
  },
  {
   "cell_type": "code",
   "execution_count": 24,
   "metadata": {
    "colab": {
     "base_uri": "https://localhost:8080/"
    },
    "id": "eCVtu5Qc7BZe",
    "outputId": "2cdadef3-2abb-4baf-fd60-97b58024507d"
   },
   "outputs": [
    {
     "data": {
      "text/plain": [
       "(570948, 39)"
      ]
     },
     "execution_count": 24,
     "metadata": {},
     "output_type": "execute_result"
    }
   ],
   "source": [
    "data_scaled.shape"
   ]
  },
  {
   "cell_type": "code",
   "execution_count": 25,
   "metadata": {
    "id": "-aDwTYcZ7BZe"
   },
   "outputs": [],
   "source": [
    "X_sampled_scaled=pd.concat([pd.DataFrame(y_sampled,columns = ['activityID']),pd.DataFrame(data_scaled)],axis=1)"
   ]
  },
  {
   "cell_type": "code",
   "execution_count": 26,
   "metadata": {
    "id": "qZ_dthMI7BZf"
   },
   "outputs": [],
   "source": [
    "X_sampled_scaled=pd.concat([pd.DataFrame(X_sampled_scaled),pd.DataFrame(X_subID,columns = ['subject_id'])],axis=1)"
   ]
  },
  {
   "cell_type": "code",
   "execution_count": 27,
   "metadata": {
    "colab": {
     "base_uri": "https://localhost:8080/",
     "height": 0
    },
    "id": "kReKnJZ_7BZf",
    "outputId": "1d60e377-b81c-483c-f54c-7e8e4c4aefae"
   },
   "outputs": [
    {
     "data": {
      "text/html": [
       "\n",
       "  <div id=\"df-79986e1b-1de8-4dd9-8875-346aed075746\">\n",
       "    <div class=\"colab-df-container\">\n",
       "      <div>\n",
       "<style scoped>\n",
       "    .dataframe tbody tr th:only-of-type {\n",
       "        vertical-align: middle;\n",
       "    }\n",
       "\n",
       "    .dataframe tbody tr th {\n",
       "        vertical-align: top;\n",
       "    }\n",
       "\n",
       "    .dataframe thead th {\n",
       "        text-align: right;\n",
       "    }\n",
       "</style>\n",
       "<table border=\"1\" class=\"dataframe\">\n",
       "  <thead>\n",
       "    <tr style=\"text-align: right;\">\n",
       "      <th></th>\n",
       "      <th>activityID</th>\n",
       "      <th>handTemperature</th>\n",
       "      <th>handAcc16_1</th>\n",
       "      <th>handAcc16_2</th>\n",
       "      <th>handAcc16_3</th>\n",
       "      <th>handAcc6_1</th>\n",
       "      <th>handAcc6_2</th>\n",
       "      <th>handAcc6_3</th>\n",
       "      <th>handGyro1</th>\n",
       "      <th>handGyro2</th>\n",
       "      <th>...</th>\n",
       "      <th>ankleAcc6_1</th>\n",
       "      <th>ankleAcc6_2</th>\n",
       "      <th>ankleAcc6_3</th>\n",
       "      <th>ankleGyro1</th>\n",
       "      <th>ankleGyro2</th>\n",
       "      <th>ankleGyro3</th>\n",
       "      <th>ankleMagne1</th>\n",
       "      <th>ankleMagne2</th>\n",
       "      <th>ankleMagne3</th>\n",
       "      <th>subject_id</th>\n",
       "    </tr>\n",
       "  </thead>\n",
       "  <tbody>\n",
       "    <tr>\n",
       "      <th>0</th>\n",
       "      <td>0</td>\n",
       "      <td>0.000000</td>\n",
       "      <td>0.582383</td>\n",
       "      <td>0.212703</td>\n",
       "      <td>-0.561298</td>\n",
       "      <td>0.562925</td>\n",
       "      <td>0.103353</td>\n",
       "      <td>0.043748</td>\n",
       "      <td>0.132603</td>\n",
       "      <td>-0.126435</td>\n",
       "      <td>...</td>\n",
       "      <td>0.146034</td>\n",
       "      <td>-0.026100</td>\n",
       "      <td>0.155555</td>\n",
       "      <td>0.187146</td>\n",
       "      <td>0.140922</td>\n",
       "      <td>-0.170805</td>\n",
       "      <td>-0.189001</td>\n",
       "      <td>0.418305</td>\n",
       "      <td>-0.461998</td>\n",
       "      <td>1</td>\n",
       "    </tr>\n",
       "    <tr>\n",
       "      <th>1</th>\n",
       "      <td>0</td>\n",
       "      <td>0.000000</td>\n",
       "      <td>0.578270</td>\n",
       "      <td>0.214282</td>\n",
       "      <td>-0.558970</td>\n",
       "      <td>0.561514</td>\n",
       "      <td>0.107877</td>\n",
       "      <td>0.044565</td>\n",
       "      <td>0.129600</td>\n",
       "      <td>-0.126985</td>\n",
       "      <td>...</td>\n",
       "      <td>0.145298</td>\n",
       "      <td>-0.025856</td>\n",
       "      <td>0.156153</td>\n",
       "      <td>0.186261</td>\n",
       "      <td>0.142555</td>\n",
       "      <td>-0.170401</td>\n",
       "      <td>-0.206053</td>\n",
       "      <td>0.423275</td>\n",
       "      <td>-0.473034</td>\n",
       "      <td>1</td>\n",
       "    </tr>\n",
       "    <tr>\n",
       "      <th>2</th>\n",
       "      <td>0</td>\n",
       "      <td>0.000000</td>\n",
       "      <td>0.575302</td>\n",
       "      <td>0.210668</td>\n",
       "      <td>-0.563306</td>\n",
       "      <td>0.559691</td>\n",
       "      <td>0.108639</td>\n",
       "      <td>0.045814</td>\n",
       "      <td>0.126588</td>\n",
       "      <td>-0.128092</td>\n",
       "      <td>...</td>\n",
       "      <td>0.144808</td>\n",
       "      <td>-0.025611</td>\n",
       "      <td>0.156452</td>\n",
       "      <td>0.188107</td>\n",
       "      <td>0.143635</td>\n",
       "      <td>-0.166816</td>\n",
       "      <td>-0.200219</td>\n",
       "      <td>0.413122</td>\n",
       "      <td>-0.465169</td>\n",
       "      <td>1</td>\n",
       "    </tr>\n",
       "    <tr>\n",
       "      <th>3</th>\n",
       "      <td>0</td>\n",
       "      <td>0.000000</td>\n",
       "      <td>0.575302</td>\n",
       "      <td>0.195369</td>\n",
       "      <td>-0.560908</td>\n",
       "      <td>0.556952</td>\n",
       "      <td>0.100118</td>\n",
       "      <td>0.038355</td>\n",
       "      <td>0.123791</td>\n",
       "      <td>-0.127763</td>\n",
       "      <td>...</td>\n",
       "      <td>0.144804</td>\n",
       "      <td>-0.025612</td>\n",
       "      <td>0.155264</td>\n",
       "      <td>0.187273</td>\n",
       "      <td>0.140692</td>\n",
       "      <td>-0.167630</td>\n",
       "      <td>-0.200290</td>\n",
       "      <td>0.417363</td>\n",
       "      <td>-0.466728</td>\n",
       "      <td>1</td>\n",
       "    </tr>\n",
       "    <tr>\n",
       "      <th>4</th>\n",
       "      <td>0</td>\n",
       "      <td>0.000000</td>\n",
       "      <td>0.579624</td>\n",
       "      <td>0.203510</td>\n",
       "      <td>-0.562079</td>\n",
       "      <td>0.556112</td>\n",
       "      <td>0.089587</td>\n",
       "      <td>0.042141</td>\n",
       "      <td>0.128218</td>\n",
       "      <td>-0.127336</td>\n",
       "      <td>...</td>\n",
       "      <td>0.144806</td>\n",
       "      <td>-0.025856</td>\n",
       "      <td>0.155859</td>\n",
       "      <td>0.187279</td>\n",
       "      <td>0.139304</td>\n",
       "      <td>-0.168035</td>\n",
       "      <td>-0.194790</td>\n",
       "      <td>0.424258</td>\n",
       "      <td>-0.471513</td>\n",
       "      <td>1</td>\n",
       "    </tr>\n",
       "    <tr>\n",
       "      <th>...</th>\n",
       "      <td>...</td>\n",
       "      <td>...</td>\n",
       "      <td>...</td>\n",
       "      <td>...</td>\n",
       "      <td>...</td>\n",
       "      <td>...</td>\n",
       "      <td>...</td>\n",
       "      <td>...</td>\n",
       "      <td>...</td>\n",
       "      <td>...</td>\n",
       "      <td>...</td>\n",
       "      <td>...</td>\n",
       "      <td>...</td>\n",
       "      <td>...</td>\n",
       "      <td>...</td>\n",
       "      <td>...</td>\n",
       "      <td>...</td>\n",
       "      <td>...</td>\n",
       "      <td>...</td>\n",
       "      <td>...</td>\n",
       "      <td>...</td>\n",
       "    </tr>\n",
       "    <tr>\n",
       "      <th>570823</th>\n",
       "      <td>11</td>\n",
       "      <td>0.588235</td>\n",
       "      <td>0.644669</td>\n",
       "      <td>0.172532</td>\n",
       "      <td>-0.563923</td>\n",
       "      <td>0.634265</td>\n",
       "      <td>0.066371</td>\n",
       "      <td>0.040053</td>\n",
       "      <td>0.162919</td>\n",
       "      <td>-0.125323</td>\n",
       "      <td>...</td>\n",
       "      <td>0.162001</td>\n",
       "      <td>-0.008210</td>\n",
       "      <td>0.222824</td>\n",
       "      <td>0.083844</td>\n",
       "      <td>0.182750</td>\n",
       "      <td>-0.204519</td>\n",
       "      <td>-0.166470</td>\n",
       "      <td>-0.270121</td>\n",
       "      <td>0.310251</td>\n",
       "      <td>1</td>\n",
       "    </tr>\n",
       "    <tr>\n",
       "      <th>570832</th>\n",
       "      <td>11</td>\n",
       "      <td>0.564706</td>\n",
       "      <td>0.612712</td>\n",
       "      <td>0.210675</td>\n",
       "      <td>-0.548116</td>\n",
       "      <td>0.599067</td>\n",
       "      <td>0.110477</td>\n",
       "      <td>0.087806</td>\n",
       "      <td>0.087984</td>\n",
       "      <td>-0.085186</td>\n",
       "      <td>...</td>\n",
       "      <td>0.146593</td>\n",
       "      <td>-0.009239</td>\n",
       "      <td>0.173609</td>\n",
       "      <td>0.184505</td>\n",
       "      <td>0.139583</td>\n",
       "      <td>-0.168210</td>\n",
       "      <td>-0.213074</td>\n",
       "      <td>-0.165675</td>\n",
       "      <td>0.298939</td>\n",
       "      <td>1</td>\n",
       "    </tr>\n",
       "    <tr>\n",
       "      <th>570899</th>\n",
       "      <td>11</td>\n",
       "      <td>0.588235</td>\n",
       "      <td>0.439615</td>\n",
       "      <td>0.195959</td>\n",
       "      <td>-0.564177</td>\n",
       "      <td>0.416797</td>\n",
       "      <td>0.087256</td>\n",
       "      <td>0.034817</td>\n",
       "      <td>0.081955</td>\n",
       "      <td>-0.123723</td>\n",
       "      <td>...</td>\n",
       "      <td>0.134845</td>\n",
       "      <td>0.048618</td>\n",
       "      <td>0.182667</td>\n",
       "      <td>0.172377</td>\n",
       "      <td>0.156948</td>\n",
       "      <td>-0.172809</td>\n",
       "      <td>-0.199872</td>\n",
       "      <td>-0.429908</td>\n",
       "      <td>0.255842</td>\n",
       "      <td>1</td>\n",
       "    </tr>\n",
       "    <tr>\n",
       "      <th>570930</th>\n",
       "      <td>11</td>\n",
       "      <td>0.576471</td>\n",
       "      <td>0.574327</td>\n",
       "      <td>0.194468</td>\n",
       "      <td>-0.551084</td>\n",
       "      <td>0.559568</td>\n",
       "      <td>0.085570</td>\n",
       "      <td>0.067960</td>\n",
       "      <td>0.132166</td>\n",
       "      <td>-0.132640</td>\n",
       "      <td>...</td>\n",
       "      <td>0.146343</td>\n",
       "      <td>-0.010949</td>\n",
       "      <td>0.172726</td>\n",
       "      <td>0.185717</td>\n",
       "      <td>0.144283</td>\n",
       "      <td>-0.169214</td>\n",
       "      <td>-0.210238</td>\n",
       "      <td>-0.164432</td>\n",
       "      <td>0.303742</td>\n",
       "      <td>1</td>\n",
       "    </tr>\n",
       "    <tr>\n",
       "      <th>570942</th>\n",
       "      <td>11</td>\n",
       "      <td>0.588235</td>\n",
       "      <td>0.493856</td>\n",
       "      <td>0.224628</td>\n",
       "      <td>-0.581184</td>\n",
       "      <td>0.472580</td>\n",
       "      <td>0.124593</td>\n",
       "      <td>-0.005763</td>\n",
       "      <td>0.139121</td>\n",
       "      <td>-0.127447</td>\n",
       "      <td>...</td>\n",
       "      <td>0.138746</td>\n",
       "      <td>-0.019802</td>\n",
       "      <td>0.108636</td>\n",
       "      <td>0.183398</td>\n",
       "      <td>0.140448</td>\n",
       "      <td>-0.163692</td>\n",
       "      <td>-0.078707</td>\n",
       "      <td>-0.198375</td>\n",
       "      <td>0.499649</td>\n",
       "      <td>1</td>\n",
       "    </tr>\n",
       "  </tbody>\n",
       "</table>\n",
       "<p>45465 rows × 41 columns</p>\n",
       "</div>\n",
       "      <button class=\"colab-df-convert\" onclick=\"convertToInteractive('df-79986e1b-1de8-4dd9-8875-346aed075746')\"\n",
       "              title=\"Convert this dataframe to an interactive table.\"\n",
       "              style=\"display:none;\">\n",
       "        \n",
       "  <svg xmlns=\"http://www.w3.org/2000/svg\" height=\"24px\"viewBox=\"0 0 24 24\"\n",
       "       width=\"24px\">\n",
       "    <path d=\"M0 0h24v24H0V0z\" fill=\"none\"/>\n",
       "    <path d=\"M18.56 5.44l.94 2.06.94-2.06 2.06-.94-2.06-.94-.94-2.06-.94 2.06-2.06.94zm-11 1L8.5 8.5l.94-2.06 2.06-.94-2.06-.94L8.5 2.5l-.94 2.06-2.06.94zm10 10l.94 2.06.94-2.06 2.06-.94-2.06-.94-.94-2.06-.94 2.06-2.06.94z\"/><path d=\"M17.41 7.96l-1.37-1.37c-.4-.4-.92-.59-1.43-.59-.52 0-1.04.2-1.43.59L10.3 9.45l-7.72 7.72c-.78.78-.78 2.05 0 2.83L4 21.41c.39.39.9.59 1.41.59.51 0 1.02-.2 1.41-.59l7.78-7.78 2.81-2.81c.8-.78.8-2.07 0-2.86zM5.41 20L4 18.59l7.72-7.72 1.47 1.35L5.41 20z\"/>\n",
       "  </svg>\n",
       "      </button>\n",
       "      \n",
       "  <style>\n",
       "    .colab-df-container {\n",
       "      display:flex;\n",
       "      flex-wrap:wrap;\n",
       "      gap: 12px;\n",
       "    }\n",
       "\n",
       "    .colab-df-convert {\n",
       "      background-color: #E8F0FE;\n",
       "      border: none;\n",
       "      border-radius: 50%;\n",
       "      cursor: pointer;\n",
       "      display: none;\n",
       "      fill: #1967D2;\n",
       "      height: 32px;\n",
       "      padding: 0 0 0 0;\n",
       "      width: 32px;\n",
       "    }\n",
       "\n",
       "    .colab-df-convert:hover {\n",
       "      background-color: #E2EBFA;\n",
       "      box-shadow: 0px 1px 2px rgba(60, 64, 67, 0.3), 0px 1px 3px 1px rgba(60, 64, 67, 0.15);\n",
       "      fill: #174EA6;\n",
       "    }\n",
       "\n",
       "    [theme=dark] .colab-df-convert {\n",
       "      background-color: #3B4455;\n",
       "      fill: #D2E3FC;\n",
       "    }\n",
       "\n",
       "    [theme=dark] .colab-df-convert:hover {\n",
       "      background-color: #434B5C;\n",
       "      box-shadow: 0px 1px 3px 1px rgba(0, 0, 0, 0.15);\n",
       "      filter: drop-shadow(0px 1px 2px rgba(0, 0, 0, 0.3));\n",
       "      fill: #FFFFFF;\n",
       "    }\n",
       "  </style>\n",
       "\n",
       "      <script>\n",
       "        const buttonEl =\n",
       "          document.querySelector('#df-79986e1b-1de8-4dd9-8875-346aed075746 button.colab-df-convert');\n",
       "        buttonEl.style.display =\n",
       "          google.colab.kernel.accessAllowed ? 'block' : 'none';\n",
       "\n",
       "        async function convertToInteractive(key) {\n",
       "          const element = document.querySelector('#df-79986e1b-1de8-4dd9-8875-346aed075746');\n",
       "          const dataTable =\n",
       "            await google.colab.kernel.invokeFunction('convertToInteractive',\n",
       "                                                     [key], {});\n",
       "          if (!dataTable) return;\n",
       "\n",
       "          const docLinkHtml = 'Like what you see? Visit the ' +\n",
       "            '<a target=\"_blank\" href=https://colab.research.google.com/notebooks/data_table.ipynb>data table notebook</a>'\n",
       "            + ' to learn more about interactive tables.';\n",
       "          element.innerHTML = '';\n",
       "          dataTable['output_type'] = 'display_data';\n",
       "          await google.colab.output.renderOutput(dataTable, element);\n",
       "          const docLink = document.createElement('div');\n",
       "          docLink.innerHTML = docLinkHtml;\n",
       "          element.appendChild(docLink);\n",
       "        }\n",
       "      </script>\n",
       "    </div>\n",
       "  </div>\n",
       "  "
      ],
      "text/plain": [
       "        activityID  handTemperature  handAcc16_1  handAcc16_2  handAcc16_3  \\\n",
       "0                0         0.000000     0.582383     0.212703    -0.561298   \n",
       "1                0         0.000000     0.578270     0.214282    -0.558970   \n",
       "2                0         0.000000     0.575302     0.210668    -0.563306   \n",
       "3                0         0.000000     0.575302     0.195369    -0.560908   \n",
       "4                0         0.000000     0.579624     0.203510    -0.562079   \n",
       "...            ...              ...          ...          ...          ...   \n",
       "570823          11         0.588235     0.644669     0.172532    -0.563923   \n",
       "570832          11         0.564706     0.612712     0.210675    -0.548116   \n",
       "570899          11         0.588235     0.439615     0.195959    -0.564177   \n",
       "570930          11         0.576471     0.574327     0.194468    -0.551084   \n",
       "570942          11         0.588235     0.493856     0.224628    -0.581184   \n",
       "\n",
       "        handAcc6_1  handAcc6_2  handAcc6_3  handGyro1  handGyro2  ...  \\\n",
       "0         0.562925    0.103353    0.043748   0.132603  -0.126435  ...   \n",
       "1         0.561514    0.107877    0.044565   0.129600  -0.126985  ...   \n",
       "2         0.559691    0.108639    0.045814   0.126588  -0.128092  ...   \n",
       "3         0.556952    0.100118    0.038355   0.123791  -0.127763  ...   \n",
       "4         0.556112    0.089587    0.042141   0.128218  -0.127336  ...   \n",
       "...            ...         ...         ...        ...        ...  ...   \n",
       "570823    0.634265    0.066371    0.040053   0.162919  -0.125323  ...   \n",
       "570832    0.599067    0.110477    0.087806   0.087984  -0.085186  ...   \n",
       "570899    0.416797    0.087256    0.034817   0.081955  -0.123723  ...   \n",
       "570930    0.559568    0.085570    0.067960   0.132166  -0.132640  ...   \n",
       "570942    0.472580    0.124593   -0.005763   0.139121  -0.127447  ...   \n",
       "\n",
       "        ankleAcc6_1  ankleAcc6_2  ankleAcc6_3  ankleGyro1  ankleGyro2  \\\n",
       "0          0.146034    -0.026100     0.155555    0.187146    0.140922   \n",
       "1          0.145298    -0.025856     0.156153    0.186261    0.142555   \n",
       "2          0.144808    -0.025611     0.156452    0.188107    0.143635   \n",
       "3          0.144804    -0.025612     0.155264    0.187273    0.140692   \n",
       "4          0.144806    -0.025856     0.155859    0.187279    0.139304   \n",
       "...             ...          ...          ...         ...         ...   \n",
       "570823     0.162001    -0.008210     0.222824    0.083844    0.182750   \n",
       "570832     0.146593    -0.009239     0.173609    0.184505    0.139583   \n",
       "570899     0.134845     0.048618     0.182667    0.172377    0.156948   \n",
       "570930     0.146343    -0.010949     0.172726    0.185717    0.144283   \n",
       "570942     0.138746    -0.019802     0.108636    0.183398    0.140448   \n",
       "\n",
       "        ankleGyro3  ankleMagne1  ankleMagne2  ankleMagne3  subject_id  \n",
       "0        -0.170805    -0.189001     0.418305    -0.461998           1  \n",
       "1        -0.170401    -0.206053     0.423275    -0.473034           1  \n",
       "2        -0.166816    -0.200219     0.413122    -0.465169           1  \n",
       "3        -0.167630    -0.200290     0.417363    -0.466728           1  \n",
       "4        -0.168035    -0.194790     0.424258    -0.471513           1  \n",
       "...            ...          ...          ...          ...         ...  \n",
       "570823   -0.204519    -0.166470    -0.270121     0.310251           1  \n",
       "570832   -0.168210    -0.213074    -0.165675     0.298939           1  \n",
       "570899   -0.172809    -0.199872    -0.429908     0.255842           1  \n",
       "570930   -0.169214    -0.210238    -0.164432     0.303742           1  \n",
       "570942   -0.163692    -0.078707    -0.198375     0.499649           1  \n",
       "\n",
       "[45465 rows x 41 columns]"
      ]
     },
     "execution_count": 27,
     "metadata": {},
     "output_type": "execute_result"
    }
   ],
   "source": [
    "X_sampled_scaled[X_sampled_scaled['subject_id']==1]"
   ]
  },
  {
   "cell_type": "markdown",
   "metadata": {
    "id": "2yd8HBhg7BZf"
   },
   "source": [
    "### 5. Segmenting the sampled&scaled data into fixed sized window"
   ]
  },
  {
   "cell_type": "code",
   "execution_count": 28,
   "metadata": {
    "id": "KKIGJgx47BZf"
   },
   "outputs": [],
   "source": [
    "def segment_signal(data, window_size): # data is numpy array\n",
    "    n = len(data)\n",
    "    X = []\n",
    "    y = []\n",
    "    start = 0\n",
    "    end = 0\n",
    "    while start + window_size - 1 < n:\n",
    "        end = start + window_size-1\n",
    "        # if the frame contains the same activity and from the same object\n",
    "        X.append(data[start:(end+1),1:-1])\n",
    "        y.append(data[start][0])\n",
    "        start += window_size//2 # 50% overlap\n",
    "    print(np.asarray(X).shape, np.asarray(y).shape)\n",
    "    return {'inputs' : np.asarray(X), 'labels': np.asarray(y,dtype=int)}\n"
   ]
  },
  {
   "cell_type": "code",
   "execution_count": 29,
   "metadata": {
    "colab": {
     "base_uri": "https://localhost:8080/"
    },
    "id": "MKtOW8Ds7BZg",
    "outputId": "9a00702a-0f03-45d3-d590-907328c30e68"
   },
   "outputs": [
    {
     "name": "stdout",
     "output_type": "stream",
     "text": [
      "(8920, 128, 39) (8920,)\n"
     ]
    }
   ],
   "source": [
    "# data segmented\n",
    "window_size=128\n",
    "\n",
    "data_segmented=segment_signal(X_sampled_scaled.to_numpy(),window_size)"
   ]
  },
  {
   "cell_type": "markdown",
   "metadata": {
    "id": "ppvHWhvx7BZg"
   },
   "source": [
    "### 6. Saving the into h5 format"
   ]
  },
  {
   "cell_type": "code",
   "execution_count": 30,
   "metadata": {
    "id": "BmnvA4s-7BZg"
   },
   "outputs": [],
   "source": [
    "def save_data(data,file_name): # save the data in h5 format\n",
    "    f = h5py.File(file_name,'w')\n",
    "    for key in data:\n",
    "        print(key)\n",
    "        f.create_dataset(key,data = data[key])       \n",
    "    f.close()\n",
    "    print('Done.')    "
   ]
  },
  {
   "cell_type": "code",
   "execution_count": null,
   "metadata": {
    "id": "lhFeDIyZ7BZg"
   },
   "outputs": [],
   "source": [
    "#file_name = 'pamap_scaled.h5'\n"
   ]
  },
  {
   "cell_type": "code",
   "execution_count": 31,
   "metadata": {
    "id": "R0qPQHep7BZg"
   },
   "outputs": [],
   "source": [
    "file_name = 'pamap_sampled_scaled_segmented.h5'"
   ]
  },
  {
   "cell_type": "code",
   "execution_count": 32,
   "metadata": {
    "colab": {
     "base_uri": "https://localhost:8080/"
    },
    "id": "QgLtJv3t7BZh",
    "outputId": "886307b9-589d-4b2d-cb00-6a8626f41f72"
   },
   "outputs": [
    {
     "name": "stdout",
     "output_type": "stream",
     "text": [
      "inputs\n",
      "labels\n",
      "Done.\n"
     ]
    }
   ],
   "source": [
    "save_data(data_segmented, file_name)"
   ]
  },
  {
   "cell_type": "code",
   "execution_count": 33,
   "metadata": {
    "id": "Ii3MBqY47BZh"
   },
   "outputs": [],
   "source": [
    "path = \"/content/pamap_sampled_scaled_segmented.h5\""
   ]
  },
  {
   "cell_type": "code",
   "execution_count": 34,
   "metadata": {
    "colab": {
     "base_uri": "https://localhost:8080/"
    },
    "id": "0BWz49dxUy5J",
    "outputId": "2aa7c5fc-5f0f-4ab6-ddb8-09dc26c56d21"
   },
   "outputs": [
    {
     "name": "stdout",
     "output_type": "stream",
     "text": [
      "<class 'h5py._hl.dataset.Dataset'>\n",
      "<class 'h5py._hl.dataset.Dataset'>\n"
     ]
    }
   ],
   "source": [
    "f = h5py.File(path, 'r')\n",
    "X = f.get('inputs')\n",
    "y = f.get('labels') \n",
    "print(type(X))\n",
    "print(type(y))\n",
    "X = np.array(X)\n",
    "y = np.array(y)"
   ]
  },
  {
   "cell_type": "code",
   "execution_count": 35,
   "metadata": {
    "id": "OeDD-NVOWK7n"
   },
   "outputs": [],
   "source": [
    "from sklearn.model_selection import train_test_split"
   ]
  },
  {
   "cell_type": "code",
   "execution_count": 36,
   "metadata": {
    "id": "YnMh0CXmWCiG"
   },
   "outputs": [],
   "source": [
    "X_train, X_test, y_train, y_test=train_test_split(X, y, test_size=0.3, random_state = 100)\n",
    "X_train, X_val, y_train, y_val=train_test_split(X_train, y_train, test_size=0.3, random_state = 100)"
   ]
  },
  {
   "cell_type": "code",
   "execution_count": 37,
   "metadata": {
    "id": "bHzydDeDUyzb"
   },
   "outputs": [],
   "source": [
    "from keras.utils import to_categorical\n",
    "trainy_one_hot = to_categorical(y_train)\n",
    "testy_one_hot = to_categorical(y_test)"
   ]
  },
  {
   "cell_type": "code",
   "execution_count": 38,
   "metadata": {
    "colab": {
     "base_uri": "https://localhost:8080/"
    },
    "id": "cgECr1k6Uyw1",
    "outputId": "1234570c-2c83-4047-c4b7-4b69b56b7dbe"
   },
   "outputs": [
    {
     "data": {
      "text/plain": [
       "((4370, 128, 39), (2676, 128, 39))"
      ]
     },
     "execution_count": 38,
     "metadata": {},
     "output_type": "execute_result"
    }
   ],
   "source": [
    "X_train.shape, X_test.shape"
   ]
  },
  {
   "cell_type": "code",
   "execution_count": 39,
   "metadata": {
    "colab": {
     "base_uri": "https://localhost:8080/"
    },
    "id": "OTP9WWxIUyt-",
    "outputId": "570815cf-3b60-41c3-8b64-1f92da9716b1"
   },
   "outputs": [
    {
     "data": {
      "text/plain": [
       "((4370,), (2676,))"
      ]
     },
     "execution_count": 39,
     "metadata": {},
     "output_type": "execute_result"
    }
   ],
   "source": [
    "y_train.shape, y_test.shape"
   ]
  },
  {
   "cell_type": "code",
   "execution_count": 40,
   "metadata": {
    "id": "-rwgNCtUXWtV"
   },
   "outputs": [],
   "source": [
    "y_val_hot = to_categorical(y_val)"
   ]
  },
  {
   "cell_type": "code",
   "execution_count": 41,
   "metadata": {
    "colab": {
     "base_uri": "https://localhost:8080/"
    },
    "id": "66j3ALZUUyrG",
    "outputId": "18bca9ed-81c3-48f9-dd15-695c176d1ee1"
   },
   "outputs": [
    {
     "data": {
      "text/plain": [
       "(4370, 12)"
      ]
     },
     "execution_count": 41,
     "metadata": {},
     "output_type": "execute_result"
    }
   ],
   "source": [
    "trainy_one_hot.shape#, testy_one_hot.shape"
   ]
  },
  {
   "cell_type": "code",
   "execution_count": 42,
   "metadata": {
    "id": "ogiYyWN6Uyn1"
   },
   "outputs": [],
   "source": [
    "def class_breakdown(data):\n",
    "    # convert the numpy array into a dataframe\n",
    "    df = pd.DataFrame(data)\n",
    "    # group data by the class value and calculate the number of rows\n",
    "    counts = df.groupby(0).size()\n",
    "    # retrieve raw rows\n",
    "    counts = counts.values\n",
    "    # summarize\n",
    "    for i in range(len(counts)):\n",
    "        percent = counts[i] / len(df) * 100\n",
    "        print('Class=%d, total=%d, percentage=%.3f' % (i+1, counts[i], percent))"
   ]
  },
  {
   "cell_type": "code",
   "execution_count": 43,
   "metadata": {
    "colab": {
     "base_uri": "https://localhost:8080/"
    },
    "id": "LZOkMGJIUylA",
    "outputId": "4274d397-82dd-4570-8226-943610268cf6"
   },
   "outputs": [
    {
     "name": "stdout",
     "output_type": "stream",
     "text": [
      "Class=1, total=352, percentage=8.055\n",
      "Class=2, total=347, percentage=7.941\n",
      "Class=3, total=374, percentage=8.558\n",
      "Class=4, total=367, percentage=8.398\n",
      "Class=5, total=361, percentage=8.261\n",
      "Class=6, total=361, percentage=8.261\n",
      "Class=7, total=368, percentage=8.421\n",
      "Class=8, total=365, percentage=8.352\n",
      "Class=9, total=372, percentage=8.513\n",
      "Class=10, total=368, percentage=8.421\n",
      "Class=11, total=368, percentage=8.421\n",
      "Class=12, total=367, percentage=8.398\n"
     ]
    }
   ],
   "source": [
    "class_breakdown(y_train)"
   ]
  },
  {
   "cell_type": "code",
   "execution_count": 44,
   "metadata": {
    "colab": {
     "base_uri": "https://localhost:8080/"
    },
    "id": "bD_WVRvYWkpy",
    "outputId": "827daaca-7845-433f-b65b-7c17e5fe161a"
   },
   "outputs": [
    {
     "name": "stdout",
     "output_type": "stream",
     "text": [
      "Class=1, total=246, percentage=9.193\n",
      "Class=2, total=229, percentage=8.558\n",
      "Class=3, total=206, percentage=7.698\n",
      "Class=4, total=212, percentage=7.922\n",
      "Class=5, total=217, percentage=8.109\n",
      "Class=6, total=227, percentage=8.483\n",
      "Class=7, total=221, percentage=8.259\n",
      "Class=8, total=229, percentage=8.558\n",
      "Class=9, total=218, percentage=8.146\n",
      "Class=10, total=232, percentage=8.670\n",
      "Class=11, total=225, percentage=8.408\n",
      "Class=12, total=214, percentage=7.997\n"
     ]
    }
   ],
   "source": [
    "class_breakdown(y_test)"
   ]
  },
  {
   "cell_type": "code",
   "execution_count": 45,
   "metadata": {
    "id": "adP6PbBtWknm"
   },
   "outputs": [],
   "source": [
    "n_timesteps, n_features, n_outputs = X_train.shape[1], X_train.shape[2], trainy_one_hot.shape[1]"
   ]
  },
  {
   "cell_type": "code",
   "execution_count": 79,
   "metadata": {
    "colab": {
     "base_uri": "https://localhost:8080/"
    },
    "id": "LDxKvm5yWkk9",
    "outputId": "5b0871d7-ecb7-49b6-85b9-889034f3dfb2"
   },
   "outputs": [
    {
     "data": {
      "text/plain": [
       "(128, 39, 12)"
      ]
     },
     "execution_count": 79,
     "metadata": {},
     "output_type": "execute_result"
    }
   ],
   "source": [
    "n_timesteps, n_features, n_outputs"
   ]
  },
  {
   "cell_type": "markdown",
   "metadata": {
    "id": "PQOzTxdTXPC8"
   },
   "source": [
    "**Build and train the model**"
   ]
  },
  {
   "cell_type": "markdown",
   "metadata": {
    "id": "dHiz6h76sOxS"
   },
   "source": [
    "# **CNN-LSTM**"
   ]
  },
  {
   "cell_type": "code",
   "execution_count": 80,
   "metadata": {
    "colab": {
     "base_uri": "https://localhost:8080/"
    },
    "id": "JFjJRbR7f1Lr",
    "outputId": "3d5dd8aa-bc55-40f5-c268-8992d6c43eaf"
   },
   "outputs": [
    {
     "name": "stdout",
     "output_type": "stream",
     "text": [
      "Model: \"sequential_2\"\n",
      "_________________________________________________________________\n",
      " Layer (type)                Output Shape              Param #   \n",
      "=================================================================\n",
      " conv1d_8 (Conv1D)           (None, 126, 64)           7552      \n",
      "                                                                 \n",
      " conv1d_9 (Conv1D)           (None, 124, 64)           12352     \n",
      "                                                                 \n",
      " max_pooling1d_6 (MaxPooling  (None, 62, 64)           0         \n",
      " 1D)                                                             \n",
      "                                                                 \n",
      " lstm (LSTM)                 (None, 64)                33024     \n",
      "                                                                 \n",
      " dense_2 (Dense)             (None, 12)                780       \n",
      "                                                                 \n",
      "=================================================================\n",
      "Total params: 53,708\n",
      "Trainable params: 53,708\n",
      "Non-trainable params: 0\n",
      "_________________________________________________________________\n"
     ]
    }
   ],
   "source": [
    "model = tf.keras.Sequential([\n",
    "    tf.keras.layers.Conv1D(filters=64, kernel_size=3, activation='relu', input_shape=(n_timesteps, n_features)),\n",
    "    tf.keras.layers.Conv1D(filters=64, kernel_size=3, activation='relu'),\n",
    "    #tf.keras.layers.BatchNormalization(),\n",
    "    tf.keras.layers.MaxPooling1D(pool_size=2),\n",
    "    tf.keras.layers.LSTM(units=64, activation='tanh', dropout=0.5),\n",
    "    tf.keras.layers.Dense(n_outputs, activation='softmax')\n",
    "])\n",
    "model.summary()"
   ]
  },
  {
   "cell_type": "code",
   "execution_count": 81,
   "metadata": {
    "id": "c1WzwXXPXKZY"
   },
   "outputs": [],
   "source": [
    "model.compile(loss='categorical_crossentropy', optimizer='adam', metrics=['accuracy'])"
   ]
  },
  {
   "cell_type": "code",
   "execution_count": 82,
   "metadata": {
    "colab": {
     "base_uri": "https://localhost:8080/"
    },
    "id": "E8MsSHsNXO8t",
    "outputId": "e6c360b2-c8fb-4b1c-aede-4b5938e2cfcd"
   },
   "outputs": [
    {
     "name": "stdout",
     "output_type": "stream",
     "text": [
      "Epoch 1/10\n",
      "137/137 [==============================] - 6s 16ms/step - loss: 0.9900 - accuracy: 0.7119 - val_loss: 0.2692 - val_accuracy: 0.9477\n",
      "Epoch 2/10\n",
      "137/137 [==============================] - 1s 8ms/step - loss: 0.3131 - accuracy: 0.9192 - val_loss: 0.4653 - val_accuracy: 0.8602\n",
      "Epoch 3/10\n",
      "137/137 [==============================] - 1s 8ms/step - loss: 0.1516 - accuracy: 0.9698 - val_loss: 0.0614 - val_accuracy: 0.9909\n",
      "Epoch 4/10\n",
      "137/137 [==============================] - 1s 9ms/step - loss: 0.0832 - accuracy: 0.9838 - val_loss: 0.0596 - val_accuracy: 0.9851\n",
      "Epoch 5/10\n",
      "137/137 [==============================] - 1s 8ms/step - loss: 0.2648 - accuracy: 0.9304 - val_loss: 0.0683 - val_accuracy: 0.9920\n",
      "Epoch 6/10\n",
      "137/137 [==============================] - 1s 9ms/step - loss: 0.0890 - accuracy: 0.9824 - val_loss: 0.0400 - val_accuracy: 0.9920\n",
      "Epoch 7/10\n",
      "137/137 [==============================] - 1s 11ms/step - loss: 0.0368 - accuracy: 0.9934 - val_loss: 0.0285 - val_accuracy: 0.9947\n",
      "Epoch 8/10\n",
      "137/137 [==============================] - 2s 11ms/step - loss: 0.1182 - accuracy: 0.9748 - val_loss: 0.0483 - val_accuracy: 0.9899\n",
      "Epoch 9/10\n",
      "137/137 [==============================] - 1s 11ms/step - loss: 0.0257 - accuracy: 0.9950 - val_loss: 0.0155 - val_accuracy: 0.9979\n",
      "Epoch 10/10\n",
      "137/137 [==============================] - 1s 9ms/step - loss: 0.0513 - accuracy: 0.9876 - val_loss: 0.0237 - val_accuracy: 0.9968\n"
     ]
    }
   ],
   "source": [
    "history = model.fit(X_train, trainy_one_hot, validation_data=(X_val, y_val_hot), epochs=10, batch_size=32)"
   ]
  },
  {
   "cell_type": "code",
   "execution_count": 83,
   "metadata": {
    "colab": {
     "base_uri": "https://localhost:8080/"
    },
    "id": "pg_t91oTsbUl",
    "outputId": "e2382533-537c-4a49-a296-b50ac33abb39"
   },
   "outputs": [
    {
     "name": "stdout",
     "output_type": "stream",
     "text": [
      "59/59 [==============================] - 0s 4ms/step - loss: 0.0237 - accuracy: 0.9968\n",
      "Test loss: 0.02369660697877407\n",
      "Test accuracy: 0.9967982769012451\n"
     ]
    }
   ],
   "source": [
    "test_loss, test_acc = model.evaluate(X_val, y_val_hot)\n",
    "print('Test loss:', test_loss)\n",
    "print('Test accuracy:', test_acc)"
   ]
  },
  {
   "cell_type": "code",
   "execution_count": 84,
   "metadata": {
    "id": "iFWFGtMQsiFt"
   },
   "outputs": [],
   "source": [
    "import matplotlib.pyplot as plt"
   ]
  },
  {
   "cell_type": "code",
   "execution_count": 85,
   "metadata": {
    "colab": {
     "base_uri": "https://localhost:8080/",
     "height": 295
    },
    "id": "cyWFiMG1oVAe",
    "outputId": "f8b0e7a2-3350-40b9-cfe4-29d3e34797e5"
   },
   "outputs": [
    {
     "data": {
      "image/png": "[encoded data removed]",
      "text/plain": [
       "<Figure size 432x288 with 1 Axes>"
      ]
     },
     "metadata": {
      "needs_background": "light"
     },
     "output_type": "display_data"
    }
   ],
   "source": [
    "plt.figure(figsize=(6, 4))\n",
    "plt.plot(history.history['accuracy'], 'b', label='Accuracy of training data')\n",
    "plt.plot(history.history['val_accuracy'], 'm', label='Accuracy of validation data')\n",
    "plt.plot(history.history['loss'], 'b--', label='Loss of training data')\n",
    "plt.plot(history.history['val_loss'], 'm--', label='Loss of validation data')\n",
    "plt.title('Model Accuracy and Loss')\n",
    "plt.ylabel('Accuracy and Loss')\n",
    "plt.xlabel('Training Epoch')\n",
    "plt.ylim(0)\n",
    "plt.legend()\n",
    "plt.show()"
   ]
  },
  {
   "cell_type": "code",
   "execution_count": 86,
   "metadata": {
    "colab": {
     "base_uri": "https://localhost:8080/",
     "height": 312
    },
    "id": "fmqh-cn0W-EJ",
    "outputId": "39def03d-ff99-48c4-880c-09c3397a357a"
   },
   "outputs": [
    {
     "data": {
      "image/png": "[encoded data removed]",
      "text/plain": [
       "<Figure size 432x288 with 1 Axes>"
      ]
     },
     "metadata": {
      "needs_background": "light"
     },
     "output_type": "display_data"
    },
    {
     "name": "stdout",
     "output_type": "stream",
     "text": [
      "[6.0, 4.0]\n"
     ]
    }
   ],
   "source": [
    "# increase the size of the graphs. The default size is (6,4).\n",
    "plt.rcParams[\"figure.figsize\"] = (6,4)\n",
    "\n",
    "# graph the loss, the model above is configure to use \"mean squared error\" as the loss function\n",
    "loss = history.history['loss']\n",
    "val_loss = history.history['val_loss']\n",
    "epochs = range(1, len(loss) + 1)\n",
    "plt.plot(epochs, loss, 'g.', linestyle='solid', label='Training loss')\n",
    "plt.plot(epochs, val_loss, 'b', linestyle='solid', label='Validation loss')\n",
    "plt.title('Training and validation loss')\n",
    "plt.xlabel('Epochs')\n",
    "plt.ylabel('Loss')\n",
    "plt.legend()\n",
    "plt.show()\n",
    "\n",
    "print(plt.rcParams[\"figure.figsize\"])"
   ]
  },
  {
   "cell_type": "code",
   "execution_count": 87,
   "metadata": {
    "colab": {
     "base_uri": "https://localhost:8080/",
     "height": 295
    },
    "id": "4KxEdiOYsqln",
    "outputId": "f9a1d1fa-77ba-4fcd-d2e3-1d52d1563e30"
   },
   "outputs": [
    {
     "data": {
      "image/png": "[encoded data removed]",
      "text/plain": [
       "<Figure size 432x288 with 1 Axes>"
      ]
     },
     "metadata": {
      "needs_background": "light"
     },
     "output_type": "display_data"
    }
   ],
   "source": [
    "# graph of mean absolute error\n",
    "mae = history.history['accuracy']\n",
    "val_mae = history.history['val_accuracy']\n",
    "plt.plot(epochs, mae, 'g.', linestyle='solid', label='Training Accuracy')\n",
    "plt.plot(epochs, val_mae, 'b.', linestyle='solid', label='Validation Accuracy')\n",
    "plt.title('Training and validation accuracy')\n",
    "plt.xlabel('Epochs')\n",
    "plt.ylabel('MAE')\n",
    "plt.legend()\n",
    "plt.show()"
   ]
  },
  {
   "cell_type": "markdown",
   "metadata": {
    "id": "QZIBbGRZP4wT"
   },
   "source": [
    "**Confusion matrix**"
   ]
  },
  {
   "cell_type": "code",
   "execution_count": 88,
   "metadata": {
    "colab": {
     "base_uri": "https://localhost:8080/"
    },
    "id": "4prp_uNGPw4E",
    "outputId": "76cd4137-b61e-4dc4-b452-682ab67cc7cb"
   },
   "outputs": [
    {
     "name": "stdout",
     "output_type": "stream",
     "text": [
      "59/59 [==============================] - 1s 3ms/step\n"
     ]
    }
   ],
   "source": [
    "# use the model to predict the test inputs\n",
    "predictions = model.predict(X_val)"
   ]
  },
  {
   "cell_type": "code",
   "execution_count": 89,
   "metadata": {
    "colab": {
     "base_uri": "https://localhost:8080/",
     "height": 311
    },
    "id": "YhZC4wd1P3aU",
    "outputId": "0f6dc7cc-dd67-4538-d64e-84f0df289af3"
   },
   "outputs": [
    {
     "data": {
      "image/png": "[encoded data removed]",
      "text/plain": [
       "<Figure size 720x288 with 2 Axes>"
      ]
     },
     "metadata": {
      "needs_background": "light"
     },
     "output_type": "display_data"
    }
   ],
   "source": [
    "cm = tf.math.confusion_matrix(labels=tf.argmax(y_val_hot, 1), predictions=tf.argmax(predictions, 1))\n",
    "axis_labels = axis_labels = ['rope_jumping','lying','sitting','standing','walking','running','cycling','Nordic_walking','ascending_stairs','descending_stairs','vacuum_cleaning','ironing']\n",
    "figure = plt.figure(figsize=(10, 4))\n",
    "sns.heatmap(cm, annot=True,cmap=plt.cm.Blues,xticklabels=axis_labels, yticklabels=axis_labels)\n",
    "plt.ylim(len(cm)-0, 0)\n",
    "plt.tight_layout()\n",
    "plt.ylabel('True label')\n",
    "plt.xlabel('Predicted label')\n",
    "plt.show()"
   ]
  },
  {
   "cell_type": "markdown",
   "metadata": {
    "id": "aoNfLseExhM3"
   },
   "source": [
    "# CNN"
   ]
  },
  {
   "cell_type": "code",
   "execution_count": 50,
   "metadata": {
    "colab": {
     "base_uri": "https://localhost:8080/"
    },
    "id": "tF-m0em86-zR",
    "outputId": "182353a1-e90a-4129-d01f-879d3efc8a38"
   },
   "outputs": [
    {
     "name": "stdout",
     "output_type": "stream",
     "text": [
      "Model: \"sequential_1\"\n",
      "_________________________________________________________________\n",
      " Layer (type)                Output Shape              Param #   \n",
      "=================================================================\n",
      " conv1d_4 (Conv1D)           (None, 126, 64)           7552      \n",
      "                                                                 \n",
      " conv1d_5 (Conv1D)           (None, 124, 64)           12352     \n",
      "                                                                 \n",
      " max_pooling1d_3 (MaxPooling  (None, 62, 64)           0         \n",
      " 1D)                                                             \n",
      "                                                                 \n",
      " conv1d_6 (Conv1D)           (None, 60, 64)            12352     \n",
      "                                                                 \n",
      " max_pooling1d_4 (MaxPooling  (None, 30, 64)           0         \n",
      " 1D)                                                             \n",
      "                                                                 \n",
      " conv1d_7 (Conv1D)           (None, 28, 64)            12352     \n",
      "                                                                 \n",
      " max_pooling1d_5 (MaxPooling  (None, 14, 64)           0         \n",
      " 1D)                                                             \n",
      "                                                                 \n",
      " flatten_1 (Flatten)         (None, 896)               0         \n",
      "                                                                 \n",
      " dense_1 (Dense)             (None, 12)                10764     \n",
      "                                                                 \n",
      "=================================================================\n",
      "Total params: 55,372\n",
      "Trainable params: 55,372\n",
      "Non-trainable params: 0\n",
      "_________________________________________________________________\n"
     ]
    }
   ],
   "source": [
    "model = tf.keras.Sequential([\n",
    "    tf.keras.layers.Conv1D(filters=64, kernel_size=3, activation='relu', input_shape=(n_timesteps, n_features)),\n",
    "    tf.keras.layers.Conv1D(filters=64, kernel_size=3, activation='relu'),\n",
    "    #tf.keras.layers.BatchNormalization(),\n",
    "    tf.keras.layers.MaxPooling1D(pool_size=2),\n",
    "    tf.keras.layers.Conv1D(filters=64, kernel_size=3, activation='relu'),\n",
    "    tf.keras.layers.MaxPooling1D(pool_size=2),\n",
    "    tf.keras.layers.Conv1D(filters=64, kernel_size=3, activation='relu'),\n",
    "    tf.keras.layers.MaxPooling1D(pool_size=2),\n",
    "    tf.keras.layers.Flatten(),\n",
    "    tf.keras.layers.Dense(n_outputs, activation='softmax')\n",
    "])\n",
    "model.summary()"
   ]
  },
  {
   "cell_type": "code",
   "execution_count": 51,
   "metadata": {
    "id": "MozdslgDllRL"
   },
   "outputs": [],
   "source": [
    "model.compile(loss='categorical_crossentropy', optimizer='adam', metrics=['accuracy'])"
   ]
  },
  {
   "cell_type": "code",
   "execution_count": 52,
   "metadata": {
    "colab": {
     "base_uri": "https://localhost:8080/"
    },
    "id": "iF8KaIfxvj15",
    "outputId": "c7a89a12-facd-46fb-8924-a6dc01ffa772"
   },
   "outputs": [
    {
     "name": "stdout",
     "output_type": "stream",
     "text": [
      "Epoch 1/10\n",
      "137/137 [==============================] - 13s 10ms/step - loss: 0.6928 - accuracy: 0.7778 - val_loss: 0.0918 - val_accuracy: 0.9829\n",
      "Epoch 2/10\n",
      "137/137 [==============================] - 1s 6ms/step - loss: 0.0636 - accuracy: 0.9876 - val_loss: 0.0635 - val_accuracy: 0.9867\n",
      "Epoch 3/10\n",
      "137/137 [==============================] - 1s 6ms/step - loss: 0.0508 - accuracy: 0.9899 - val_loss: 0.0260 - val_accuracy: 0.9952\n",
      "Epoch 4/10\n",
      "137/137 [==============================] - 1s 6ms/step - loss: 0.0290 - accuracy: 0.9945 - val_loss: 0.0164 - val_accuracy: 0.9957\n",
      "Epoch 5/10\n",
      "137/137 [==============================] - 1s 6ms/step - loss: 0.0261 - accuracy: 0.9934 - val_loss: 0.0386 - val_accuracy: 0.9861\n",
      "Epoch 6/10\n",
      "137/137 [==============================] - 1s 7ms/step - loss: 0.0305 - accuracy: 0.9911 - val_loss: 0.0137 - val_accuracy: 0.9968\n",
      "Epoch 7/10\n",
      "137/137 [==============================] - 1s 6ms/step - loss: 0.0136 - accuracy: 0.9968 - val_loss: 0.0038 - val_accuracy: 0.9989\n",
      "Epoch 8/10\n",
      "137/137 [==============================] - 1s 7ms/step - loss: 0.0099 - accuracy: 0.9982 - val_loss: 0.0062 - val_accuracy: 0.9989\n",
      "Epoch 9/10\n",
      "137/137 [==============================] - 1s 7ms/step - loss: 0.0193 - accuracy: 0.9947 - val_loss: 0.0078 - val_accuracy: 0.9973\n",
      "Epoch 10/10\n",
      "137/137 [==============================] - 1s 9ms/step - loss: 0.0048 - accuracy: 0.9989 - val_loss: 0.0094 - val_accuracy: 0.9973\n"
     ]
    }
   ],
   "source": [
    "history = model.fit(X_train, trainy_one_hot, validation_data=(X_val, y_val_hot), epochs=10, batch_size=32)"
   ]
  },
  {
   "cell_type": "code",
   "execution_count": 53,
   "metadata": {
    "colab": {
     "base_uri": "https://localhost:8080/"
    },
    "id": "sIzVfqKIvpYg",
    "outputId": "88d387ec-94a1-46f4-b740-bde1d768f539"
   },
   "outputs": [
    {
     "name": "stdout",
     "output_type": "stream",
     "text": [
      "59/59 [==============================] - 0s 4ms/step - loss: 0.0094 - accuracy: 0.9973\n",
      "Test loss: 0.009368588216602802\n",
      "Test accuracy: 0.9973319172859192\n"
     ]
    }
   ],
   "source": [
    "test_loss, test_acc = model.evaluate(X_val, y_val_hot)\n",
    "print('Test loss:', test_loss)\n",
    "print('Test accuracy:', test_acc)"
   ]
  },
  {
   "cell_type": "code",
   "execution_count": 55,
   "metadata": {
    "colab": {
     "base_uri": "https://localhost:8080/",
     "height": 295
    },
    "id": "KdG9AzLFohKG",
    "outputId": "5373af4d-0ee9-4d39-e22e-b2afb8d2909a"
   },
   "outputs": [
    {
     "data": {
      "image/png": "[encoded data removed]",
      "text/plain": [
       "<Figure size 432x288 with 1 Axes>"
      ]
     },
     "metadata": {
      "needs_background": "light"
     },
     "output_type": "display_data"
    }
   ],
   "source": [
    "plt.figure(figsize=(6, 4))\n",
    "plt.plot(history.history['accuracy'], 'b', label='Accuracy of training data')\n",
    "plt.plot(history.history['val_accuracy'], 'm', label='Accuracy of validation data')\n",
    "plt.plot(history.history['loss'], 'b--', label='Loss of training data')\n",
    "plt.plot(history.history['val_loss'], 'm--', label='Loss of validation data')\n",
    "plt.title('Model Accuracy and Loss')\n",
    "plt.ylabel('Accuracy and Loss')\n",
    "plt.xlabel('Training Epoch')\n",
    "plt.ylim(0)\n",
    "plt.legend()\n",
    "plt.show()"
   ]
  },
  {
   "cell_type": "code",
   "execution_count": 56,
   "metadata": {
    "colab": {
     "base_uri": "https://localhost:8080/",
     "height": 312
    },
    "id": "wEtPD2y6v0WG",
    "outputId": "d5aa31b8-98de-409f-8c6b-905dd795257b"
   },
   "outputs": [
    {
     "data": {
      "image/png": "[encoded data removed]",
      "text/plain": [
       "<Figure size 432x288 with 1 Axes>"
      ]
     },
     "metadata": {
      "needs_background": "light"
     },
     "output_type": "display_data"
    },
    {
     "name": "stdout",
     "output_type": "stream",
     "text": [
      "[6.0, 4.0]\n"
     ]
    }
   ],
   "source": [
    "# increase the size of the graphs. The default size is (6,4).\n",
    "plt.rcParams[\"figure.figsize\"] = (6,4)\n",
    "\n",
    "# graph the loss, the model above is configure to use \"mean squared error\" as the loss function\n",
    "loss = history.history['loss']\n",
    "val_loss = history.history['val_loss']\n",
    "epochs = range(1, len(loss) + 1)\n",
    "plt.plot(epochs, loss, 'g.', linestyle='solid', label='Training loss')\n",
    "plt.plot(epochs, val_loss, 'b', linestyle='solid', label='Validation loss')\n",
    "plt.title('Training and validation loss')\n",
    "plt.xlabel('Epochs')\n",
    "plt.ylabel('Loss')\n",
    "plt.legend()\n",
    "plt.show()\n",
    "\n",
    "print(plt.rcParams[\"figure.figsize\"])"
   ]
  },
  {
   "cell_type": "code",
   "execution_count": 57,
   "metadata": {
    "colab": {
     "base_uri": "https://localhost:8080/",
     "height": 295
    },
    "id": "9IkzubNlv33m",
    "outputId": "0490a45f-7203-40f1-d132-ff4aa4520c2d"
   },
   "outputs": [
    {
     "data": {
      "image/png": "[encoded data removed]",
      "text/plain": [
       "<Figure size 432x288 with 1 Axes>"
      ]
     },
     "metadata": {
      "needs_background": "light"
     },
     "output_type": "display_data"
    }
   ],
   "source": [
    "# graph of mean absolute error\n",
    "mae = history.history['accuracy']\n",
    "val_mae = history.history['val_accuracy']\n",
    "plt.plot(epochs, mae, 'g.', linestyle='solid', label='Training Accuracy')\n",
    "plt.plot(epochs, val_mae, 'b.', linestyle='solid', label='Validation Accuracy')\n",
    "plt.title('Training and validation accuracy')\n",
    "plt.xlabel('Epochs')\n",
    "plt.ylabel('MAE')\n",
    "plt.legend()\n",
    "plt.show()"
   ]
  },
  {
   "cell_type": "markdown",
   "metadata": {
    "id": "qcGlOcRKPQjs"
   },
   "source": [
    "**Confusion Matrix**"
   ]
  },
  {
   "cell_type": "code",
   "execution_count": 58,
   "metadata": {
    "colab": {
     "base_uri": "https://localhost:8080/"
    },
    "id": "HWfJYjl3Najt",
    "outputId": "5a9ee335-aedc-4e3b-c882-e397ff107c22"
   },
   "outputs": [
    {
     "name": "stdout",
     "output_type": "stream",
     "text": [
      "59/59 [==============================] - 0s 2ms/step\n"
     ]
    }
   ],
   "source": [
    "# use the model to predict the test inputs\n",
    "predictions = model.predict(X_val)"
   ]
  },
  {
   "cell_type": "code",
   "execution_count": 60,
   "metadata": {
    "colab": {
     "base_uri": "https://localhost:8080/",
     "height": 311
    },
    "id": "9RtSXuGtNaWC",
    "outputId": "4985a707-2012-4ea1-fba9-84c5db8e3c1d"
   },
   "outputs": [
    {
     "data": {
      "image/png": "[encoded data removed]",
      "text/plain": [
       "<Figure size 720x288 with 2 Axes>"
      ]
     },
     "metadata": {
      "needs_background": "light"
     },
     "output_type": "display_data"
    }
   ],
   "source": [
    "cm = tf.math.confusion_matrix(labels=tf.argmax(y_val_hot, 1), predictions=tf.argmax(predictions, 1))\n",
    "axis_labels = ['rope_jumping','lying','sitting','standing','walking','running','cycling','Nordic_walking','ascending_stairs','descending_stairs','vacuum_cleaning','ironing']\n",
    "figure = plt.figure(figsize=(10, 4))\n",
    "sns.heatmap(cm, annot=True,cmap=plt.cm.Blues,xticklabels=axis_labels, yticklabels=axis_labels)\n",
    "plt.ylim(len(cm)-0, 0)\n",
    "plt.tight_layout()\n",
    "plt.ylabel('True label')\n",
    "plt.xlabel('Predicted label')\n",
    "plt.show()"
   ]
  },
  {
   "cell_type": "markdown",
   "metadata": {
    "id": "0fgmCLWRWyxt"
   },
   "source": [
    "# **CNN-GRU**"
   ]
  },
  {
   "cell_type": "code",
   "execution_count": 135,
   "metadata": {
    "colab": {
     "base_uri": "https://localhost:8080/"
    },
    "id": "ufQgERWOWkiF",
    "outputId": "c1c8dd10-e1ad-4902-a393-b01eee044186"
   },
   "outputs": [
    {
     "name": "stdout",
     "output_type": "stream",
     "text": [
      "Model: \"sequential_4\"\n",
      "_________________________________________________________________\n",
      " Layer (type)                Output Shape              Param #   \n",
      "=================================================================\n",
      " conv1d_11 (Conv1D)          (None, 126, 64)           7552      \n",
      "                                                                 \n",
      " max_pooling1d_8 (MaxPooling  (None, 63, 64)           0         \n",
      " 1D)                                                             \n",
      "                                                                 \n",
      " gru_1 (GRU)                 (None, 64)                24960     \n",
      "                                                                 \n",
      " dropout_1 (Dropout)         (None, 64)                0         \n",
      "                                                                 \n",
      " dense_4 (Dense)             (None, 12)                780       \n",
      "                                                                 \n",
      "=================================================================\n",
      "Total params: 33,292\n",
      "Trainable params: 33,292\n",
      "Non-trainable params: 0\n",
      "_________________________________________________________________\n"
     ]
    }
   ],
   "source": [
    "model = tf.keras.Sequential([\n",
    "    tf.keras.layers.Conv1D(filters=64, kernel_size=3, activation='relu', input_shape=(n_timesteps, n_features)),\n",
    "    #tf.keras.layers.BatchNormalization(),\n",
    "    tf.keras.layers.MaxPooling1D(pool_size=2),\n",
    "    tf.keras.layers.GRU(units=64, activation='tanh'),\n",
    "    tf.keras.layers.Dropout(0.5),\n",
    "    tf.keras.layers.Dense(n_outputs, activation='softmax')\n",
    "])\n",
    "model.summary()"
   ]
  },
  {
   "cell_type": "code",
   "execution_count": 136,
   "metadata": {
    "id": "inAJe6z4Wkdt"
   },
   "outputs": [],
   "source": [
    "model.compile(loss='categorical_crossentropy', optimizer='adam', metrics=['accuracy'])"
   ]
  },
  {
   "cell_type": "code",
   "execution_count": 137,
   "metadata": {
    "colab": {
     "base_uri": "https://localhost:8080/"
    },
    "id": "H13CQzykXONn",
    "outputId": "d0930bf4-f1f6-4b1b-ca18-f2c08c5435cb"
   },
   "outputs": [
    {
     "name": "stdout",
     "output_type": "stream",
     "text": [
      "Epoch 1/10\n",
      "137/137 [==============================] - 6s 13ms/step - loss: 1.4472 - accuracy: 0.5172 - val_loss: 0.4178 - val_accuracy: 0.9349\n",
      "Epoch 2/10\n",
      "137/137 [==============================] - 1s 8ms/step - loss: 0.3119 - accuracy: 0.9378 - val_loss: 0.1095 - val_accuracy: 0.9861\n",
      "Epoch 3/10\n",
      "137/137 [==============================] - 1s 8ms/step - loss: 0.1240 - accuracy: 0.9865 - val_loss: 0.0777 - val_accuracy: 0.9851\n",
      "Epoch 4/10\n",
      "137/137 [==============================] - 1s 9ms/step - loss: 0.0976 - accuracy: 0.9856 - val_loss: 0.0712 - val_accuracy: 0.9808\n",
      "Epoch 5/10\n",
      "137/137 [==============================] - 1s 8ms/step - loss: 0.0813 - accuracy: 0.9872 - val_loss: 0.0393 - val_accuracy: 0.9931\n",
      "Epoch 6/10\n",
      "137/137 [==============================] - 2s 12ms/step - loss: 0.0492 - accuracy: 0.9950 - val_loss: 0.0218 - val_accuracy: 0.9941\n",
      "Epoch 7/10\n",
      "137/137 [==============================] - 2s 17ms/step - loss: 0.0734 - accuracy: 0.9883 - val_loss: 0.0212 - val_accuracy: 0.9957\n",
      "Epoch 8/10\n",
      "137/137 [==============================] - 2s 16ms/step - loss: 0.0641 - accuracy: 0.9867 - val_loss: 0.0248 - val_accuracy: 0.9941\n",
      "Epoch 9/10\n",
      "137/137 [==============================] - 2s 14ms/step - loss: 0.0373 - accuracy: 0.9945 - val_loss: 0.0134 - val_accuracy: 0.9979\n",
      "Epoch 10/10\n",
      "137/137 [==============================] - 1s 9ms/step - loss: 0.0305 - accuracy: 0.9952 - val_loss: 0.0217 - val_accuracy: 0.9957\n"
     ]
    }
   ],
   "source": [
    "history = model.fit(X_train, trainy_one_hot, validation_data=(X_val, y_val_hot), epochs=10, batch_size=32)"
   ]
  },
  {
   "cell_type": "code",
   "execution_count": 138,
   "metadata": {
    "colab": {
     "base_uri": "https://localhost:8080/"
    },
    "id": "kBaPJM8zqX9O",
    "outputId": "85b9a82a-aed2-4f98-be34-df5b85dd4d63"
   },
   "outputs": [
    {
     "name": "stdout",
     "output_type": "stream",
     "text": [
      "59/59 [==============================] - 0s 5ms/step - loss: 0.0217 - accuracy: 0.9957\n",
      "Test loss: 0.021744301542639732\n",
      "Test accuracy: 0.9957310557365417\n"
     ]
    }
   ],
   "source": [
    "test_loss, test_acc = model.evaluate(X_val, y_val_hot)\n",
    "print('Test loss:', test_loss)\n",
    "print('Test accuracy:', test_acc)"
   ]
  },
  {
   "cell_type": "code",
   "execution_count": 139,
   "metadata": {
    "id": "IuRgvW_fqX6i"
   },
   "outputs": [],
   "source": [
    "import matplotlib.pyplot as plt"
   ]
  },
  {
   "cell_type": "code",
   "execution_count": 140,
   "metadata": {
    "colab": {
     "base_uri": "https://localhost:8080/",
     "height": 295
    },
    "id": "9RMCQXmAomGe",
    "outputId": "8eb18e3d-8951-4b2a-acef-778640f540c9"
   },
   "outputs": [
    {
     "data": {
      "image/png": "[encoded data removed]",
      "text/plain": [
       "<Figure size 432x288 with 1 Axes>"
      ]
     },
     "metadata": {
      "needs_background": "light"
     },
     "output_type": "display_data"
    }
   ],
   "source": [
    "plt.figure(figsize=(6, 4))\n",
    "plt.plot(history.history['accuracy'], 'b', label='Accuracy of training data')\n",
    "plt.plot(history.history['val_accuracy'], 'm', label='Accuracy of validation data')\n",
    "plt.plot(history.history['loss'], 'b--', label='Loss of training data')\n",
    "plt.plot(history.history['val_loss'], 'm--', label='Loss of validation data')\n",
    "plt.title('Model Accuracy and Loss')\n",
    "plt.ylabel('Accuracy and Loss')\n",
    "plt.xlabel('Training Epoch')\n",
    "plt.ylim(0)\n",
    "plt.legend()\n",
    "plt.show()"
   ]
  },
  {
   "cell_type": "code",
   "execution_count": 141,
   "metadata": {
    "colab": {
     "base_uri": "https://localhost:8080/",
     "height": 312
    },
    "id": "0WwNYVDTqX3n",
    "outputId": "d874eaa8-a20a-4590-df36-00a048980586"
   },
   "outputs": [
    {
     "data": {
      "image/png": "[encoded data removed]",
      "text/plain": [
       "<Figure size 432x288 with 1 Axes>"
      ]
     },
     "metadata": {
      "needs_background": "light"
     },
     "output_type": "display_data"
    },
    {
     "name": "stdout",
     "output_type": "stream",
     "text": [
      "[6.0, 4.0]\n"
     ]
    }
   ],
   "source": [
    "# increase the size of the graphs. The default size is (6,4).\n",
    "plt.rcParams[\"figure.figsize\"] = (6,4)\n",
    "\n",
    "# graph the loss, the model above is configure to use \"mean squared error\" as the loss function\n",
    "loss = history.history['loss']\n",
    "val_loss = history.history['val_loss']\n",
    "epochs = range(1, len(loss) + 1)\n",
    "plt.plot(epochs, loss, 'g.', linestyle='solid', label='Training loss')\n",
    "plt.plot(epochs, val_loss, 'b', linestyle='solid', label='Validation loss')\n",
    "plt.title('Training and validation loss')\n",
    "plt.xlabel('Epochs')\n",
    "plt.ylabel('Loss')\n",
    "plt.legend()\n",
    "plt.show()\n",
    "\n",
    "print(plt.rcParams[\"figure.figsize\"])"
   ]
  },
  {
   "cell_type": "code",
   "execution_count": 142,
   "metadata": {
    "colab": {
     "base_uri": "https://localhost:8080/",
     "height": 295
    },
    "id": "g2mNNigvqX0S",
    "outputId": "11ca7b7a-975c-4235-ff44-b7f481015052"
   },
   "outputs": [
    {
     "data": {
      "image/png": "[encoded data removed]",
      "text/plain": [
       "<Figure size 432x288 with 1 Axes>"
      ]
     },
     "metadata": {
      "needs_background": "light"
     },
     "output_type": "display_data"
    }
   ],
   "source": [
    "# graph of mean absolute error\n",
    "mae = history.history['accuracy']\n",
    "val_mae = history.history['val_accuracy']\n",
    "plt.plot(epochs, mae, 'g.', linestyle='solid', label='Training Accuracy')\n",
    "plt.plot(epochs, val_mae, 'b.', linestyle='solid', label='Validation Accuracy')\n",
    "plt.title('Training and validation accuracy')\n",
    "plt.xlabel('Epochs')\n",
    "plt.ylabel('MAE')\n",
    "plt.legend()\n",
    "plt.show()"
   ]
  },
  {
   "cell_type": "code",
   "execution_count": 143,
   "metadata": {
    "colab": {
     "base_uri": "https://localhost:8080/"
    },
    "id": "hX5h58QBqXwa",
    "outputId": "21c8bce0-ad7f-4332-b143-e4d901d2d6c7"
   },
   "outputs": [
    {
     "name": "stdout",
     "output_type": "stream",
     "text": [
      "59/59 [==============================] - 1s 4ms/step\n"
     ]
    }
   ],
   "source": [
    "# use the model to predict the test inputs\n",
    "predictions = model.predict(X_val)"
   ]
  },
  {
   "cell_type": "code",
   "execution_count": 144,
   "metadata": {
    "colab": {
     "base_uri": "https://localhost:8080/",
     "height": 311
    },
    "id": "axQuzYJFC71L",
    "outputId": "1f5f8c82-6ce0-4c36-fdbd-2c7c7efa4a80"
   },
   "outputs": [
    {
     "data": {
      "image/png": "[encoded data removed]",
      "text/plain": [
       "<Figure size 720x288 with 2 Axes>"
      ]
     },
     "metadata": {
      "needs_background": "light"
     },
     "output_type": "display_data"
    }
   ],
   "source": [
    "cm = tf.math.confusion_matrix(labels=tf.argmax(y_val_hot, 1), predictions=tf.argmax(predictions, 1))\n",
    "axis_labels = ['rope_jumping','lying','sitting','standing','walking','running','cycling','Nordic_walking','ascending_stairs','descending_stairs','vacuum_cleaning','ironing']\n",
    "figure = plt.figure(figsize=(10, 4))\n",
    "sns.heatmap(cm, annot=True,cmap=plt.cm.Blues,xticklabels=axis_labels, yticklabels=axis_labels)\n",
    "plt.ylim(len(cm)-0, 0)\n",
    "plt.tight_layout()\n",
    "plt.ylabel('True label')\n",
    "plt.xlabel('Predicted label')\n",
    "plt.show()"
   ]
  },
  {
   "cell_type": "markdown",
   "metadata": {
    "id": "ywC0Etp3W5Al"
   },
   "source": [
    "# Save Model"
   ]
  },
  {
   "cell_type": "code",
   "execution_count": 117,
   "metadata": {
    "id": "n2n0DHloC7w_"
   },
   "outputs": [],
   "source": [
    "model.save('model.h5')"
   ]
  },
  {
   "cell_type": "markdown",
   "metadata": {
    "id": "yyCRtihMW9r7"
   },
   "source": [
    "# code"
   ]
  },
  {
   "cell_type": "code",
   "execution_count": 118,
   "metadata": {
    "colab": {
     "base_uri": "https://localhost:8080/"
    },
    "id": "7LtdjTCEC7sx",
    "outputId": "465aa16b-e04a-4326-a5d0-a0f633a3d08b"
   },
   "outputs": [
    {
     "name": "stderr",
     "output_type": "stream",
     "text": [
      "WARNING:absl:Found untraced functions such as _jit_compiled_convolution_op, gru_cell_layer_call_fn, gru_cell_layer_call_and_return_conditional_losses while saving (showing 3 of 3). These functions will not be directly callable after loading.\n"
     ]
    },
    {
     "name": "stdout",
     "output_type": "stream",
     "text": [
      "Model is 146416 bytes\n"
     ]
    }
   ],
   "source": [
    "# Convert the model to the TensorFlow Lite format without quantization\n",
    "converter = tf.lite.TFLiteConverter.from_keras_model(model)\n",
    "converter._experimental_lower_tensor_list_ops = False\n",
    "converter.target_spec.supported_ops = [tf.lite.OpsSet.TFLITE_BUILTINS, tf.lite.OpsSet.SELECT_TF_OPS]\n",
    "tflite_model = converter.convert()\n",
    "\n",
    "# Save the model to disk\n",
    "open(\"model.tflite\", \"wb\").write(tflite_model)\n",
    "\n",
    "import os\n",
    "basic_model_size = os.path.getsize(\"model.tflite\")\n",
    "print(\"Model is %d bytes\" % basic_model_size)"
   ]
  },
  {
   "cell_type": "code",
   "execution_count": 119,
   "metadata": {
    "colab": {
     "base_uri": "https://localhost:8080/"
    },
    "id": "z8nu52vFC7md",
    "outputId": "81f2a59f-f6ed-48f1-b106-2adcdc76bc94"
   },
   "outputs": [
    {
     "name": "stdout",
     "output_type": "stream",
     "text": [
      "Header file, model.h, is 902,987 bytes.\n"
     ]
    }
   ],
   "source": [
    "# Compile the TensorFlow Lite model into a C source file\n",
    "!xxd -i model.tflite > model.cc\n",
    "\n",
    "# Create a header file from the C source file\n",
    "!sed 's/unsigned/const unsigned/g' model.cc > model.h\n",
    "\n",
    "import os\n",
    "model_h_size = os.path.getsize(\"model.h\")\n",
    "print(f\"Header file, model.h, is {model_h_size:,} bytes.\")"
   ]
  },
  {
   "cell_type": "code",
   "execution_count": 120,
   "metadata": {
    "colab": {
     "base_uri": "https://localhost:8080/"
    },
    "id": "32Eh24ogC7hL",
    "outputId": "d882f9fd-b2a1-42d6-8bb4-39eb25bd05c9"
   },
   "outputs": [
    {
     "name": "stdout",
     "output_type": "stream",
     "text": [
      "Model: \"sequential_3\"\n",
      "_________________________________________________________________\n",
      " Layer (type)                Output Shape              Param #   \n",
      "=================================================================\n",
      " prune_low_magnitude_conv1d_  (None, 126, 64)          15042     \n",
      " 10 (PruneLowMagnitude)                                          \n",
      "                                                                 \n",
      " prune_low_magnitude_max_poo  (None, 63, 64)           1         \n",
      " ling1d_7 (PruneLowMagnitude                                     \n",
      " )                                                               \n",
      "                                                                 \n",
      " prune_low_magnitude_gru (Pr  (None, 64)               49539     \n",
      " uneLowMagnitude)                                                \n",
      "                                                                 \n",
      " prune_low_magnitude_dropout  (None, 64)               1         \n",
      "  (PruneLowMagnitude)                                            \n",
      "                                                                 \n",
      " prune_low_magnitude_dense_3  (None, 12)               1550      \n",
      "  (PruneLowMagnitude)                                            \n",
      "                                                                 \n",
      "=================================================================\n",
      "Total params: 66,133\n",
      "Trainable params: 33,292\n",
      "Non-trainable params: 32,841\n",
      "_________________________________________________________________\n",
      "Epoch 1/10\n",
      "  1/137 [..............................] - ETA: 10:18 - loss: 0.0097 - accuracy: 1.0000"
     ]
    },
    {
     "name": "stderr",
     "output_type": "stream",
     "text": [
      "WARNING:tensorflow:Callback method `on_train_batch_end` is slow compared to the batch time (batch time: 0.0074s vs `on_train_batch_end` time: 0.0182s). Check your callbacks.\n"
     ]
    },
    {
     "name": "stdout",
     "output_type": "stream",
     "text": [
      "137/137 [==============================] - 7s 20ms/step - loss: 0.0538 - accuracy: 0.9895 - val_loss: 0.0238 - val_accuracy: 0.9957 - lr: 0.0010\n",
      "Epoch 2/10\n",
      "137/137 [==============================] - 2s 14ms/step - loss: 0.0316 - accuracy: 0.9954 - val_loss: 0.0129 - val_accuracy: 0.9984 - lr: 0.0010\n",
      "Epoch 3/10\n",
      "137/137 [==============================] - 1s 10ms/step - loss: 0.0316 - accuracy: 0.9961 - val_loss: 0.0189 - val_accuracy: 0.9947 - lr: 0.0010\n",
      "Epoch 4/10\n",
      "137/137 [==============================] - 1s 10ms/step - loss: 0.0447 - accuracy: 0.9927 - val_loss: 0.0173 - val_accuracy: 0.9947 - lr: 0.0010\n",
      "Epoch 5/10\n",
      "137/137 [==============================] - 1s 10ms/step - loss: 0.0577 - accuracy: 0.9881 - val_loss: 0.0257 - val_accuracy: 0.9952 - lr: 0.0010\n",
      "Epoch 6/10\n",
      "137/137 [==============================] - 1s 10ms/step - loss: 0.0341 - accuracy: 0.9961 - val_loss: 0.0101 - val_accuracy: 0.9979 - lr: 0.0010\n",
      "Epoch 7/10\n",
      "137/137 [==============================] - 1s 10ms/step - loss: 0.0222 - accuracy: 0.9979 - val_loss: 0.0083 - val_accuracy: 0.9984 - lr: 0.0010\n",
      "Epoch 8/10\n",
      "137/137 [==============================] - 1s 11ms/step - loss: 0.0186 - accuracy: 0.9982 - val_loss: 0.0068 - val_accuracy: 0.9984 - lr: 0.0010\n",
      "Epoch 9/10\n",
      "137/137 [==============================] - 2s 13ms/step - loss: 0.0158 - accuracy: 0.9979 - val_loss: 0.0087 - val_accuracy: 0.9979 - lr: 0.0010\n",
      "Epoch 10/10\n",
      "137/137 [==============================] - 2s 16ms/step - loss: 0.0152 - accuracy: 0.9989 - val_loss: 0.0102 - val_accuracy: 0.9963 - lr: 0.0010\n",
      "Test loss: 0.010208596475422382\n",
      "Test accuracy: 0.9962646961212158\n"
     ]
    }
   ],
   "source": [
    "import tensorflow_model_optimization as tfmot\n",
    "\n",
    "pruning_schedule = tfmot.sparsity.keras.PolynomialDecay(\n",
    "    initial_sparsity=0.0,\n",
    "    final_sparsity=0.5,\n",
    "    begin_step=0,\n",
    "    end_step=1000\n",
    ")\n",
    "\n",
    "pruned_model = tfmot.sparsity.keras.prune_low_magnitude(model, pruning_schedule=pruning_schedule)\n",
    "pruned_model.summary()\n",
    "\n",
    "import tempfile\n",
    "\n",
    "logdir = tempfile.mkdtemp()\n",
    "\n",
    "callbacks = [\n",
    "    sparsity.UpdatePruningStep(),\n",
    "    sparsity.PruningSummaries(log_dir=logdir, profile_batch=0),\n",
    "    tf.keras.callbacks.ReduceLROnPlateau(monitor='val_loss',min_lr=0.0001)\n",
    "\n",
    "]\n",
    "\n",
    "\n",
    "pruned_model.compile(optimizer='adam', loss='categorical_crossentropy', metrics=['accuracy'])\n",
    "his = pruned_model.fit(X_train, trainy_one_hot, epochs = 10, batch_size=32, callbacks=callbacks, validation_data= (X_val, y_val_hot), verbose=1)\n",
    "\n",
    "\n",
    "score = pruned_model.evaluate(X_val, y_val_hot, verbose=0)\n",
    "print('Test loss:', score[0])\n",
    "print('Test accuracy:', score[1])\n"
   ]
  },
  {
   "cell_type": "code",
   "execution_count": 121,
   "metadata": {
    "colab": {
     "base_uri": "https://localhost:8080/"
    },
    "id": "eK3Lx8EGC7cj",
    "outputId": "04d22687-ff2f-40c8-dae7-6161ff28b3c0"
   },
   "outputs": [
    {
     "name": "stdout",
     "output_type": "stream",
     "text": [
      "Test loss: 0.010208596475422382\n",
      "Test accuracy: 0.9962646961212158\n"
     ]
    }
   ],
   "source": [
    "core = pruned_model.evaluate(X_val, y_val_hot, verbose=0)\n",
    "print('Test loss:', score[0])\n",
    "print('Test accuracy:', score[1])"
   ]
  },
  {
   "cell_type": "code",
   "execution_count": 122,
   "metadata": {
    "colab": {
     "base_uri": "https://localhost:8080/"
    },
    "id": "Ef7kGsmzDVBA",
    "outputId": "d647fb22-5f87-47fd-f4a2-c4567dd9f9ec"
   },
   "outputs": [
    {
     "name": "stdout",
     "output_type": "stream",
     "text": [
      "Model: \"sequential_3\"\n",
      "_________________________________________________________________\n",
      " Layer (type)                Output Shape              Param #   \n",
      "=================================================================\n",
      " conv1d_10 (Conv1D)          (None, 126, 64)           7552      \n",
      "                                                                 \n",
      " max_pooling1d_7 (MaxPooling  (None, 63, 64)           0         \n",
      " 1D)                                                             \n",
      "                                                                 \n",
      " gru (GRU)                   (None, 64)                24960     \n",
      "                                                                 \n",
      " dropout (Dropout)           (None, 64)                0         \n",
      "                                                                 \n",
      " dense_3 (Dense)             (None, 12)                780       \n",
      "                                                                 \n",
      "=================================================================\n",
      "Total params: 33,292\n",
      "Trainable params: 33,292\n",
      "Non-trainable params: 0\n",
      "_________________________________________________________________\n"
     ]
    }
   ],
   "source": [
    "pruned_model = sparsity.strip_pruning(pruned_model)\n",
    "pruned_model.summary()"
   ]
  },
  {
   "cell_type": "code",
   "execution_count": 123,
   "metadata": {
    "id": "FR2gbw71DU9e"
   },
   "outputs": [],
   "source": [
    "pruned_model.compile(\n",
    "    loss=[\"mse\"],\n",
    "    optimizer=\"adam\",\n",
    "    metrics=['accuracy']\n",
    ")"
   ]
  },
  {
   "cell_type": "code",
   "execution_count": 124,
   "metadata": {
    "colab": {
     "base_uri": "https://localhost:8080/",
     "height": 328
    },
    "id": "X0vm-MVxDU6J",
    "outputId": "85145ca7-8aa6-460a-c3a3-a722edc90e21"
   },
   "outputs": [
    {
     "name": "stdout",
     "output_type": "stream",
     "text": [
      "59/59 [==============================] - 1s 3ms/step\n"
     ]
    },
    {
     "data": {
      "image/png": "[encoded data removed]",
      "text/plain": [
       "<Figure size 720x288 with 2 Axes>"
      ]
     },
     "metadata": {
      "needs_background": "light"
     },
     "output_type": "display_data"
    }
   ],
   "source": [
    "predictions_p = pruned_model.predict(X_val)\n",
    "cm = tf.math.confusion_matrix(labels=tf.argmax(y_val_hot, 1), predictions=tf.argmax(predictions_p, 1))\n",
    "axis_labels = ['rope_jumping','lying','sitting','standing','walking','running','cycling','Nordic_walking','ascending_stairs','descending_stairs','vacuum_cleaning','ironing']\n",
    "figure = plt.figure(figsize=(10, 4))\n",
    "sns.heatmap(cm, annot=True,cmap=plt.cm.Blues,xticklabels=axis_labels, yticklabels=axis_labels)\n",
    "plt.tight_layout()\n",
    "plt.ylim(len(cm)-0, 0)\n",
    "plt.ylabel('True label')\n",
    "plt.xlabel('Predicted label')\n",
    "plt.show()"
   ]
  },
  {
   "cell_type": "code",
   "execution_count": 125,
   "metadata": {
    "colab": {
     "base_uri": "https://localhost:8080/"
    },
    "id": "bjpKB4HRDU2i",
    "outputId": "64e9a466-e202-4e6c-82f2-35b4a392049e"
   },
   "outputs": [
    {
     "name": "stdout",
     "output_type": "stream",
     "text": [
      "conv1d_10/kernel:0 -- Total:7488, Zeros: 50.00%\n",
      "conv1d_10/bias:0 -- Total:64, Zeros: 0.00%\n",
      "gru/gru_cell/kernel:0 -- Total:12288, Zeros: 50.00%\n",
      "gru/gru_cell/recurrent_kernel:0 -- Total:12288, Zeros: 50.00%\n",
      "gru/gru_cell/bias:0 -- Total:384, Zeros: 0.00%\n",
      "dense_3/kernel:0 -- Total:768, Zeros: 50.00%\n",
      "dense_3/bias:0 -- Total:12, Zeros: 0.00%\n"
     ]
    }
   ],
   "source": [
    "from tensorflow.keras.models import load_model\n",
    "import numpy as np\n",
    "\n",
    "for i, w in enumerate(pruned_model.get_weights()):\n",
    "    print(\n",
    "        \"{} -- Total:{}, Zeros: {:.2f}%\".format(\n",
    "            pruned_model.weights[i].name, w.size, np.sum(w == 0) / w.size * 100\n",
    "        )\n",
    "    )"
   ]
  },
  {
   "cell_type": "code",
   "execution_count": 126,
   "metadata": {
    "colab": {
     "base_uri": "https://localhost:8080/"
    },
    "id": "7lNiDRBVDUy4",
    "outputId": "e3bc22ce-fb5c-4683-d5fa-8c02551ceeac"
   },
   "outputs": [
    {
     "name": "stderr",
     "output_type": "stream",
     "text": [
      "WARNING:absl:Found untraced functions such as _jit_compiled_convolution_op, _update_step_xla, gru_cell_layer_call_fn, gru_cell_layer_call_and_return_conditional_losses while saving (showing 4 of 4). These functions will not be directly callable after loading.\n"
     ]
    },
    {
     "name": "stdout",
     "output_type": "stream",
     "text": [
      "Pruned model size: 51136 bytes\n"
     ]
    }
   ],
   "source": [
    "# Convert pruned model to TFLite model\n",
    "converter = tf.lite.TFLiteConverter.from_keras_model(pruned_model)\n",
    "converter.optimizations = [tf.lite.Optimize.DEFAULT]\n",
    "converter.target_spec.supported_ops = [tf.lite.OpsSet.TFLITE_BUILTINS, tf.lite.OpsSet.SELECT_TF_OPS]\n",
    "converter.experimental_lower_tensor_list_ops = False\n",
    "tflite_pruned_model = converter.convert()\n",
    "\n",
    "# Save the TFLite model to disk\n",
    "with open('pruned_model.tflite', 'wb') as f:\n",
    "    f.write(tflite_pruned_model)\n",
    "\n",
    "# Print size of TFLite model\n",
    "pruned_model_size = os.path.getsize(\"pruned_model.tflite\")\n",
    "print(\"Pruned model size: %d bytes\" % pruned_model_size)"
   ]
  },
  {
   "cell_type": "code",
   "execution_count": 127,
   "metadata": {
    "colab": {
     "base_uri": "https://localhost:8080/"
    },
    "id": "t_z27FCxDUtm",
    "outputId": "c16841f7-c461-4b86-a3b3-3d01e112665b"
   },
   "outputs": [
    {
     "name": "stdout",
     "output_type": "stream",
     "text": [
      "Header file, Pmodel.h, is 315,440 bytes.\n"
     ]
    }
   ],
   "source": [
    "# Compile the TensorFlow Lite model into a C source file\n",
    "!xxd -i pruned_model.tflite > Pmodel.cc\n",
    "\n",
    "# Create a header file from the C source file\n",
    "!sed 's/unsigned/const unsigned/g' Pmodel.cc > Pmodel.h\n",
    "\n",
    "import os\n",
    "Pmodel_h_size = os.path.getsize(\"Pmodel.h\")\n",
    "print(f\"Header file, Pmodel.h, is {Pmodel_h_size:,} bytes.\")"
   ]
  },
  {
   "cell_type": "code",
   "execution_count": 128,
   "metadata": {
    "id": "NI_SYzobDUnj"
   },
   "outputs": [],
   "source": [
    "pruned_model.save('pruned_model.h5')"
   ]
  },
  {
   "cell_type": "code",
   "execution_count": 129,
   "metadata": {
    "colab": {
     "base_uri": "https://localhost:8080/"
    },
    "id": "mCQ2FrM6DuYk",
    "outputId": "99d67d39-01fc-4aac-cb52-ad64e2fbfbb6"
   },
   "outputs": [
    {
     "name": "stderr",
     "output_type": "stream",
     "text": [
      "WARNING:absl:Found untraced functions such as _jit_compiled_convolution_op, _update_step_xla, gru_cell_1_layer_call_fn, gru_cell_1_layer_call_and_return_conditional_losses while saving (showing 4 of 4). These functions will not be directly callable after loading.\n",
      "/usr/local/lib/python3.8/dist-packages/tensorflow/lite/python/convert.py:765: UserWarning: Statistics for quantized inputs were expected, but not specified; continuing anyway.\n",
      "  warnings.warn(\"Statistics for quantized inputs were expected, but not \"\n"
     ]
    },
    {
     "name": "stdout",
     "output_type": "stream",
     "text": [
      "pruned_quantized_model is 50688 bytes\n"
     ]
    }
   ],
   "source": [
    "# Define a function to generate representative data for quantization\n",
    "def representative_data_gen():\n",
    "  for input_value in np.array(X_train, dtype=np.float32):\n",
    "    yield [np.expand_dims(input_value, axis=0)]\n",
    "\n",
    "\n",
    "\n",
    "# Convert the Keras model to a TensorFlow Lite model with quantization\n",
    "pruned_model = tf.keras.models.load_model('pruned_model.h5')\n",
    "\n",
    "converter = tf.lite.TFLiteConverter.from_keras_model(pruned_model)\n",
    "converter.optimizations = [tf.lite.Optimize.DEFAULT]\n",
    "converter.representative_dataset = representative_data_gen\n",
    "converter.target_spec.supported_ops = [tf.lite.OpsSet.TFLITE_BUILTINS, tf.lite.OpsSet.SELECT_TF_OPS]\n",
    "converter._experimental_lower_tensor_list_ops = False\n",
    "pruned_quantized_tflite_model = converter.convert()\n",
    "\n",
    "# Save the quantized model to disk\n",
    "with open(\"pruned_quantized_model.tflite\", \"wb\") as f:\n",
    "    f.write(pruned_quantized_tflite_model)\n",
    "\n",
    "# Check the size of the quantized model\n",
    "quantized_model_size = os.path.getsize(\"pruned_quantized_model.tflite\")\n",
    "print(\"pruned_quantized_model is %d bytes\" % quantized_model_size)"
   ]
  },
  {
   "cell_type": "code",
   "execution_count": 130,
   "metadata": {
    "colab": {
     "base_uri": "https://localhost:8080/"
    },
    "id": "lG3BeNlQDuUD",
    "outputId": "709b707f-203e-4004-9253-629fb1d5b893"
   },
   "outputs": [
    {
     "name": "stdout",
     "output_type": "stream",
     "text": [
      "Header file, Pqmodel.h, is 312,696 bytes.\n"
     ]
    }
   ],
   "source": [
    "# Compile the TensorFlow Lite model into a C source file\n",
    "!xxd -i pruned_quantized_model.tflite > Pqmodel.cc\n",
    "\n",
    "# Create a header file from the C source file\n",
    "!sed 's/unsigned/const unsigned/g' Pqmodel.cc > Pqmodel.h\n",
    "\n",
    "import os\n",
    "Pqmodel_h_size = os.path.getsize(\"Pqmodel.h\")\n",
    "print(f\"Header file, Pqmodel.h, is {Pqmodel_h_size:,} bytes.\")"
   ]
  },
  {
   "cell_type": "code",
   "execution_count": 131,
   "metadata": {
    "id": "o_1zlSF46niX"
   },
   "outputs": [],
   "source": [
    "import numpy as np\n",
    "\n",
    "def evaluate_model(interpreter):\n",
    "  input_index = interpreter.get_input_details()[0][\"index\"]\n",
    "  output_index = interpreter.get_output_details()[0][\"index\"]\n",
    "  arr = []\n",
    "  # Run predictions on ever y image in the \"test\" dataset.\n",
    "  prediction_digits = []\n",
    "  for i, test_image in enumerate(X_val):\n",
    "    # Pre-processing: add batch dimension and convert to float32 to match with\n",
    "    # the model's input data format.\n",
    "    test_image = np.expand_dims(test_image, axis=0).astype(np.float32)\n",
    "    # print(test_image)\n",
    "    interpreter.set_tensor(input_index, test_image)\n",
    "\n",
    "    # Run inference.\n",
    "    interpreter.invoke()\n",
    "\n",
    "    # Post-processing: remove batch dimension and find the digit with highest\n",
    "    # probability.\n",
    "    output = interpreter.tensor(output_index)\n",
    "    digit = np.argmax(output()[0])\n",
    "    prediction_digits.append(digit)\n",
    "\n",
    "  # Compare prediction results with ground truth labels to calculate accuracy.\n",
    "  prediction_digits = np.array(prediction_digits)\n",
    "\n",
    "  for i in range(0,len(y_val_hot)):\n",
    "    arr.append(np.argmax(y_val_hot[i]))\n",
    "  accuracy = (prediction_digits == np.array(arr)).mean()\n",
    "  return accuracy"
   ]
  },
  {
   "cell_type": "code",
   "execution_count": 132,
   "metadata": {
    "colab": {
     "base_uri": "https://localhost:8080/"
    },
    "id": "--Bc-E24D2CE",
    "outputId": "80e17296-635b-4cac-b071-b8f69d8079a7"
   },
   "outputs": [
    {
     "name": "stdout",
     "output_type": "stream",
     "text": [
      "Pruned and quantized TFLite test_accuracy: 0.996264674493063\n"
     ]
    }
   ],
   "source": [
    "# Pruned and Quantized model accuracy\n",
    "interpreter = tf.lite.Interpreter(model_content=pruned_quantized_tflite_model)\n",
    "interpreter.allocate_tensors()\n",
    "\n",
    "test_accuracy = evaluate_model(interpreter)\n",
    "\n",
    "print('Pruned and quantized TFLite test_accuracy:', test_accuracy)"
   ]
  },
  {
   "cell_type": "code",
   "execution_count": 133,
   "metadata": {
    "colab": {
     "base_uri": "https://localhost:8080/"
    },
    "id": "8UveHxTzD155",
    "outputId": "2a81a8e8-6bc1-40c3-be9a-4997149fbca9"
   },
   "outputs": [
    {
     "name": "stdout",
     "output_type": "stream",
     "text": [
      "Pruned TF test accuracy: 0.996264674493063\n"
     ]
    }
   ],
   "source": [
    "# Pruned model accuracy\n",
    "interpreter1 = tf.lite.Interpreter(model_content=tflite_pruned_model)\n",
    "interpreter1.allocate_tensors()\n",
    "\n",
    "test_accuracy_ = evaluate_model(interpreter1)\n",
    "print('Pruned TF test accuracy:', test_accuracy_)"
   ]
  },
  {
   "cell_type": "code",
   "execution_count": 133,
   "metadata": {
    "id": "wGzYBU-REDN3"
   },
   "outputs": [],
   "source": []
  }
 ],
 "metadata": {
  "accelerator": "GPU",
  "colab": {
   "provenance": []
  },
  "gpuClass": "standard",
  "interpreter": {
   "hash": "b88909b7410d2ec5c519e3dda149c3970124874d7da8616ec07adb4aadd07c54"
  },
  "kernelspec": {
   "display_name": "Python 3 (ipykernel)",
   "language": "python",
   "name": "python3"
  },
  "language_info": {
   "codemirror_mode": {
    "name": "ipython",
    "version": 3
   },
   "file_extension": ".py",
   "mimetype": "text/x-python",
   "name": "python",
   "nbconvert_exporter": "python",
   "pygments_lexer": "ipython3",
   "version": "3.10.10"
  }
 },
 "nbformat": 4,
 "nbformat_minor": 1
}
