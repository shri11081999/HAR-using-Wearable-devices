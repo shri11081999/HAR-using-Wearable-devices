{
  "cells": [
    {
      "cell_type": "markdown",
      "source": [
        "**Initial Setup**"
      ],
      "metadata": {
        "id": "dP-cg_pCUbgM"
      }
    },
    {
      "cell_type": "code",
      "source": [
        "!pip install tensorflow-model-optimization"
      ],
      "metadata": {
        "colab": {
          "base_uri": "https://localhost:8080/"
        },
        "id": "gS49ojktwIQm",
        "outputId": "8d7af108-f2d0-4c6f-c5a3-40677c364f51"
      },
      "execution_count": 1,
      "outputs": [
        {
          "output_type": "stream",
          "name": "stdout",
          "text": [
            "Looking in indexes: https://pypi.org/simple, https://us-python.pkg.dev/colab-wheels/public/simple/\n",
            "Collecting tensorflow-model-optimization\n",
            "  Downloading tensorflow_model_optimization-0.7.3-py2.py3-none-any.whl (238 kB)\n",
            "\u001b[2K     \u001b[90m━━━━━━━━━━━━━━━━━━━━━━━━━━━━━━━━━━━━━━━\u001b[0m \u001b[32m238.9/238.9 KB\u001b[0m \u001b[31m5.4 MB/s\u001b[0m eta \u001b[36m0:00:00\u001b[0m\n",
            "\u001b[?25hRequirement already satisfied: dm-tree~=0.1.1 in /usr/local/lib/python3.8/dist-packages (from tensorflow-model-optimization) (0.1.8)\n",
            "Requirement already satisfied: six~=1.10 in /usr/local/lib/python3.8/dist-packages (from tensorflow-model-optimization) (1.15.0)\n",
            "Requirement already satisfied: numpy~=1.14 in /usr/local/lib/python3.8/dist-packages (from tensorflow-model-optimization) (1.22.4)\n",
            "Installing collected packages: tensorflow-model-optimization\n",
            "Successfully installed tensorflow-model-optimization-0.7.3\n"
          ]
        }
      ]
    },
    {
      "cell_type": "markdown",
      "source": [
        "**Import Libraries**"
      ],
      "metadata": {
        "id": "bVjRgACbVl8w"
      }
    },
    {
      "cell_type": "code",
      "execution_count": 2,
      "metadata": {
        "colab": {
          "base_uri": "https://localhost:8080/"
        },
        "id": "RqmtLDdLwCZ3",
        "outputId": "3c837b2c-e086-4961-d98c-c2dd11f3bc00"
      },
      "outputs": [
        {
          "output_type": "stream",
          "name": "stdout",
          "text": [
            "Mounted at /content/gdrive\n"
          ]
        }
      ],
      "source": [
        "import numpy as np\n",
        "import pandas as pd\n",
        "from sklearn.model_selection import train_test_split\n",
        "import tensorflow as tf\n",
        "from tensorflow import keras\n",
        "from tensorflow.keras import layers\n",
        "from tensorflow_model_optimization.sparsity import keras as sparsity\n",
        "import matplotlib.pyplot as plt\n",
        "from keras.models import Sequential\n",
        "from keras.layers import Dense, Dropout, LSTM, Conv1D, MaxPooling1D, Flatten\n",
        "from keras.layers import Conv3D,Conv2D,Conv1D,MaxPooling1D, MaxPooling2D,TimeDistributed,LSTM,ConvLSTM2D, GRU\n",
        "from keras.optimizers import Adam\n",
        "from sklearn.preprocessing import LabelEncoder\n",
        "from keras.layers import TimeDistributed\n",
        "import seaborn as sns\n",
        "import h5py\n",
        "\n",
        "from google.colab import files\n",
        "from google.colab import drive\n",
        "drive.mount('/content/gdrive')"
      ]
    },
    {
      "cell_type": "code",
      "source": [
        "# Load the WISDM dataset\n",
        "data = pd.read_csv('/content/gdrive/MyDrive/WISDM_ar_v1.1_raw.txt', header=None,delimiter=\",\", names=['user_id', 'activity', 'timestamp', 'x', 'y', 'z'])"
      ],
      "metadata": {
        "id": "Gupgw1PBw7fr"
      },
      "execution_count": 3,
      "outputs": []
    },
    {
      "cell_type": "markdown",
      "source": [
        "# Data pre-processing"
      ],
      "metadata": {
        "id": "y8aCMwU4WOdS"
      }
    },
    {
      "cell_type": "code",
      "execution_count": 4,
      "metadata": {
        "colab": {
          "base_uri": "https://localhost:8080/"
        },
        "id": "6NR7h_u-wCaB",
        "outputId": "8c466a34-08ce-4e68-a178-940a50e05ad2"
      },
      "outputs": [
        {
          "output_type": "execute_result",
          "data": {
            "text/plain": [
              "user_id      0\n",
              "activity     0\n",
              "timestamp    0\n",
              "x            0\n",
              "y            0\n",
              "z            1\n",
              "dtype: int64"
            ]
          },
          "metadata": {},
          "execution_count": 4
        }
      ],
      "source": [
        "data.isnull().sum()"
      ]
    },
    {
      "cell_type": "code",
      "execution_count": 5,
      "metadata": {
        "id": "lCsDthZ-wCaD"
      },
      "outputs": [],
      "source": [
        "data.dropna(axis=0, how='any', inplace= True)"
      ]
    },
    {
      "cell_type": "code",
      "execution_count": 6,
      "metadata": {
        "colab": {
          "base_uri": "https://localhost:8080/"
        },
        "id": "8TP71vfewCaE",
        "outputId": "fa314979-bcdf-420b-a388-d743d4b02d09"
      },
      "outputs": [
        {
          "output_type": "execute_result",
          "data": {
            "text/plain": [
              "user_id      0\n",
              "activity     0\n",
              "timestamp    0\n",
              "x            0\n",
              "y            0\n",
              "z            0\n",
              "dtype: int64"
            ]
          },
          "metadata": {},
          "execution_count": 6
        }
      ],
      "source": [
        "data.isnull().sum()"
      ]
    },
    {
      "cell_type": "code",
      "execution_count": 7,
      "metadata": {
        "colab": {
          "base_uri": "https://localhost:8080/"
        },
        "id": "fDUl7-VTwCaF",
        "outputId": "485cbea1-40e4-4040-a639-1b95e68f5006"
      },
      "outputs": [
        {
          "output_type": "execute_result",
          "data": {
            "text/plain": [
              "['Walking', 'Jogging', 'Upstairs', 'Downstairs', 'Sitting', 'Standing']"
            ]
          },
          "metadata": {},
          "execution_count": 7
        }
      ],
      "source": [
        "['Walking','Jogging','Upstairs','Downstairs','Sitting','Standing']"
      ]
    },
    {
      "cell_type": "code",
      "source": [
        "data['z'] = data['z'].str.replace(\";\",\"\")\n",
        "data['z'] = pd.to_numeric(data['z'])"
      ],
      "metadata": {
        "id": "Jl1XOKft9zqb"
      },
      "execution_count": 8,
      "outputs": []
    },
    {
      "cell_type": "code",
      "source": [
        "data.head()"
      ],
      "metadata": {
        "colab": {
          "base_uri": "https://localhost:8080/",
          "height": 206
        },
        "id": "40TFJn4LyW2L",
        "outputId": "35cd6fb5-d238-4267-9c1f-6c7564458d1e"
      },
      "execution_count": 9,
      "outputs": [
        {
          "output_type": "execute_result",
          "data": {
            "text/plain": [
              "   user_id activity       timestamp         x          y         z\n",
              "0       33  Jogging  49105962326000 -0.694638  12.680544  0.503953\n",
              "1       33  Jogging  49106062271000  5.012288  11.264028  0.953424\n",
              "2       33  Jogging  49106112167000  4.903325  10.882658 -0.081722\n",
              "3       33  Jogging  49106222305000 -0.612916  18.496431  3.023717\n",
              "4       33  Jogging  49106332290000 -1.184970  12.108489  7.205164"
            ],
            "text/html": [
              "\n",
              "  <div id=\"df-17941284-871a-4bd1-a5d1-4bfda58f7f3b\">\n",
              "    <div class=\"colab-df-container\">\n",
              "      <div>\n",
              "<style scoped>\n",
              "    .dataframe tbody tr th:only-of-type {\n",
              "        vertical-align: middle;\n",
              "    }\n",
              "\n",
              "    .dataframe tbody tr th {\n",
              "        vertical-align: top;\n",
              "    }\n",
              "\n",
              "    .dataframe thead th {\n",
              "        text-align: right;\n",
              "    }\n",
              "</style>\n",
              "<table border=\"1\" class=\"dataframe\">\n",
              "  <thead>\n",
              "    <tr style=\"text-align: right;\">\n",
              "      <th></th>\n",
              "      <th>user_id</th>\n",
              "      <th>activity</th>\n",
              "      <th>timestamp</th>\n",
              "      <th>x</th>\n",
              "      <th>y</th>\n",
              "      <th>z</th>\n",
              "    </tr>\n",
              "  </thead>\n",
              "  <tbody>\n",
              "    <tr>\n",
              "      <th>0</th>\n",
              "      <td>33</td>\n",
              "      <td>Jogging</td>\n",
              "      <td>49105962326000</td>\n",
              "      <td>-0.694638</td>\n",
              "      <td>12.680544</td>\n",
              "      <td>0.503953</td>\n",
              "    </tr>\n",
              "    <tr>\n",
              "      <th>1</th>\n",
              "      <td>33</td>\n",
              "      <td>Jogging</td>\n",
              "      <td>49106062271000</td>\n",
              "      <td>5.012288</td>\n",
              "      <td>11.264028</td>\n",
              "      <td>0.953424</td>\n",
              "    </tr>\n",
              "    <tr>\n",
              "      <th>2</th>\n",
              "      <td>33</td>\n",
              "      <td>Jogging</td>\n",
              "      <td>49106112167000</td>\n",
              "      <td>4.903325</td>\n",
              "      <td>10.882658</td>\n",
              "      <td>-0.081722</td>\n",
              "    </tr>\n",
              "    <tr>\n",
              "      <th>3</th>\n",
              "      <td>33</td>\n",
              "      <td>Jogging</td>\n",
              "      <td>49106222305000</td>\n",
              "      <td>-0.612916</td>\n",
              "      <td>18.496431</td>\n",
              "      <td>3.023717</td>\n",
              "    </tr>\n",
              "    <tr>\n",
              "      <th>4</th>\n",
              "      <td>33</td>\n",
              "      <td>Jogging</td>\n",
              "      <td>49106332290000</td>\n",
              "      <td>-1.184970</td>\n",
              "      <td>12.108489</td>\n",
              "      <td>7.205164</td>\n",
              "    </tr>\n",
              "  </tbody>\n",
              "</table>\n",
              "</div>\n",
              "      <button class=\"colab-df-convert\" onclick=\"convertToInteractive('df-17941284-871a-4bd1-a5d1-4bfda58f7f3b')\"\n",
              "              title=\"Convert this dataframe to an interactive table.\"\n",
              "              style=\"display:none;\">\n",
              "        \n",
              "  <svg xmlns=\"http://www.w3.org/2000/svg\" height=\"24px\"viewBox=\"0 0 24 24\"\n",
              "       width=\"24px\">\n",
              "    <path d=\"M0 0h24v24H0V0z\" fill=\"none\"/>\n",
              "    <path d=\"M18.56 5.44l.94 2.06.94-2.06 2.06-.94-2.06-.94-.94-2.06-.94 2.06-2.06.94zm-11 1L8.5 8.5l.94-2.06 2.06-.94-2.06-.94L8.5 2.5l-.94 2.06-2.06.94zm10 10l.94 2.06.94-2.06 2.06-.94-2.06-.94-.94-2.06-.94 2.06-2.06.94z\"/><path d=\"M17.41 7.96l-1.37-1.37c-.4-.4-.92-.59-1.43-.59-.52 0-1.04.2-1.43.59L10.3 9.45l-7.72 7.72c-.78.78-.78 2.05 0 2.83L4 21.41c.39.39.9.59 1.41.59.51 0 1.02-.2 1.41-.59l7.78-7.78 2.81-2.81c.8-.78.8-2.07 0-2.86zM5.41 20L4 18.59l7.72-7.72 1.47 1.35L5.41 20z\"/>\n",
              "  </svg>\n",
              "      </button>\n",
              "      \n",
              "  <style>\n",
              "    .colab-df-container {\n",
              "      display:flex;\n",
              "      flex-wrap:wrap;\n",
              "      gap: 12px;\n",
              "    }\n",
              "\n",
              "    .colab-df-convert {\n",
              "      background-color: #E8F0FE;\n",
              "      border: none;\n",
              "      border-radius: 50%;\n",
              "      cursor: pointer;\n",
              "      display: none;\n",
              "      fill: #1967D2;\n",
              "      height: 32px;\n",
              "      padding: 0 0 0 0;\n",
              "      width: 32px;\n",
              "    }\n",
              "\n",
              "    .colab-df-convert:hover {\n",
              "      background-color: #E2EBFA;\n",
              "      box-shadow: 0px 1px 2px rgba(60, 64, 67, 0.3), 0px 1px 3px 1px rgba(60, 64, 67, 0.15);\n",
              "      fill: #174EA6;\n",
              "    }\n",
              "\n",
              "    [theme=dark] .colab-df-convert {\n",
              "      background-color: #3B4455;\n",
              "      fill: #D2E3FC;\n",
              "    }\n",
              "\n",
              "    [theme=dark] .colab-df-convert:hover {\n",
              "      background-color: #434B5C;\n",
              "      box-shadow: 0px 1px 3px 1px rgba(0, 0, 0, 0.15);\n",
              "      filter: drop-shadow(0px 1px 2px rgba(0, 0, 0, 0.3));\n",
              "      fill: #FFFFFF;\n",
              "    }\n",
              "  </style>\n",
              "\n",
              "      <script>\n",
              "        const buttonEl =\n",
              "          document.querySelector('#df-17941284-871a-4bd1-a5d1-4bfda58f7f3b button.colab-df-convert');\n",
              "        buttonEl.style.display =\n",
              "          google.colab.kernel.accessAllowed ? 'block' : 'none';\n",
              "\n",
              "        async function convertToInteractive(key) {\n",
              "          const element = document.querySelector('#df-17941284-871a-4bd1-a5d1-4bfda58f7f3b');\n",
              "          const dataTable =\n",
              "            await google.colab.kernel.invokeFunction('convertToInteractive',\n",
              "                                                     [key], {});\n",
              "          if (!dataTable) return;\n",
              "\n",
              "          const docLinkHtml = 'Like what you see? Visit the ' +\n",
              "            '<a target=\"_blank\" href=https://colab.research.google.com/notebooks/data_table.ipynb>data table notebook</a>'\n",
              "            + ' to learn more about interactive tables.';\n",
              "          element.innerHTML = '';\n",
              "          dataTable['output_type'] = 'display_data';\n",
              "          await google.colab.output.renderOutput(dataTable, element);\n",
              "          const docLink = document.createElement('div');\n",
              "          docLink.innerHTML = docLinkHtml;\n",
              "          element.appendChild(docLink);\n",
              "        }\n",
              "      </script>\n",
              "    </div>\n",
              "  </div>\n",
              "  "
            ]
          },
          "metadata": {},
          "execution_count": 9
        }
      ]
    },
    {
      "cell_type": "code",
      "execution_count": 10,
      "metadata": {
        "id": "BLgEAkJtwCaG"
      },
      "outputs": [],
      "source": [
        "def reset_label(dataCollection): \n",
        "    # Converting original labels {'Walking','Jogging','Upstairs','Downstairs','Sitting','Standing'} to new labels, to store it in a .h5 file format\n",
        "    mapping = {'Walking':0,'Jogging':1,'Upstairs':2,'Downstairs':3,'Sitting':4,'Standing':5} # old activity Id to new activity Id \n",
        "    for i in  ['Walking','Jogging','Upstairs','Downstairs','Sitting','Standing']:\n",
        "        dataCollection.loc[dataCollection.activity == i, 'activity'] = mapping[i]\n",
        "\n",
        "    return dataCollection"
      ]
    },
    {
      "cell_type": "code",
      "execution_count": 11,
      "metadata": {
        "id": "HInMt6FKwCaH"
      },
      "outputs": [],
      "source": [
        "dataset_reset=reset_label(data)"
      ]
    },
    {
      "cell_type": "code",
      "execution_count": 12,
      "metadata": {
        "colab": {
          "base_uri": "https://localhost:8080/",
          "height": 206
        },
        "id": "Zecj8FNnwCaJ",
        "outputId": "e3066a7c-6c52-4b84-9980-6de58158c69c"
      },
      "outputs": [
        {
          "output_type": "execute_result",
          "data": {
            "text/plain": [
              "   user_id activity       timestamp         x          y         z\n",
              "0       33        1  49105962326000 -0.694638  12.680544  0.503953\n",
              "1       33        1  49106062271000  5.012288  11.264028  0.953424\n",
              "2       33        1  49106112167000  4.903325  10.882658 -0.081722\n",
              "3       33        1  49106222305000 -0.612916  18.496431  3.023717\n",
              "4       33        1  49106332290000 -1.184970  12.108489  7.205164"
            ],
            "text/html": [
              "\n",
              "  <div id=\"df-c4808992-5333-47ac-a80f-1784a6af0ca2\">\n",
              "    <div class=\"colab-df-container\">\n",
              "      <div>\n",
              "<style scoped>\n",
              "    .dataframe tbody tr th:only-of-type {\n",
              "        vertical-align: middle;\n",
              "    }\n",
              "\n",
              "    .dataframe tbody tr th {\n",
              "        vertical-align: top;\n",
              "    }\n",
              "\n",
              "    .dataframe thead th {\n",
              "        text-align: right;\n",
              "    }\n",
              "</style>\n",
              "<table border=\"1\" class=\"dataframe\">\n",
              "  <thead>\n",
              "    <tr style=\"text-align: right;\">\n",
              "      <th></th>\n",
              "      <th>user_id</th>\n",
              "      <th>activity</th>\n",
              "      <th>timestamp</th>\n",
              "      <th>x</th>\n",
              "      <th>y</th>\n",
              "      <th>z</th>\n",
              "    </tr>\n",
              "  </thead>\n",
              "  <tbody>\n",
              "    <tr>\n",
              "      <th>0</th>\n",
              "      <td>33</td>\n",
              "      <td>1</td>\n",
              "      <td>49105962326000</td>\n",
              "      <td>-0.694638</td>\n",
              "      <td>12.680544</td>\n",
              "      <td>0.503953</td>\n",
              "    </tr>\n",
              "    <tr>\n",
              "      <th>1</th>\n",
              "      <td>33</td>\n",
              "      <td>1</td>\n",
              "      <td>49106062271000</td>\n",
              "      <td>5.012288</td>\n",
              "      <td>11.264028</td>\n",
              "      <td>0.953424</td>\n",
              "    </tr>\n",
              "    <tr>\n",
              "      <th>2</th>\n",
              "      <td>33</td>\n",
              "      <td>1</td>\n",
              "      <td>49106112167000</td>\n",
              "      <td>4.903325</td>\n",
              "      <td>10.882658</td>\n",
              "      <td>-0.081722</td>\n",
              "    </tr>\n",
              "    <tr>\n",
              "      <th>3</th>\n",
              "      <td>33</td>\n",
              "      <td>1</td>\n",
              "      <td>49106222305000</td>\n",
              "      <td>-0.612916</td>\n",
              "      <td>18.496431</td>\n",
              "      <td>3.023717</td>\n",
              "    </tr>\n",
              "    <tr>\n",
              "      <th>4</th>\n",
              "      <td>33</td>\n",
              "      <td>1</td>\n",
              "      <td>49106332290000</td>\n",
              "      <td>-1.184970</td>\n",
              "      <td>12.108489</td>\n",
              "      <td>7.205164</td>\n",
              "    </tr>\n",
              "  </tbody>\n",
              "</table>\n",
              "</div>\n",
              "      <button class=\"colab-df-convert\" onclick=\"convertToInteractive('df-c4808992-5333-47ac-a80f-1784a6af0ca2')\"\n",
              "              title=\"Convert this dataframe to an interactive table.\"\n",
              "              style=\"display:none;\">\n",
              "        \n",
              "  <svg xmlns=\"http://www.w3.org/2000/svg\" height=\"24px\"viewBox=\"0 0 24 24\"\n",
              "       width=\"24px\">\n",
              "    <path d=\"M0 0h24v24H0V0z\" fill=\"none\"/>\n",
              "    <path d=\"M18.56 5.44l.94 2.06.94-2.06 2.06-.94-2.06-.94-.94-2.06-.94 2.06-2.06.94zm-11 1L8.5 8.5l.94-2.06 2.06-.94-2.06-.94L8.5 2.5l-.94 2.06-2.06.94zm10 10l.94 2.06.94-2.06 2.06-.94-2.06-.94-.94-2.06-.94 2.06-2.06.94z\"/><path d=\"M17.41 7.96l-1.37-1.37c-.4-.4-.92-.59-1.43-.59-.52 0-1.04.2-1.43.59L10.3 9.45l-7.72 7.72c-.78.78-.78 2.05 0 2.83L4 21.41c.39.39.9.59 1.41.59.51 0 1.02-.2 1.41-.59l7.78-7.78 2.81-2.81c.8-.78.8-2.07 0-2.86zM5.41 20L4 18.59l7.72-7.72 1.47 1.35L5.41 20z\"/>\n",
              "  </svg>\n",
              "      </button>\n",
              "      \n",
              "  <style>\n",
              "    .colab-df-container {\n",
              "      display:flex;\n",
              "      flex-wrap:wrap;\n",
              "      gap: 12px;\n",
              "    }\n",
              "\n",
              "    .colab-df-convert {\n",
              "      background-color: #E8F0FE;\n",
              "      border: none;\n",
              "      border-radius: 50%;\n",
              "      cursor: pointer;\n",
              "      display: none;\n",
              "      fill: #1967D2;\n",
              "      height: 32px;\n",
              "      padding: 0 0 0 0;\n",
              "      width: 32px;\n",
              "    }\n",
              "\n",
              "    .colab-df-convert:hover {\n",
              "      background-color: #E2EBFA;\n",
              "      box-shadow: 0px 1px 2px rgba(60, 64, 67, 0.3), 0px 1px 3px 1px rgba(60, 64, 67, 0.15);\n",
              "      fill: #174EA6;\n",
              "    }\n",
              "\n",
              "    [theme=dark] .colab-df-convert {\n",
              "      background-color: #3B4455;\n",
              "      fill: #D2E3FC;\n",
              "    }\n",
              "\n",
              "    [theme=dark] .colab-df-convert:hover {\n",
              "      background-color: #434B5C;\n",
              "      box-shadow: 0px 1px 3px 1px rgba(0, 0, 0, 0.15);\n",
              "      filter: drop-shadow(0px 1px 2px rgba(0, 0, 0, 0.3));\n",
              "      fill: #FFFFFF;\n",
              "    }\n",
              "  </style>\n",
              "\n",
              "      <script>\n",
              "        const buttonEl =\n",
              "          document.querySelector('#df-c4808992-5333-47ac-a80f-1784a6af0ca2 button.colab-df-convert');\n",
              "        buttonEl.style.display =\n",
              "          google.colab.kernel.accessAllowed ? 'block' : 'none';\n",
              "\n",
              "        async function convertToInteractive(key) {\n",
              "          const element = document.querySelector('#df-c4808992-5333-47ac-a80f-1784a6af0ca2');\n",
              "          const dataTable =\n",
              "            await google.colab.kernel.invokeFunction('convertToInteractive',\n",
              "                                                     [key], {});\n",
              "          if (!dataTable) return;\n",
              "\n",
              "          const docLinkHtml = 'Like what you see? Visit the ' +\n",
              "            '<a target=\"_blank\" href=https://colab.research.google.com/notebooks/data_table.ipynb>data table notebook</a>'\n",
              "            + ' to learn more about interactive tables.';\n",
              "          element.innerHTML = '';\n",
              "          dataTable['output_type'] = 'display_data';\n",
              "          await google.colab.output.renderOutput(dataTable, element);\n",
              "          const docLink = document.createElement('div');\n",
              "          docLink.innerHTML = docLinkHtml;\n",
              "          element.appendChild(docLink);\n",
              "        }\n",
              "      </script>\n",
              "    </div>\n",
              "  </div>\n",
              "  "
            ]
          },
          "metadata": {},
          "execution_count": 12
        }
      ],
      "source": [
        "dataset_reset.head()"
      ]
    },
    {
      "cell_type": "code",
      "execution_count": 13,
      "metadata": {
        "id": "3Rh_PXR3wCaK"
      },
      "outputs": [],
      "source": [
        "def class_breakdown(data,col):\n",
        "    # group data by the class value and calculate the number of rows\n",
        "    counts = data.groupby(col).size()\n",
        "    # retrieve raw rows\n",
        "    counts = counts.values\n",
        "    # summarize\n",
        "    for i in range(len(counts)):\n",
        "        percent = counts[i] / len(data) * 100\n",
        "        print('Class=%d, total=%d, percentage=%.3f' % (i+1, counts[i], percent))"
      ]
    },
    {
      "cell_type": "code",
      "execution_count": 14,
      "metadata": {
        "colab": {
          "base_uri": "https://localhost:8080/"
        },
        "id": "wmoxl00kwCaL",
        "outputId": "21d997ab-2481-49e5-c328-c92267744ac6"
      },
      "outputs": [
        {
          "output_type": "stream",
          "name": "stdout",
          "text": [
            "Class=1, total=424397, percentage=38.645\n",
            "Class=2, total=342176, percentage=31.158\n",
            "Class=3, total=122869, percentage=11.188\n",
            "Class=4, total=100427, percentage=9.145\n",
            "Class=5, total=59939, percentage=5.458\n",
            "Class=6, total=48395, percentage=4.407\n"
          ]
        }
      ],
      "source": [
        "class_breakdown(dataset_reset,'activity')"
      ]
    },
    {
      "cell_type": "code",
      "execution_count": 15,
      "metadata": {
        "id": "_Ba8oRV6wCaM"
      },
      "outputs": [],
      "source": [
        "X=dataset_reset.drop(['activity'],axis=1)\n",
        "y=dataset_reset['activity']"
      ]
    },
    {
      "cell_type": "markdown",
      "metadata": {
        "id": "R6xc33D1wCaO"
      },
      "source": [
        "#### code for remove class imbalance"
      ]
    },
    {
      "cell_type": "code",
      "execution_count": 16,
      "metadata": {
        "id": "aUPc8eVZwCaR"
      },
      "outputs": [],
      "source": [
        "from imblearn.over_sampling import SMOTE\n",
        "from sklearn.preprocessing import LabelEncoder\n",
        "def class_balance(X,y):\n",
        "    oversample = SMOTE()\n",
        "    y = LabelEncoder().fit_transform(y)\n",
        "    X, y = oversample.fit_resample(X, y)\n",
        "    return X,y"
      ]
    },
    {
      "cell_type": "markdown",
      "metadata": {
        "id": "yZUn7VgjwCaS"
      },
      "source": [
        "#### code for data segmentation into windows"
      ]
    },
    {
      "cell_type": "code",
      "execution_count": null,
      "metadata": {
        "id": "-GFjfMVMwCaS"
      },
      "outputs": [],
      "source": [
        "# ##code_1:\n",
        "# def windows(data, size):\n",
        "#     start = 0\n",
        "#     while start < data.count():\n",
        "#         yield int(start), int(start + size)\n",
        "#         start += (size / 2)\n",
        "\n",
        "# def segment_signal(data,window_size):\n",
        "#     segments = np.empty((0,window_size,3))\n",
        "#     labels = np.empty((0))\n",
        "#     for (start, end) in windows(data[\"timestamp\"], window_size):\n",
        "#         x = data[\"x-axis\"][start:end]\n",
        "#         y = data[\"y-axis\"][start:end]\n",
        "#         z = data[\"z-axis\"][start:end]\n",
        "#         if(len(dataset[\"timestamp\"][start:end]) == window_size and len(y)==window_size and len(x)==window_size and len(z)==window_size):\n",
        "#             segments = np.vstack([segments,np.dstack([x,y,z])])\n",
        "#             labels = np.append(labels,stats.mode(data[\"activity\"][start:end])[0][0])\n",
        "#     return {'input' : np.asarray(segments), 'label': labels}"
      ]
    },
    {
      "cell_type": "code",
      "source": [
        "import scipy.stats as stats"
      ],
      "metadata": {
        "id": "xbR1QuRVyuuO"
      },
      "execution_count": 17,
      "outputs": []
    },
    {
      "cell_type": "code",
      "execution_count": 18,
      "metadata": {
        "id": "8aAE7032wCaU"
      },
      "outputs": [],
      "source": [
        "# code_2\n",
        "def segment_signal(data,window_size):\n",
        "    segments = np.empty((0,window_size,3))\n",
        "    labels = np.empty((0))\n",
        "    start=0\n",
        "    while start+window_size < data.shape[0]:\n",
        "        end=start + window_size\n",
        "        x = data[\"x\"][start:end]\n",
        "        y = data[\"y\"][start:end]\n",
        "        z = data[\"z\"][start:end]\n",
        "        # if(len(dataset[\"timestamp\"][start:end]) == window_size and len(y)==window_size and len(x)==window_size and len(z)==window_size):\n",
        "        segments = np.vstack([segments,np.dstack([x,y,z])])\n",
        "        labels = np.append(labels,stats.mode(data[\"activity\"][start:end])[0][0])\n",
        "        start+=int(window_size/2)\n",
        "    return {'input' : np.asarray(segments), 'label': labels}"
      ]
    },
    {
      "cell_type": "code",
      "execution_count": 19,
      "metadata": {
        "id": "bnGYo1UxwCaV"
      },
      "outputs": [],
      "source": [
        "#SEGMENT DATA, LABELS INTO WINDOW_SIZE\n",
        "window_size=128"
      ]
    },
    {
      "cell_type": "markdown",
      "metadata": {
        "id": "uX6s-G3WwCaW"
      },
      "source": [
        "### save the data in h5 format\n"
      ]
    },
    {
      "cell_type": "code",
      "execution_count": 20,
      "metadata": {
        "id": "0FObf3D0wCaX"
      },
      "outputs": [],
      "source": [
        "def save_data(data,file_name): \n",
        "    f = h5py.File(file_name,'w')\n",
        "    for key in data:\n",
        "        print(key)\n",
        "        f.create_dataset(key,data = data[key])       \n",
        "    f.close()\n",
        "    print('Done.')    "
      ]
    },
    {
      "cell_type": "markdown",
      "metadata": {
        "id": "mzP3bSIfwCaY"
      },
      "source": [
        "### sample the whole data first, then segmented & saved:"
      ]
    },
    {
      "cell_type": "code",
      "execution_count": 21,
      "metadata": {
        "id": "f1CIlrdvwCaZ"
      },
      "outputs": [],
      "source": [
        "#data sampled\n",
        "X_sampled,y_sampled=class_balance(X,y)"
      ]
    },
    {
      "cell_type": "code",
      "execution_count": 22,
      "metadata": {
        "id": "yGcQx4TGwCaZ"
      },
      "outputs": [],
      "source": [
        "data_sampled=pd.concat([pd.DataFrame(X_sampled),pd.DataFrame(y_sampled,columns = ['activity'])],axis=1)"
      ]
    },
    {
      "cell_type": "code",
      "execution_count": 23,
      "metadata": {
        "colab": {
          "base_uri": "https://localhost:8080/"
        },
        "id": "rdxHv_lDwCaa",
        "outputId": "d8e9e64e-9dc6-472f-9a38-50867c14490b"
      },
      "outputs": [
        {
          "output_type": "stream",
          "name": "stdout",
          "text": [
            "Class=1, total=424397, percentage=16.667\n",
            "Class=2, total=424397, percentage=16.667\n",
            "Class=3, total=424397, percentage=16.667\n",
            "Class=4, total=424397, percentage=16.667\n",
            "Class=5, total=424397, percentage=16.667\n",
            "Class=6, total=424397, percentage=16.667\n"
          ]
        }
      ],
      "source": [
        "class_breakdown(data_sampled,'activity')"
      ]
    },
    {
      "cell_type": "code",
      "execution_count": 24,
      "metadata": {
        "id": "vIEtQMppwCab"
      },
      "outputs": [],
      "source": [
        "# data segmented\n",
        "data_segmented=segment_signal(data_sampled,window_size)"
      ]
    },
    {
      "cell_type": "code",
      "execution_count": 25,
      "metadata": {
        "id": "eOMNDR_XwCab",
        "colab": {
          "base_uri": "https://localhost:8080/"
        },
        "outputId": "8ad27997-f8d5-46cf-b546-51a124807a3f"
      },
      "outputs": [
        {
          "output_type": "stream",
          "name": "stdout",
          "text": [
            "input\n",
            "label\n",
            "Done.\n"
          ]
        }
      ],
      "source": [
        "file=\"wisdm_sampled_segmented.h5\"\n",
        "save_data(data_segmented,file)"
      ]
    },
    {
      "cell_type": "markdown",
      "source": [
        "# Splitting the data into training, testing and validation"
      ],
      "metadata": {
        "id": "EUUgOgdXWmLc"
      }
    },
    {
      "cell_type": "code",
      "source": [
        "path=\"/content/wisdm_sampled_segmented.h5\""
      ],
      "metadata": {
        "id": "moa5DMvuAvik"
      },
      "execution_count": 80,
      "outputs": []
    },
    {
      "cell_type": "code",
      "source": [
        "f = h5py.File(path, 'r')\n",
        "X = f.get('input')\n",
        "y = f.get('label') \n",
        "X = np.array(X)\n",
        "y = np.array(y)"
      ],
      "metadata": {
        "id": "PcG4DtPKA853"
      },
      "execution_count": 81,
      "outputs": []
    },
    {
      "cell_type": "code",
      "source": [
        "X_train, X_test, y_train, y_test=train_test_split(X, y, test_size=0.3, random_state = 1)\n",
        "X_train, X_val, y_train, y_val=train_test_split(X_train, y_train, test_size=0.3, random_state = 1)"
      ],
      "metadata": {
        "id": "eXwhs3-jA83V"
      },
      "execution_count": 82,
      "outputs": []
    },
    {
      "cell_type": "code",
      "source": [
        "X_train.shape"
      ],
      "metadata": {
        "colab": {
          "base_uri": "https://localhost:8080/"
        },
        "id": "kcIUxTKy0CKC",
        "outputId": "e86821a2-9388-40c4-c37e-fcd844531cd5"
      },
      "execution_count": 83,
      "outputs": [
        {
          "output_type": "execute_result",
          "data": {
            "text/plain": [
              "(19495, 128, 3)"
            ]
          },
          "metadata": {},
          "execution_count": 83
        }
      ]
    },
    {
      "cell_type": "code",
      "source": [
        "X_val.shape"
      ],
      "metadata": {
        "colab": {
          "base_uri": "https://localhost:8080/"
        },
        "id": "focDf4Ye0CHA",
        "outputId": "110434f8-b361-4e1f-98e4-0fee4dc7f764"
      },
      "execution_count": 84,
      "outputs": [
        {
          "output_type": "execute_result",
          "data": {
            "text/plain": [
              "(8355, 128, 3)"
            ]
          },
          "metadata": {},
          "execution_count": 84
        }
      ]
    },
    {
      "cell_type": "code",
      "source": [
        "y_train.shape"
      ],
      "metadata": {
        "colab": {
          "base_uri": "https://localhost:8080/"
        },
        "id": "F0afA4-J0CDf",
        "outputId": "7cc9293e-14e6-4ad9-c93a-e03e2be2df9b"
      },
      "execution_count": 85,
      "outputs": [
        {
          "output_type": "execute_result",
          "data": {
            "text/plain": [
              "(19495,)"
            ]
          },
          "metadata": {},
          "execution_count": 85
        }
      ]
    },
    {
      "cell_type": "code",
      "source": [
        "y_val.shape"
      ],
      "metadata": {
        "colab": {
          "base_uri": "https://localhost:8080/"
        },
        "id": "nnAcnJSr0B_9",
        "outputId": "31bda106-a423-41e4-eb0f-82743a636a6f"
      },
      "execution_count": 86,
      "outputs": [
        {
          "output_type": "execute_result",
          "data": {
            "text/plain": [
              "(8355,)"
            ]
          },
          "metadata": {},
          "execution_count": 86
        }
      ]
    },
    {
      "cell_type": "code",
      "source": [
        "from keras.utils import to_categorical\n",
        "trainy_one_hot = to_categorical(y_train)\n",
        "testy_one_hot= to_categorical(y_test)"
      ],
      "metadata": {
        "id": "YJ8nASV2A80l"
      },
      "execution_count": 87,
      "outputs": []
    },
    {
      "cell_type": "code",
      "source": [
        "y_val_hot = to_categorical(y_val)"
      ],
      "metadata": {
        "id": "BQVLFrgkpjJR"
      },
      "execution_count": 88,
      "outputs": []
    },
    {
      "cell_type": "code",
      "source": [
        "y_val_hot.shape"
      ],
      "metadata": {
        "colab": {
          "base_uri": "https://localhost:8080/"
        },
        "id": "fdAr4b9rbDfB",
        "outputId": "ce55878e-0d6d-43eb-e338-908dcf971719"
      },
      "execution_count": 89,
      "outputs": [
        {
          "output_type": "execute_result",
          "data": {
            "text/plain": [
              "(8355, 6)"
            ]
          },
          "metadata": {},
          "execution_count": 89
        }
      ]
    },
    {
      "cell_type": "code",
      "source": [
        "X_val.shape"
      ],
      "metadata": {
        "colab": {
          "base_uri": "https://localhost:8080/"
        },
        "id": "9MQr4mBPxiSN",
        "outputId": "179d9c37-f6cd-4b7f-ef5d-8f95b28c34aa"
      },
      "execution_count": 90,
      "outputs": [
        {
          "output_type": "execute_result",
          "data": {
            "text/plain": [
              "(8355, 128, 3)"
            ]
          },
          "metadata": {},
          "execution_count": 90
        }
      ]
    },
    {
      "cell_type": "code",
      "source": [
        "X_train.shape, X_test.shape"
      ],
      "metadata": {
        "colab": {
          "base_uri": "https://localhost:8080/"
        },
        "id": "_FJ7qjt2A8xt",
        "outputId": "7f0f884b-519d-4da7-ad1f-8852da1adee4"
      },
      "execution_count": 91,
      "outputs": [
        {
          "output_type": "execute_result",
          "data": {
            "text/plain": [
              "((19495, 128, 3), (11936, 128, 3))"
            ]
          },
          "metadata": {},
          "execution_count": 91
        }
      ]
    },
    {
      "cell_type": "code",
      "source": [
        "y_train.shape, y_test.shape"
      ],
      "metadata": {
        "colab": {
          "base_uri": "https://localhost:8080/"
        },
        "id": "ceCARydcA8vD",
        "outputId": "210a4822-2a90-4fc3-bfa8-4136aa828a37"
      },
      "execution_count": 92,
      "outputs": [
        {
          "output_type": "execute_result",
          "data": {
            "text/plain": [
              "((19495,), (11936,))"
            ]
          },
          "metadata": {},
          "execution_count": 92
        }
      ]
    },
    {
      "cell_type": "code",
      "source": [
        "trainy_one_hot.shape, testy_one_hot.shape"
      ],
      "metadata": {
        "colab": {
          "base_uri": "https://localhost:8080/"
        },
        "id": "ImSvFgn3A8r8",
        "outputId": "d89c4313-41ab-41b1-d513-4e2bfb60ae18"
      },
      "execution_count": 93,
      "outputs": [
        {
          "output_type": "execute_result",
          "data": {
            "text/plain": [
              "((19495, 6), (11936, 6))"
            ]
          },
          "metadata": {},
          "execution_count": 93
        }
      ]
    },
    {
      "cell_type": "code",
      "source": [
        "testy_one_hot"
      ],
      "metadata": {
        "colab": {
          "base_uri": "https://localhost:8080/"
        },
        "id": "K5Dxa3ArA8pF",
        "outputId": "fa868207-5ad4-4df2-beb7-bb61d15827ab"
      },
      "execution_count": 94,
      "outputs": [
        {
          "output_type": "execute_result",
          "data": {
            "text/plain": [
              "array([[0., 0., 0., 0., 1., 0.],\n",
              "       [0., 0., 0., 1., 0., 0.],\n",
              "       [0., 0., 1., 0., 0., 0.],\n",
              "       ...,\n",
              "       [0., 1., 0., 0., 0., 0.],\n",
              "       [0., 0., 1., 0., 0., 0.],\n",
              "       [0., 0., 0., 0., 1., 0.]], dtype=float32)"
            ]
          },
          "metadata": {},
          "execution_count": 94
        }
      ]
    },
    {
      "cell_type": "code",
      "source": [
        "def class_breakdown(data):\n",
        "    # convert the numpy array into a dataframe\n",
        "    df = pd.DataFrame(data)\n",
        "    # group data by the class value and calculate the number of rows\n",
        "    counts = df.groupby(0).size()\n",
        "    # retrieve raw rows\n",
        "    counts = counts.values\n",
        "    # summarize\n",
        "    for i in range(len(counts)):\n",
        "        percent = counts[i] / len(df) * 100\n",
        "        print('Class=%d, total=%d, percentage=%.3f' % (i+1, counts[i], percent))"
      ],
      "metadata": {
        "id": "QEMRKFemBkwF"
      },
      "execution_count": 95,
      "outputs": []
    },
    {
      "cell_type": "code",
      "source": [
        "class_breakdown(y_train)"
      ],
      "metadata": {
        "colab": {
          "base_uri": "https://localhost:8080/"
        },
        "id": "MbnUODayBks7",
        "outputId": "9f8b89b9-4153-42e8-bbe6-98495e675058"
      },
      "execution_count": 96,
      "outputs": [
        {
          "output_type": "stream",
          "name": "stdout",
          "text": [
            "Class=1, total=3202, percentage=16.425\n",
            "Class=2, total=3256, percentage=16.702\n",
            "Class=3, total=3191, percentage=16.368\n",
            "Class=4, total=3258, percentage=16.712\n",
            "Class=5, total=3290, percentage=16.876\n",
            "Class=6, total=3298, percentage=16.917\n"
          ]
        }
      ]
    },
    {
      "cell_type": "code",
      "source": [
        "class_breakdown(y_test)"
      ],
      "metadata": {
        "colab": {
          "base_uri": "https://localhost:8080/"
        },
        "id": "Vkh-RyU2BkqJ",
        "outputId": "10e4ce39-cd2a-4b96-ccae-3434376d9f91"
      },
      "execution_count": 97,
      "outputs": [
        {
          "output_type": "stream",
          "name": "stdout",
          "text": [
            "Class=1, total=1962, percentage=16.438\n",
            "Class=2, total=2004, percentage=16.790\n",
            "Class=3, total=2063, percentage=17.284\n",
            "Class=4, total=1978, percentage=16.572\n",
            "Class=5, total=1955, percentage=16.379\n",
            "Class=6, total=1974, percentage=16.538\n"
          ]
        }
      ]
    },
    {
      "cell_type": "code",
      "source": [
        "n_timesteps, n_features, n_outputs = X_train.shape[1], X_train.shape[2], trainy_one_hot.shape[1]"
      ],
      "metadata": {
        "id": "zNHvkRw6BknO"
      },
      "execution_count": 98,
      "outputs": []
    },
    {
      "cell_type": "code",
      "source": [
        "n_timesteps, n_features, n_outputs"
      ],
      "metadata": {
        "colab": {
          "base_uri": "https://localhost:8080/"
        },
        "id": "JMU-BhEvBkkW",
        "outputId": "5b22d4dd-37f3-4961-cb7e-8cfcb02cb659"
      },
      "execution_count": 99,
      "outputs": [
        {
          "output_type": "execute_result",
          "data": {
            "text/plain": [
              "(128, 3, 6)"
            ]
          },
          "metadata": {},
          "execution_count": 99
        }
      ]
    },
    {
      "cell_type": "markdown",
      "source": [
        "# Build and train the model"
      ],
      "metadata": {
        "id": "Er4P25EfWuyC"
      }
    },
    {
      "cell_type": "markdown",
      "source": [
        "# **CNN**"
      ],
      "metadata": {
        "id": "aoNfLseExhM3"
      }
    },
    {
      "cell_type": "code",
      "source": [
        "model = tf.keras.Sequential([\n",
        "    tf.keras.layers.Conv1D(filters=64, kernel_size=3, activation='relu', input_shape=(n_timesteps, n_features)),\n",
        "    tf.keras.layers.Conv1D(filters=64, kernel_size=3, activation='relu'),\n",
        "    #tf.keras.layers.BatchNormalization(),\n",
        "    tf.keras.layers.MaxPooling1D(pool_size=2),\n",
        "    tf.keras.layers.Conv1D(filters=64, kernel_size=3, activation='relu'),\n",
        "    tf.keras.layers.MaxPooling1D(pool_size=2),\n",
        "    tf.keras.layers.Conv1D(filters=64, kernel_size=3, activation='relu'),\n",
        "    tf.keras.layers.MaxPooling1D(pool_size=2),\n",
        "    tf.keras.layers.Flatten(),\n",
        "    tf.keras.layers.Dense(n_outputs, activation='softmax')\n",
        "])\n",
        "model.summary()"
      ],
      "metadata": {
        "colab": {
          "base_uri": "https://localhost:8080/"
        },
        "id": "tF-m0em86-zR",
        "outputId": "6ff20c50-ff10-4b5a-ddcf-e1eca2ae98f8"
      },
      "execution_count": 55,
      "outputs": [
        {
          "output_type": "stream",
          "name": "stdout",
          "text": [
            "Model: \"sequential_1\"\n",
            "_________________________________________________________________\n",
            " Layer (type)                Output Shape              Param #   \n",
            "=================================================================\n",
            " conv1d_4 (Conv1D)           (None, 126, 64)           640       \n",
            "                                                                 \n",
            " conv1d_5 (Conv1D)           (None, 124, 64)           12352     \n",
            "                                                                 \n",
            " max_pooling1d_3 (MaxPooling  (None, 62, 64)           0         \n",
            " 1D)                                                             \n",
            "                                                                 \n",
            " conv1d_6 (Conv1D)           (None, 60, 64)            12352     \n",
            "                                                                 \n",
            " max_pooling1d_4 (MaxPooling  (None, 30, 64)           0         \n",
            " 1D)                                                             \n",
            "                                                                 \n",
            " conv1d_7 (Conv1D)           (None, 28, 64)            12352     \n",
            "                                                                 \n",
            " max_pooling1d_5 (MaxPooling  (None, 14, 64)           0         \n",
            " 1D)                                                             \n",
            "                                                                 \n",
            " flatten_1 (Flatten)         (None, 896)               0         \n",
            "                                                                 \n",
            " dense_1 (Dense)             (None, 6)                 5382      \n",
            "                                                                 \n",
            "=================================================================\n",
            "Total params: 43,078\n",
            "Trainable params: 43,078\n",
            "Non-trainable params: 0\n",
            "_________________________________________________________________\n"
          ]
        }
      ]
    },
    {
      "cell_type": "code",
      "source": [
        "model.compile(loss='categorical_crossentropy', optimizer='adam', metrics=['accuracy'])"
      ],
      "metadata": {
        "id": "MozdslgDllRL"
      },
      "execution_count": 56,
      "outputs": []
    },
    {
      "cell_type": "code",
      "source": [
        "history = model.fit(X_train, trainy_one_hot, validation_data=(X_val, y_val_hot), epochs=10, batch_size=32)"
      ],
      "metadata": {
        "id": "iF8KaIfxvj15",
        "outputId": "4af54b75-ca09-48cc-f982-bd426aa72d65",
        "colab": {
          "base_uri": "https://localhost:8080/"
        }
      },
      "execution_count": 57,
      "outputs": [
        {
          "output_type": "stream",
          "name": "stdout",
          "text": [
            "Epoch 1/10\n",
            "610/610 [==============================] - 15s 22ms/step - loss: 0.4027 - accuracy: 0.8417 - val_loss: 0.2548 - val_accuracy: 0.9114\n",
            "Epoch 2/10\n",
            "610/610 [==============================] - 13s 21ms/step - loss: 0.1834 - accuracy: 0.9335 - val_loss: 0.1679 - val_accuracy: 0.9398\n",
            "Epoch 3/10\n",
            "610/610 [==============================] - 14s 23ms/step - loss: 0.1151 - accuracy: 0.9577 - val_loss: 0.1107 - val_accuracy: 0.9598\n",
            "Epoch 4/10\n",
            "610/610 [==============================] - 13s 21ms/step - loss: 0.0912 - accuracy: 0.9662 - val_loss: 0.1026 - val_accuracy: 0.9647\n",
            "Epoch 5/10\n",
            "610/610 [==============================] - 14s 24ms/step - loss: 0.0678 - accuracy: 0.9755 - val_loss: 0.1577 - val_accuracy: 0.9416\n",
            "Epoch 6/10\n",
            "610/610 [==============================] - 14s 24ms/step - loss: 0.0507 - accuracy: 0.9820 - val_loss: 0.0824 - val_accuracy: 0.9719\n",
            "Epoch 7/10\n",
            "610/610 [==============================] - 13s 22ms/step - loss: 0.0356 - accuracy: 0.9876 - val_loss: 0.0979 - val_accuracy: 0.9692\n",
            "Epoch 8/10\n",
            "610/610 [==============================] - 13s 22ms/step - loss: 0.0332 - accuracy: 0.9889 - val_loss: 0.0975 - val_accuracy: 0.9685\n",
            "Epoch 9/10\n",
            "610/610 [==============================] - 16s 26ms/step - loss: 0.0312 - accuracy: 0.9897 - val_loss: 0.0779 - val_accuracy: 0.9783\n",
            "Epoch 10/10\n",
            "610/610 [==============================] - 14s 23ms/step - loss: 0.0230 - accuracy: 0.9915 - val_loss: 0.0942 - val_accuracy: 0.9714\n"
          ]
        }
      ]
    },
    {
      "cell_type": "code",
      "source": [
        "test_loss, test_acc = model.evaluate(X_val, y_val_hot)\n",
        "print('Test loss:', test_loss)\n",
        "print('Test accuracy:', test_acc)"
      ],
      "metadata": {
        "id": "sIzVfqKIvpYg",
        "outputId": "bbcfe377-3a96-44fb-d16c-dc5b78ca330a",
        "colab": {
          "base_uri": "https://localhost:8080/"
        }
      },
      "execution_count": 58,
      "outputs": [
        {
          "output_type": "stream",
          "name": "stdout",
          "text": [
            "262/262 [==============================] - 2s 6ms/step - loss: 0.0942 - accuracy: 0.9714\n",
            "Test loss: 0.09423666447401047\n",
            "Test accuracy: 0.9713943600654602\n"
          ]
        }
      ]
    },
    {
      "cell_type": "code",
      "source": [
        "plt.figure(figsize=(6, 4))\n",
        "plt.plot(history.history['accuracy'], 'g', label='Accuracy of training data')\n",
        "plt.plot(history.history['val_accuracy'], 'b', label='Accuracy of validation data')\n",
        "plt.plot(history.history['loss'], 'g--', label='Loss of training data')\n",
        "plt.plot(history.history['val_loss'], 'b--', label='Loss of validation data')\n",
        "plt.title('Model Accuracy and Loss')\n",
        "plt.ylabel('Accuracy and Loss')\n",
        "plt.xlabel('Training Epoch')\n",
        "plt.ylim(0)\n",
        "plt.legend()\n",
        "plt.show()"
      ],
      "metadata": {
        "id": "z_TAQIfIoOcv",
        "colab": {
          "base_uri": "https://localhost:8080/",
          "height": 295
        },
        "outputId": "809fa504-948c-4452-8647-855576e820a1"
      },
      "execution_count": 59,
      "outputs": [
        {
          "output_type": "display_data",
          "data": {
            "text/plain": [
              "<Figure size 432x288 with 1 Axes>"
            ],
            "image/png": "[encoded data removed]"
          },
          "metadata": {
            "needs_background": "light"
          }
        }
      ]
    },
    {
      "cell_type": "code",
      "source": [
        "# increase the size of the graphs. The default size is (6,4).\n",
        "plt.rcParams[\"figure.figsize\"] = (6,4)\n",
        "\n",
        "# graph the loss, the model above is configure to use \"mean squared error\" as the loss function\n",
        "loss = history.history['loss']\n",
        "val_loss = history.history['val_loss']\n",
        "epochs = range(1, len(loss) + 1)\n",
        "plt.plot(epochs, loss, 'g.', linestyle='solid', label='Training loss')\n",
        "plt.plot(epochs, val_loss, 'b', linestyle='solid', label='Validation loss')\n",
        "plt.title('Training and validation loss')\n",
        "plt.xlabel('Epochs')\n",
        "plt.ylabel('Loss')\n",
        "plt.legend()\n",
        "plt.show()\n",
        "\n",
        "print(plt.rcParams[\"figure.figsize\"])"
      ],
      "metadata": {
        "id": "wEtPD2y6v0WG",
        "outputId": "d5b4e32b-a2ff-4a55-d644-e7ff748c2cc5",
        "colab": {
          "base_uri": "https://localhost:8080/",
          "height": 312
        }
      },
      "execution_count": 51,
      "outputs": [
        {
          "output_type": "display_data",
          "data": {
            "text/plain": [
              "<Figure size 432x288 with 1 Axes>"
            ],
            "image/png": "[encoded data removed]"
          },
          "metadata": {
            "needs_background": "light"
          }
        },
        {
          "output_type": "stream",
          "name": "stdout",
          "text": [
            "[6.0, 4.0]\n"
          ]
        }
      ]
    },
    {
      "cell_type": "code",
      "source": [
        "# graph of mean absolute error\n",
        "mae = history.history['accuracy']\n",
        "val_mae = history.history['val_accuracy']\n",
        "plt.plot(epochs, mae, 'g.', linestyle='solid', label='Training Accuracy')\n",
        "plt.plot(epochs, val_mae, 'b.', linestyle='solid', label='Validation Accuracy')\n",
        "plt.title('Training and validation accuracy')\n",
        "plt.xlabel('Epochs')\n",
        "plt.ylabel('MAE')\n",
        "plt.legend()\n",
        "plt.show()"
      ],
      "metadata": {
        "id": "9IkzubNlv33m",
        "outputId": "a8d81e1e-883a-48fd-eda7-ab7c8b7e51ea",
        "colab": {
          "base_uri": "https://localhost:8080/",
          "height": 295
        }
      },
      "execution_count": 52,
      "outputs": [
        {
          "output_type": "display_data",
          "data": {
            "text/plain": [
              "<Figure size 432x288 with 1 Axes>"
            ],
            "image/png": "[encoded data removed]"
          },
          "metadata": {
            "needs_background": "light"
          }
        }
      ]
    },
    {
      "cell_type": "markdown",
      "source": [
        "**Confusion Matrix**"
      ],
      "metadata": {
        "id": "qcGlOcRKPQjs"
      }
    },
    {
      "cell_type": "code",
      "source": [
        "# use the model to predict the test inputs\n",
        "predictions = model.predict(X_val)"
      ],
      "metadata": {
        "colab": {
          "base_uri": "https://localhost:8080/"
        },
        "id": "HWfJYjl3Najt",
        "outputId": "b72b9b61-0a3b-415e-d4ea-0319bd929561"
      },
      "execution_count": 53,
      "outputs": [
        {
          "output_type": "stream",
          "name": "stdout",
          "text": [
            "262/262 [==============================] - 2s 8ms/step\n"
          ]
        }
      ]
    },
    {
      "cell_type": "code",
      "source": [
        "cm = tf.math.confusion_matrix(labels=tf.argmax(y_val_hot, 1), predictions=tf.argmax(predictions, 1))\n",
        "axis_labels = ['Walking', 'Jogging', 'Upstairs', 'Downstairs', 'Sitting', 'Standing']\n",
        "figure = plt.figure(figsize=(6, 4))\n",
        "sns.heatmap(cm, annot=True,cmap=plt.cm.Blues,xticklabels=axis_labels, yticklabels=axis_labels)\n",
        "plt.ylim(len(cm)-0, 0)\n",
        "plt.tight_layout()\n",
        "plt.ylabel('True label')\n",
        "plt.xlabel('Predicted label')\n",
        "plt.show()"
      ],
      "metadata": {
        "colab": {
          "base_uri": "https://localhost:8080/",
          "height": 311
        },
        "id": "9RtSXuGtNaWC",
        "outputId": "f2e401e0-df36-4570-8f30-16d20f51028a"
      },
      "execution_count": 54,
      "outputs": [
        {
          "output_type": "display_data",
          "data": {
            "text/plain": [
              "<Figure size 432x288 with 2 Axes>"
            ],
            "image/png": "[encoded data removed]"
          },
          "metadata": {
            "needs_background": "light"
          }
        }
      ]
    },
    {
      "cell_type": "markdown",
      "source": [
        "# **CNN-LSTM**"
      ],
      "metadata": {
        "id": "dHiz6h76sOxS"
      }
    },
    {
      "cell_type": "code",
      "source": [
        "model = tf.keras.Sequential([\n",
        "    tf.keras.layers.Conv1D(filters=64, kernel_size=3, activation='relu', input_shape=(n_timesteps, n_features)),\n",
        "    tf.keras.layers.Conv1D(filters=64, kernel_size=3, activation='relu'),\n",
        "    #tf.keras.layers.BatchNormalization(),\n",
        "    tf.keras.layers.MaxPooling1D(pool_size=2),\n",
        "    tf.keras.layers.LSTM(units=64, activation='tanh', dropout=0.5),\n",
        "    tf.keras.layers.Dense(n_outputs, activation='softmax')\n",
        "])\n",
        "model.summary()"
      ],
      "metadata": {
        "id": "JFjJRbR7f1Lr",
        "outputId": "faae0947-e0ab-4c1e-df10-91ae9156cccc",
        "colab": {
          "base_uri": "https://localhost:8080/"
        }
      },
      "execution_count": 100,
      "outputs": [
        {
          "output_type": "stream",
          "name": "stdout",
          "text": [
            "Model: \"sequential_2\"\n",
            "_________________________________________________________________\n",
            " Layer (type)                Output Shape              Param #   \n",
            "=================================================================\n",
            " conv1d_8 (Conv1D)           (None, 126, 64)           640       \n",
            "                                                                 \n",
            " conv1d_9 (Conv1D)           (None, 124, 64)           12352     \n",
            "                                                                 \n",
            " max_pooling1d_6 (MaxPooling  (None, 62, 64)           0         \n",
            " 1D)                                                             \n",
            "                                                                 \n",
            " lstm (LSTM)                 (None, 64)                33024     \n",
            "                                                                 \n",
            " dense_2 (Dense)             (None, 6)                 390       \n",
            "                                                                 \n",
            "=================================================================\n",
            "Total params: 46,406\n",
            "Trainable params: 46,406\n",
            "Non-trainable params: 0\n",
            "_________________________________________________________________\n"
          ]
        }
      ]
    },
    {
      "cell_type": "code",
      "source": [
        "model.compile(loss='categorical_crossentropy', optimizer='adam', metrics=['accuracy'])"
      ],
      "metadata": {
        "id": "c1WzwXXPXKZY"
      },
      "execution_count": 101,
      "outputs": []
    },
    {
      "cell_type": "code",
      "source": [
        "history = model.fit(X_train, trainy_one_hot, validation_data=(X_val, y_val_hot), epochs=10, batch_size=32)"
      ],
      "metadata": {
        "id": "E8MsSHsNXO8t",
        "outputId": "8ac798f6-a464-4863-f29f-4a7fe8945cb2",
        "colab": {
          "base_uri": "https://localhost:8080/"
        }
      },
      "execution_count": 102,
      "outputs": [
        {
          "output_type": "stream",
          "name": "stdout",
          "text": [
            "Epoch 1/10\n",
            "610/610 [==============================] - 35s 53ms/step - loss: 0.4849 - accuracy: 0.8149 - val_loss: 0.2787 - val_accuracy: 0.8990\n",
            "Epoch 2/10\n",
            "610/610 [==============================] - 31s 50ms/step - loss: 0.2465 - accuracy: 0.9093 - val_loss: 0.1856 - val_accuracy: 0.9324\n",
            "Epoch 3/10\n",
            "610/610 [==============================] - 33s 54ms/step - loss: 0.1892 - accuracy: 0.9324 - val_loss: 0.1635 - val_accuracy: 0.9363\n",
            "Epoch 4/10\n",
            "610/610 [==============================] - 32s 53ms/step - loss: 0.1611 - accuracy: 0.9413 - val_loss: 0.1209 - val_accuracy: 0.9566\n",
            "Epoch 5/10\n",
            "610/610 [==============================] - 32s 52ms/step - loss: 0.1445 - accuracy: 0.9473 - val_loss: 0.1318 - val_accuracy: 0.9487\n",
            "Epoch 6/10\n",
            "610/610 [==============================] - 32s 53ms/step - loss: 0.1224 - accuracy: 0.9546 - val_loss: 0.0979 - val_accuracy: 0.9660\n",
            "Epoch 7/10\n",
            "610/610 [==============================] - 33s 53ms/step - loss: 0.1084 - accuracy: 0.9608 - val_loss: 0.0950 - val_accuracy: 0.9662\n",
            "Epoch 8/10\n",
            "610/610 [==============================] - 33s 53ms/step - loss: 0.1027 - accuracy: 0.9610 - val_loss: 0.0846 - val_accuracy: 0.9704\n",
            "Epoch 9/10\n",
            "610/610 [==============================] - 32s 52ms/step - loss: 0.0896 - accuracy: 0.9671 - val_loss: 0.0921 - val_accuracy: 0.9656\n",
            "Epoch 10/10\n",
            "610/610 [==============================] - 32s 53ms/step - loss: 0.0852 - accuracy: 0.9680 - val_loss: 0.0882 - val_accuracy: 0.9682\n"
          ]
        }
      ]
    },
    {
      "cell_type": "code",
      "source": [
        "test_loss, test_acc = model.evaluate(X_val, y_val_hot)\n",
        "print('Test loss:', test_loss)\n",
        "print('Test accuracy:', test_acc)"
      ],
      "metadata": {
        "id": "pg_t91oTsbUl",
        "outputId": "2d3d1538-6252-4c22-a01a-0a93a8a7d57b",
        "colab": {
          "base_uri": "https://localhost:8080/"
        }
      },
      "execution_count": 103,
      "outputs": [
        {
          "output_type": "stream",
          "name": "stdout",
          "text": [
            "262/262 [==============================] - 3s 13ms/step - loss: 0.0882 - accuracy: 0.9682\n",
            "Test loss: 0.08816654980182648\n",
            "Test accuracy: 0.9681627750396729\n"
          ]
        }
      ]
    },
    {
      "cell_type": "code",
      "source": [
        "import matplotlib.pyplot as plt"
      ],
      "metadata": {
        "id": "iFWFGtMQsiFt"
      },
      "execution_count": 104,
      "outputs": []
    },
    {
      "cell_type": "code",
      "source": [
        "plt.figure(figsize=(6, 4))\n",
        "plt.plot(history.history['accuracy'], 'g', label='Accuracy of training data')\n",
        "plt.plot(history.history['val_accuracy'], 'b', label='Accuracy of validation data')\n",
        "plt.plot(history.history['loss'], 'g--', label='Loss of training data')\n",
        "plt.plot(history.history['val_loss'], 'b--', label='Loss of validation data')\n",
        "plt.title('Model Accuracy and Loss')\n",
        "plt.ylabel('Accuracy and Loss')\n",
        "plt.xlabel('Training Epoch')\n",
        "plt.ylim(0)\n",
        "plt.legend()\n",
        "plt.show()"
      ],
      "metadata": {
        "id": "gOpS5mbUoK-L",
        "colab": {
          "base_uri": "https://localhost:8080/",
          "height": 295
        },
        "outputId": "42dd39cf-34d3-48df-ea46-c745c7ee2023"
      },
      "execution_count": 106,
      "outputs": [
        {
          "output_type": "display_data",
          "data": {
            "text/plain": [
              "<Figure size 432x288 with 1 Axes>"
            ],
            "image/png": "[encoded data removed]"
          },
          "metadata": {
            "needs_background": "light"
          }
        }
      ]
    },
    {
      "cell_type": "code",
      "source": [
        "# increase the size of the graphs. The default size is (6,4).\n",
        "plt.rcParams[\"figure.figsize\"] = (6,4)\n",
        "\n",
        "# graph the loss, the model above is configure to use \"mean squared error\" as the loss function\n",
        "loss = history.history['loss']\n",
        "val_loss = history.history['val_loss']\n",
        "epochs = range(1, len(loss) + 1)\n",
        "plt.plot(epochs, loss, 'g.', linestyle='solid', label='Training loss')\n",
        "plt.plot(epochs, val_loss, 'b', linestyle='solid', label='Validation loss')\n",
        "plt.title('Training and validation loss')\n",
        "plt.xlabel('Epochs')\n",
        "plt.ylabel('Loss')\n",
        "plt.legend()\n",
        "plt.show()\n",
        "\n",
        "print(plt.rcParams[\"figure.figsize\"])"
      ],
      "metadata": {
        "colab": {
          "base_uri": "https://localhost:8080/",
          "height": 312
        },
        "outputId": "e0ac3a16-41eb-455a-b326-f682b33ca490",
        "id": "0m2fRykkVmSs"
      },
      "execution_count": 107,
      "outputs": [
        {
          "output_type": "display_data",
          "data": {
            "text/plain": [
              "<Figure size 432x288 with 1 Axes>"
            ],
            "image/png": "[encoded data removed]"
          },
          "metadata": {
            "needs_background": "light"
          }
        },
        {
          "output_type": "stream",
          "name": "stdout",
          "text": [
            "[6.0, 4.0]\n"
          ]
        }
      ]
    },
    {
      "cell_type": "code",
      "source": [
        "# graph of mean absolute error\n",
        "mae = history.history['accuracy']\n",
        "val_mae = history.history['val_accuracy']\n",
        "plt.plot(epochs, mae, 'g.', linestyle='solid', label='Training Accuracy')\n",
        "plt.plot(epochs, val_mae, 'b.', linestyle='solid', label='Validation Accuracy')\n",
        "plt.title('Training and validation accuracy')\n",
        "plt.xlabel('Epochs')\n",
        "plt.ylabel('MAE')\n",
        "plt.legend()\n",
        "plt.show()"
      ],
      "metadata": {
        "id": "4KxEdiOYsqln",
        "outputId": "1b4a7d10-0823-4333-e2fc-13fdf75b85ec",
        "colab": {
          "base_uri": "https://localhost:8080/",
          "height": 295
        }
      },
      "execution_count": 108,
      "outputs": [
        {
          "output_type": "display_data",
          "data": {
            "text/plain": [
              "<Figure size 432x288 with 1 Axes>"
            ],
            "image/png": "[encoded data removed]"
          },
          "metadata": {
            "needs_background": "light"
          }
        }
      ]
    },
    {
      "cell_type": "markdown",
      "source": [
        "**Confusion matrix**"
      ],
      "metadata": {
        "id": "QZIBbGRZP4wT"
      }
    },
    {
      "cell_type": "code",
      "source": [
        "# use the model to predict the test inputs\n",
        "predictions = model.predict(X_val)"
      ],
      "metadata": {
        "id": "4prp_uNGPw4E",
        "colab": {
          "base_uri": "https://localhost:8080/"
        },
        "outputId": "6dbd623f-d81b-421f-8f10-745a6a14ef24"
      },
      "execution_count": 109,
      "outputs": [
        {
          "output_type": "stream",
          "name": "stdout",
          "text": [
            "262/262 [==============================] - 4s 12ms/step\n"
          ]
        }
      ]
    },
    {
      "cell_type": "code",
      "source": [
        "cm = tf.math.confusion_matrix(labels=tf.argmax(y_val_hot, 1), predictions=tf.argmax(predictions, 1))\n",
        "axis_labels = ['Walking', 'Jogging', 'Upstairs', 'Downstairs', 'Sitting', 'Standing']\n",
        "figure = plt.figure(figsize=(6, 4))\n",
        "sns.heatmap(cm, annot=True,cmap=plt.cm.Blues,xticklabels=axis_labels, yticklabels=axis_labels)\n",
        "plt.ylim(len(cm)-0, 0)\n",
        "plt.tight_layout()\n",
        "plt.ylabel('True label')\n",
        "plt.xlabel('Predicted label')\n",
        "plt.show()"
      ],
      "metadata": {
        "colab": {
          "base_uri": "https://localhost:8080/",
          "height": 311
        },
        "id": "YhZC4wd1P3aU",
        "outputId": "5b910c9d-5fb1-4674-85d4-607897805afe"
      },
      "execution_count": 110,
      "outputs": [
        {
          "output_type": "display_data",
          "data": {
            "text/plain": [
              "<Figure size 432x288 with 2 Axes>"
            ],
            "image/png": "[encoded data removed]"
          },
          "metadata": {
            "needs_background": "light"
          }
        }
      ]
    },
    {
      "cell_type": "markdown",
      "source": [
        "# **CNN-GRU**"
      ],
      "metadata": {
        "id": "96M9ockKU36y"
      }
    },
    {
      "cell_type": "code",
      "source": [
        "model = tf.keras.Sequential([\n",
        "    tf.keras.layers.Conv1D(filters=64, kernel_size=3, activation='relu', input_shape=(n_timesteps, n_features)),\n",
        "    #tf.keras.layers.BatchNormalization(),\n",
        "    tf.keras.layers.MaxPooling1D(pool_size=2),\n",
        "    tf.keras.layers.GRU(units=64, activation='tanh'),\n",
        "    tf.keras.layers.Dropout(0.5),\n",
        "    tf.keras.layers.Dense(n_outputs, activation='softmax')\n",
        "])\n",
        "model.summary()"
      ],
      "metadata": {
        "colab": {
          "base_uri": "https://localhost:8080/"
        },
        "id": "baJ9fv1jw5wF",
        "outputId": "e02f56d3-7594-4313-eae4-df7417cd7d3b"
      },
      "execution_count": null,
      "outputs": [
        {
          "output_type": "stream",
          "name": "stdout",
          "text": [
            "Model: \"sequential_3\"\n",
            "_________________________________________________________________\n",
            " Layer (type)                Output Shape              Param #   \n",
            "=================================================================\n",
            " conv1d_7 (Conv1D)           (None, 126, 64)           640       \n",
            "                                                                 \n",
            " max_pooling1d_5 (MaxPooling  (None, 63, 64)           0         \n",
            " 1D)                                                             \n",
            "                                                                 \n",
            " gru_1 (GRU)                 (None, 64)                24960     \n",
            "                                                                 \n",
            " dropout_1 (Dropout)         (None, 64)                0         \n",
            "                                                                 \n",
            " dense_3 (Dense)             (None, 6)                 390       \n",
            "                                                                 \n",
            "=================================================================\n",
            "Total params: 25,990\n",
            "Trainable params: 25,990\n",
            "Non-trainable params: 0\n",
            "_________________________________________________________________\n"
          ]
        }
      ]
    },
    {
      "cell_type": "code",
      "source": [
        "#to_categorical(y_val)"
      ],
      "metadata": {
        "id": "sYvfwrb_pF0e"
      },
      "execution_count": null,
      "outputs": []
    },
    {
      "cell_type": "code",
      "source": [
        "model.compile(loss='categorical_crossentropy', optimizer='adam', metrics=['accuracy'])"
      ],
      "metadata": {
        "id": "J6NSVYD8xPg2"
      },
      "execution_count": null,
      "outputs": []
    },
    {
      "cell_type": "code",
      "source": [
        "history = model.fit(X_train, trainy_one_hot, validation_data=(X_val, y_val_hot), epochs=10, batch_size=32)"
      ],
      "metadata": {
        "colab": {
          "base_uri": "https://localhost:8080/"
        },
        "id": "zqtMfGOZxPat",
        "outputId": "ae174b5d-f6f4-4012-f728-807ac6623e6c"
      },
      "execution_count": null,
      "outputs": [
        {
          "output_type": "stream",
          "name": "stdout",
          "text": [
            "Epoch 1/10\n",
            "610/610 [==============================] - 44s 68ms/step - loss: 0.5738 - accuracy: 0.7811 - val_loss: 0.2605 - val_accuracy: 0.8940\n",
            "Epoch 2/10\n",
            "610/610 [==============================] - 39s 64ms/step - loss: 0.2423 - accuracy: 0.9167 - val_loss: 0.1683 - val_accuracy: 0.9411\n",
            "Epoch 3/10\n",
            "610/610 [==============================] - 38s 62ms/step - loss: 0.1754 - accuracy: 0.9416 - val_loss: 0.1777 - val_accuracy: 0.9329\n",
            "Epoch 4/10\n",
            "610/610 [==============================] - 39s 63ms/step - loss: 0.1425 - accuracy: 0.9525 - val_loss: 0.1179 - val_accuracy: 0.9576\n",
            "Epoch 5/10\n",
            "610/610 [==============================] - 39s 64ms/step - loss: 0.1228 - accuracy: 0.9596 - val_loss: 0.1162 - val_accuracy: 0.9594\n",
            "Epoch 6/10\n",
            "610/610 [==============================] - 39s 64ms/step - loss: 0.1023 - accuracy: 0.9666 - val_loss: 0.1184 - val_accuracy: 0.9576\n",
            "Epoch 7/10\n",
            "610/610 [==============================] - 44s 73ms/step - loss: 0.0956 - accuracy: 0.9681 - val_loss: 0.1189 - val_accuracy: 0.9567\n",
            "Epoch 8/10\n",
            "610/610 [==============================] - 53s 87ms/step - loss: 0.0873 - accuracy: 0.9712 - val_loss: 0.0767 - val_accuracy: 0.9716\n",
            "Epoch 9/10\n",
            "610/610 [==============================] - 39s 65ms/step - loss: 0.0787 - accuracy: 0.9740 - val_loss: 0.0904 - val_accuracy: 0.9678\n",
            "Epoch 10/10\n",
            "610/610 [==============================] - 38s 63ms/step - loss: 0.0637 - accuracy: 0.9787 - val_loss: 0.0769 - val_accuracy: 0.9741\n"
          ]
        }
      ]
    },
    {
      "cell_type": "code",
      "source": [
        "test_loss, test_acc = model.evaluate(X_val, y_val_hot)\n",
        "print('Test loss:', test_loss)\n",
        "print('Test accuracy:', test_acc)"
      ],
      "metadata": {
        "colab": {
          "base_uri": "https://localhost:8080/"
        },
        "id": "8ykIih6wx3_H",
        "outputId": "c259bcb7-1e1c-44a8-b085-ba698d96a589"
      },
      "execution_count": null,
      "outputs": [
        {
          "output_type": "stream",
          "name": "stdout",
          "text": [
            "262/262 [==============================] - 5s 17ms/step - loss: 0.0769 - accuracy: 0.9741\n",
            "Test loss: 0.07690276950597763\n",
            "Test accuracy: 0.9741472005844116\n"
          ]
        }
      ]
    },
    {
      "cell_type": "markdown",
      "source": [
        "**Visualization of Training and Validation loss**"
      ],
      "metadata": {
        "id": "SMQxHs2HXB9a"
      }
    },
    {
      "cell_type": "code",
      "source": [
        "import matplotlib.pyplot as plt"
      ],
      "metadata": {
        "id": "LGW-lFJqXAlS"
      },
      "execution_count": null,
      "outputs": []
    },
    {
      "cell_type": "code",
      "source": [
        "plt.figure(figsize=(6, 4))\n",
        "plt.plot(history.history['accuracy'], 'g', label='Accuracy of training data')\n",
        "plt.plot(history.history['val_accuracy'], 'b', label='Accuracy of validation data')\n",
        "plt.plot(history.history['loss'], 'g--', label='Loss of training data')\n",
        "plt.plot(history.history['val_loss'], 'b--', label='Loss of validation data')\n",
        "plt.title('Model Accuracy and Loss')\n",
        "plt.ylabel('Accuracy and Loss')\n",
        "plt.xlabel('Training Epoch')\n",
        "plt.ylim(0)\n",
        "plt.legend()\n",
        "plt.show()"
      ],
      "metadata": {
        "colab": {
          "base_uri": "https://localhost:8080/",
          "height": 295
        },
        "id": "T5N438jLl7yA",
        "outputId": "3431d653-b191-48f6-a3ce-2a51b2f5b542"
      },
      "execution_count": null,
      "outputs": [
        {
          "output_type": "display_data",
          "data": {
            "text/plain": [
              "<Figure size 432x288 with 1 Axes>"
            ],
            "image/png": "[encoded data removed]"
          },
          "metadata": {
            "needs_background": "light"
          }
        }
      ]
    },
    {
      "cell_type": "code",
      "source": [
        "# increase the size of the graphs. The default size is (6,4).\n",
        "plt.rcParams[\"figure.figsize\"] = (6,4)\n",
        "\n",
        "# graph the loss, the model above is configure to use \"mean squared error\" as the loss function\n",
        "loss = history.history['loss']\n",
        "val_loss = history.history['val_loss']\n",
        "epochs = range(1, len(loss) + 1)\n",
        "plt.plot(epochs, loss, 'g.', linestyle='solid', label='Training loss')\n",
        "plt.plot(epochs, val_loss, 'b', linestyle='solid', label='Validation loss')\n",
        "plt.title('Training and validation loss')\n",
        "plt.xlabel('Epochs')\n",
        "plt.ylabel('Loss')\n",
        "plt.legend()\n",
        "plt.show()\n",
        "\n",
        "print(plt.rcParams[\"figure.figsize\"])"
      ],
      "metadata": {
        "colab": {
          "base_uri": "https://localhost:8080/",
          "height": 312
        },
        "id": "fmqh-cn0W-EJ",
        "outputId": "1d5e71f4-78c3-4bc1-b05e-b299d41112ec"
      },
      "execution_count": null,
      "outputs": [
        {
          "output_type": "display_data",
          "data": {
            "text/plain": [
              "<Figure size 432x288 with 1 Axes>"
            ],
            "image/png": "[encoded data removed]"
          },
          "metadata": {
            "needs_background": "light"
          }
        },
        {
          "output_type": "stream",
          "name": "stdout",
          "text": [
            "[6.0, 4.0]\n"
          ]
        }
      ]
    },
    {
      "cell_type": "code",
      "source": [
        "# graph of mean absolute error\n",
        "mae = history.history['accuracy']\n",
        "val_mae = history.history['val_accuracy']\n",
        "plt.plot(epochs, mae, 'g.', linestyle='solid', label='Training Accuracy')\n",
        "plt.plot(epochs, val_mae, 'b.', linestyle='solid', label='Validation Accuracy')\n",
        "plt.title('Training and validation accuracy')\n",
        "plt.xlabel('Epochs')\n",
        "plt.ylabel('MAE')\n",
        "plt.legend()\n",
        "plt.show()"
      ],
      "metadata": {
        "colab": {
          "base_uri": "https://localhost:8080/",
          "height": 295
        },
        "id": "2rKu56L3XQ34",
        "outputId": "ae29d46d-15a1-402c-c2ca-2fab4a171e03"
      },
      "execution_count": null,
      "outputs": [
        {
          "output_type": "display_data",
          "data": {
            "text/plain": [
              "<Figure size 432x288 with 1 Axes>"
            ],
            "image/png": "[encoded data removed]"
          },
          "metadata": {
            "needs_background": "light"
          }
        }
      ]
    },
    {
      "cell_type": "markdown",
      "source": [
        "**Confusion Matrix**"
      ],
      "metadata": {
        "id": "T5mEbnp8XWig"
      }
    },
    {
      "cell_type": "code",
      "source": [
        "# use the model to predict the test inputs\n",
        "predictions = model.predict(X_val)"
      ],
      "metadata": {
        "colab": {
          "base_uri": "https://localhost:8080/"
        },
        "id": "ZBYrlQRMx3un",
        "outputId": "bc5d261d-6895-4d83-a56d-494d5ebe131e"
      },
      "execution_count": null,
      "outputs": [
        {
          "output_type": "stream",
          "name": "stdout",
          "text": [
            "262/262 [==============================] - 4s 14ms/step\n"
          ]
        }
      ]
    },
    {
      "cell_type": "code",
      "source": [
        "cm = tf.math.confusion_matrix(labels=tf.argmax(y_val_hot, 1), predictions=tf.argmax(predictions, 1))\n",
        "axis_labels = ['Walking', 'Jogging', 'Upstairs', 'Downstairs', 'Sitting', 'Standing']\n",
        "figure = plt.figure(figsize=(6, 4))\n",
        "sns.heatmap(cm, annot=True,cmap=plt.cm.Blues,xticklabels=axis_labels, yticklabels=axis_labels)\n",
        "plt.ylim(len(cm)-0, 0)\n",
        "plt.tight_layout()\n",
        "plt.ylabel('True label')\n",
        "plt.xlabel('Predicted label')\n",
        "plt.show()"
      ],
      "metadata": {
        "colab": {
          "base_uri": "https://localhost:8080/",
          "height": 311
        },
        "id": "wLEwCwbivDTe",
        "outputId": "3bffd85b-ee22-42e2-aaf2-8aa605bdf66f"
      },
      "execution_count": null,
      "outputs": [
        {
          "output_type": "display_data",
          "data": {
            "text/plain": [
              "<Figure size 432x288 with 2 Axes>"
            ],
            "image/png": "[encoded data removed]"
          },
          "metadata": {
            "needs_background": "light"
          }
        }
      ]
    },
    {
      "cell_type": "markdown",
      "source": [
        "# Save Model"
      ],
      "metadata": {
        "id": "vGTLZW-fU_7M"
      }
    },
    {
      "cell_type": "code",
      "source": [
        "model.save('model.h5')"
      ],
      "metadata": {
        "id": "LWc5KRudx3Hu"
      },
      "execution_count": 111,
      "outputs": []
    },
    {
      "cell_type": "markdown",
      "source": [
        "# Conversion of model to tensorflow lite model"
      ],
      "metadata": {
        "id": "TUESu9R1XgQr"
      }
    },
    {
      "cell_type": "code",
      "source": [
        "# Convert the model to the TensorFlow Lite format without quantization\n",
        "converter = tf.lite.TFLiteConverter.from_keras_model(model)\n",
        "converter._experimental_lower_tensor_list_ops = False\n",
        "converter.target_spec.supported_ops = [tf.lite.OpsSet.TFLITE_BUILTINS, tf.lite.OpsSet.SELECT_TF_OPS]\n",
        "tflite_model = converter.convert()\n",
        "\n",
        "# Save the model to disk\n",
        "open(\"model.tflite\", \"wb\").write(tflite_model)\n",
        "\n",
        "import os\n",
        "basic_model_size = os.path.getsize(\"model.tflite\")\n",
        "print(\"Model is %d bytes\" % basic_model_size)"
      ],
      "metadata": {
        "colab": {
          "base_uri": "https://localhost:8080/"
        },
        "id": "WDZ_IRG6vzk2",
        "outputId": "5422914e-f1b0-4e68-fbad-34baa1dc0309"
      },
      "execution_count": 112,
      "outputs": [
        {
          "output_type": "stream",
          "name": "stderr",
          "text": [
            "WARNING:absl:Found untraced functions such as _jit_compiled_convolution_op, _jit_compiled_convolution_op, _update_step_xla, lstm_cell_layer_call_fn, lstm_cell_layer_call_and_return_conditional_losses while saving (showing 5 of 5). These functions will not be directly callable after loading.\n"
          ]
        },
        {
          "output_type": "stream",
          "name": "stdout",
          "text": [
            "Model is 199676 bytes\n"
          ]
        }
      ]
    },
    {
      "cell_type": "markdown",
      "source": [
        "# Creating Model Header File"
      ],
      "metadata": {
        "id": "cyFCihBIX1uH"
      }
    },
    {
      "cell_type": "code",
      "source": [
        "# Compile the TensorFlow Lite model into a C source file\n",
        "!xxd -i model.tflite > model.cc\n",
        "\n",
        "# Create a header file from the C source file\n",
        "!sed 's/unsigned/const unsigned/g' model.cc > model.h\n",
        "\n",
        "import os\n",
        "model_h_size = os.path.getsize(\"model.h\")\n",
        "print(f\"Header file, model.h, is {model_h_size:,} bytes.\")"
      ],
      "metadata": {
        "colab": {
          "base_uri": "https://localhost:8080/"
        },
        "id": "vaPXu8GZvzh2",
        "outputId": "d045c91c-80fe-4cfe-8437-a89927a93f39"
      },
      "execution_count": 113,
      "outputs": [
        {
          "output_type": "stream",
          "name": "stdout",
          "text": [
            "Header file, model.h, is 1,231,423 bytes.\n"
          ]
        }
      ]
    },
    {
      "cell_type": "markdown",
      "source": [
        "# Pruning the model and Fit the pruning model"
      ],
      "metadata": {
        "id": "MLRYM3K6ZPDo"
      }
    },
    {
      "cell_type": "code",
      "source": [
        "import tensorflow_model_optimization as tfmot\n",
        "\n",
        "pruning_schedule = tfmot.sparsity.keras.PolynomialDecay(\n",
        "    initial_sparsity=0.0,\n",
        "    final_sparsity=0.5,\n",
        "    begin_step=0,\n",
        "    end_step=1000\n",
        ")\n",
        "\n",
        "pruned_model = tfmot.sparsity.keras.prune_low_magnitude(model, pruning_schedule=pruning_schedule)\n",
        "pruned_model.summary()\n",
        "\n",
        "import tempfile\n",
        "\n",
        "logdir = tempfile.mkdtemp()\n",
        "\n",
        "#callbacks = [    sparsity.PruningSummaries(log_dir=logdir, profile_batch=10),    tf.keras.callbacks.ReduceLROnPlateau(monitor='val_loss',min_lr=0.0001)]\n",
        "\n",
        "\n",
        "\n",
        "callbacks = [\n",
        "    sparsity.UpdatePruningStep(),\n",
        "    sparsity.PruningSummaries(log_dir=logdir, profile_batch=0),\n",
        "    tf.keras.callbacks.ReduceLROnPlateau(monitor='val_loss',min_lr=0.0001)\n",
        "\n",
        "]\n",
        "pruned_model.compile(optimizer='adam', loss='categorical_crossentropy', metrics=['accuracy'])\n",
        "his = pruned_model.fit(X_train, trainy_one_hot, epochs = 10, batch_size=32, callbacks=callbacks, validation_data= (X_val, y_val_hot), verbose=1)\n",
        "\n",
        "\n",
        "score = pruned_model.evaluate(X_val, y_val_hot, verbose=0)\n",
        "print('Test loss:', score[0])\n",
        "print('Test accuracy:', score[1])\n"
      ],
      "metadata": {
        "colab": {
          "base_uri": "https://localhost:8080/"
        },
        "id": "O3hFjbGvvze4",
        "outputId": "76316fc1-0613-4e91-826c-bc7a7ecd70a0"
      },
      "execution_count": 114,
      "outputs": [
        {
          "output_type": "stream",
          "name": "stderr",
          "text": [
            "WARNING:tensorflow:From /usr/local/lib/python3.8/dist-packages/tensorflow/python/autograph/pyct/static_analysis/liveness.py:83: Analyzer.lamba_check (from tensorflow.python.autograph.pyct.static_analysis.liveness) is deprecated and will be removed after 2023-09-23.\n",
            "Instructions for updating:\n",
            "Lambda fuctions will be no more assumed to be used in the statement where they are used, or at least in the same block. https://github.com/tensorflow/tensorflow/issues/56089\n"
          ]
        },
        {
          "output_type": "stream",
          "name": "stdout",
          "text": [
            "Model: \"sequential_2\"\n",
            "_________________________________________________________________\n",
            " Layer (type)                Output Shape              Param #   \n",
            "=================================================================\n",
            " prune_low_magnitude_conv1d_  (None, 126, 64)          1218      \n",
            " 8 (PruneLowMagnitude)                                           \n",
            "                                                                 \n",
            " prune_low_magnitude_conv1d_  (None, 124, 64)          24642     \n",
            " 9 (PruneLowMagnitude)                                           \n",
            "                                                                 \n",
            " prune_low_magnitude_max_poo  (None, 62, 64)           1         \n",
            " ling1d_6 (PruneLowMagnitude                                     \n",
            " )                                                               \n",
            "                                                                 \n",
            " prune_low_magnitude_lstm (P  (None, 64)               65795     \n",
            " runeLowMagnitude)                                               \n",
            "                                                                 \n",
            " prune_low_magnitude_dense_2  (None, 6)                776       \n",
            "  (PruneLowMagnitude)                                            \n",
            "                                                                 \n",
            "=================================================================\n",
            "Total params: 92,432\n",
            "Trainable params: 46,406\n",
            "Non-trainable params: 46,026\n",
            "_________________________________________________________________\n",
            "Epoch 1/10\n",
            "610/610 [==============================] - 39s 57ms/step - loss: 0.0819 - accuracy: 0.9702 - val_loss: 0.0974 - val_accuracy: 0.9653 - lr: 0.0010\n",
            "Epoch 2/10\n",
            "610/610 [==============================] - 33s 55ms/step - loss: 0.0730 - accuracy: 0.9738 - val_loss: 0.1200 - val_accuracy: 0.9600 - lr: 0.0010\n",
            "Epoch 3/10\n",
            "610/610 [==============================] - 35s 58ms/step - loss: 0.0624 - accuracy: 0.9779 - val_loss: 0.0995 - val_accuracy: 0.9642 - lr: 0.0010\n",
            "Epoch 4/10\n",
            "610/610 [==============================] - 32s 53ms/step - loss: 0.0583 - accuracy: 0.9796 - val_loss: 0.0806 - val_accuracy: 0.9715 - lr: 0.0010\n",
            "Epoch 5/10\n",
            "610/610 [==============================] - 32s 53ms/step - loss: 0.0524 - accuracy: 0.9819 - val_loss: 0.0633 - val_accuracy: 0.9768 - lr: 0.0010\n",
            "Epoch 6/10\n",
            "610/610 [==============================] - 36s 59ms/step - loss: 0.0503 - accuracy: 0.9829 - val_loss: 0.0597 - val_accuracy: 0.9794 - lr: 0.0010\n",
            "Epoch 7/10\n",
            "610/610 [==============================] - 33s 54ms/step - loss: 0.0455 - accuracy: 0.9844 - val_loss: 0.0574 - val_accuracy: 0.9811 - lr: 0.0010\n",
            "Epoch 8/10\n",
            "610/610 [==============================] - 37s 61ms/step - loss: 0.0449 - accuracy: 0.9841 - val_loss: 0.0631 - val_accuracy: 0.9774 - lr: 0.0010\n",
            "Epoch 9/10\n",
            "610/610 [==============================] - 33s 55ms/step - loss: 0.0417 - accuracy: 0.9850 - val_loss: 0.0990 - val_accuracy: 0.9658 - lr: 0.0010\n",
            "Epoch 10/10\n",
            "610/610 [==============================] - 33s 54ms/step - loss: 0.0383 - accuracy: 0.9862 - val_loss: 0.0582 - val_accuracy: 0.9813 - lr: 0.0010\n",
            "Test loss: 0.058212894946336746\n",
            "Test accuracy: 0.981328547000885\n"
          ]
        }
      ]
    },
    {
      "cell_type": "code",
      "source": [
        "score = pruned_model.evaluate(X_val, y_val_hot, verbose=0)\n",
        "print('Test loss:', score[0])\n",
        "print('Test accuracy:', score[1])"
      ],
      "metadata": {
        "colab": {
          "base_uri": "https://localhost:8080/"
        },
        "id": "-jkZdUS7vzcA",
        "outputId": "9466a164-0abf-46d3-8bc6-7527eb3c84ad"
      },
      "execution_count": 115,
      "outputs": [
        {
          "output_type": "stream",
          "name": "stdout",
          "text": [
            "Test loss: 0.058212894946336746\n",
            "Test accuracy: 0.981328547000885\n"
          ]
        }
      ]
    },
    {
      "cell_type": "markdown",
      "source": [
        "**Strip the pruning model**"
      ],
      "metadata": {
        "id": "deOP1nWFZ4dY"
      }
    },
    {
      "cell_type": "code",
      "source": [
        "pruned_model = sparsity.strip_pruning(pruned_model)\n",
        "pruned_model.summary()"
      ],
      "metadata": {
        "colab": {
          "base_uri": "https://localhost:8080/"
        },
        "id": "7JvdqXuBvzZC",
        "outputId": "f3e42018-5a12-4608-b966-2e4d715ead52"
      },
      "execution_count": 116,
      "outputs": [
        {
          "output_type": "stream",
          "name": "stdout",
          "text": [
            "Model: \"sequential_2\"\n",
            "_________________________________________________________________\n",
            " Layer (type)                Output Shape              Param #   \n",
            "=================================================================\n",
            " conv1d_8 (Conv1D)           (None, 126, 64)           640       \n",
            "                                                                 \n",
            " conv1d_9 (Conv1D)           (None, 124, 64)           12352     \n",
            "                                                                 \n",
            " max_pooling1d_6 (MaxPooling  (None, 62, 64)           0         \n",
            " 1D)                                                             \n",
            "                                                                 \n",
            " lstm (LSTM)                 (None, 64)                33024     \n",
            "                                                                 \n",
            " dense_2 (Dense)             (None, 6)                 390       \n",
            "                                                                 \n",
            "=================================================================\n",
            "Total params: 46,406\n",
            "Trainable params: 46,406\n",
            "Non-trainable params: 0\n",
            "_________________________________________________________________\n"
          ]
        }
      ]
    },
    {
      "cell_type": "code",
      "source": [
        "pruned_model.compile(\n",
        "    loss=[\"mse\"],\n",
        "    optimizer=\"adam\",\n",
        "    metrics=['accuracy']\n",
        ")\n"
      ],
      "metadata": {
        "id": "Nh_ZJstj3iG_"
      },
      "execution_count": 117,
      "outputs": []
    },
    {
      "cell_type": "markdown",
      "source": [
        "**Confusion matrix of pruned model**"
      ],
      "metadata": {
        "id": "81-h51wDaAYZ"
      }
    },
    {
      "cell_type": "code",
      "source": [
        "predictions_p = pruned_model.predict(X_val)\n",
        "cm = tf.math.confusion_matrix(labels=tf.argmax(y_val_hot, 1), predictions=tf.argmax(predictions_p, 1))\n",
        "axis_labels = ['Walking', 'Jogging', 'Upstairs', 'Downstairs', 'Sitting', 'Standing']\n",
        "figure = plt.figure(figsize=(6, 4))\n",
        "sns.heatmap(cm, annot=True,cmap=plt.cm.Blues,xticklabels=axis_labels, yticklabels=axis_labels)\n",
        "plt.tight_layout()\n",
        "plt.ylim(len(cm)-0, 0)\n",
        "plt.ylabel('True label')\n",
        "plt.xlabel('Predicted label')\n",
        "plt.show()"
      ],
      "metadata": {
        "colab": {
          "base_uri": "https://localhost:8080/",
          "height": 328
        },
        "id": "FE7e2zBavzV9",
        "outputId": "ec63247e-1064-465d-a297-ba560f4c6b62"
      },
      "execution_count": 118,
      "outputs": [
        {
          "output_type": "stream",
          "name": "stdout",
          "text": [
            "262/262 [==============================] - 4s 13ms/step\n"
          ]
        },
        {
          "output_type": "display_data",
          "data": {
            "text/plain": [
              "<Figure size 432x288 with 2 Axes>"
            ],
            "image/png": "[encoded data removed]"
          },
          "metadata": {
            "needs_background": "light"
          }
        }
      ]
    },
    {
      "cell_type": "markdown",
      "source": [
        "# Weights of pruned model"
      ],
      "metadata": {
        "id": "OnkmjiwVaPcY"
      }
    },
    {
      "cell_type": "code",
      "source": [
        "from tensorflow.keras.models import load_model\n",
        "import numpy as np\n",
        "\n",
        "for i, w in enumerate(pruned_model.get_weights()):\n",
        "    print(\n",
        "        \"{} -- Total:{}, Zeros: {:.2f}%\".format(\n",
        "            pruned_model.weights[i].name, w.size, np.sum(w == 0) / w.size * 100\n",
        "        )\n",
        "    )"
      ],
      "metadata": {
        "colab": {
          "base_uri": "https://localhost:8080/"
        },
        "id": "cg5ZJIQZwkI1",
        "outputId": "2ebff440-97a4-46af-efec-e49d3fdf8724"
      },
      "execution_count": 119,
      "outputs": [
        {
          "output_type": "stream",
          "name": "stdout",
          "text": [
            "conv1d_8/kernel:0 -- Total:576, Zeros: 50.00%\n",
            "conv1d_8/bias:0 -- Total:64, Zeros: 0.00%\n",
            "conv1d_9/kernel:0 -- Total:12288, Zeros: 50.00%\n",
            "conv1d_9/bias:0 -- Total:64, Zeros: 0.00%\n",
            "lstm/lstm_cell/kernel:0 -- Total:16384, Zeros: 50.00%\n",
            "lstm/lstm_cell/recurrent_kernel:0 -- Total:16384, Zeros: 50.00%\n",
            "lstm/lstm_cell/bias:0 -- Total:256, Zeros: 0.00%\n",
            "dense_2/kernel:0 -- Total:384, Zeros: 50.00%\n",
            "dense_2/bias:0 -- Total:6, Zeros: 0.00%\n"
          ]
        }
      ]
    },
    {
      "cell_type": "markdown",
      "source": [
        "# Converting pruned model to tflite model"
      ],
      "metadata": {
        "id": "0marfg5IaRnw"
      }
    },
    {
      "cell_type": "code",
      "source": [
        "# Convert pruned model to TFLite model\n",
        "converter = tf.lite.TFLiteConverter.from_keras_model(pruned_model)\n",
        "converter.optimizations = [tf.lite.Optimize.DEFAULT]\n",
        "converter.target_spec.supported_ops = [tf.lite.OpsSet.TFLITE_BUILTINS, tf.lite.OpsSet.SELECT_TF_OPS]\n",
        "converter.experimental_lower_tensor_list_ops = False\n",
        "tflite_pruned_model = converter.convert()\n",
        "\n",
        "# Save the TFLite model to disk\n",
        "with open('pruned_model.tflite', 'wb') as f:\n",
        "    f.write(tflite_pruned_model)\n",
        "\n",
        "# Print size of TFLite model\n",
        "pruned_model_size = os.path.getsize(\"pruned_model.tflite\")\n",
        "print(\"Pruned model size: %d bytes\" % pruned_model_size)"
      ],
      "metadata": {
        "colab": {
          "base_uri": "https://localhost:8080/"
        },
        "id": "A-S5EnbswkG1",
        "outputId": "9efa792d-98c8-4e1a-b73d-5ad211eed3fa"
      },
      "execution_count": 120,
      "outputs": [
        {
          "output_type": "stream",
          "name": "stderr",
          "text": [
            "WARNING:absl:Found untraced functions such as _jit_compiled_convolution_op, _jit_compiled_convolution_op, _update_step_xla, lstm_cell_layer_call_fn, lstm_cell_layer_call_and_return_conditional_losses while saving (showing 5 of 5). These functions will not be directly callable after loading.\n"
          ]
        },
        {
          "output_type": "stream",
          "name": "stdout",
          "text": [
            "Pruned model size: 65432 bytes\n"
          ]
        }
      ]
    },
    {
      "cell_type": "markdown",
      "source": [
        "# Creating Pruned Model Header File"
      ],
      "metadata": {
        "id": "l9-EeocuaWA4"
      }
    },
    {
      "cell_type": "code",
      "source": [
        "# Compile the TensorFlow Lite model into a C source file\n",
        "!xxd -i pruned_model.tflite > Pmodel.cc\n",
        "\n",
        "# Create a header file from the C source file\n",
        "!sed 's/unsigned/const unsigned/g' Pmodel.cc > Pmodel.h\n",
        "\n",
        "import os\n",
        "Pmodel_h_size = os.path.getsize(\"Pmodel.h\")\n",
        "print(f\"Header file, Pmodel.h, is {Pmodel_h_size:,} bytes.\")"
      ],
      "metadata": {
        "colab": {
          "base_uri": "https://localhost:8080/"
        },
        "id": "_k-_dcG7wkER",
        "outputId": "8acee292-e72e-42dc-ec8e-36f0d3428ce2"
      },
      "execution_count": 121,
      "outputs": [
        {
          "output_type": "stream",
          "name": "stdout",
          "text": [
            "Header file, Pmodel.h, is 403,598 bytes.\n"
          ]
        }
      ]
    },
    {
      "cell_type": "code",
      "source": [
        "pruned_model.save('pruned_model.h5')"
      ],
      "metadata": {
        "id": "Na8vRmUlwkBN"
      },
      "execution_count": 122,
      "outputs": []
    },
    {
      "cell_type": "markdown",
      "source": [
        "# Quantization of pruned model"
      ],
      "metadata": {
        "id": "cLKgAVf3adyA"
      }
    },
    {
      "cell_type": "code",
      "source": [
        "# Define a function to generate representative data for quantization\n",
        "def representative_data_gen():\n",
        "  for input_value in np.array(X_train, dtype=np.float32):\n",
        "    yield [np.expand_dims(input_value, axis=0)]\n",
        "\n",
        "\n",
        "\n",
        "# Convert the Keras model to a TensorFlow Lite model with quantization\n",
        "pruned_model = tf.keras.models.load_model('pruned_model.h5')\n",
        "\n",
        "converter = tf.lite.TFLiteConverter.from_keras_model(pruned_model)\n",
        "converter.optimizations = [tf.lite.Optimize.DEFAULT]\n",
        "converter.representative_dataset = representative_data_gen\n",
        "converter.target_spec.supported_ops = [tf.lite.OpsSet.TFLITE_BUILTINS, tf.lite.OpsSet.SELECT_TF_OPS]\n",
        "converter._experimental_lower_tensor_list_ops = False\n",
        "pruned_quantized_tflite_model = converter.convert()\n",
        "\n",
        "# Save the quantized model to disk\n",
        "with open(\"pruned_quantized_model.tflite\", \"wb\") as f:\n",
        "    f.write(pruned_quantized_tflite_model)\n",
        "\n",
        "# Check the size of the quantized model\n",
        "quantized_model_size = os.path.getsize(\"pruned_quantized_model.tflite\")\n",
        "print(\"pruned_quantized_model is %d bytes\" % quantized_model_size)"
      ],
      "metadata": {
        "colab": {
          "base_uri": "https://localhost:8080/"
        },
        "id": "k7HTQbhPhypM",
        "outputId": "098db2e9-f578-48a8-8368-405bad455757"
      },
      "execution_count": 123,
      "outputs": [
        {
          "output_type": "stream",
          "name": "stderr",
          "text": [
            "WARNING:absl:Found untraced functions such as _jit_compiled_convolution_op, _jit_compiled_convolution_op, _update_step_xla, lstm_cell_1_layer_call_fn, lstm_cell_1_layer_call_and_return_conditional_losses while saving (showing 5 of 5). These functions will not be directly callable after loading.\n",
            "/usr/local/lib/python3.8/dist-packages/tensorflow/lite/python/convert.py:765: UserWarning: Statistics for quantized inputs were expected, but not specified; continuing anyway.\n",
            "  warnings.warn(\"Statistics for quantized inputs were expected, but not \"\n"
          ]
        },
        {
          "output_type": "stream",
          "name": "stdout",
          "text": [
            "pruned_quantized_model is 66152 bytes\n"
          ]
        }
      ]
    },
    {
      "cell_type": "markdown",
      "source": [
        "# Creating Quantized Model Header File"
      ],
      "metadata": {
        "id": "TY5tViF2aipQ"
      }
    },
    {
      "cell_type": "code",
      "source": [
        "# Compile the TensorFlow Lite model into a C source file\n",
        "!xxd -i pruned_quantized_model.tflite > Pqmodel.cc\n",
        "\n",
        "# Create a header file from the C source file\n",
        "!sed 's/unsigned/const unsigned/g' Pqmodel.cc > Pqmodel.h\n",
        "\n",
        "import os\n",
        "Pqmodel_h_size = os.path.getsize(\"Pqmodel.h\")\n",
        "print(f\"Header file, Pqmodel.h, is {Pqmodel_h_size:,} bytes.\")"
      ],
      "metadata": {
        "colab": {
          "base_uri": "https://localhost:8080/"
        },
        "id": "miMYWSHMI8gm",
        "outputId": "4be0b5c3-6226-461c-f159-209a8915bd03"
      },
      "execution_count": 124,
      "outputs": [
        {
          "output_type": "stream",
          "name": "stdout",
          "text": [
            "Header file, Pqmodel.h, is 408,058 bytes.\n"
          ]
        }
      ]
    },
    {
      "cell_type": "markdown",
      "source": [
        "# Evaluating the Quantized Model"
      ],
      "metadata": {
        "id": "UrpzDamjamoI"
      }
    },
    {
      "cell_type": "code",
      "source": [
        "import numpy as np\n",
        "\n",
        "def evaluate_model(interpreter):\n",
        "  input_index = interpreter.get_input_details()[0][\"index\"]\n",
        "  output_index = interpreter.get_output_details()[0][\"index\"]\n",
        "  arr = []\n",
        "  # Run predictions on ever y image in the \"test\" dataset.\n",
        "  prediction_digits = []\n",
        "  for i, test_image in enumerate(X_val):\n",
        "    # Pre-processing: add batch dimension and convert to float32 to match with\n",
        "    # the model's input data format.\n",
        "    test_image = np.expand_dims(test_image, axis=0).astype(np.float32)\n",
        "    # print(test_image)\n",
        "    interpreter.set_tensor(input_index, test_image)\n",
        "\n",
        "    # Run inference.\n",
        "    interpreter.invoke()\n",
        "\n",
        "    # Post-processing: remove batch dimension and find the digit with highest\n",
        "    # probability.\n",
        "    output = interpreter.tensor(output_index)\n",
        "    digit = np.argmax(output()[0])\n",
        "    prediction_digits.append(digit)\n",
        "\n",
        "  # Compare prediction results with ground truth labels to calculate accuracy.\n",
        "  prediction_digits = np.array(prediction_digits)\n",
        "\n",
        "  for i in range(0,len(y_val_hot)):\n",
        "    arr.append(np.argmax(y_val_hot[i]))\n",
        "  accuracy = (prediction_digits == np.array(arr)).mean()\n",
        "  return accuracy"
      ],
      "metadata": {
        "id": "o_1zlSF46niX"
      },
      "execution_count": 125,
      "outputs": []
    },
    {
      "cell_type": "code",
      "source": [
        "# Pruned and Quantized model accuracy\n",
        "interpreter = tf.lite.Interpreter(model_content=pruned_quantized_tflite_model)\n",
        "interpreter.allocate_tensors()\n",
        "\n",
        "test_accuracy = evaluate_model(interpreter)\n",
        "\n",
        "print('Pruned and quantized TFLite test_accuracy:', test_accuracy)"
      ],
      "metadata": {
        "colab": {
          "base_uri": "https://localhost:8080/"
        },
        "id": "sRL47r2o6ngH",
        "outputId": "1d9f9e81-a5cc-43bc-ac2b-9d54a6a8e2ad"
      },
      "execution_count": 126,
      "outputs": [
        {
          "output_type": "stream",
          "name": "stdout",
          "text": [
            "Pruned and quantized TFLite test_accuracy: 0.8038300418910832\n"
          ]
        }
      ]
    },
    {
      "cell_type": "code",
      "source": [
        "# Pruned model accuracy\n",
        "interpreter1 = tf.lite.Interpreter(model_content=tflite_pruned_model)\n",
        "interpreter1.allocate_tensors()\n",
        "\n",
        "test_accuracy_ = evaluate_model(interpreter1)\n",
        "print('Pruned TF test accuracy:', test_accuracy_)"
      ],
      "metadata": {
        "colab": {
          "base_uri": "https://localhost:8080/"
        },
        "id": "7mYJrZ9-6ndb",
        "outputId": "60f2f47c-666e-4e9b-fd38-05ea3cd317d7"
      },
      "execution_count": 127,
      "outputs": [
        {
          "output_type": "stream",
          "name": "stdout",
          "text": [
            "Pruned TF test accuracy: 0.9812088569718731\n"
          ]
        }
      ]
    },
    {
      "cell_type": "code",
      "source": [],
      "metadata": {
        "id": "DJwVrMth6na2"
      },
      "execution_count": 127,
      "outputs": []
    },
    {
      "cell_type": "code",
      "source": [],
      "metadata": {
        "id": "gN6JeI7C6nX9"
      },
      "execution_count": 127,
      "outputs": []
    }
  ],
  "metadata": {
    "interpreter": {
      "hash": "b88909b7410d2ec5c519e3dda149c3970124874d7da8616ec07adb4aadd07c54"
    },
    "kernelspec": {
      "display_name": "Python 3.8.11 64-bit ('dLenv': conda)",
      "name": "python3"
    },
    "language_info": {
      "codemirror_mode": {
        "name": "ipython",
        "version": 3
      },
      "file_extension": ".py",
      "mimetype": "text/x-python",
      "name": "python",
      "nbconvert_exporter": "python",
      "pygments_lexer": "ipython3",
      "version": "3.8.12"
    },
    "orig_nbformat": 4,
    "colab": {
      "provenance": []
    },
    "accelerator": "GPU",
    "gpuClass": "standard"
  },
  "nbformat": 4,
  "nbformat_minor": 0
}